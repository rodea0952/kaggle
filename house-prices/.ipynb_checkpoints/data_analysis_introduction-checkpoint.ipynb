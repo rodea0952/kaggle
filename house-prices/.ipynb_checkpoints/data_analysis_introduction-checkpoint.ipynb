{
 "cells": [
  {
   "cell_type": "markdown",
   "metadata": {},
   "source": [
    "## 1. Setting & Data Import"
   ]
  },
  {
   "cell_type": "code",
   "execution_count": 1,
   "metadata": {},
   "outputs": [],
   "source": [
    "%matplotlib inline\n",
    "import matplotlib.pyplot as plt\n",
    "import seaborn as sns"
   ]
  },
  {
   "cell_type": "code",
   "execution_count": 2,
   "metadata": {},
   "outputs": [],
   "source": [
    "plt.style.use(\"ggplot\")"
   ]
  },
  {
   "cell_type": "code",
   "execution_count": 3,
   "metadata": {},
   "outputs": [],
   "source": [
    "import pandas as pd\n",
    "import numpy as np"
   ]
  },
  {
   "cell_type": "code",
   "execution_count": 4,
   "metadata": {},
   "outputs": [],
   "source": [
    "import random\n",
    "np.random.seed(1234)\n",
    "random.seed(1234)"
   ]
  },
  {
   "cell_type": "code",
   "execution_count": 5,
   "metadata": {},
   "outputs": [],
   "source": [
    "train_df = pd.read_csv(\"train.csv\")\n",
    "test_df = pd.read_csv(\"test.csv\")\n",
    "submission = pd.read_csv(\"sample_submission.csv\")"
   ]
  },
  {
   "cell_type": "markdown",
   "metadata": {},
   "source": [
    "## 2. Make baseline"
   ]
  },
  {
   "cell_type": "code",
   "execution_count": 6,
   "metadata": {},
   "outputs": [
    {
     "data": {
      "text/plain": [
       "Id                 int64\n",
       "MSSubClass         int64\n",
       "MSZoning          object\n",
       "LotFrontage      float64\n",
       "LotArea            int64\n",
       "                  ...   \n",
       "MoSold             int64\n",
       "YrSold             int64\n",
       "SaleType          object\n",
       "SaleCondition     object\n",
       "SalePrice          int64\n",
       "Length: 81, dtype: object"
      ]
     },
     "execution_count": 6,
     "metadata": {},
     "output_type": "execute_result"
    }
   ],
   "source": [
    "train_df.dtypes"
   ]
  },
  {
   "cell_type": "code",
   "execution_count": 7,
   "metadata": {},
   "outputs": [
    {
     "data": {
      "text/plain": [
       "RL         1151\n",
       "RM          218\n",
       "FV           65\n",
       "RH           16\n",
       "C (all)      10\n",
       "Name: MSZoning, dtype: int64"
      ]
     },
     "execution_count": 7,
     "metadata": {},
     "output_type": "execute_result"
    }
   ],
   "source": [
    "train_df[\"MSZoning\"].value_counts()"
   ]
  },
  {
   "cell_type": "code",
   "execution_count": 8,
   "metadata": {},
   "outputs": [],
   "source": [
    "all_df = pd.concat([train_df, test_df], sort=False).reset_index(drop=True)"
   ]
  },
  {
   "cell_type": "code",
   "execution_count": 9,
   "metadata": {},
   "outputs": [
    {
     "data": {
      "text/html": [
       "<div>\n",
       "<style scoped>\n",
       "    .dataframe tbody tr th:only-of-type {\n",
       "        vertical-align: middle;\n",
       "    }\n",
       "\n",
       "    .dataframe tbody tr th {\n",
       "        vertical-align: top;\n",
       "    }\n",
       "\n",
       "    .dataframe thead th {\n",
       "        text-align: right;\n",
       "    }\n",
       "</style>\n",
       "<table border=\"1\" class=\"dataframe\">\n",
       "  <thead>\n",
       "    <tr style=\"text-align: right;\">\n",
       "      <th></th>\n",
       "      <th>Id</th>\n",
       "      <th>MSSubClass</th>\n",
       "      <th>MSZoning</th>\n",
       "      <th>LotFrontage</th>\n",
       "      <th>LotArea</th>\n",
       "      <th>Street</th>\n",
       "      <th>Alley</th>\n",
       "      <th>LotShape</th>\n",
       "      <th>LandContour</th>\n",
       "      <th>Utilities</th>\n",
       "      <th>...</th>\n",
       "      <th>PoolArea</th>\n",
       "      <th>PoolQC</th>\n",
       "      <th>Fence</th>\n",
       "      <th>MiscFeature</th>\n",
       "      <th>MiscVal</th>\n",
       "      <th>MoSold</th>\n",
       "      <th>YrSold</th>\n",
       "      <th>SaleType</th>\n",
       "      <th>SaleCondition</th>\n",
       "      <th>SalePrice</th>\n",
       "    </tr>\n",
       "  </thead>\n",
       "  <tbody>\n",
       "    <tr>\n",
       "      <td>0</td>\n",
       "      <td>1</td>\n",
       "      <td>60</td>\n",
       "      <td>RL</td>\n",
       "      <td>65.0</td>\n",
       "      <td>8450</td>\n",
       "      <td>Pave</td>\n",
       "      <td>NaN</td>\n",
       "      <td>Reg</td>\n",
       "      <td>Lvl</td>\n",
       "      <td>AllPub</td>\n",
       "      <td>...</td>\n",
       "      <td>0</td>\n",
       "      <td>NaN</td>\n",
       "      <td>NaN</td>\n",
       "      <td>NaN</td>\n",
       "      <td>0</td>\n",
       "      <td>2</td>\n",
       "      <td>2008</td>\n",
       "      <td>WD</td>\n",
       "      <td>Normal</td>\n",
       "      <td>208500.0</td>\n",
       "    </tr>\n",
       "    <tr>\n",
       "      <td>1</td>\n",
       "      <td>2</td>\n",
       "      <td>20</td>\n",
       "      <td>RL</td>\n",
       "      <td>80.0</td>\n",
       "      <td>9600</td>\n",
       "      <td>Pave</td>\n",
       "      <td>NaN</td>\n",
       "      <td>Reg</td>\n",
       "      <td>Lvl</td>\n",
       "      <td>AllPub</td>\n",
       "      <td>...</td>\n",
       "      <td>0</td>\n",
       "      <td>NaN</td>\n",
       "      <td>NaN</td>\n",
       "      <td>NaN</td>\n",
       "      <td>0</td>\n",
       "      <td>5</td>\n",
       "      <td>2007</td>\n",
       "      <td>WD</td>\n",
       "      <td>Normal</td>\n",
       "      <td>181500.0</td>\n",
       "    </tr>\n",
       "    <tr>\n",
       "      <td>2</td>\n",
       "      <td>3</td>\n",
       "      <td>60</td>\n",
       "      <td>RL</td>\n",
       "      <td>68.0</td>\n",
       "      <td>11250</td>\n",
       "      <td>Pave</td>\n",
       "      <td>NaN</td>\n",
       "      <td>IR1</td>\n",
       "      <td>Lvl</td>\n",
       "      <td>AllPub</td>\n",
       "      <td>...</td>\n",
       "      <td>0</td>\n",
       "      <td>NaN</td>\n",
       "      <td>NaN</td>\n",
       "      <td>NaN</td>\n",
       "      <td>0</td>\n",
       "      <td>9</td>\n",
       "      <td>2008</td>\n",
       "      <td>WD</td>\n",
       "      <td>Normal</td>\n",
       "      <td>223500.0</td>\n",
       "    </tr>\n",
       "    <tr>\n",
       "      <td>3</td>\n",
       "      <td>4</td>\n",
       "      <td>70</td>\n",
       "      <td>RL</td>\n",
       "      <td>60.0</td>\n",
       "      <td>9550</td>\n",
       "      <td>Pave</td>\n",
       "      <td>NaN</td>\n",
       "      <td>IR1</td>\n",
       "      <td>Lvl</td>\n",
       "      <td>AllPub</td>\n",
       "      <td>...</td>\n",
       "      <td>0</td>\n",
       "      <td>NaN</td>\n",
       "      <td>NaN</td>\n",
       "      <td>NaN</td>\n",
       "      <td>0</td>\n",
       "      <td>2</td>\n",
       "      <td>2006</td>\n",
       "      <td>WD</td>\n",
       "      <td>Abnorml</td>\n",
       "      <td>140000.0</td>\n",
       "    </tr>\n",
       "    <tr>\n",
       "      <td>4</td>\n",
       "      <td>5</td>\n",
       "      <td>60</td>\n",
       "      <td>RL</td>\n",
       "      <td>84.0</td>\n",
       "      <td>14260</td>\n",
       "      <td>Pave</td>\n",
       "      <td>NaN</td>\n",
       "      <td>IR1</td>\n",
       "      <td>Lvl</td>\n",
       "      <td>AllPub</td>\n",
       "      <td>...</td>\n",
       "      <td>0</td>\n",
       "      <td>NaN</td>\n",
       "      <td>NaN</td>\n",
       "      <td>NaN</td>\n",
       "      <td>0</td>\n",
       "      <td>12</td>\n",
       "      <td>2008</td>\n",
       "      <td>WD</td>\n",
       "      <td>Normal</td>\n",
       "      <td>250000.0</td>\n",
       "    </tr>\n",
       "    <tr>\n",
       "      <td>...</td>\n",
       "      <td>...</td>\n",
       "      <td>...</td>\n",
       "      <td>...</td>\n",
       "      <td>...</td>\n",
       "      <td>...</td>\n",
       "      <td>...</td>\n",
       "      <td>...</td>\n",
       "      <td>...</td>\n",
       "      <td>...</td>\n",
       "      <td>...</td>\n",
       "      <td>...</td>\n",
       "      <td>...</td>\n",
       "      <td>...</td>\n",
       "      <td>...</td>\n",
       "      <td>...</td>\n",
       "      <td>...</td>\n",
       "      <td>...</td>\n",
       "      <td>...</td>\n",
       "      <td>...</td>\n",
       "      <td>...</td>\n",
       "      <td>...</td>\n",
       "    </tr>\n",
       "    <tr>\n",
       "      <td>2914</td>\n",
       "      <td>2915</td>\n",
       "      <td>160</td>\n",
       "      <td>RM</td>\n",
       "      <td>21.0</td>\n",
       "      <td>1936</td>\n",
       "      <td>Pave</td>\n",
       "      <td>NaN</td>\n",
       "      <td>Reg</td>\n",
       "      <td>Lvl</td>\n",
       "      <td>AllPub</td>\n",
       "      <td>...</td>\n",
       "      <td>0</td>\n",
       "      <td>NaN</td>\n",
       "      <td>NaN</td>\n",
       "      <td>NaN</td>\n",
       "      <td>0</td>\n",
       "      <td>6</td>\n",
       "      <td>2006</td>\n",
       "      <td>WD</td>\n",
       "      <td>Normal</td>\n",
       "      <td>NaN</td>\n",
       "    </tr>\n",
       "    <tr>\n",
       "      <td>2915</td>\n",
       "      <td>2916</td>\n",
       "      <td>160</td>\n",
       "      <td>RM</td>\n",
       "      <td>21.0</td>\n",
       "      <td>1894</td>\n",
       "      <td>Pave</td>\n",
       "      <td>NaN</td>\n",
       "      <td>Reg</td>\n",
       "      <td>Lvl</td>\n",
       "      <td>AllPub</td>\n",
       "      <td>...</td>\n",
       "      <td>0</td>\n",
       "      <td>NaN</td>\n",
       "      <td>NaN</td>\n",
       "      <td>NaN</td>\n",
       "      <td>0</td>\n",
       "      <td>4</td>\n",
       "      <td>2006</td>\n",
       "      <td>WD</td>\n",
       "      <td>Abnorml</td>\n",
       "      <td>NaN</td>\n",
       "    </tr>\n",
       "    <tr>\n",
       "      <td>2916</td>\n",
       "      <td>2917</td>\n",
       "      <td>20</td>\n",
       "      <td>RL</td>\n",
       "      <td>160.0</td>\n",
       "      <td>20000</td>\n",
       "      <td>Pave</td>\n",
       "      <td>NaN</td>\n",
       "      <td>Reg</td>\n",
       "      <td>Lvl</td>\n",
       "      <td>AllPub</td>\n",
       "      <td>...</td>\n",
       "      <td>0</td>\n",
       "      <td>NaN</td>\n",
       "      <td>NaN</td>\n",
       "      <td>NaN</td>\n",
       "      <td>0</td>\n",
       "      <td>9</td>\n",
       "      <td>2006</td>\n",
       "      <td>WD</td>\n",
       "      <td>Abnorml</td>\n",
       "      <td>NaN</td>\n",
       "    </tr>\n",
       "    <tr>\n",
       "      <td>2917</td>\n",
       "      <td>2918</td>\n",
       "      <td>85</td>\n",
       "      <td>RL</td>\n",
       "      <td>62.0</td>\n",
       "      <td>10441</td>\n",
       "      <td>Pave</td>\n",
       "      <td>NaN</td>\n",
       "      <td>Reg</td>\n",
       "      <td>Lvl</td>\n",
       "      <td>AllPub</td>\n",
       "      <td>...</td>\n",
       "      <td>0</td>\n",
       "      <td>NaN</td>\n",
       "      <td>MnPrv</td>\n",
       "      <td>Shed</td>\n",
       "      <td>700</td>\n",
       "      <td>7</td>\n",
       "      <td>2006</td>\n",
       "      <td>WD</td>\n",
       "      <td>Normal</td>\n",
       "      <td>NaN</td>\n",
       "    </tr>\n",
       "    <tr>\n",
       "      <td>2918</td>\n",
       "      <td>2919</td>\n",
       "      <td>60</td>\n",
       "      <td>RL</td>\n",
       "      <td>74.0</td>\n",
       "      <td>9627</td>\n",
       "      <td>Pave</td>\n",
       "      <td>NaN</td>\n",
       "      <td>Reg</td>\n",
       "      <td>Lvl</td>\n",
       "      <td>AllPub</td>\n",
       "      <td>...</td>\n",
       "      <td>0</td>\n",
       "      <td>NaN</td>\n",
       "      <td>NaN</td>\n",
       "      <td>NaN</td>\n",
       "      <td>0</td>\n",
       "      <td>11</td>\n",
       "      <td>2006</td>\n",
       "      <td>WD</td>\n",
       "      <td>Normal</td>\n",
       "      <td>NaN</td>\n",
       "    </tr>\n",
       "  </tbody>\n",
       "</table>\n",
       "<p>2919 rows × 81 columns</p>\n",
       "</div>"
      ],
      "text/plain": [
       "        Id  MSSubClass MSZoning  LotFrontage  LotArea Street Alley LotShape  \\\n",
       "0        1          60       RL         65.0     8450   Pave   NaN      Reg   \n",
       "1        2          20       RL         80.0     9600   Pave   NaN      Reg   \n",
       "2        3          60       RL         68.0    11250   Pave   NaN      IR1   \n",
       "3        4          70       RL         60.0     9550   Pave   NaN      IR1   \n",
       "4        5          60       RL         84.0    14260   Pave   NaN      IR1   \n",
       "...    ...         ...      ...          ...      ...    ...   ...      ...   \n",
       "2914  2915         160       RM         21.0     1936   Pave   NaN      Reg   \n",
       "2915  2916         160       RM         21.0     1894   Pave   NaN      Reg   \n",
       "2916  2917          20       RL        160.0    20000   Pave   NaN      Reg   \n",
       "2917  2918          85       RL         62.0    10441   Pave   NaN      Reg   \n",
       "2918  2919          60       RL         74.0     9627   Pave   NaN      Reg   \n",
       "\n",
       "     LandContour Utilities  ... PoolArea PoolQC  Fence MiscFeature MiscVal  \\\n",
       "0            Lvl    AllPub  ...        0    NaN    NaN         NaN       0   \n",
       "1            Lvl    AllPub  ...        0    NaN    NaN         NaN       0   \n",
       "2            Lvl    AllPub  ...        0    NaN    NaN         NaN       0   \n",
       "3            Lvl    AllPub  ...        0    NaN    NaN         NaN       0   \n",
       "4            Lvl    AllPub  ...        0    NaN    NaN         NaN       0   \n",
       "...          ...       ...  ...      ...    ...    ...         ...     ...   \n",
       "2914         Lvl    AllPub  ...        0    NaN    NaN         NaN       0   \n",
       "2915         Lvl    AllPub  ...        0    NaN    NaN         NaN       0   \n",
       "2916         Lvl    AllPub  ...        0    NaN    NaN         NaN       0   \n",
       "2917         Lvl    AllPub  ...        0    NaN  MnPrv        Shed     700   \n",
       "2918         Lvl    AllPub  ...        0    NaN    NaN         NaN       0   \n",
       "\n",
       "     MoSold YrSold  SaleType  SaleCondition  SalePrice  \n",
       "0         2   2008        WD         Normal   208500.0  \n",
       "1         5   2007        WD         Normal   181500.0  \n",
       "2         9   2008        WD         Normal   223500.0  \n",
       "3         2   2006        WD        Abnorml   140000.0  \n",
       "4        12   2008        WD         Normal   250000.0  \n",
       "...     ...    ...       ...            ...        ...  \n",
       "2914      6   2006        WD         Normal        NaN  \n",
       "2915      4   2006        WD        Abnorml        NaN  \n",
       "2916      9   2006        WD        Abnorml        NaN  \n",
       "2917      7   2006        WD         Normal        NaN  \n",
       "2918     11   2006        WD         Normal        NaN  \n",
       "\n",
       "[2919 rows x 81 columns]"
      ]
     },
     "execution_count": 9,
     "metadata": {},
     "output_type": "execute_result"
    }
   ],
   "source": [
    "all_df"
   ]
  },
  {
   "cell_type": "code",
   "execution_count": 10,
   "metadata": {},
   "outputs": [
    {
     "data": {
      "text/plain": [
       "0       208500.0\n",
       "1       181500.0\n",
       "2       223500.0\n",
       "3       140000.0\n",
       "4       250000.0\n",
       "          ...   \n",
       "2914         NaN\n",
       "2915         NaN\n",
       "2916         NaN\n",
       "2917         NaN\n",
       "2918         NaN\n",
       "Name: SalePrice, Length: 2919, dtype: float64"
      ]
     },
     "execution_count": 10,
     "metadata": {},
     "output_type": "execute_result"
    }
   ],
   "source": [
    "all_df[\"SalePrice\"]"
   ]
  },
  {
   "cell_type": "code",
   "execution_count": 11,
   "metadata": {},
   "outputs": [],
   "source": [
    "from sklearn.preprocessing import LabelEncoder"
   ]
  },
  {
   "cell_type": "code",
   "execution_count": 12,
   "metadata": {},
   "outputs": [
    {
     "name": "stdout",
     "output_type": "stream",
     "text": [
      "Index(['MSZoning', 'Street', 'Alley', 'LotShape', 'LandContour', 'Utilities',\n",
      "       'LotConfig', 'LandSlope', 'Neighborhood', 'Condition1', 'Condition2',\n",
      "       'BldgType', 'HouseStyle', 'RoofStyle', 'RoofMatl', 'Exterior1st',\n",
      "       'Exterior2nd', 'MasVnrType', 'ExterQual', 'ExterCond', 'Foundation',\n",
      "       'BsmtQual', 'BsmtCond', 'BsmtExposure', 'BsmtFinType1', 'BsmtFinType2',\n",
      "       'Heating', 'HeatingQC', 'CentralAir', 'Electrical', 'KitchenQual',\n",
      "       'Functional', 'FireplaceQu', 'GarageType', 'GarageFinish', 'GarageQual',\n",
      "       'GarageCond', 'PavedDrive', 'PoolQC', 'Fence', 'MiscFeature',\n",
      "       'SaleType', 'SaleCondition'],\n",
      "      dtype='object')\n"
     ]
    }
   ],
   "source": [
    "categories = all_df.columns[all_df.dtypes == \"object\"]\n",
    "print(categories)"
   ]
  },
  {
   "cell_type": "code",
   "execution_count": 13,
   "metadata": {},
   "outputs": [
    {
     "data": {
      "text/plain": [
       "Grvl    120\n",
       "Pave     78\n",
       "Name: Alley, dtype: int64"
      ]
     },
     "execution_count": 13,
     "metadata": {},
     "output_type": "execute_result"
    }
   ],
   "source": [
    "all_df[\"Alley\"].value_counts()"
   ]
  },
  {
   "cell_type": "code",
   "execution_count": 14,
   "metadata": {},
   "outputs": [
    {
     "name": "stdout",
     "output_type": "stream",
     "text": [
      "MSZoning\n",
      "Street\n",
      "Alley\n",
      "LotShape\n",
      "LandContour\n",
      "Utilities\n",
      "LotConfig\n",
      "LandSlope\n",
      "Neighborhood\n",
      "Condition1\n",
      "Condition2\n",
      "BldgType\n",
      "HouseStyle\n",
      "RoofStyle\n",
      "RoofMatl\n",
      "Exterior1st\n",
      "Exterior2nd\n",
      "MasVnrType\n",
      "ExterQual\n",
      "ExterCond\n",
      "Foundation\n",
      "BsmtQual\n",
      "BsmtCond\n",
      "BsmtExposure\n",
      "BsmtFinType1\n",
      "BsmtFinType2\n",
      "Heating\n",
      "HeatingQC\n",
      "CentralAir\n",
      "Electrical\n",
      "KitchenQual\n",
      "Functional\n",
      "FireplaceQu\n",
      "GarageType\n",
      "GarageFinish\n",
      "GarageQual\n",
      "GarageCond\n",
      "PavedDrive\n",
      "PoolQC\n",
      "Fence\n",
      "MiscFeature\n",
      "SaleType\n",
      "SaleCondition\n"
     ]
    }
   ],
   "source": [
    "for cat in categories:\n",
    "    le = LabelEncoder()\n",
    "    print(cat)\n",
    "    all_df[cat].fillna(\"missing\", inplace=True)\n",
    "    le = le.fit(all_df[cat])\n",
    "    all_df[cat] = le.transform(all_df[cat])\n",
    "    all_df[cat] = all_df[cat].astype(\"category\")"
   ]
  },
  {
   "cell_type": "code",
   "execution_count": 15,
   "metadata": {},
   "outputs": [
    {
     "data": {
      "text/html": [
       "<div>\n",
       "<style scoped>\n",
       "    .dataframe tbody tr th:only-of-type {\n",
       "        vertical-align: middle;\n",
       "    }\n",
       "\n",
       "    .dataframe tbody tr th {\n",
       "        vertical-align: top;\n",
       "    }\n",
       "\n",
       "    .dataframe thead th {\n",
       "        text-align: right;\n",
       "    }\n",
       "</style>\n",
       "<table border=\"1\" class=\"dataframe\">\n",
       "  <thead>\n",
       "    <tr style=\"text-align: right;\">\n",
       "      <th></th>\n",
       "      <th>Id</th>\n",
       "      <th>MSSubClass</th>\n",
       "      <th>MSZoning</th>\n",
       "      <th>LotFrontage</th>\n",
       "      <th>LotArea</th>\n",
       "      <th>Street</th>\n",
       "      <th>Alley</th>\n",
       "      <th>LotShape</th>\n",
       "      <th>LandContour</th>\n",
       "      <th>Utilities</th>\n",
       "      <th>...</th>\n",
       "      <th>PoolArea</th>\n",
       "      <th>PoolQC</th>\n",
       "      <th>Fence</th>\n",
       "      <th>MiscFeature</th>\n",
       "      <th>MiscVal</th>\n",
       "      <th>MoSold</th>\n",
       "      <th>YrSold</th>\n",
       "      <th>SaleType</th>\n",
       "      <th>SaleCondition</th>\n",
       "      <th>SalePrice</th>\n",
       "    </tr>\n",
       "  </thead>\n",
       "  <tbody>\n",
       "    <tr>\n",
       "      <td>0</td>\n",
       "      <td>1</td>\n",
       "      <td>60</td>\n",
       "      <td>3</td>\n",
       "      <td>65.0</td>\n",
       "      <td>8450</td>\n",
       "      <td>1</td>\n",
       "      <td>2</td>\n",
       "      <td>3</td>\n",
       "      <td>3</td>\n",
       "      <td>0</td>\n",
       "      <td>...</td>\n",
       "      <td>0</td>\n",
       "      <td>3</td>\n",
       "      <td>4</td>\n",
       "      <td>4</td>\n",
       "      <td>0</td>\n",
       "      <td>2</td>\n",
       "      <td>2008</td>\n",
       "      <td>8</td>\n",
       "      <td>4</td>\n",
       "      <td>208500.0</td>\n",
       "    </tr>\n",
       "    <tr>\n",
       "      <td>1</td>\n",
       "      <td>2</td>\n",
       "      <td>20</td>\n",
       "      <td>3</td>\n",
       "      <td>80.0</td>\n",
       "      <td>9600</td>\n",
       "      <td>1</td>\n",
       "      <td>2</td>\n",
       "      <td>3</td>\n",
       "      <td>3</td>\n",
       "      <td>0</td>\n",
       "      <td>...</td>\n",
       "      <td>0</td>\n",
       "      <td>3</td>\n",
       "      <td>4</td>\n",
       "      <td>4</td>\n",
       "      <td>0</td>\n",
       "      <td>5</td>\n",
       "      <td>2007</td>\n",
       "      <td>8</td>\n",
       "      <td>4</td>\n",
       "      <td>181500.0</td>\n",
       "    </tr>\n",
       "    <tr>\n",
       "      <td>2</td>\n",
       "      <td>3</td>\n",
       "      <td>60</td>\n",
       "      <td>3</td>\n",
       "      <td>68.0</td>\n",
       "      <td>11250</td>\n",
       "      <td>1</td>\n",
       "      <td>2</td>\n",
       "      <td>0</td>\n",
       "      <td>3</td>\n",
       "      <td>0</td>\n",
       "      <td>...</td>\n",
       "      <td>0</td>\n",
       "      <td>3</td>\n",
       "      <td>4</td>\n",
       "      <td>4</td>\n",
       "      <td>0</td>\n",
       "      <td>9</td>\n",
       "      <td>2008</td>\n",
       "      <td>8</td>\n",
       "      <td>4</td>\n",
       "      <td>223500.0</td>\n",
       "    </tr>\n",
       "    <tr>\n",
       "      <td>3</td>\n",
       "      <td>4</td>\n",
       "      <td>70</td>\n",
       "      <td>3</td>\n",
       "      <td>60.0</td>\n",
       "      <td>9550</td>\n",
       "      <td>1</td>\n",
       "      <td>2</td>\n",
       "      <td>0</td>\n",
       "      <td>3</td>\n",
       "      <td>0</td>\n",
       "      <td>...</td>\n",
       "      <td>0</td>\n",
       "      <td>3</td>\n",
       "      <td>4</td>\n",
       "      <td>4</td>\n",
       "      <td>0</td>\n",
       "      <td>2</td>\n",
       "      <td>2006</td>\n",
       "      <td>8</td>\n",
       "      <td>0</td>\n",
       "      <td>140000.0</td>\n",
       "    </tr>\n",
       "    <tr>\n",
       "      <td>4</td>\n",
       "      <td>5</td>\n",
       "      <td>60</td>\n",
       "      <td>3</td>\n",
       "      <td>84.0</td>\n",
       "      <td>14260</td>\n",
       "      <td>1</td>\n",
       "      <td>2</td>\n",
       "      <td>0</td>\n",
       "      <td>3</td>\n",
       "      <td>0</td>\n",
       "      <td>...</td>\n",
       "      <td>0</td>\n",
       "      <td>3</td>\n",
       "      <td>4</td>\n",
       "      <td>4</td>\n",
       "      <td>0</td>\n",
       "      <td>12</td>\n",
       "      <td>2008</td>\n",
       "      <td>8</td>\n",
       "      <td>4</td>\n",
       "      <td>250000.0</td>\n",
       "    </tr>\n",
       "    <tr>\n",
       "      <td>...</td>\n",
       "      <td>...</td>\n",
       "      <td>...</td>\n",
       "      <td>...</td>\n",
       "      <td>...</td>\n",
       "      <td>...</td>\n",
       "      <td>...</td>\n",
       "      <td>...</td>\n",
       "      <td>...</td>\n",
       "      <td>...</td>\n",
       "      <td>...</td>\n",
       "      <td>...</td>\n",
       "      <td>...</td>\n",
       "      <td>...</td>\n",
       "      <td>...</td>\n",
       "      <td>...</td>\n",
       "      <td>...</td>\n",
       "      <td>...</td>\n",
       "      <td>...</td>\n",
       "      <td>...</td>\n",
       "      <td>...</td>\n",
       "      <td>...</td>\n",
       "    </tr>\n",
       "    <tr>\n",
       "      <td>2914</td>\n",
       "      <td>2915</td>\n",
       "      <td>160</td>\n",
       "      <td>4</td>\n",
       "      <td>21.0</td>\n",
       "      <td>1936</td>\n",
       "      <td>1</td>\n",
       "      <td>2</td>\n",
       "      <td>3</td>\n",
       "      <td>3</td>\n",
       "      <td>0</td>\n",
       "      <td>...</td>\n",
       "      <td>0</td>\n",
       "      <td>3</td>\n",
       "      <td>4</td>\n",
       "      <td>4</td>\n",
       "      <td>0</td>\n",
       "      <td>6</td>\n",
       "      <td>2006</td>\n",
       "      <td>8</td>\n",
       "      <td>4</td>\n",
       "      <td>NaN</td>\n",
       "    </tr>\n",
       "    <tr>\n",
       "      <td>2915</td>\n",
       "      <td>2916</td>\n",
       "      <td>160</td>\n",
       "      <td>4</td>\n",
       "      <td>21.0</td>\n",
       "      <td>1894</td>\n",
       "      <td>1</td>\n",
       "      <td>2</td>\n",
       "      <td>3</td>\n",
       "      <td>3</td>\n",
       "      <td>0</td>\n",
       "      <td>...</td>\n",
       "      <td>0</td>\n",
       "      <td>3</td>\n",
       "      <td>4</td>\n",
       "      <td>4</td>\n",
       "      <td>0</td>\n",
       "      <td>4</td>\n",
       "      <td>2006</td>\n",
       "      <td>8</td>\n",
       "      <td>0</td>\n",
       "      <td>NaN</td>\n",
       "    </tr>\n",
       "    <tr>\n",
       "      <td>2916</td>\n",
       "      <td>2917</td>\n",
       "      <td>20</td>\n",
       "      <td>3</td>\n",
       "      <td>160.0</td>\n",
       "      <td>20000</td>\n",
       "      <td>1</td>\n",
       "      <td>2</td>\n",
       "      <td>3</td>\n",
       "      <td>3</td>\n",
       "      <td>0</td>\n",
       "      <td>...</td>\n",
       "      <td>0</td>\n",
       "      <td>3</td>\n",
       "      <td>4</td>\n",
       "      <td>4</td>\n",
       "      <td>0</td>\n",
       "      <td>9</td>\n",
       "      <td>2006</td>\n",
       "      <td>8</td>\n",
       "      <td>0</td>\n",
       "      <td>NaN</td>\n",
       "    </tr>\n",
       "    <tr>\n",
       "      <td>2917</td>\n",
       "      <td>2918</td>\n",
       "      <td>85</td>\n",
       "      <td>3</td>\n",
       "      <td>62.0</td>\n",
       "      <td>10441</td>\n",
       "      <td>1</td>\n",
       "      <td>2</td>\n",
       "      <td>3</td>\n",
       "      <td>3</td>\n",
       "      <td>0</td>\n",
       "      <td>...</td>\n",
       "      <td>0</td>\n",
       "      <td>3</td>\n",
       "      <td>2</td>\n",
       "      <td>2</td>\n",
       "      <td>700</td>\n",
       "      <td>7</td>\n",
       "      <td>2006</td>\n",
       "      <td>8</td>\n",
       "      <td>4</td>\n",
       "      <td>NaN</td>\n",
       "    </tr>\n",
       "    <tr>\n",
       "      <td>2918</td>\n",
       "      <td>2919</td>\n",
       "      <td>60</td>\n",
       "      <td>3</td>\n",
       "      <td>74.0</td>\n",
       "      <td>9627</td>\n",
       "      <td>1</td>\n",
       "      <td>2</td>\n",
       "      <td>3</td>\n",
       "      <td>3</td>\n",
       "      <td>0</td>\n",
       "      <td>...</td>\n",
       "      <td>0</td>\n",
       "      <td>3</td>\n",
       "      <td>4</td>\n",
       "      <td>4</td>\n",
       "      <td>0</td>\n",
       "      <td>11</td>\n",
       "      <td>2006</td>\n",
       "      <td>8</td>\n",
       "      <td>4</td>\n",
       "      <td>NaN</td>\n",
       "    </tr>\n",
       "  </tbody>\n",
       "</table>\n",
       "<p>2919 rows × 81 columns</p>\n",
       "</div>"
      ],
      "text/plain": [
       "        Id  MSSubClass MSZoning  LotFrontage  LotArea Street Alley LotShape  \\\n",
       "0        1          60        3         65.0     8450      1     2        3   \n",
       "1        2          20        3         80.0     9600      1     2        3   \n",
       "2        3          60        3         68.0    11250      1     2        0   \n",
       "3        4          70        3         60.0     9550      1     2        0   \n",
       "4        5          60        3         84.0    14260      1     2        0   \n",
       "...    ...         ...      ...          ...      ...    ...   ...      ...   \n",
       "2914  2915         160        4         21.0     1936      1     2        3   \n",
       "2915  2916         160        4         21.0     1894      1     2        3   \n",
       "2916  2917          20        3        160.0    20000      1     2        3   \n",
       "2917  2918          85        3         62.0    10441      1     2        3   \n",
       "2918  2919          60        3         74.0     9627      1     2        3   \n",
       "\n",
       "     LandContour Utilities  ... PoolArea PoolQC Fence MiscFeature MiscVal  \\\n",
       "0              3         0  ...        0      3     4           4       0   \n",
       "1              3         0  ...        0      3     4           4       0   \n",
       "2              3         0  ...        0      3     4           4       0   \n",
       "3              3         0  ...        0      3     4           4       0   \n",
       "4              3         0  ...        0      3     4           4       0   \n",
       "...          ...       ...  ...      ...    ...   ...         ...     ...   \n",
       "2914           3         0  ...        0      3     4           4       0   \n",
       "2915           3         0  ...        0      3     4           4       0   \n",
       "2916           3         0  ...        0      3     4           4       0   \n",
       "2917           3         0  ...        0      3     2           2     700   \n",
       "2918           3         0  ...        0      3     4           4       0   \n",
       "\n",
       "     MoSold YrSold  SaleType  SaleCondition  SalePrice  \n",
       "0         2   2008         8              4   208500.0  \n",
       "1         5   2007         8              4   181500.0  \n",
       "2         9   2008         8              4   223500.0  \n",
       "3         2   2006         8              0   140000.0  \n",
       "4        12   2008         8              4   250000.0  \n",
       "...     ...    ...       ...            ...        ...  \n",
       "2914      6   2006         8              4        NaN  \n",
       "2915      4   2006         8              0        NaN  \n",
       "2916      9   2006         8              0        NaN  \n",
       "2917      7   2006         8              4        NaN  \n",
       "2918     11   2006         8              4        NaN  \n",
       "\n",
       "[2919 rows x 81 columns]"
      ]
     },
     "execution_count": 15,
     "metadata": {},
     "output_type": "execute_result"
    }
   ],
   "source": [
    "all_df"
   ]
  },
  {
   "cell_type": "code",
   "execution_count": 16,
   "metadata": {},
   "outputs": [],
   "source": [
    "train_df_le = all_df[~all_df[\"SalePrice\"].isnull()]\n",
    "test_df_le = all_df[all_df[\"SalePrice\"].isnull()]"
   ]
  },
  {
   "cell_type": "code",
   "execution_count": 17,
   "metadata": {},
   "outputs": [],
   "source": [
    "import lightgbm as lgb"
   ]
  },
  {
   "cell_type": "code",
   "execution_count": 18,
   "metadata": {},
   "outputs": [],
   "source": [
    "from sklearn.model_selection import KFold\n",
    "folds = 3\n",
    "kf = KFold(n_splits=folds)"
   ]
  },
  {
   "cell_type": "code",
   "execution_count": 19,
   "metadata": {},
   "outputs": [],
   "source": [
    "lgbm_params = {\n",
    "    \"objective\":\"regression\",\n",
    "    \"random_seed\":1234\n",
    "}"
   ]
  },
  {
   "cell_type": "code",
   "execution_count": 20,
   "metadata": {},
   "outputs": [],
   "source": [
    "train_X = train_df_le.drop([\"SalePrice\", \"Id\"], axis=1)\n",
    "train_Y = train_df_le[\"SalePrice\"]"
   ]
  },
  {
   "cell_type": "code",
   "execution_count": 21,
   "metadata": {},
   "outputs": [],
   "source": [
    "from sklearn.metrics import mean_squared_error"
   ]
  },
  {
   "cell_type": "code",
   "execution_count": 22,
   "metadata": {},
   "outputs": [
    {
     "name": "stdout",
     "output_type": "stream",
     "text": [
      "[LightGBM] [Warning] Auto-choosing row-wise multi-threading, the overhead of testing was 0.004443 seconds.\n",
      "You can set `force_row_wise=true` to remove the overhead.\n",
      "And if memory is not enough, you can set `force_col_wise=true`.\n",
      "[LightGBM] [Info] Total Bins 2964\n",
      "[LightGBM] [Info] Number of data points in the train set: 973, number of used features: 74\n"
     ]
    },
    {
     "name": "stderr",
     "output_type": "stream",
     "text": [
      "C:\\Users\\drago\\Anaconda3\\lib\\site-packages\\lightgbm\\basic.py:1433: UserWarning: Overriding the parameters from Reference Dataset.\n",
      "  _log_warning('Overriding the parameters from Reference Dataset.')\n",
      "C:\\Users\\drago\\Anaconda3\\lib\\site-packages\\lightgbm\\basic.py:1245: UserWarning: categorical_column in param dict is overridden.\n",
      "  _log_warning('{} in param dict is overridden.'.format(cat_alias))\n"
     ]
    },
    {
     "name": "stdout",
     "output_type": "stream",
     "text": [
      "[LightGBM] [Info] Start training from score 179726.031860\n",
      "Training until validation scores don't improve for 20 rounds\n",
      "[10]\tvalid_0's l2: 1.57807e+09\n",
      "[20]\tvalid_0's l2: 7.38516e+08\n",
      "[30]\tvalid_0's l2: 5.93255e+08\n",
      "[40]\tvalid_0's l2: 5.6061e+08\n",
      "[50]\tvalid_0's l2: 5.48225e+08\n",
      "[60]\tvalid_0's l2: 5.46182e+08\n",
      "[70]\tvalid_0's l2: 5.51735e+08\n",
      "Early stopping, best iteration is:\n",
      "[55]\tvalid_0's l2: 5.45194e+08\n",
      "0.12719558859476138\n",
      "[LightGBM] [Warning] Auto-choosing row-wise multi-threading, the overhead of testing was 0.002377 seconds.\n",
      "You can set `force_row_wise=true` to remove the overhead.\n",
      "And if memory is not enough, you can set `force_col_wise=true`.\n",
      "[LightGBM] [Info] Total Bins 2985\n",
      "[LightGBM] [Info] Number of data points in the train set: 973, number of used features: 74\n",
      "[LightGBM] [Info] Start training from score 180923.739979\n",
      "Training until validation scores don't improve for 20 rounds\n"
     ]
    },
    {
     "name": "stderr",
     "output_type": "stream",
     "text": [
      "C:\\Users\\drago\\Anaconda3\\lib\\site-packages\\lightgbm\\basic.py:1433: UserWarning: Overriding the parameters from Reference Dataset.\n",
      "  _log_warning('Overriding the parameters from Reference Dataset.')\n",
      "C:\\Users\\drago\\Anaconda3\\lib\\site-packages\\lightgbm\\basic.py:1245: UserWarning: categorical_column in param dict is overridden.\n",
      "  _log_warning('{} in param dict is overridden.'.format(cat_alias))\n"
     ]
    },
    {
     "name": "stdout",
     "output_type": "stream",
     "text": [
      "[10]\tvalid_0's l2: 2.089e+09\n",
      "[20]\tvalid_0's l2: 1.22218e+09\n",
      "[30]\tvalid_0's l2: 1.03767e+09\n",
      "[40]\tvalid_0's l2: 9.7989e+08\n",
      "[50]\tvalid_0's l2: 9.47475e+08\n",
      "[60]\tvalid_0's l2: 9.27892e+08\n",
      "[70]\tvalid_0's l2: 9.20973e+08\n",
      "[80]\tvalid_0's l2: 9.1853e+08\n",
      "[90]\tvalid_0's l2: 9.0149e+08\n",
      "[100]\tvalid_0's l2: 8.97013e+08\n",
      "Did not meet early stopping. Best iteration is:\n",
      "[96]\tvalid_0's l2: 8.96476e+08\n",
      "0.14795399816677407\n",
      "[LightGBM] [Warning] Auto-choosing row-wise multi-threading, the overhead of testing was 0.001233 seconds.\n",
      "You can set `force_row_wise=true` to remove the overhead.\n",
      "And if memory is not enough, you can set `force_col_wise=true`.\n",
      "[LightGBM] [Info] Total Bins 3005\n",
      "[LightGBM] [Info] Number of data points in the train set: 974, number of used features: 75\n",
      "[LightGBM] [Info] Start training from score 182112.591376\n",
      "Training until validation scores don't improve for 20 rounds\n",
      "[10]\tvalid_0's l2: 1.80296e+09\n",
      "[20]\tvalid_0's l2: 1.02271e+09\n",
      "[30]\tvalid_0's l2: 8.68838e+08\n"
     ]
    },
    {
     "name": "stderr",
     "output_type": "stream",
     "text": [
      "C:\\Users\\drago\\Anaconda3\\lib\\site-packages\\lightgbm\\basic.py:1433: UserWarning: Overriding the parameters from Reference Dataset.\n",
      "  _log_warning('Overriding the parameters from Reference Dataset.')\n",
      "C:\\Users\\drago\\Anaconda3\\lib\\site-packages\\lightgbm\\basic.py:1245: UserWarning: categorical_column in param dict is overridden.\n",
      "  _log_warning('{} in param dict is overridden.'.format(cat_alias))\n"
     ]
    },
    {
     "name": "stdout",
     "output_type": "stream",
     "text": [
      "[40]\tvalid_0's l2: 8.41872e+08\n",
      "[50]\tvalid_0's l2: 8.35433e+08\n",
      "[60]\tvalid_0's l2: 8.28083e+08\n",
      "[70]\tvalid_0's l2: 8.25289e+08\n",
      "[80]\tvalid_0's l2: 8.25043e+08\n",
      "Early stopping, best iteration is:\n",
      "[66]\tvalid_0's l2: 8.20654e+08\n",
      "0.1325997570084599\n"
     ]
    }
   ],
   "source": [
    "models = []\n",
    "rmses = []\n",
    "oof = np.zeros(len(train_X))\n",
    "\n",
    "for train_index, val_index in kf.split(train_X):\n",
    "    X_train = train_X.iloc[train_index]\n",
    "    X_valid = train_X.iloc[val_index]\n",
    "    y_train = train_Y.iloc[train_index]\n",
    "    y_valid = train_Y.iloc[val_index]\n",
    "    \n",
    "    lgb_train = lgb.Dataset(X_train, y_train)\n",
    "    lgb_eval = lgb.Dataset(X_valid, y_valid, reference=lgb_train)\n",
    "    \n",
    "    model_lgb = lgb.train(lgbm_params,\n",
    "                          lgb_train,\n",
    "                          valid_sets=lgb_eval,\n",
    "                          num_boost_round=100,\n",
    "                          early_stopping_rounds=20,\n",
    "                          verbose_eval=10,\n",
    "                          )\n",
    "    \n",
    "    y_pred = model_lgb.predict(X_valid, num_iteration=model_lgb.best_iteration)\n",
    "    tmp_rmse=np.sqrt(mean_squared_error(np.log(y_valid), np.log(y_pred)))\n",
    "    print(tmp_rmse)\n",
    "    \n",
    "    models.append(model_lgb)\n",
    "    rmses.append(tmp_rmse)\n",
    "    oof[val_index] = y_pred"
   ]
  },
  {
   "cell_type": "code",
   "execution_count": 23,
   "metadata": {},
   "outputs": [
    {
     "data": {
      "text/plain": [
       "0.1359164479233318"
      ]
     },
     "execution_count": 23,
     "metadata": {},
     "output_type": "execute_result"
    }
   ],
   "source": [
    "sum(rmses)/len(rmses)"
   ]
  },
  {
   "cell_type": "code",
   "execution_count": 24,
   "metadata": {},
   "outputs": [],
   "source": [
    "acutual_pred_df = pd.DataFrame({\n",
    "                          \"actual\" : train_Y,\n",
    "                          \"pred\" : oof })"
   ]
  },
  {
   "cell_type": "code",
   "execution_count": 25,
   "metadata": {},
   "outputs": [
    {
     "data": {
      "text/plain": [
       "<matplotlib.axes._subplots.AxesSubplot at 0x1969a4b4c08>"
      ]
     },
     "execution_count": 25,
     "metadata": {},
     "output_type": "execute_result"
    },
    {
     "data": {
      "image/png": "[encoded data removed]",
      "text/plain": [
       "<Figure size 864x360 with 1 Axes>"
      ]
     },
     "metadata": {},
     "output_type": "display_data"
    }
   ],
   "source": [
    "acutual_pred_df.plot(figsize=(12, 5))"
   ]
  },
  {
   "cell_type": "code",
   "execution_count": 26,
   "metadata": {},
   "outputs": [
    {
     "data": {
      "image/png": "[encoded data removed]",
      "text/plain": [
       "<Figure size 432x288 with 1 Axes>"
      ]
     },
     "metadata": {},
     "output_type": "display_data"
    },
    {
     "data": {
      "image/png": "[encoded data removed]",
      "text/plain": [
       "<Figure size 432x288 with 1 Axes>"
      ]
     },
     "metadata": {},
     "output_type": "display_data"
    },
    {
     "data": {
      "image/png": "[encoded data removed]",
      "text/plain": [
       "<Figure size 432x288 with 1 Axes>"
      ]
     },
     "metadata": {},
     "output_type": "display_data"
    }
   ],
   "source": [
    "for model in models:\n",
    "    lgb.plot_importance(model, importance_type=\"gain\", max_num_features=15)"
   ]
  },
  {
   "cell_type": "markdown",
   "metadata": {},
   "source": [
    "## 3. Preprocessing(object variable)"
   ]
  },
  {
   "cell_type": "code",
   "execution_count": 27,
   "metadata": {},
   "outputs": [
    {
     "data": {
      "text/plain": [
       "count      1460.000000\n",
       "mean     180921.195890\n",
       "std       79442.502883\n",
       "min       34900.000000\n",
       "25%      129975.000000\n",
       "50%      163000.000000\n",
       "75%      214000.000000\n",
       "max      755000.000000\n",
       "Name: SalePrice, dtype: float64"
      ]
     },
     "execution_count": 27,
     "metadata": {},
     "output_type": "execute_result"
    }
   ],
   "source": [
    "train_df[\"SalePrice\"].describe()"
   ]
  },
  {
   "cell_type": "code",
   "execution_count": 28,
   "metadata": {},
   "outputs": [
    {
     "data": {
      "text/plain": [
       "<matplotlib.axes._subplots.AxesSubplot at 0x1969bf8b608>"
      ]
     },
     "execution_count": 28,
     "metadata": {},
     "output_type": "execute_result"
    },
    {
     "data": {
      "image/png": "[encoded data removed]",
      "text/plain": [
       "<Figure size 432x288 with 1 Axes>"
      ]
     },
     "metadata": {},
     "output_type": "display_data"
    }
   ],
   "source": [
    "train_df[\"SalePrice\"].plot.hist(bins=20)"
   ]
  },
  {
   "cell_type": "code",
   "execution_count": 29,
   "metadata": {},
   "outputs": [
    {
     "data": {
      "text/plain": [
       "0       12.247694\n",
       "1       12.109011\n",
       "2       12.317167\n",
       "3       11.849398\n",
       "4       12.429216\n",
       "          ...    \n",
       "1455    12.072541\n",
       "1456    12.254863\n",
       "1457    12.493130\n",
       "1458    11.864462\n",
       "1459    11.901583\n",
       "Name: SalePrice, Length: 1460, dtype: float64"
      ]
     },
     "execution_count": 29,
     "metadata": {},
     "output_type": "execute_result"
    }
   ],
   "source": [
    "np.log(train_df[\"SalePrice\"])"
   ]
  },
  {
   "cell_type": "code",
   "execution_count": 30,
   "metadata": {},
   "outputs": [
    {
     "data": {
      "text/plain": [
       "<matplotlib.axes._subplots.AxesSubplot at 0x1969c099bc8>"
      ]
     },
     "execution_count": 30,
     "metadata": {},
     "output_type": "execute_result"
    },
    {
     "data": {
      "image/png": "[encoded data removed]",
      "text/plain": [
       "<Figure size 432x288 with 1 Axes>"
      ]
     },
     "metadata": {},
     "output_type": "display_data"
    }
   ],
   "source": [
    "np.log(train_df[\"SalePrice\"]).plot.hist(bins=20)"
   ]
  },
  {
   "cell_type": "code",
   "execution_count": 31,
   "metadata": {},
   "outputs": [
    {
     "name": "stderr",
     "output_type": "stream",
     "text": [
      "C:\\Users\\drago\\Anaconda3\\lib\\site-packages\\ipykernel_launcher.py:1: SettingWithCopyWarning: \n",
      "A value is trying to be set on a copy of a slice from a DataFrame.\n",
      "Try using .loc[row_indexer,col_indexer] = value instead\n",
      "\n",
      "See the caveats in the documentation: http://pandas.pydata.org/pandas-docs/stable/user_guide/indexing.html#returning-a-view-versus-a-copy\n",
      "  \"\"\"Entry point for launching an IPython kernel.\n"
     ]
    }
   ],
   "source": [
    "train_df_le[\"SalePrice_log\"] = np.log(train_df_le[\"SalePrice\"])"
   ]
  },
  {
   "cell_type": "code",
   "execution_count": 32,
   "metadata": {},
   "outputs": [],
   "source": [
    "train_X = train_df_le.drop([\"SalePrice\", \"SalePrice_log\", \"Id\"], axis=1)\n",
    "train_Y = train_df_le[\"SalePrice_log\"]"
   ]
  },
  {
   "cell_type": "code",
   "execution_count": 33,
   "metadata": {},
   "outputs": [
    {
     "name": "stdout",
     "output_type": "stream",
     "text": [
      "[LightGBM] [Warning] Auto-choosing row-wise multi-threading, the overhead of testing was 0.001813 seconds.\n",
      "You can set `force_row_wise=true` to remove the overhead.\n",
      "And if memory is not enough, you can set `force_col_wise=true`.\n",
      "[LightGBM] [Info] Total Bins 2964\n",
      "[LightGBM] [Info] Number of data points in the train set: 973, number of used features: 74\n",
      "[LightGBM] [Info] Start training from score 12.017607\n",
      "Training until validation scores don't improve for 20 rounds\n",
      "[10]\tvalid_0's l2: 0.0436707"
     ]
    },
    {
     "name": "stderr",
     "output_type": "stream",
     "text": [
      "C:\\Users\\drago\\Anaconda3\\lib\\site-packages\\lightgbm\\basic.py:1433: UserWarning: Overriding the parameters from Reference Dataset.\n",
      "  _log_warning('Overriding the parameters from Reference Dataset.')\n",
      "C:\\Users\\drago\\Anaconda3\\lib\\site-packages\\lightgbm\\basic.py:1245: UserWarning: categorical_column in param dict is overridden.\n",
      "  _log_warning('{} in param dict is overridden.'.format(cat_alias))\n"
     ]
    },
    {
     "name": "stdout",
     "output_type": "stream",
     "text": [
      "\n",
      "[20]\tvalid_0's l2: 0.0219638\n",
      "[30]\tvalid_0's l2: 0.0178863\n",
      "[40]\tvalid_0's l2: 0.0168272\n",
      "[50]\tvalid_0's l2: 0.0165421\n",
      "[60]\tvalid_0's l2: 0.0164067\n",
      "[70]\tvalid_0's l2: 0.0163235\n",
      "[80]\tvalid_0's l2: 0.0162611\n",
      "[90]\tvalid_0's l2: 0.0162673\n",
      "[100]\tvalid_0's l2: 0.0163207\n",
      "Did not meet early stopping. Best iteration is:\n",
      "[81]\tvalid_0's l2: 0.0162538\n",
      "0.12749050377720023\n",
      "[LightGBM] [Warning] Auto-choosing row-wise multi-threading, the overhead of testing was 0.001051 seconds.\n",
      "You can set `force_row_wise=true` to remove the overhead.\n",
      "And if memory is not enough, you can set `force_col_wise=true`.\n",
      "[LightGBM] [Info] Total Bins 2985\n",
      "[LightGBM] [Info] Number of data points in the train set: 973, number of used features: 74\n",
      "[LightGBM] [Info] Start training from score 12.025976\n",
      "Training until validation scores don't improve for 20 rounds\n",
      "[10]\tvalid_0's l2: 0.0494901"
     ]
    },
    {
     "name": "stderr",
     "output_type": "stream",
     "text": [
      "C:\\Users\\drago\\Anaconda3\\lib\\site-packages\\lightgbm\\basic.py:1433: UserWarning: Overriding the parameters from Reference Dataset.\n",
      "  _log_warning('Overriding the parameters from Reference Dataset.')\n",
      "C:\\Users\\drago\\Anaconda3\\lib\\site-packages\\lightgbm\\basic.py:1245: UserWarning: categorical_column in param dict is overridden.\n",
      "  _log_warning('{} in param dict is overridden.'.format(cat_alias))\n"
     ]
    },
    {
     "name": "stdout",
     "output_type": "stream",
     "text": [
      "\n",
      "[20]\tvalid_0's l2: 0.028109\n",
      "[30]\tvalid_0's l2: 0.0235203\n",
      "[40]\tvalid_0's l2: 0.0218816\n",
      "[50]\tvalid_0's l2: 0.0212745\n",
      "[60]\tvalid_0's l2: 0.0209102\n",
      "[70]\tvalid_0's l2: 0.0207806\n",
      "[80]\tvalid_0's l2: 0.0206708\n",
      "[90]\tvalid_0's l2: 0.020634\n",
      "[100]\tvalid_0's l2: 0.0206411\n",
      "Did not meet early stopping. Best iteration is:\n",
      "[89]\tvalid_0's l2: 0.0206181\n",
      "0.1435901195442448\n",
      "[LightGBM] [Warning] Auto-choosing row-wise multi-threading, the overhead of testing was 0.002075 seconds.\n",
      "You can set `force_row_wise=true` to remove the overhead.\n",
      "And if memory is not enough, you can set `force_col_wise=true`.\n",
      "[LightGBM] [Info] Total Bins 3005\n",
      "[LightGBM] [Info] Number of data points in the train set: 974, number of used features: 75\n",
      "[LightGBM] [Info] Start training from score 12.028565\n",
      "Training until validation scores don't improve for 20 rounds\n"
     ]
    },
    {
     "name": "stderr",
     "output_type": "stream",
     "text": [
      "C:\\Users\\drago\\Anaconda3\\lib\\site-packages\\lightgbm\\basic.py:1433: UserWarning: Overriding the parameters from Reference Dataset.\n",
      "  _log_warning('Overriding the parameters from Reference Dataset.')\n",
      "C:\\Users\\drago\\Anaconda3\\lib\\site-packages\\lightgbm\\basic.py:1245: UserWarning: categorical_column in param dict is overridden.\n",
      "  _log_warning('{} in param dict is overridden.'.format(cat_alias))\n"
     ]
    },
    {
     "name": "stdout",
     "output_type": "stream",
     "text": [
      "[10]\tvalid_0's l2: 0.0390113\n",
      "[20]\tvalid_0's l2: 0.0212181\n",
      "[30]\tvalid_0's l2: 0.0176641\n",
      "[40]\tvalid_0's l2: 0.0167935\n",
      "[50]\tvalid_0's l2: 0.016452\n",
      "[60]\tvalid_0's l2: 0.0162947\n",
      "[70]\tvalid_0's l2: 0.0161933\n",
      "[80]\tvalid_0's l2: 0.0162265\n",
      "[90]\tvalid_0's l2: 0.0162094\n",
      "Early stopping, best iteration is:\n",
      "[72]\tvalid_0's l2: 0.0161708\n",
      "0.1271643059371225\n"
     ]
    }
   ],
   "source": [
    "models = []\n",
    "rmses = []\n",
    "oof = np.zeros(len(train_X))\n",
    "\n",
    "for train_index, val_index in kf.split(train_X):\n",
    "    X_train = train_X.iloc[train_index]\n",
    "    X_valid = train_X.iloc[val_index]\n",
    "    y_train = train_Y.iloc[train_index]\n",
    "    y_valid = train_Y.iloc[val_index]\n",
    "    \n",
    "    lgb_train = lgb.Dataset(X_train, y_train)\n",
    "    lgb_eval = lgb.Dataset(X_valid, y_valid, reference=lgb_train)\n",
    "    \n",
    "    model_lgb = lgb.train(lgbm_params,\n",
    "                          lgb_train,\n",
    "                          valid_sets=lgb_eval,\n",
    "                          num_boost_round=100,\n",
    "                          early_stopping_rounds=20,\n",
    "                          verbose_eval=10,\n",
    "                          )\n",
    "    \n",
    "    y_pred = model_lgb.predict(X_valid, num_iteration=model_lgb.best_iteration)\n",
    "    tmp_rmse = np.sqrt(mean_squared_error(y_valid, y_pred))\n",
    "    print(tmp_rmse)\n",
    "    \n",
    "    models.append(model_lgb)\n",
    "    rmses.append(tmp_rmse)\n",
    "    oof[val_index] = y_pred"
   ]
  },
  {
   "cell_type": "code",
   "execution_count": 34,
   "metadata": {},
   "outputs": [
    {
     "data": {
      "text/plain": [
       "0.13274830975285581"
      ]
     },
     "execution_count": 34,
     "metadata": {},
     "output_type": "execute_result"
    }
   ],
   "source": [
    "sum(rmses)/len(rmses)"
   ]
  },
  {
   "cell_type": "markdown",
   "metadata": {},
   "source": [
    "## 4. Preproccesing(Explanatory variable)"
   ]
  },
  {
   "cell_type": "code",
   "execution_count": 35,
   "metadata": {},
   "outputs": [],
   "source": [
    "all_df = pd.concat([train_df, test_df], sort=False).reset_index(drop=True)"
   ]
  },
  {
   "cell_type": "code",
   "execution_count": 36,
   "metadata": {},
   "outputs": [
    {
     "name": "stdout",
     "output_type": "stream",
     "text": [
      "Index(['MSZoning', 'Street', 'Alley', 'LotShape', 'LandContour', 'Utilities',\n",
      "       'LotConfig', 'LandSlope', 'Neighborhood', 'Condition1', 'Condition2',\n",
      "       'BldgType', 'HouseStyle', 'RoofStyle', 'RoofMatl', 'Exterior1st',\n",
      "       'Exterior2nd', 'MasVnrType', 'ExterQual', 'ExterCond', 'Foundation',\n",
      "       'BsmtQual', 'BsmtCond', 'BsmtExposure', 'BsmtFinType1', 'BsmtFinType2',\n",
      "       'Heating', 'HeatingQC', 'CentralAir', 'Electrical', 'KitchenQual',\n",
      "       'Functional', 'FireplaceQu', 'GarageType', 'GarageFinish', 'GarageQual',\n",
      "       'GarageCond', 'PavedDrive', 'PoolQC', 'Fence', 'MiscFeature',\n",
      "       'SaleType', 'SaleCondition'],\n",
      "      dtype='object')\n"
     ]
    }
   ],
   "source": [
    "categories = all_df.columns[all_df.dtypes == \"object\"]\n",
    "print(categories)"
   ]
  },
  {
   "cell_type": "code",
   "execution_count": 37,
   "metadata": {},
   "outputs": [
    {
     "data": {
      "text/plain": [
       "PoolQC          2909\n",
       "MiscFeature     2814\n",
       "Alley           2721\n",
       "Fence           2348\n",
       "SalePrice       1459\n",
       "FireplaceQu     1420\n",
       "LotFrontage      486\n",
       "GarageQual       159\n",
       "GarageYrBlt      159\n",
       "GarageFinish     159\n",
       "GarageCond       159\n",
       "GarageType       157\n",
       "BsmtExposure      82\n",
       "BsmtCond          82\n",
       "BsmtQual          81\n",
       "BsmtFinType2      80\n",
       "BsmtFinType1      79\n",
       "MasVnrType        24\n",
       "MasVnrArea        23\n",
       "MSZoning           4\n",
       "Utilities          2\n",
       "Functional         2\n",
       "BsmtFullBath       2\n",
       "BsmtHalfBath       2\n",
       "GarageArea         1\n",
       "BsmtFinSF2         1\n",
       "Exterior1st        1\n",
       "TotalBsmtSF        1\n",
       "GarageCars         1\n",
       "BsmtUnfSF          1\n",
       "Electrical         1\n",
       "BsmtFinSF1         1\n",
       "KitchenQual        1\n",
       "SaleType           1\n",
       "Exterior2nd        1\n",
       "Street             0\n",
       "RoofMatl           0\n",
       "MSSubClass         0\n",
       "LotArea            0\n",
       "OverallCond        0\n",
       "dtype: int64"
      ]
     },
     "execution_count": 37,
     "metadata": {},
     "output_type": "execute_result"
    }
   ],
   "source": [
    "all_df.isnull().sum().sort_values(ascending=False).head(40)"
   ]
  },
  {
   "cell_type": "code",
   "execution_count": 38,
   "metadata": {},
   "outputs": [
    {
     "data": {
      "text/plain": [
       "Gd    4\n",
       "Ex    4\n",
       "Fa    2\n",
       "Name: PoolQC, dtype: int64"
      ]
     },
     "execution_count": 38,
     "metadata": {},
     "output_type": "execute_result"
    }
   ],
   "source": [
    "all_df.PoolQC.value_counts()"
   ]
  },
  {
   "cell_type": "code",
   "execution_count": 39,
   "metadata": {},
   "outputs": [],
   "source": [
    "all_df.loc[~all_df[\"PoolQC\"].isnull(), \"PoolQC\"] = 1\n",
    "all_df.loc[all_df[\"PoolQC\"].isnull(), \"PoolQC\"] = 0"
   ]
  },
  {
   "cell_type": "code",
   "execution_count": 40,
   "metadata": {},
   "outputs": [
    {
     "data": {
      "text/plain": [
       "0    2909\n",
       "1      10\n",
       "Name: PoolQC, dtype: int64"
      ]
     },
     "execution_count": 40,
     "metadata": {},
     "output_type": "execute_result"
    }
   ],
   "source": [
    "all_df.PoolQC.value_counts()"
   ]
  },
  {
   "cell_type": "code",
   "execution_count": 41,
   "metadata": {},
   "outputs": [],
   "source": [
    "HighFacility_col = [\"PoolQC\", \"MiscFeature\", \"Alley\"]\n",
    "for col in HighFacility_col:\n",
    "    if all_df[col].dtype == \"object\":\n",
    "        if len(all_df[all_df[col].isnull()]) > 0:\n",
    "            all_df.loc[~all_df[col].isnull(), col] = 1\n",
    "            all_df.loc[all_df[col].isnull(), col] = 0"
   ]
  },
  {
   "cell_type": "code",
   "execution_count": 42,
   "metadata": {},
   "outputs": [],
   "source": [
    "all_df[\"hasHighFacility\"] = all_df[\"PoolQC\"] + all_df[\"MiscFeature\"] + all_df[\"Alley\"]"
   ]
  },
  {
   "cell_type": "code",
   "execution_count": 43,
   "metadata": {},
   "outputs": [],
   "source": [
    "all_df[\"hasHighFacility\"] = all_df[\"hasHighFacility\"].astype(int)"
   ]
  },
  {
   "cell_type": "code",
   "execution_count": 44,
   "metadata": {},
   "outputs": [
    {
     "data": {
      "text/plain": [
       "0    2615\n",
       "1     295\n",
       "2       9\n",
       "Name: hasHighFacility, dtype: int64"
      ]
     },
     "execution_count": 44,
     "metadata": {},
     "output_type": "execute_result"
    }
   ],
   "source": [
    "all_df[\"hasHighFacility\"].value_counts()"
   ]
  },
  {
   "cell_type": "code",
   "execution_count": 45,
   "metadata": {},
   "outputs": [],
   "source": [
    "all_df = all_df.drop([\"PoolQC\", \"MiscFeature\", \"Alley\"], axis=1)"
   ]
  },
  {
   "cell_type": "markdown",
   "metadata": {},
   "source": [
    "## 5. Outlier"
   ]
  },
  {
   "cell_type": "code",
   "execution_count": 46,
   "metadata": {},
   "outputs": [
    {
     "data": {
      "text/html": [
       "<div>\n",
       "<style scoped>\n",
       "    .dataframe tbody tr th:only-of-type {\n",
       "        vertical-align: middle;\n",
       "    }\n",
       "\n",
       "    .dataframe tbody tr th {\n",
       "        vertical-align: top;\n",
       "    }\n",
       "\n",
       "    .dataframe thead th {\n",
       "        text-align: right;\n",
       "    }\n",
       "</style>\n",
       "<table border=\"1\" class=\"dataframe\">\n",
       "  <thead>\n",
       "    <tr style=\"text-align: right;\">\n",
       "      <th></th>\n",
       "      <th>count</th>\n",
       "      <th>mean</th>\n",
       "      <th>std</th>\n",
       "      <th>min</th>\n",
       "      <th>25%</th>\n",
       "      <th>50%</th>\n",
       "      <th>75%</th>\n",
       "      <th>max</th>\n",
       "    </tr>\n",
       "  </thead>\n",
       "  <tbody>\n",
       "    <tr>\n",
       "      <td>Id</td>\n",
       "      <td>2919.0</td>\n",
       "      <td>1460.000000</td>\n",
       "      <td>842.787043</td>\n",
       "      <td>1.0</td>\n",
       "      <td>730.5</td>\n",
       "      <td>1460.0</td>\n",
       "      <td>2189.5</td>\n",
       "      <td>2919.0</td>\n",
       "    </tr>\n",
       "    <tr>\n",
       "      <td>MSSubClass</td>\n",
       "      <td>2919.0</td>\n",
       "      <td>57.137718</td>\n",
       "      <td>42.517628</td>\n",
       "      <td>20.0</td>\n",
       "      <td>20.0</td>\n",
       "      <td>50.0</td>\n",
       "      <td>70.0</td>\n",
       "      <td>190.0</td>\n",
       "    </tr>\n",
       "    <tr>\n",
       "      <td>LotFrontage</td>\n",
       "      <td>2433.0</td>\n",
       "      <td>69.305795</td>\n",
       "      <td>23.344905</td>\n",
       "      <td>21.0</td>\n",
       "      <td>59.0</td>\n",
       "      <td>68.0</td>\n",
       "      <td>80.0</td>\n",
       "      <td>313.0</td>\n",
       "    </tr>\n",
       "    <tr>\n",
       "      <td>LotArea</td>\n",
       "      <td>2919.0</td>\n",
       "      <td>10168.114080</td>\n",
       "      <td>7886.996359</td>\n",
       "      <td>1300.0</td>\n",
       "      <td>7478.0</td>\n",
       "      <td>9453.0</td>\n",
       "      <td>11570.0</td>\n",
       "      <td>215245.0</td>\n",
       "    </tr>\n",
       "    <tr>\n",
       "      <td>OverallQual</td>\n",
       "      <td>2919.0</td>\n",
       "      <td>6.089072</td>\n",
       "      <td>1.409947</td>\n",
       "      <td>1.0</td>\n",
       "      <td>5.0</td>\n",
       "      <td>6.0</td>\n",
       "      <td>7.0</td>\n",
       "      <td>10.0</td>\n",
       "    </tr>\n",
       "    <tr>\n",
       "      <td>OverallCond</td>\n",
       "      <td>2919.0</td>\n",
       "      <td>5.564577</td>\n",
       "      <td>1.113131</td>\n",
       "      <td>1.0</td>\n",
       "      <td>5.0</td>\n",
       "      <td>5.0</td>\n",
       "      <td>6.0</td>\n",
       "      <td>9.0</td>\n",
       "    </tr>\n",
       "    <tr>\n",
       "      <td>YearBuilt</td>\n",
       "      <td>2919.0</td>\n",
       "      <td>1971.312778</td>\n",
       "      <td>30.291442</td>\n",
       "      <td>1872.0</td>\n",
       "      <td>1953.5</td>\n",
       "      <td>1973.0</td>\n",
       "      <td>2001.0</td>\n",
       "      <td>2010.0</td>\n",
       "    </tr>\n",
       "    <tr>\n",
       "      <td>YearRemodAdd</td>\n",
       "      <td>2919.0</td>\n",
       "      <td>1984.264474</td>\n",
       "      <td>20.894344</td>\n",
       "      <td>1950.0</td>\n",
       "      <td>1965.0</td>\n",
       "      <td>1993.0</td>\n",
       "      <td>2004.0</td>\n",
       "      <td>2010.0</td>\n",
       "    </tr>\n",
       "    <tr>\n",
       "      <td>MasVnrArea</td>\n",
       "      <td>2896.0</td>\n",
       "      <td>102.201312</td>\n",
       "      <td>179.334253</td>\n",
       "      <td>0.0</td>\n",
       "      <td>0.0</td>\n",
       "      <td>0.0</td>\n",
       "      <td>164.0</td>\n",
       "      <td>1600.0</td>\n",
       "    </tr>\n",
       "    <tr>\n",
       "      <td>BsmtFinSF1</td>\n",
       "      <td>2918.0</td>\n",
       "      <td>441.423235</td>\n",
       "      <td>455.610826</td>\n",
       "      <td>0.0</td>\n",
       "      <td>0.0</td>\n",
       "      <td>368.5</td>\n",
       "      <td>733.0</td>\n",
       "      <td>5644.0</td>\n",
       "    </tr>\n",
       "    <tr>\n",
       "      <td>BsmtFinSF2</td>\n",
       "      <td>2918.0</td>\n",
       "      <td>49.582248</td>\n",
       "      <td>169.205611</td>\n",
       "      <td>0.0</td>\n",
       "      <td>0.0</td>\n",
       "      <td>0.0</td>\n",
       "      <td>0.0</td>\n",
       "      <td>1526.0</td>\n",
       "    </tr>\n",
       "    <tr>\n",
       "      <td>BsmtUnfSF</td>\n",
       "      <td>2918.0</td>\n",
       "      <td>560.772104</td>\n",
       "      <td>439.543659</td>\n",
       "      <td>0.0</td>\n",
       "      <td>220.0</td>\n",
       "      <td>467.0</td>\n",
       "      <td>805.5</td>\n",
       "      <td>2336.0</td>\n",
       "    </tr>\n",
       "    <tr>\n",
       "      <td>TotalBsmtSF</td>\n",
       "      <td>2918.0</td>\n",
       "      <td>1051.777587</td>\n",
       "      <td>440.766258</td>\n",
       "      <td>0.0</td>\n",
       "      <td>793.0</td>\n",
       "      <td>989.5</td>\n",
       "      <td>1302.0</td>\n",
       "      <td>6110.0</td>\n",
       "    </tr>\n",
       "    <tr>\n",
       "      <td>1stFlrSF</td>\n",
       "      <td>2919.0</td>\n",
       "      <td>1159.581706</td>\n",
       "      <td>392.362079</td>\n",
       "      <td>334.0</td>\n",
       "      <td>876.0</td>\n",
       "      <td>1082.0</td>\n",
       "      <td>1387.5</td>\n",
       "      <td>5095.0</td>\n",
       "    </tr>\n",
       "    <tr>\n",
       "      <td>2ndFlrSF</td>\n",
       "      <td>2919.0</td>\n",
       "      <td>336.483727</td>\n",
       "      <td>428.701456</td>\n",
       "      <td>0.0</td>\n",
       "      <td>0.0</td>\n",
       "      <td>0.0</td>\n",
       "      <td>704.0</td>\n",
       "      <td>2065.0</td>\n",
       "    </tr>\n",
       "    <tr>\n",
       "      <td>LowQualFinSF</td>\n",
       "      <td>2919.0</td>\n",
       "      <td>4.694416</td>\n",
       "      <td>46.396825</td>\n",
       "      <td>0.0</td>\n",
       "      <td>0.0</td>\n",
       "      <td>0.0</td>\n",
       "      <td>0.0</td>\n",
       "      <td>1064.0</td>\n",
       "    </tr>\n",
       "    <tr>\n",
       "      <td>GrLivArea</td>\n",
       "      <td>2919.0</td>\n",
       "      <td>1500.759849</td>\n",
       "      <td>506.051045</td>\n",
       "      <td>334.0</td>\n",
       "      <td>1126.0</td>\n",
       "      <td>1444.0</td>\n",
       "      <td>1743.5</td>\n",
       "      <td>5642.0</td>\n",
       "    </tr>\n",
       "    <tr>\n",
       "      <td>BsmtFullBath</td>\n",
       "      <td>2917.0</td>\n",
       "      <td>0.429894</td>\n",
       "      <td>0.524736</td>\n",
       "      <td>0.0</td>\n",
       "      <td>0.0</td>\n",
       "      <td>0.0</td>\n",
       "      <td>1.0</td>\n",
       "      <td>3.0</td>\n",
       "    </tr>\n",
       "    <tr>\n",
       "      <td>BsmtHalfBath</td>\n",
       "      <td>2917.0</td>\n",
       "      <td>0.061364</td>\n",
       "      <td>0.245687</td>\n",
       "      <td>0.0</td>\n",
       "      <td>0.0</td>\n",
       "      <td>0.0</td>\n",
       "      <td>0.0</td>\n",
       "      <td>2.0</td>\n",
       "    </tr>\n",
       "    <tr>\n",
       "      <td>FullBath</td>\n",
       "      <td>2919.0</td>\n",
       "      <td>1.568003</td>\n",
       "      <td>0.552969</td>\n",
       "      <td>0.0</td>\n",
       "      <td>1.0</td>\n",
       "      <td>2.0</td>\n",
       "      <td>2.0</td>\n",
       "      <td>4.0</td>\n",
       "    </tr>\n",
       "    <tr>\n",
       "      <td>HalfBath</td>\n",
       "      <td>2919.0</td>\n",
       "      <td>0.380267</td>\n",
       "      <td>0.502872</td>\n",
       "      <td>0.0</td>\n",
       "      <td>0.0</td>\n",
       "      <td>0.0</td>\n",
       "      <td>1.0</td>\n",
       "      <td>2.0</td>\n",
       "    </tr>\n",
       "    <tr>\n",
       "      <td>BedroomAbvGr</td>\n",
       "      <td>2919.0</td>\n",
       "      <td>2.860226</td>\n",
       "      <td>0.822693</td>\n",
       "      <td>0.0</td>\n",
       "      <td>2.0</td>\n",
       "      <td>3.0</td>\n",
       "      <td>3.0</td>\n",
       "      <td>8.0</td>\n",
       "    </tr>\n",
       "    <tr>\n",
       "      <td>KitchenAbvGr</td>\n",
       "      <td>2919.0</td>\n",
       "      <td>1.044536</td>\n",
       "      <td>0.214462</td>\n",
       "      <td>0.0</td>\n",
       "      <td>1.0</td>\n",
       "      <td>1.0</td>\n",
       "      <td>1.0</td>\n",
       "      <td>3.0</td>\n",
       "    </tr>\n",
       "    <tr>\n",
       "      <td>TotRmsAbvGrd</td>\n",
       "      <td>2919.0</td>\n",
       "      <td>6.451524</td>\n",
       "      <td>1.569379</td>\n",
       "      <td>2.0</td>\n",
       "      <td>5.0</td>\n",
       "      <td>6.0</td>\n",
       "      <td>7.0</td>\n",
       "      <td>15.0</td>\n",
       "    </tr>\n",
       "    <tr>\n",
       "      <td>Fireplaces</td>\n",
       "      <td>2919.0</td>\n",
       "      <td>0.597122</td>\n",
       "      <td>0.646129</td>\n",
       "      <td>0.0</td>\n",
       "      <td>0.0</td>\n",
       "      <td>1.0</td>\n",
       "      <td>1.0</td>\n",
       "      <td>4.0</td>\n",
       "    </tr>\n",
       "    <tr>\n",
       "      <td>GarageYrBlt</td>\n",
       "      <td>2760.0</td>\n",
       "      <td>1978.113406</td>\n",
       "      <td>25.574285</td>\n",
       "      <td>1895.0</td>\n",
       "      <td>1960.0</td>\n",
       "      <td>1979.0</td>\n",
       "      <td>2002.0</td>\n",
       "      <td>2207.0</td>\n",
       "    </tr>\n",
       "    <tr>\n",
       "      <td>GarageCars</td>\n",
       "      <td>2918.0</td>\n",
       "      <td>1.766621</td>\n",
       "      <td>0.761624</td>\n",
       "      <td>0.0</td>\n",
       "      <td>1.0</td>\n",
       "      <td>2.0</td>\n",
       "      <td>2.0</td>\n",
       "      <td>5.0</td>\n",
       "    </tr>\n",
       "    <tr>\n",
       "      <td>GarageArea</td>\n",
       "      <td>2918.0</td>\n",
       "      <td>472.874572</td>\n",
       "      <td>215.394815</td>\n",
       "      <td>0.0</td>\n",
       "      <td>320.0</td>\n",
       "      <td>480.0</td>\n",
       "      <td>576.0</td>\n",
       "      <td>1488.0</td>\n",
       "    </tr>\n",
       "    <tr>\n",
       "      <td>WoodDeckSF</td>\n",
       "      <td>2919.0</td>\n",
       "      <td>93.709832</td>\n",
       "      <td>126.526589</td>\n",
       "      <td>0.0</td>\n",
       "      <td>0.0</td>\n",
       "      <td>0.0</td>\n",
       "      <td>168.0</td>\n",
       "      <td>1424.0</td>\n",
       "    </tr>\n",
       "    <tr>\n",
       "      <td>OpenPorchSF</td>\n",
       "      <td>2919.0</td>\n",
       "      <td>47.486811</td>\n",
       "      <td>67.575493</td>\n",
       "      <td>0.0</td>\n",
       "      <td>0.0</td>\n",
       "      <td>26.0</td>\n",
       "      <td>70.0</td>\n",
       "      <td>742.0</td>\n",
       "    </tr>\n",
       "    <tr>\n",
       "      <td>EnclosedPorch</td>\n",
       "      <td>2919.0</td>\n",
       "      <td>23.098321</td>\n",
       "      <td>64.244246</td>\n",
       "      <td>0.0</td>\n",
       "      <td>0.0</td>\n",
       "      <td>0.0</td>\n",
       "      <td>0.0</td>\n",
       "      <td>1012.0</td>\n",
       "    </tr>\n",
       "    <tr>\n",
       "      <td>3SsnPorch</td>\n",
       "      <td>2919.0</td>\n",
       "      <td>2.602261</td>\n",
       "      <td>25.188169</td>\n",
       "      <td>0.0</td>\n",
       "      <td>0.0</td>\n",
       "      <td>0.0</td>\n",
       "      <td>0.0</td>\n",
       "      <td>508.0</td>\n",
       "    </tr>\n",
       "    <tr>\n",
       "      <td>ScreenPorch</td>\n",
       "      <td>2919.0</td>\n",
       "      <td>16.062350</td>\n",
       "      <td>56.184365</td>\n",
       "      <td>0.0</td>\n",
       "      <td>0.0</td>\n",
       "      <td>0.0</td>\n",
       "      <td>0.0</td>\n",
       "      <td>576.0</td>\n",
       "    </tr>\n",
       "    <tr>\n",
       "      <td>PoolArea</td>\n",
       "      <td>2919.0</td>\n",
       "      <td>2.251799</td>\n",
       "      <td>35.663946</td>\n",
       "      <td>0.0</td>\n",
       "      <td>0.0</td>\n",
       "      <td>0.0</td>\n",
       "      <td>0.0</td>\n",
       "      <td>800.0</td>\n",
       "    </tr>\n",
       "    <tr>\n",
       "      <td>MiscVal</td>\n",
       "      <td>2919.0</td>\n",
       "      <td>50.825968</td>\n",
       "      <td>567.402211</td>\n",
       "      <td>0.0</td>\n",
       "      <td>0.0</td>\n",
       "      <td>0.0</td>\n",
       "      <td>0.0</td>\n",
       "      <td>17000.0</td>\n",
       "    </tr>\n",
       "    <tr>\n",
       "      <td>MoSold</td>\n",
       "      <td>2919.0</td>\n",
       "      <td>6.213087</td>\n",
       "      <td>2.714762</td>\n",
       "      <td>1.0</td>\n",
       "      <td>4.0</td>\n",
       "      <td>6.0</td>\n",
       "      <td>8.0</td>\n",
       "      <td>12.0</td>\n",
       "    </tr>\n",
       "    <tr>\n",
       "      <td>YrSold</td>\n",
       "      <td>2919.0</td>\n",
       "      <td>2007.792737</td>\n",
       "      <td>1.314964</td>\n",
       "      <td>2006.0</td>\n",
       "      <td>2007.0</td>\n",
       "      <td>2008.0</td>\n",
       "      <td>2009.0</td>\n",
       "      <td>2010.0</td>\n",
       "    </tr>\n",
       "    <tr>\n",
       "      <td>SalePrice</td>\n",
       "      <td>1460.0</td>\n",
       "      <td>180921.195890</td>\n",
       "      <td>79442.502883</td>\n",
       "      <td>34900.0</td>\n",
       "      <td>129975.0</td>\n",
       "      <td>163000.0</td>\n",
       "      <td>214000.0</td>\n",
       "      <td>755000.0</td>\n",
       "    </tr>\n",
       "    <tr>\n",
       "      <td>hasHighFacility</td>\n",
       "      <td>2919.0</td>\n",
       "      <td>0.107229</td>\n",
       "      <td>0.319268</td>\n",
       "      <td>0.0</td>\n",
       "      <td>0.0</td>\n",
       "      <td>0.0</td>\n",
       "      <td>0.0</td>\n",
       "      <td>2.0</td>\n",
       "    </tr>\n",
       "  </tbody>\n",
       "</table>\n",
       "</div>"
      ],
      "text/plain": [
       "                  count           mean           std      min       25%  \\\n",
       "Id               2919.0    1460.000000    842.787043      1.0     730.5   \n",
       "MSSubClass       2919.0      57.137718     42.517628     20.0      20.0   \n",
       "LotFrontage      2433.0      69.305795     23.344905     21.0      59.0   \n",
       "LotArea          2919.0   10168.114080   7886.996359   1300.0    7478.0   \n",
       "OverallQual      2919.0       6.089072      1.409947      1.0       5.0   \n",
       "OverallCond      2919.0       5.564577      1.113131      1.0       5.0   \n",
       "YearBuilt        2919.0    1971.312778     30.291442   1872.0    1953.5   \n",
       "YearRemodAdd     2919.0    1984.264474     20.894344   1950.0    1965.0   \n",
       "MasVnrArea       2896.0     102.201312    179.334253      0.0       0.0   \n",
       "BsmtFinSF1       2918.0     441.423235    455.610826      0.0       0.0   \n",
       "BsmtFinSF2       2918.0      49.582248    169.205611      0.0       0.0   \n",
       "BsmtUnfSF        2918.0     560.772104    439.543659      0.0     220.0   \n",
       "TotalBsmtSF      2918.0    1051.777587    440.766258      0.0     793.0   \n",
       "1stFlrSF         2919.0    1159.581706    392.362079    334.0     876.0   \n",
       "2ndFlrSF         2919.0     336.483727    428.701456      0.0       0.0   \n",
       "LowQualFinSF     2919.0       4.694416     46.396825      0.0       0.0   \n",
       "GrLivArea        2919.0    1500.759849    506.051045    334.0    1126.0   \n",
       "BsmtFullBath     2917.0       0.429894      0.524736      0.0       0.0   \n",
       "BsmtHalfBath     2917.0       0.061364      0.245687      0.0       0.0   \n",
       "FullBath         2919.0       1.568003      0.552969      0.0       1.0   \n",
       "HalfBath         2919.0       0.380267      0.502872      0.0       0.0   \n",
       "BedroomAbvGr     2919.0       2.860226      0.822693      0.0       2.0   \n",
       "KitchenAbvGr     2919.0       1.044536      0.214462      0.0       1.0   \n",
       "TotRmsAbvGrd     2919.0       6.451524      1.569379      2.0       5.0   \n",
       "Fireplaces       2919.0       0.597122      0.646129      0.0       0.0   \n",
       "GarageYrBlt      2760.0    1978.113406     25.574285   1895.0    1960.0   \n",
       "GarageCars       2918.0       1.766621      0.761624      0.0       1.0   \n",
       "GarageArea       2918.0     472.874572    215.394815      0.0     320.0   \n",
       "WoodDeckSF       2919.0      93.709832    126.526589      0.0       0.0   \n",
       "OpenPorchSF      2919.0      47.486811     67.575493      0.0       0.0   \n",
       "EnclosedPorch    2919.0      23.098321     64.244246      0.0       0.0   \n",
       "3SsnPorch        2919.0       2.602261     25.188169      0.0       0.0   \n",
       "ScreenPorch      2919.0      16.062350     56.184365      0.0       0.0   \n",
       "PoolArea         2919.0       2.251799     35.663946      0.0       0.0   \n",
       "MiscVal          2919.0      50.825968    567.402211      0.0       0.0   \n",
       "MoSold           2919.0       6.213087      2.714762      1.0       4.0   \n",
       "YrSold           2919.0    2007.792737      1.314964   2006.0    2007.0   \n",
       "SalePrice        1460.0  180921.195890  79442.502883  34900.0  129975.0   \n",
       "hasHighFacility  2919.0       0.107229      0.319268      0.0       0.0   \n",
       "\n",
       "                      50%       75%       max  \n",
       "Id                 1460.0    2189.5    2919.0  \n",
       "MSSubClass           50.0      70.0     190.0  \n",
       "LotFrontage          68.0      80.0     313.0  \n",
       "LotArea            9453.0   11570.0  215245.0  \n",
       "OverallQual           6.0       7.0      10.0  \n",
       "OverallCond           5.0       6.0       9.0  \n",
       "YearBuilt          1973.0    2001.0    2010.0  \n",
       "YearRemodAdd       1993.0    2004.0    2010.0  \n",
       "MasVnrArea            0.0     164.0    1600.0  \n",
       "BsmtFinSF1          368.5     733.0    5644.0  \n",
       "BsmtFinSF2            0.0       0.0    1526.0  \n",
       "BsmtUnfSF           467.0     805.5    2336.0  \n",
       "TotalBsmtSF         989.5    1302.0    6110.0  \n",
       "1stFlrSF           1082.0    1387.5    5095.0  \n",
       "2ndFlrSF              0.0     704.0    2065.0  \n",
       "LowQualFinSF          0.0       0.0    1064.0  \n",
       "GrLivArea          1444.0    1743.5    5642.0  \n",
       "BsmtFullBath          0.0       1.0       3.0  \n",
       "BsmtHalfBath          0.0       0.0       2.0  \n",
       "FullBath              2.0       2.0       4.0  \n",
       "HalfBath              0.0       1.0       2.0  \n",
       "BedroomAbvGr          3.0       3.0       8.0  \n",
       "KitchenAbvGr          1.0       1.0       3.0  \n",
       "TotRmsAbvGrd          6.0       7.0      15.0  \n",
       "Fireplaces            1.0       1.0       4.0  \n",
       "GarageYrBlt        1979.0    2002.0    2207.0  \n",
       "GarageCars            2.0       2.0       5.0  \n",
       "GarageArea          480.0     576.0    1488.0  \n",
       "WoodDeckSF            0.0     168.0    1424.0  \n",
       "OpenPorchSF          26.0      70.0     742.0  \n",
       "EnclosedPorch         0.0       0.0    1012.0  \n",
       "3SsnPorch             0.0       0.0     508.0  \n",
       "ScreenPorch           0.0       0.0     576.0  \n",
       "PoolArea              0.0       0.0     800.0  \n",
       "MiscVal               0.0       0.0   17000.0  \n",
       "MoSold                6.0       8.0      12.0  \n",
       "YrSold             2008.0    2009.0    2010.0  \n",
       "SalePrice        163000.0  214000.0  755000.0  \n",
       "hasHighFacility       0.0       0.0       2.0  "
      ]
     },
     "execution_count": 46,
     "metadata": {},
     "output_type": "execute_result"
    }
   ],
   "source": [
    "all_df.describe().T"
   ]
  },
  {
   "cell_type": "code",
   "execution_count": 47,
   "metadata": {},
   "outputs": [],
   "source": [
    "train_df_num = train_df.select_dtypes(include=[np.number])"
   ]
  },
  {
   "cell_type": "code",
   "execution_count": 48,
   "metadata": {},
   "outputs": [],
   "source": [
    "nonratio_features = [\"Id\", \"MSSubClass\", \"OverallQual\", \"OverallCond\", \"YearBuilt\", \"YearRemodAdd\", \"MoSold\", \"YrSold\"]"
   ]
  },
  {
   "cell_type": "code",
   "execution_count": 49,
   "metadata": {},
   "outputs": [],
   "source": [
    "num_features = sorted(list(set(train_df_num) - set(nonratio_features)))"
   ]
  },
  {
   "cell_type": "code",
   "execution_count": 50,
   "metadata": {},
   "outputs": [
    {
     "data": {
      "text/plain": [
       "['1stFlrSF',\n",
       " '2ndFlrSF',\n",
       " '3SsnPorch',\n",
       " 'BedroomAbvGr',\n",
       " 'BsmtFinSF1',\n",
       " 'BsmtFinSF2',\n",
       " 'BsmtFullBath',\n",
       " 'BsmtHalfBath',\n",
       " 'BsmtUnfSF',\n",
       " 'EnclosedPorch',\n",
       " 'Fireplaces',\n",
       " 'FullBath',\n",
       " 'GarageArea',\n",
       " 'GarageCars',\n",
       " 'GarageYrBlt',\n",
       " 'GrLivArea',\n",
       " 'HalfBath',\n",
       " 'KitchenAbvGr',\n",
       " 'LotArea',\n",
       " 'LotFrontage',\n",
       " 'LowQualFinSF',\n",
       " 'MasVnrArea',\n",
       " 'MiscVal',\n",
       " 'OpenPorchSF',\n",
       " 'PoolArea',\n",
       " 'SalePrice',\n",
       " 'ScreenPorch',\n",
       " 'TotRmsAbvGrd',\n",
       " 'TotalBsmtSF',\n",
       " 'WoodDeckSF']"
      ]
     },
     "execution_count": 50,
     "metadata": {},
     "output_type": "execute_result"
    }
   ],
   "source": [
    "num_features"
   ]
  },
  {
   "cell_type": "code",
   "execution_count": 51,
   "metadata": {},
   "outputs": [],
   "source": [
    "train_df_num_rs = train_df_num[num_features]"
   ]
  },
  {
   "cell_type": "code",
   "execution_count": 52,
   "metadata": {},
   "outputs": [
    {
     "name": "stdout",
     "output_type": "stream",
     "text": [
      "3SsnPorch 1436\n",
      "BsmtFinSF2 1293\n",
      "BsmtHalfBath 1378\n",
      "EnclosedPorch 1252\n",
      "LowQualFinSF 1434\n",
      "MiscVal 1408\n",
      "PoolArea 1453\n",
      "ScreenPorch 1344\n"
     ]
    }
   ],
   "source": [
    "for col in num_features:\n",
    "    if train_df_num_rs.describe()[col][\"75%\"] == 0:\n",
    "        print(col, len(train_df_num_rs[train_df_num_rs[col] == 0]))"
   ]
  },
  {
   "cell_type": "code",
   "execution_count": 53,
   "metadata": {},
   "outputs": [
    {
     "name": "stdout",
     "output_type": "stream",
     "text": [
      "1stFlrSF 12\n",
      "2ndFlrSF 4\n",
      "3SsnPorch 23\n",
      "BedroomAbvGr 14\n",
      "BsmtFinSF1 6\n",
      "BsmtFinSF2 50\n",
      "BsmtFullBath 16\n",
      "BsmtHalfBath 82\n",
      "BsmtUnfSF 11\n",
      "EnclosedPorch 51\n",
      "Fireplaces 5\n",
      "FullBath 0\n",
      "GarageArea 7\n",
      "GarageCars 0\n",
      "GarageYrBlt 1\n",
      "GrLivArea 16\n",
      "HalfBath 12\n",
      "KitchenAbvGr 68\n",
      "LotArea 13\n",
      "LotFrontage 12\n",
      "LowQualFinSF 20\n",
      "MasVnrArea 32\n",
      "MiscVal 8\n",
      "OpenPorchSF 27\n",
      "PoolArea 7\n",
      "SalePrice 22\n",
      "ScreenPorch 55\n",
      "TotRmsAbvGrd 12\n",
      "TotalBsmtSF 10\n",
      "WoodDeckSF 22\n"
     ]
    }
   ],
   "source": [
    "for col in num_features:\n",
    "    tmp_df = train_df_num_rs[(train_df_num_rs[col] > train_df_num_rs[col].mean() + train_df_num_rs[col].std() * 3) | (train_df_num_rs[col] < train_df_num_rs[col].mean() - train_df_num_rs[col].std() * 3)]\n",
    "    print(col, len(tmp_df))"
   ]
  },
  {
   "cell_type": "code",
   "execution_count": 54,
   "metadata": {},
   "outputs": [
    {
     "data": {
      "text/plain": [
       "<matplotlib.axes._subplots.AxesSubplot at 0x1969ba12248>"
      ]
     },
     "execution_count": 54,
     "metadata": {},
     "output_type": "execute_result"
    },
    {
     "data": {
      "image/png": "[encoded data removed]",
      "text/plain": [
       "<Figure size 432x288 with 1 Axes>"
      ]
     },
     "metadata": {},
     "output_type": "display_data"
    }
   ],
   "source": [
    "all_df.plot.scatter(x=\"BsmtFinSF1\", y=\"SalePrice\")"
   ]
  },
  {
   "cell_type": "code",
   "execution_count": 55,
   "metadata": {},
   "outputs": [
    {
     "data": {
      "text/html": [
       "<div>\n",
       "<style scoped>\n",
       "    .dataframe tbody tr th:only-of-type {\n",
       "        vertical-align: middle;\n",
       "    }\n",
       "\n",
       "    .dataframe tbody tr th {\n",
       "        vertical-align: top;\n",
       "    }\n",
       "\n",
       "    .dataframe thead th {\n",
       "        text-align: right;\n",
       "    }\n",
       "</style>\n",
       "<table border=\"1\" class=\"dataframe\">\n",
       "  <thead>\n",
       "    <tr style=\"text-align: right;\">\n",
       "      <th></th>\n",
       "      <th>Id</th>\n",
       "      <th>MSSubClass</th>\n",
       "      <th>MSZoning</th>\n",
       "      <th>LotFrontage</th>\n",
       "      <th>LotArea</th>\n",
       "      <th>Street</th>\n",
       "      <th>LotShape</th>\n",
       "      <th>LandContour</th>\n",
       "      <th>Utilities</th>\n",
       "      <th>LotConfig</th>\n",
       "      <th>...</th>\n",
       "      <th>ScreenPorch</th>\n",
       "      <th>PoolArea</th>\n",
       "      <th>Fence</th>\n",
       "      <th>MiscVal</th>\n",
       "      <th>MoSold</th>\n",
       "      <th>YrSold</th>\n",
       "      <th>SaleType</th>\n",
       "      <th>SaleCondition</th>\n",
       "      <th>SalePrice</th>\n",
       "      <th>hasHighFacility</th>\n",
       "    </tr>\n",
       "  </thead>\n",
       "  <tbody>\n",
       "    <tr>\n",
       "      <td>1298</td>\n",
       "      <td>1299</td>\n",
       "      <td>60</td>\n",
       "      <td>RL</td>\n",
       "      <td>313.0</td>\n",
       "      <td>63887</td>\n",
       "      <td>Pave</td>\n",
       "      <td>IR3</td>\n",
       "      <td>Bnk</td>\n",
       "      <td>AllPub</td>\n",
       "      <td>Corner</td>\n",
       "      <td>...</td>\n",
       "      <td>0</td>\n",
       "      <td>480</td>\n",
       "      <td>NaN</td>\n",
       "      <td>0</td>\n",
       "      <td>1</td>\n",
       "      <td>2008</td>\n",
       "      <td>New</td>\n",
       "      <td>Partial</td>\n",
       "      <td>160000.0</td>\n",
       "      <td>1</td>\n",
       "    </tr>\n",
       "  </tbody>\n",
       "</table>\n",
       "<p>1 rows × 79 columns</p>\n",
       "</div>"
      ],
      "text/plain": [
       "        Id  MSSubClass MSZoning  LotFrontage  LotArea Street LotShape  \\\n",
       "1298  1299          60       RL        313.0    63887   Pave      IR3   \n",
       "\n",
       "     LandContour Utilities LotConfig  ... ScreenPorch PoolArea Fence MiscVal  \\\n",
       "1298         Bnk    AllPub    Corner  ...           0      480   NaN       0   \n",
       "\n",
       "     MoSold YrSold  SaleType  SaleCondition  SalePrice  hasHighFacility  \n",
       "1298      1   2008       New        Partial   160000.0                1  \n",
       "\n",
       "[1 rows x 79 columns]"
      ]
     },
     "execution_count": 55,
     "metadata": {},
     "output_type": "execute_result"
    }
   ],
   "source": [
    "all_df[all_df[\"BsmtFinSF1\"] > 5000]"
   ]
  },
  {
   "cell_type": "code",
   "execution_count": 56,
   "metadata": {},
   "outputs": [
    {
     "data": {
      "text/plain": [
       "<matplotlib.axes._subplots.AxesSubplot at 0x1969be713c8>"
      ]
     },
     "execution_count": 56,
     "metadata": {},
     "output_type": "execute_result"
    },
    {
     "data": {
      "image/png": "[encoded data removed]",
      "text/plain": [
       "<Figure size 432x288 with 1 Axes>"
      ]
     },
     "metadata": {},
     "output_type": "display_data"
    }
   ],
   "source": [
    "all_df.plot.scatter(x=\"TotalBsmtSF\", y=\"SalePrice\")"
   ]
  },
  {
   "cell_type": "code",
   "execution_count": 57,
   "metadata": {},
   "outputs": [
    {
     "data": {
      "text/html": [
       "<div>\n",
       "<style scoped>\n",
       "    .dataframe tbody tr th:only-of-type {\n",
       "        vertical-align: middle;\n",
       "    }\n",
       "\n",
       "    .dataframe tbody tr th {\n",
       "        vertical-align: top;\n",
       "    }\n",
       "\n",
       "    .dataframe thead th {\n",
       "        text-align: right;\n",
       "    }\n",
       "</style>\n",
       "<table border=\"1\" class=\"dataframe\">\n",
       "  <thead>\n",
       "    <tr style=\"text-align: right;\">\n",
       "      <th></th>\n",
       "      <th>Id</th>\n",
       "      <th>MSSubClass</th>\n",
       "      <th>MSZoning</th>\n",
       "      <th>LotFrontage</th>\n",
       "      <th>LotArea</th>\n",
       "      <th>Street</th>\n",
       "      <th>LotShape</th>\n",
       "      <th>LandContour</th>\n",
       "      <th>Utilities</th>\n",
       "      <th>LotConfig</th>\n",
       "      <th>...</th>\n",
       "      <th>ScreenPorch</th>\n",
       "      <th>PoolArea</th>\n",
       "      <th>Fence</th>\n",
       "      <th>MiscVal</th>\n",
       "      <th>MoSold</th>\n",
       "      <th>YrSold</th>\n",
       "      <th>SaleType</th>\n",
       "      <th>SaleCondition</th>\n",
       "      <th>SalePrice</th>\n",
       "      <th>hasHighFacility</th>\n",
       "    </tr>\n",
       "  </thead>\n",
       "  <tbody>\n",
       "    <tr>\n",
       "      <td>1298</td>\n",
       "      <td>1299</td>\n",
       "      <td>60</td>\n",
       "      <td>RL</td>\n",
       "      <td>313.0</td>\n",
       "      <td>63887</td>\n",
       "      <td>Pave</td>\n",
       "      <td>IR3</td>\n",
       "      <td>Bnk</td>\n",
       "      <td>AllPub</td>\n",
       "      <td>Corner</td>\n",
       "      <td>...</td>\n",
       "      <td>0</td>\n",
       "      <td>480</td>\n",
       "      <td>NaN</td>\n",
       "      <td>0</td>\n",
       "      <td>1</td>\n",
       "      <td>2008</td>\n",
       "      <td>New</td>\n",
       "      <td>Partial</td>\n",
       "      <td>160000.0</td>\n",
       "      <td>1</td>\n",
       "    </tr>\n",
       "  </tbody>\n",
       "</table>\n",
       "<p>1 rows × 79 columns</p>\n",
       "</div>"
      ],
      "text/plain": [
       "        Id  MSSubClass MSZoning  LotFrontage  LotArea Street LotShape  \\\n",
       "1298  1299          60       RL        313.0    63887   Pave      IR3   \n",
       "\n",
       "     LandContour Utilities LotConfig  ... ScreenPorch PoolArea Fence MiscVal  \\\n",
       "1298         Bnk    AllPub    Corner  ...           0      480   NaN       0   \n",
       "\n",
       "     MoSold YrSold  SaleType  SaleCondition  SalePrice  hasHighFacility  \n",
       "1298      1   2008       New        Partial   160000.0                1  \n",
       "\n",
       "[1 rows x 79 columns]"
      ]
     },
     "execution_count": 57,
     "metadata": {},
     "output_type": "execute_result"
    }
   ],
   "source": [
    "all_df[all_df[\"TotalBsmtSF\"] > 6000]"
   ]
  },
  {
   "cell_type": "code",
   "execution_count": 58,
   "metadata": {},
   "outputs": [],
   "source": [
    "all_df = all_df[(all_df[\"BsmtFinSF1\"] < 2000) | (all_df[\"SalePrice\"].isnull())]\n",
    "all_df = all_df[(all_df[\"TotalBsmtSF\"] < 3000) | (all_df[\"SalePrice\"].isnull())]\n",
    "all_df = all_df[(all_df[\"GrLivArea\"] < 4500) | (all_df[\"SalePrice\"].isnull())]\n",
    "all_df = all_df[(all_df[\"1stFlrSF\"] < 2500) | (all_df[\"SalePrice\"].isnull())]\n",
    "all_df = all_df[(all_df[\"LotArea\"] < 100000) | (all_df[\"SalePrice\"].isnull())]"
   ]
  },
  {
   "cell_type": "code",
   "execution_count": 59,
   "metadata": {},
   "outputs": [],
   "source": [
    "categories = categories.drop([\"PoolQC\", \"MiscFeature\", \"Alley\"])"
   ]
  },
  {
   "cell_type": "code",
   "execution_count": 60,
   "metadata": {},
   "outputs": [
    {
     "name": "stdout",
     "output_type": "stream",
     "text": [
      "MSZoning\n",
      "Street\n",
      "LotShape\n",
      "LandContour\n",
      "Utilities\n",
      "LotConfig\n",
      "LandSlope\n",
      "Neighborhood\n",
      "Condition1\n",
      "Condition2\n",
      "BldgType\n",
      "HouseStyle\n",
      "RoofStyle\n",
      "RoofMatl\n",
      "Exterior1st\n",
      "Exterior2nd\n",
      "MasVnrType\n",
      "ExterQual\n",
      "ExterCond\n",
      "Foundation\n",
      "BsmtQual\n",
      "BsmtCond\n",
      "BsmtExposure\n",
      "BsmtFinType1\n",
      "BsmtFinType2\n",
      "Heating\n",
      "HeatingQC\n",
      "CentralAir\n",
      "Electrical\n",
      "KitchenQual\n",
      "Functional\n",
      "FireplaceQu\n",
      "GarageType\n",
      "GarageFinish\n",
      "GarageQual\n",
      "GarageCond\n",
      "PavedDrive\n",
      "Fence\n",
      "SaleType\n",
      "SaleCondition\n"
     ]
    }
   ],
   "source": [
    "for cat in categories:\n",
    "    le = LabelEncoder()\n",
    "    print(cat)\n",
    "    \n",
    "    all_df[cat].fillna(\"missing\", inplace=True)\n",
    "    le = le.fit(all_df[cat])\n",
    "    all_df[cat] = le.transform(all_df[cat])\n",
    "    all_df[cat] = all_df[cat].astype(\"category\")"
   ]
  },
  {
   "cell_type": "code",
   "execution_count": 61,
   "metadata": {},
   "outputs": [
    {
     "name": "stderr",
     "output_type": "stream",
     "text": [
      "C:\\Users\\drago\\Anaconda3\\lib\\site-packages\\ipykernel_launcher.py:4: SettingWithCopyWarning: \n",
      "A value is trying to be set on a copy of a slice from a DataFrame.\n",
      "Try using .loc[row_indexer,col_indexer] = value instead\n",
      "\n",
      "See the caveats in the documentation: http://pandas.pydata.org/pandas-docs/stable/user_guide/indexing.html#returning-a-view-versus-a-copy\n",
      "  after removing the cwd from sys.path.\n"
     ]
    }
   ],
   "source": [
    "train_df_le = all_df[~all_df[\"SalePrice\"].isnull()]\n",
    "test_df_le = all_df[all_df[\"SalePrice\"].isnull()]\n",
    "\n",
    "train_df_le[\"SalePrice_log\"] = np.log(train_df_le[\"SalePrice\"])\n",
    "train_X = train_df_le.drop([\"SalePrice\", \"SalePrice_log\", \"Id\"], axis=1)\n",
    "train_Y = train_df_le[\"SalePrice_log\"]"
   ]
  },
  {
   "cell_type": "code",
   "execution_count": 62,
   "metadata": {},
   "outputs": [
    {
     "name": "stdout",
     "output_type": "stream",
     "text": [
      "[LightGBM] [Warning] Auto-choosing col-wise multi-threading, the overhead of testing was 0.005056 seconds.\n",
      "You can set `force_col_wise=true` to remove the overhead.\n",
      "[LightGBM] [Info] Total Bins 2949\n",
      "[LightGBM] [Info] Number of data points in the train set: 963, number of used features: 72\n",
      "[LightGBM] [Info] Start training from score 12.010615\n",
      "Training until validation scores don't improve for 20 rounds\n",
      "[10]\tvalid_0's l2: 0.0423077"
     ]
    },
    {
     "name": "stderr",
     "output_type": "stream",
     "text": [
      "C:\\Users\\drago\\Anaconda3\\lib\\site-packages\\lightgbm\\basic.py:1433: UserWarning: Overriding the parameters from Reference Dataset.\n",
      "  _log_warning('Overriding the parameters from Reference Dataset.')\n",
      "C:\\Users\\drago\\Anaconda3\\lib\\site-packages\\lightgbm\\basic.py:1245: UserWarning: categorical_column in param dict is overridden.\n",
      "  _log_warning('{} in param dict is overridden.'.format(cat_alias))\n"
     ]
    },
    {
     "name": "stdout",
     "output_type": "stream",
     "text": [
      "\n",
      "[20]\tvalid_0's l2: 0.0220026\n",
      "[30]\tvalid_0's l2: 0.0175682\n",
      "[40]\tvalid_0's l2: 0.0163798\n",
      "[50]\tvalid_0's l2: 0.0162547\n",
      "[60]\tvalid_0's l2: 0.0162622\n",
      "[70]\tvalid_0's l2: 0.0162514\n",
      "Early stopping, best iteration is:\n",
      "[58]\tvalid_0's l2: 0.0161791\n",
      "0.12719701309461987\n",
      "[LightGBM] [Warning] Auto-choosing row-wise multi-threading, the overhead of testing was 0.001824 seconds.\n",
      "You can set `force_row_wise=true` to remove the overhead.\n",
      "And if memory is not enough, you can set `force_col_wise=true`.\n",
      "[LightGBM] [Info] Total Bins 2943\n",
      "[LightGBM] [Info] Number of data points in the train set: 963, number of used features: 72\n"
     ]
    },
    {
     "name": "stderr",
     "output_type": "stream",
     "text": [
      "C:\\Users\\drago\\Anaconda3\\lib\\site-packages\\lightgbm\\basic.py:1433: UserWarning: Overriding the parameters from Reference Dataset.\n",
      "  _log_warning('Overriding the parameters from Reference Dataset.')\n",
      "C:\\Users\\drago\\Anaconda3\\lib\\site-packages\\lightgbm\\basic.py:1245: UserWarning: categorical_column in param dict is overridden.\n",
      "  _log_warning('{} in param dict is overridden.'.format(cat_alias))\n"
     ]
    },
    {
     "name": "stdout",
     "output_type": "stream",
     "text": [
      "[LightGBM] [Info] Start training from score 12.018820\n",
      "Training until validation scores don't improve for 20 rounds\n",
      "[10]\tvalid_0's l2: 0.0467163\n",
      "[20]\tvalid_0's l2: 0.026693\n",
      "[30]\tvalid_0's l2: 0.0218687\n",
      "[40]\tvalid_0's l2: 0.0201122\n",
      "[50]\tvalid_0's l2: 0.0196764\n",
      "[60]\tvalid_0's l2: 0.0196786\n",
      "[70]\tvalid_0's l2: 0.0196393\n",
      "[80]\tvalid_0's l2: 0.0195357\n",
      "[90]\tvalid_0's l2: 0.0194547\n",
      "[100]\tvalid_0's l2: 0.0193847\n",
      "Did not meet early stopping. Best iteration is:\n",
      "[100]\tvalid_0's l2: 0.0193847\n",
      "0.13922901661972728\n",
      "[LightGBM] [Warning] Auto-choosing col-wise multi-threading, the overhead of testing was 0.004962 seconds.\n",
      "You can set `force_col_wise=true` to remove the overhead.\n",
      "[LightGBM] [Info] Total Bins 2987\n",
      "[LightGBM] [Info] Number of data points in the train set: 964, number of used features: 73\n",
      "[LightGBM] [Info] Start training from score 12.021869\n",
      "Training until validation scores don't improve for 20 rounds\n"
     ]
    },
    {
     "name": "stderr",
     "output_type": "stream",
     "text": [
      "C:\\Users\\drago\\Anaconda3\\lib\\site-packages\\lightgbm\\basic.py:1433: UserWarning: Overriding the parameters from Reference Dataset.\n",
      "  _log_warning('Overriding the parameters from Reference Dataset.')\n",
      "C:\\Users\\drago\\Anaconda3\\lib\\site-packages\\lightgbm\\basic.py:1245: UserWarning: categorical_column in param dict is overridden.\n",
      "  _log_warning('{} in param dict is overridden.'.format(cat_alias))\n"
     ]
    },
    {
     "name": "stdout",
     "output_type": "stream",
     "text": [
      "[10]\tvalid_0's l2: 0.0370497\n",
      "[20]\tvalid_0's l2: 0.0195352\n",
      "[30]\tvalid_0's l2: 0.016412\n",
      "[40]\tvalid_0's l2: 0.0155942\n",
      "[50]\tvalid_0's l2: 0.0151884\n",
      "[60]\tvalid_0's l2: 0.0151752\n",
      "[70]\tvalid_0's l2: 0.0153067\n",
      "Early stopping, best iteration is:\n",
      "[58]\tvalid_0's l2: 0.0151274\n",
      "0.12299343081439215\n"
     ]
    }
   ],
   "source": [
    "models = []\n",
    "rmses = []\n",
    "oof = np.zeros(len(train_X))\n",
    "\n",
    "for train_index, val_index in kf.split(train_X):\n",
    "    X_train = train_X.iloc[train_index]\n",
    "    X_valid = train_X.iloc[val_index]\n",
    "    y_train = train_Y.iloc[train_index]\n",
    "    y_valid = train_Y.iloc[val_index]\n",
    "    \n",
    "    lgb_train = lgb.Dataset(X_train, y_train)\n",
    "    lgb_eval = lgb.Dataset(X_valid, y_valid, reference=lgb_train)\n",
    "    \n",
    "    model_lgb = lgb.train(lgbm_params,\n",
    "                          lgb_train,\n",
    "                          valid_sets=lgb_eval,\n",
    "                          num_boost_round=100,\n",
    "                          early_stopping_rounds=20,\n",
    "                          verbose_eval=10,\n",
    "                          )\n",
    "    \n",
    "    y_pred = model_lgb.predict(X_valid, num_iteration=model_lgb.best_iteration)\n",
    "    tmp_rmse = np.sqrt(mean_squared_error(y_valid, y_pred))\n",
    "    print(tmp_rmse)\n",
    "    \n",
    "    models.append(model_lgb)\n",
    "    rmses.append(tmp_rmse)\n",
    "    oof[val_index] = y_pred"
   ]
  },
  {
   "cell_type": "code",
   "execution_count": 63,
   "metadata": {},
   "outputs": [
    {
     "data": {
      "text/plain": [
       "0.1298064868429131"
      ]
     },
     "execution_count": 63,
     "metadata": {},
     "output_type": "execute_result"
    }
   ],
   "source": [
    "sum(rmses)/len(rmses)"
   ]
  },
  {
   "cell_type": "markdown",
   "metadata": {},
   "source": [
    "## 6. Feature Engineering"
   ]
  },
  {
   "cell_type": "code",
   "execution_count": 64,
   "metadata": {},
   "outputs": [
    {
     "data": {
      "text/html": [
       "<div>\n",
       "<style scoped>\n",
       "    .dataframe tbody tr th:only-of-type {\n",
       "        vertical-align: middle;\n",
       "    }\n",
       "\n",
       "    .dataframe tbody tr th {\n",
       "        vertical-align: top;\n",
       "    }\n",
       "\n",
       "    .dataframe thead th {\n",
       "        text-align: right;\n",
       "    }\n",
       "</style>\n",
       "<table border=\"1\" class=\"dataframe\">\n",
       "  <thead>\n",
       "    <tr style=\"text-align: right;\">\n",
       "      <th></th>\n",
       "      <th>YearBuilt</th>\n",
       "      <th>YearRemodAdd</th>\n",
       "      <th>GarageYrBlt</th>\n",
       "      <th>YrSold</th>\n",
       "    </tr>\n",
       "  </thead>\n",
       "  <tbody>\n",
       "    <tr>\n",
       "      <td>count</td>\n",
       "      <td>2904.000000</td>\n",
       "      <td>2904.000000</td>\n",
       "      <td>2745.000000</td>\n",
       "      <td>2904.000000</td>\n",
       "    </tr>\n",
       "    <tr>\n",
       "      <td>mean</td>\n",
       "      <td>1971.234504</td>\n",
       "      <td>1984.217975</td>\n",
       "      <td>1978.061202</td>\n",
       "      <td>2007.792011</td>\n",
       "    </tr>\n",
       "    <tr>\n",
       "      <td>std</td>\n",
       "      <td>30.319059</td>\n",
       "      <td>20.907346</td>\n",
       "      <td>25.600996</td>\n",
       "      <td>1.316366</td>\n",
       "    </tr>\n",
       "    <tr>\n",
       "      <td>min</td>\n",
       "      <td>1872.000000</td>\n",
       "      <td>1950.000000</td>\n",
       "      <td>1895.000000</td>\n",
       "      <td>2006.000000</td>\n",
       "    </tr>\n",
       "    <tr>\n",
       "      <td>25%</td>\n",
       "      <td>1953.000000</td>\n",
       "      <td>1965.000000</td>\n",
       "      <td>1960.000000</td>\n",
       "      <td>2007.000000</td>\n",
       "    </tr>\n",
       "    <tr>\n",
       "      <td>50%</td>\n",
       "      <td>1973.000000</td>\n",
       "      <td>1993.000000</td>\n",
       "      <td>1979.000000</td>\n",
       "      <td>2008.000000</td>\n",
       "    </tr>\n",
       "    <tr>\n",
       "      <td>75%</td>\n",
       "      <td>2001.000000</td>\n",
       "      <td>2004.000000</td>\n",
       "      <td>2002.000000</td>\n",
       "      <td>2009.000000</td>\n",
       "    </tr>\n",
       "    <tr>\n",
       "      <td>max</td>\n",
       "      <td>2010.000000</td>\n",
       "      <td>2010.000000</td>\n",
       "      <td>2207.000000</td>\n",
       "      <td>2010.000000</td>\n",
       "    </tr>\n",
       "  </tbody>\n",
       "</table>\n",
       "</div>"
      ],
      "text/plain": [
       "         YearBuilt  YearRemodAdd  GarageYrBlt       YrSold\n",
       "count  2904.000000   2904.000000  2745.000000  2904.000000\n",
       "mean   1971.234504   1984.217975  1978.061202  2007.792011\n",
       "std      30.319059     20.907346    25.600996     1.316366\n",
       "min    1872.000000   1950.000000  1895.000000  2006.000000\n",
       "25%    1953.000000   1965.000000  1960.000000  2007.000000\n",
       "50%    1973.000000   1993.000000  1979.000000  2008.000000\n",
       "75%    2001.000000   2004.000000  2002.000000  2009.000000\n",
       "max    2010.000000   2010.000000  2207.000000  2010.000000"
      ]
     },
     "execution_count": 64,
     "metadata": {},
     "output_type": "execute_result"
    }
   ],
   "source": [
    "all_df[[\"YearBuilt\", \"YearRemodAdd\", \"GarageYrBlt\", \"YrSold\"]].describe()"
   ]
  },
  {
   "cell_type": "code",
   "execution_count": 65,
   "metadata": {},
   "outputs": [],
   "source": [
    "all_df[\"Age\"] = all_df[\"YrSold\"] - all_df[\"YearBuilt\"]"
   ]
  },
  {
   "cell_type": "code",
   "execution_count": 66,
   "metadata": {},
   "outputs": [
    {
     "name": "stderr",
     "output_type": "stream",
     "text": [
      "C:\\Users\\drago\\Anaconda3\\lib\\site-packages\\ipykernel_launcher.py:4: SettingWithCopyWarning: \n",
      "A value is trying to be set on a copy of a slice from a DataFrame.\n",
      "Try using .loc[row_indexer,col_indexer] = value instead\n",
      "\n",
      "See the caveats in the documentation: http://pandas.pydata.org/pandas-docs/stable/user_guide/indexing.html#returning-a-view-versus-a-copy\n",
      "  after removing the cwd from sys.path.\n"
     ]
    }
   ],
   "source": [
    "train_df_le = all_df[~all_df[\"SalePrice\"].isnull()] \n",
    "test_df_le = all_df[all_df[\"SalePrice\"].isnull()] \n",
    "\n",
    "train_df_le[\"SalePrice_log\"] = np.log(train_df_le[\"SalePrice\"])\n",
    "train_X = train_df_le.drop([\"SalePrice\",\"SalePrice_log\",\"Id\"], axis=1)\n",
    "train_Y = train_df_le[\"SalePrice_log\"]"
   ]
  },
  {
   "cell_type": "code",
   "execution_count": 67,
   "metadata": {},
   "outputs": [
    {
     "name": "stdout",
     "output_type": "stream",
     "text": [
      "[LightGBM] [Warning] Auto-choosing row-wise multi-threading, the overhead of testing was 0.002025 seconds.\n",
      "You can set `force_row_wise=true` to remove the overhead.\n",
      "And if memory is not enough, you can set `force_col_wise=true`.\n",
      "[LightGBM] [Info] Total Bins 3046\n",
      "[LightGBM] [Info] Number of data points in the train set: 963, number of used features: 73\n",
      "[LightGBM] [Info] Start training from score 12.010615\n",
      "Training until validation scores don't improve for 20 rounds\n"
     ]
    },
    {
     "name": "stderr",
     "output_type": "stream",
     "text": [
      "C:\\Users\\drago\\Anaconda3\\lib\\site-packages\\lightgbm\\basic.py:1433: UserWarning: Overriding the parameters from Reference Dataset.\n",
      "  _log_warning('Overriding the parameters from Reference Dataset.')\n",
      "C:\\Users\\drago\\Anaconda3\\lib\\site-packages\\lightgbm\\basic.py:1245: UserWarning: categorical_column in param dict is overridden.\n",
      "  _log_warning('{} in param dict is overridden.'.format(cat_alias))\n"
     ]
    },
    {
     "name": "stdout",
     "output_type": "stream",
     "text": [
      "[10]\tvalid_0's l2: 0.042401\n",
      "[20]\tvalid_0's l2: 0.0217498\n",
      "[30]\tvalid_0's l2: 0.0175187\n",
      "[40]\tvalid_0's l2: 0.0162941\n",
      "[50]\tvalid_0's l2: 0.0160985\n",
      "[60]\tvalid_0's l2: 0.0160802\n",
      "[70]\tvalid_0's l2: 0.0161142\n",
      "[80]\tvalid_0's l2: 0.016149\n",
      "Early stopping, best iteration is:\n",
      "[68]\tvalid_0's l2: 0.0160466\n",
      "0.1266752634099996\n",
      "[LightGBM] [Warning] Auto-choosing row-wise multi-threading, the overhead of testing was 0.001361 seconds.\n",
      "You can set `force_row_wise=true` to remove the overhead.\n",
      "And if memory is not enough, you can set `force_col_wise=true`.\n",
      "[LightGBM] [Info] Total Bins 3037\n",
      "[LightGBM] [Info] Number of data points in the train set: 963, number of used features: 73\n",
      "[LightGBM] [Info] Start training from score 12.018820\n",
      "Training until validation scores don't improve for 20 rounds\n",
      "[10]\tvalid_0's l2: 0.0474127\n"
     ]
    },
    {
     "name": "stderr",
     "output_type": "stream",
     "text": [
      "C:\\Users\\drago\\Anaconda3\\lib\\site-packages\\lightgbm\\basic.py:1433: UserWarning: Overriding the parameters from Reference Dataset.\n",
      "  _log_warning('Overriding the parameters from Reference Dataset.')\n",
      "C:\\Users\\drago\\Anaconda3\\lib\\site-packages\\lightgbm\\basic.py:1245: UserWarning: categorical_column in param dict is overridden.\n",
      "  _log_warning('{} in param dict is overridden.'.format(cat_alias))\n"
     ]
    },
    {
     "name": "stdout",
     "output_type": "stream",
     "text": [
      "[20]\tvalid_0's l2: 0.0267678\n",
      "[30]\tvalid_0's l2: 0.0217538\n",
      "[40]\tvalid_0's l2: 0.0202289\n",
      "[50]\tvalid_0's l2: 0.0195781\n",
      "[60]\tvalid_0's l2: 0.0193996\n",
      "[70]\tvalid_0's l2: 0.0192883\n",
      "[80]\tvalid_0's l2: 0.0191879\n",
      "[90]\tvalid_0's l2: 0.0190851\n",
      "[100]\tvalid_0's l2: 0.0190718\n",
      "Did not meet early stopping. Best iteration is:\n",
      "[92]\tvalid_0's l2: 0.0190473\n",
      "0.13801208062538026\n",
      "[LightGBM] [Warning] Auto-choosing col-wise multi-threading, the overhead of testing was 0.005254 seconds.\n",
      "You can set `force_col_wise=true` to remove the overhead.\n",
      "[LightGBM] [Info] Total Bins 3083\n",
      "[LightGBM] [Info] Number of data points in the train set: 964, number of used features: 74\n",
      "[LightGBM] [Info] Start training from score 12.021869\n",
      "Training until validation scores don't improve for 20 rounds\n",
      "[10]\tvalid_0's l2: 0.036582\n"
     ]
    },
    {
     "name": "stderr",
     "output_type": "stream",
     "text": [
      "C:\\Users\\drago\\Anaconda3\\lib\\site-packages\\lightgbm\\basic.py:1433: UserWarning: Overriding the parameters from Reference Dataset.\n",
      "  _log_warning('Overriding the parameters from Reference Dataset.')\n",
      "C:\\Users\\drago\\Anaconda3\\lib\\site-packages\\lightgbm\\basic.py:1245: UserWarning: categorical_column in param dict is overridden.\n",
      "  _log_warning('{} in param dict is overridden.'.format(cat_alias))\n"
     ]
    },
    {
     "name": "stdout",
     "output_type": "stream",
     "text": [
      "[20]\tvalid_0's l2: 0.0194084\n",
      "[30]\tvalid_0's l2: 0.0166797\n",
      "[40]\tvalid_0's l2: 0.0156895\n",
      "[50]\tvalid_0's l2: 0.0154457\n",
      "[60]\tvalid_0's l2: 0.0154421\n",
      "[70]\tvalid_0's l2: 0.0152662\n",
      "[80]\tvalid_0's l2: 0.0152912\n",
      "Early stopping, best iteration is:\n",
      "[69]\tvalid_0's l2: 0.0152521\n",
      "0.12349954721537992\n"
     ]
    }
   ],
   "source": [
    "models = []\n",
    "rmses = []\n",
    "oof = np.zeros(len(train_X))\n",
    "\n",
    "for train_index, val_index in kf.split(train_X):\n",
    "    X_train = train_X.iloc[train_index]\n",
    "    X_valid = train_X.iloc[val_index]\n",
    "    y_train = train_Y.iloc[train_index]\n",
    "    y_valid = train_Y.iloc[val_index]\n",
    "    \n",
    "    lgb_train = lgb.Dataset(X_train, y_train)\n",
    "    lgb_eval = lgb.Dataset(X_valid, y_valid, reference=lgb_train)\n",
    "    \n",
    "    model_lgb = lgb.train(lgbm_params,\n",
    "                          lgb_train,\n",
    "                          valid_sets=lgb_eval,\n",
    "                          num_boost_round=100,\n",
    "                          early_stopping_rounds=20,\n",
    "                          verbose_eval=10,\n",
    "                          )\n",
    "    \n",
    "    y_pred = model_lgb.predict(X_valid, num_iteration=model_lgb.best_iteration)\n",
    "    tmp_rmse = np.sqrt(mean_squared_error(y_valid, y_pred))\n",
    "    print(tmp_rmse)\n",
    "    \n",
    "    models.append(model_lgb)\n",
    "    rmses.append(tmp_rmse)\n",
    "    oof[val_index] = y_pred"
   ]
  },
  {
   "cell_type": "code",
   "execution_count": 68,
   "metadata": {},
   "outputs": [
    {
     "data": {
      "text/plain": [
       "0.12939563041691993"
      ]
     },
     "execution_count": 68,
     "metadata": {},
     "output_type": "execute_result"
    }
   ],
   "source": [
    "sum(rmses)/len(rmses)"
   ]
  },
  {
   "cell_type": "code",
   "execution_count": 69,
   "metadata": {},
   "outputs": [
    {
     "data": {
      "text/html": [
       "<div>\n",
       "<style scoped>\n",
       "    .dataframe tbody tr th:only-of-type {\n",
       "        vertical-align: middle;\n",
       "    }\n",
       "\n",
       "    .dataframe tbody tr th {\n",
       "        vertical-align: top;\n",
       "    }\n",
       "\n",
       "    .dataframe thead th {\n",
       "        text-align: right;\n",
       "    }\n",
       "</style>\n",
       "<table border=\"1\" class=\"dataframe\">\n",
       "  <thead>\n",
       "    <tr style=\"text-align: right;\">\n",
       "      <th></th>\n",
       "      <th>LotArea</th>\n",
       "      <th>MasVnrArea</th>\n",
       "      <th>BsmtUnfSF</th>\n",
       "      <th>TotalBsmtSF</th>\n",
       "      <th>1stFlrSF</th>\n",
       "      <th>2ndFlrSF</th>\n",
       "      <th>LowQualFinSF</th>\n",
       "      <th>GrLivArea</th>\n",
       "      <th>GarageArea</th>\n",
       "      <th>WoodDeckSF</th>\n",
       "      <th>OpenPorchSF</th>\n",
       "      <th>EnclosedPorch</th>\n",
       "      <th>3SsnPorch</th>\n",
       "      <th>ScreenPorch</th>\n",
       "      <th>PoolArea</th>\n",
       "      <th>LotFrontage</th>\n",
       "    </tr>\n",
       "  </thead>\n",
       "  <tbody>\n",
       "    <tr>\n",
       "      <td>count</td>\n",
       "      <td>2904.000000</td>\n",
       "      <td>2882.000000</td>\n",
       "      <td>2903.000000</td>\n",
       "      <td>2903.000000</td>\n",
       "      <td>2904.000000</td>\n",
       "      <td>2904.000000</td>\n",
       "      <td>2904.000000</td>\n",
       "      <td>2904.000000</td>\n",
       "      <td>2903.000000</td>\n",
       "      <td>2904.000000</td>\n",
       "      <td>2904.000000</td>\n",
       "      <td>2904.000000</td>\n",
       "      <td>2904.000000</td>\n",
       "      <td>2904.000000</td>\n",
       "      <td>2904.000000</td>\n",
       "      <td>2425.000000</td>\n",
       "    </tr>\n",
       "    <tr>\n",
       "      <td>mean</td>\n",
       "      <td>9912.604683</td>\n",
       "      <td>101.191187</td>\n",
       "      <td>559.850499</td>\n",
       "      <td>1043.794006</td>\n",
       "      <td>1152.707300</td>\n",
       "      <td>336.355372</td>\n",
       "      <td>4.718664</td>\n",
       "      <td>1493.781336</td>\n",
       "      <td>471.632794</td>\n",
       "      <td>93.265840</td>\n",
       "      <td>47.226584</td>\n",
       "      <td>22.988636</td>\n",
       "      <td>2.615702</td>\n",
       "      <td>16.086777</td>\n",
       "      <td>1.907025</td>\n",
       "      <td>69.071340</td>\n",
       "    </tr>\n",
       "    <tr>\n",
       "      <td>std</td>\n",
       "      <td>5178.128224</td>\n",
       "      <td>177.804595</td>\n",
       "      <td>438.438879</td>\n",
       "      <td>420.008348</td>\n",
       "      <td>377.291394</td>\n",
       "      <td>427.355787</td>\n",
       "      <td>46.515308</td>\n",
       "      <td>491.149725</td>\n",
       "      <td>214.551791</td>\n",
       "      <td>125.855568</td>\n",
       "      <td>67.195477</td>\n",
       "      <td>64.055325</td>\n",
       "      <td>25.252464</td>\n",
       "      <td>56.245764</td>\n",
       "      <td>33.082892</td>\n",
       "      <td>22.662001</td>\n",
       "    </tr>\n",
       "    <tr>\n",
       "      <td>min</td>\n",
       "      <td>1300.000000</td>\n",
       "      <td>0.000000</td>\n",
       "      <td>0.000000</td>\n",
       "      <td>0.000000</td>\n",
       "      <td>334.000000</td>\n",
       "      <td>0.000000</td>\n",
       "      <td>0.000000</td>\n",
       "      <td>334.000000</td>\n",
       "      <td>0.000000</td>\n",
       "      <td>0.000000</td>\n",
       "      <td>0.000000</td>\n",
       "      <td>0.000000</td>\n",
       "      <td>0.000000</td>\n",
       "      <td>0.000000</td>\n",
       "      <td>0.000000</td>\n",
       "      <td>21.000000</td>\n",
       "    </tr>\n",
       "    <tr>\n",
       "      <td>25%</td>\n",
       "      <td>7448.250000</td>\n",
       "      <td>0.000000</td>\n",
       "      <td>220.000000</td>\n",
       "      <td>791.500000</td>\n",
       "      <td>875.750000</td>\n",
       "      <td>0.000000</td>\n",
       "      <td>0.000000</td>\n",
       "      <td>1124.000000</td>\n",
       "      <td>319.500000</td>\n",
       "      <td>0.000000</td>\n",
       "      <td>0.000000</td>\n",
       "      <td>0.000000</td>\n",
       "      <td>0.000000</td>\n",
       "      <td>0.000000</td>\n",
       "      <td>0.000000</td>\n",
       "      <td>59.000000</td>\n",
       "    </tr>\n",
       "    <tr>\n",
       "      <td>50%</td>\n",
       "      <td>9422.000000</td>\n",
       "      <td>0.000000</td>\n",
       "      <td>467.000000</td>\n",
       "      <td>988.000000</td>\n",
       "      <td>1080.000000</td>\n",
       "      <td>0.000000</td>\n",
       "      <td>0.000000</td>\n",
       "      <td>1441.000000</td>\n",
       "      <td>478.000000</td>\n",
       "      <td>0.000000</td>\n",
       "      <td>26.000000</td>\n",
       "      <td>0.000000</td>\n",
       "      <td>0.000000</td>\n",
       "      <td>0.000000</td>\n",
       "      <td>0.000000</td>\n",
       "      <td>68.000000</td>\n",
       "    </tr>\n",
       "    <tr>\n",
       "      <td>75%</td>\n",
       "      <td>11503.000000</td>\n",
       "      <td>164.000000</td>\n",
       "      <td>802.500000</td>\n",
       "      <td>1296.000000</td>\n",
       "      <td>1381.250000</td>\n",
       "      <td>704.000000</td>\n",
       "      <td>0.000000</td>\n",
       "      <td>1739.250000</td>\n",
       "      <td>576.000000</td>\n",
       "      <td>168.000000</td>\n",
       "      <td>69.250000</td>\n",
       "      <td>0.000000</td>\n",
       "      <td>0.000000</td>\n",
       "      <td>0.000000</td>\n",
       "      <td>0.000000</td>\n",
       "      <td>80.000000</td>\n",
       "    </tr>\n",
       "    <tr>\n",
       "      <td>max</td>\n",
       "      <td>70761.000000</td>\n",
       "      <td>1600.000000</td>\n",
       "      <td>2336.000000</td>\n",
       "      <td>5095.000000</td>\n",
       "      <td>5095.000000</td>\n",
       "      <td>1872.000000</td>\n",
       "      <td>1064.000000</td>\n",
       "      <td>5095.000000</td>\n",
       "      <td>1488.000000</td>\n",
       "      <td>1424.000000</td>\n",
       "      <td>742.000000</td>\n",
       "      <td>1012.000000</td>\n",
       "      <td>508.000000</td>\n",
       "      <td>576.000000</td>\n",
       "      <td>800.000000</td>\n",
       "      <td>313.000000</td>\n",
       "    </tr>\n",
       "  </tbody>\n",
       "</table>\n",
       "</div>"
      ],
      "text/plain": [
       "            LotArea   MasVnrArea    BsmtUnfSF  TotalBsmtSF     1stFlrSF  \\\n",
       "count   2904.000000  2882.000000  2903.000000  2903.000000  2904.000000   \n",
       "mean    9912.604683   101.191187   559.850499  1043.794006  1152.707300   \n",
       "std     5178.128224   177.804595   438.438879   420.008348   377.291394   \n",
       "min     1300.000000     0.000000     0.000000     0.000000   334.000000   \n",
       "25%     7448.250000     0.000000   220.000000   791.500000   875.750000   \n",
       "50%     9422.000000     0.000000   467.000000   988.000000  1080.000000   \n",
       "75%    11503.000000   164.000000   802.500000  1296.000000  1381.250000   \n",
       "max    70761.000000  1600.000000  2336.000000  5095.000000  5095.000000   \n",
       "\n",
       "          2ndFlrSF  LowQualFinSF    GrLivArea   GarageArea   WoodDeckSF  \\\n",
       "count  2904.000000   2904.000000  2904.000000  2903.000000  2904.000000   \n",
       "mean    336.355372      4.718664  1493.781336   471.632794    93.265840   \n",
       "std     427.355787     46.515308   491.149725   214.551791   125.855568   \n",
       "min       0.000000      0.000000   334.000000     0.000000     0.000000   \n",
       "25%       0.000000      0.000000  1124.000000   319.500000     0.000000   \n",
       "50%       0.000000      0.000000  1441.000000   478.000000     0.000000   \n",
       "75%     704.000000      0.000000  1739.250000   576.000000   168.000000   \n",
       "max    1872.000000   1064.000000  5095.000000  1488.000000  1424.000000   \n",
       "\n",
       "       OpenPorchSF  EnclosedPorch    3SsnPorch  ScreenPorch     PoolArea  \\\n",
       "count  2904.000000    2904.000000  2904.000000  2904.000000  2904.000000   \n",
       "mean     47.226584      22.988636     2.615702    16.086777     1.907025   \n",
       "std      67.195477      64.055325    25.252464    56.245764    33.082892   \n",
       "min       0.000000       0.000000     0.000000     0.000000     0.000000   \n",
       "25%       0.000000       0.000000     0.000000     0.000000     0.000000   \n",
       "50%      26.000000       0.000000     0.000000     0.000000     0.000000   \n",
       "75%      69.250000       0.000000     0.000000     0.000000     0.000000   \n",
       "max     742.000000    1012.000000   508.000000   576.000000   800.000000   \n",
       "\n",
       "       LotFrontage  \n",
       "count  2425.000000  \n",
       "mean     69.071340  \n",
       "std      22.662001  \n",
       "min      21.000000  \n",
       "25%      59.000000  \n",
       "50%      68.000000  \n",
       "75%      80.000000  \n",
       "max     313.000000  "
      ]
     },
     "execution_count": 69,
     "metadata": {},
     "output_type": "execute_result"
    }
   ],
   "source": [
    "all_df[[\"LotArea\",\"MasVnrArea\",\"BsmtUnfSF\",\"TotalBsmtSF\", \"1stFlrSF\", \"2ndFlrSF\", \"LowQualFinSF\", \"GrLivArea\", \"GarageArea\",\"WoodDeckSF\", \"OpenPorchSF\", \"EnclosedPorch\", \"3SsnPorch\", \"ScreenPorch\", \"PoolArea\", \"LotFrontage\"]].describe()"
   ]
  },
  {
   "cell_type": "code",
   "execution_count": 70,
   "metadata": {},
   "outputs": [],
   "source": [
    "all_df[\"TotalSF\"] = all_df[\"TotalBsmtSF\"] + all_df[\"1stFlrSF\"] + all_df[\"2ndFlrSF\"]\n",
    "all_df[\"Total_Bathrooms\"] = all_df[\"FullBath\"] + all_df[\"HalfBath\"] + all_df[\"BsmtFullBath\"] + all_df[\"BsmtHalfBath\"]"
   ]
  },
  {
   "cell_type": "code",
   "execution_count": 71,
   "metadata": {},
   "outputs": [],
   "source": [
    "all_df[\"Total_PorchSF\"] = all_df[\"WoodDeckSF\"] + all_df[\"OpenPorchSF\"] + all_df[\"EnclosedPorch\"] + all_df[\"3SsnPorch\"] + all_df[\"ScreenPorch\"]"
   ]
  },
  {
   "cell_type": "code",
   "execution_count": 72,
   "metadata": {},
   "outputs": [],
   "source": [
    "all_df[\"hasPorch\"] = all_df[\"Total_PorchSF\"].apply(lambda x: 1 if x > 0 else 0)\n",
    "all_df = all_df.drop(\"Total_PorchSF\", axis=1)"
   ]
  },
  {
   "cell_type": "code",
   "execution_count": 73,
   "metadata": {},
   "outputs": [
    {
     "name": "stderr",
     "output_type": "stream",
     "text": [
      "C:\\Users\\drago\\Anaconda3\\lib\\site-packages\\ipykernel_launcher.py:4: SettingWithCopyWarning: \n",
      "A value is trying to be set on a copy of a slice from a DataFrame.\n",
      "Try using .loc[row_indexer,col_indexer] = value instead\n",
      "\n",
      "See the caveats in the documentation: http://pandas.pydata.org/pandas-docs/stable/user_guide/indexing.html#returning-a-view-versus-a-copy\n",
      "  after removing the cwd from sys.path.\n"
     ]
    }
   ],
   "source": [
    "train_df_le = all_df[~all_df[\"SalePrice\"].isnull()] \n",
    "test_df_le = all_df[all_df[\"SalePrice\"].isnull()] \n",
    "\n",
    "train_df_le[\"SalePrice_log\"] = np.log(train_df_le[\"SalePrice\"])\n",
    "train_X = train_df_le.drop([\"SalePrice\",\"SalePrice_log\",\"Id\"], axis=1)\n",
    "train_Y = train_df_le[\"SalePrice_log\"]"
   ]
  },
  {
   "cell_type": "code",
   "execution_count": 74,
   "metadata": {},
   "outputs": [
    {
     "name": "stdout",
     "output_type": "stream",
     "text": [
      "[LightGBM] [Warning] Auto-choosing row-wise multi-threading, the overhead of testing was 0.002362 seconds.\n",
      "You can set `force_row_wise=true` to remove the overhead.\n",
      "And if memory is not enough, you can set `force_col_wise=true`.\n",
      "[LightGBM] [Info] Total Bins 3310\n",
      "[LightGBM] [Info] Number of data points in the train set: 963, number of used features: 76\n",
      "[LightGBM] [Info] Start training from score 12.010615\n",
      "Training until validation scores don't improve for 20 rounds\n"
     ]
    },
    {
     "name": "stderr",
     "output_type": "stream",
     "text": [
      "C:\\Users\\drago\\Anaconda3\\lib\\site-packages\\lightgbm\\basic.py:1433: UserWarning: Overriding the parameters from Reference Dataset.\n",
      "  _log_warning('Overriding the parameters from Reference Dataset.')\n",
      "C:\\Users\\drago\\Anaconda3\\lib\\site-packages\\lightgbm\\basic.py:1245: UserWarning: categorical_column in param dict is overridden.\n",
      "  _log_warning('{} in param dict is overridden.'.format(cat_alias))\n"
     ]
    },
    {
     "name": "stdout",
     "output_type": "stream",
     "text": [
      "[10]\tvalid_0's l2: 0.0382198\n",
      "[20]\tvalid_0's l2: 0.0195098\n",
      "[30]\tvalid_0's l2: 0.0163133\n",
      "[40]\tvalid_0's l2: 0.0155157\n",
      "[50]\tvalid_0's l2: 0.0154576\n",
      "[60]\tvalid_0's l2: 0.0155145\n",
      "Early stopping, best iteration is:\n",
      "[48]\tvalid_0's l2: 0.0154265\n",
      "0.12420330159076388\n",
      "[LightGBM] [Warning] Auto-choosing col-wise multi-threading, the overhead of testing was 0.005557 seconds.\n",
      "You can set `force_col_wise=true` to remove the overhead.\n",
      "[LightGBM] [Info] Total Bins 3300\n",
      "[LightGBM] [Info] Number of data points in the train set: 963, number of used features: 76\n",
      "[LightGBM] [Info] Start training from score 12.018820\n",
      "Training until validation scores don't improve for 20 rounds\n",
      "[10]\tvalid_0's l2: 0.0453783"
     ]
    },
    {
     "name": "stderr",
     "output_type": "stream",
     "text": [
      "C:\\Users\\drago\\Anaconda3\\lib\\site-packages\\lightgbm\\basic.py:1433: UserWarning: Overriding the parameters from Reference Dataset.\n",
      "  _log_warning('Overriding the parameters from Reference Dataset.')\n",
      "C:\\Users\\drago\\Anaconda3\\lib\\site-packages\\lightgbm\\basic.py:1245: UserWarning: categorical_column in param dict is overridden.\n",
      "  _log_warning('{} in param dict is overridden.'.format(cat_alias))\n"
     ]
    },
    {
     "name": "stdout",
     "output_type": "stream",
     "text": [
      "\n",
      "[20]\tvalid_0's l2: 0.025826\n",
      "[30]\tvalid_0's l2: 0.0215187\n",
      "[40]\tvalid_0's l2: 0.0201657\n",
      "[50]\tvalid_0's l2: 0.0198966\n",
      "[60]\tvalid_0's l2: 0.0197534\n",
      "[70]\tvalid_0's l2: 0.0196558\n",
      "[80]\tvalid_0's l2: 0.0195791\n",
      "[90]\tvalid_0's l2: 0.01961\n",
      "[100]\tvalid_0's l2: 0.0195983\n",
      "Early stopping, best iteration is:\n",
      "[80]\tvalid_0's l2: 0.0195791\n",
      "0.13992537633195495\n",
      "[LightGBM] [Warning] Auto-choosing row-wise multi-threading, the overhead of testing was 0.001295 seconds.\n",
      "You can set `force_row_wise=true` to remove the overhead.\n",
      "And if memory is not enough, you can set `force_col_wise=true`.\n",
      "[LightGBM] [Info] Total Bins 3347\n",
      "[LightGBM] [Info] Number of data points in the train set: 964, number of used features: 77\n",
      "[LightGBM] [Info] Start training from score 12.021869\n",
      "Training until validation scores don't improve for 20 rounds\n",
      "[10]\tvalid_0's l2: 0.0351087\n",
      "[20]\tvalid_0's l2: 0.0182816\n",
      "[30]\tvalid_0's l2: 0.0151312\n"
     ]
    },
    {
     "name": "stderr",
     "output_type": "stream",
     "text": [
      "C:\\Users\\drago\\Anaconda3\\lib\\site-packages\\lightgbm\\basic.py:1433: UserWarning: Overriding the parameters from Reference Dataset.\n",
      "  _log_warning('Overriding the parameters from Reference Dataset.')\n",
      "C:\\Users\\drago\\Anaconda3\\lib\\site-packages\\lightgbm\\basic.py:1245: UserWarning: categorical_column in param dict is overridden.\n",
      "  _log_warning('{} in param dict is overridden.'.format(cat_alias))\n"
     ]
    },
    {
     "name": "stdout",
     "output_type": "stream",
     "text": [
      "[40]\tvalid_0's l2: 0.0142171\n",
      "[50]\tvalid_0's l2: 0.0139836\n",
      "[60]\tvalid_0's l2: 0.0138187\n",
      "[70]\tvalid_0's l2: 0.0138913\n",
      "[80]\tvalid_0's l2: 0.013994\n",
      "Early stopping, best iteration is:\n",
      "[66]\tvalid_0's l2: 0.0137713\n",
      "0.11735107013879016\n"
     ]
    }
   ],
   "source": [
    "models = []\n",
    "rmses = []\n",
    "oof = np.zeros(len(train_X))\n",
    "\n",
    "for train_index, val_index in kf.split(train_X):\n",
    "    X_train = train_X.iloc[train_index]\n",
    "    X_valid = train_X.iloc[val_index]\n",
    "    y_train = train_Y.iloc[train_index]\n",
    "    y_valid = train_Y.iloc[val_index]\n",
    "    \n",
    "    lgb_train = lgb.Dataset(X_train, y_train)\n",
    "    lgb_eval = lgb.Dataset(X_valid, y_valid, reference=lgb_train)\n",
    "    \n",
    "    model_lgb = lgb.train(lgbm_params,\n",
    "                          lgb_train,\n",
    "                          valid_sets=lgb_eval,\n",
    "                          num_boost_round=100,\n",
    "                          early_stopping_rounds=20,\n",
    "                          verbose_eval=10,\n",
    "                          )\n",
    "    \n",
    "    y_pred = model_lgb.predict(X_valid, num_iteration=model_lgb.best_iteration)\n",
    "    tmp_rmse = np.sqrt(mean_squared_error(y_valid, y_pred))\n",
    "    print(tmp_rmse)\n",
    "    \n",
    "    models.append(model_lgb)\n",
    "    rmses.append(tmp_rmse)\n",
    "    oof[val_index] = y_pred"
   ]
  },
  {
   "cell_type": "code",
   "execution_count": 75,
   "metadata": {},
   "outputs": [
    {
     "data": {
      "text/plain": [
       "0.127159916020503"
      ]
     },
     "execution_count": 75,
     "metadata": {},
     "output_type": "execute_result"
    }
   ],
   "source": [
    "sum(rmses)/len(rmses)"
   ]
  },
  {
   "cell_type": "markdown",
   "metadata": {},
   "source": [
    "## 7. Hyper Parameter Optimization"
   ]
  },
  {
   "cell_type": "code",
   "execution_count": 76,
   "metadata": {},
   "outputs": [],
   "source": [
    "import optuna"
   ]
  },
  {
   "cell_type": "code",
   "execution_count": 77,
   "metadata": {},
   "outputs": [],
   "source": [
    "from sklearn.model_selection import train_test_split"
   ]
  },
  {
   "cell_type": "code",
   "execution_count": 78,
   "metadata": {},
   "outputs": [],
   "source": [
    "X_train, X_valid, y_train, y_valid = train_test_split(train_X, train_Y, test_size=0.2, random_state=1234, shuffle=False, stratify=None)"
   ]
  },
  {
   "cell_type": "code",
   "execution_count": 79,
   "metadata": {},
   "outputs": [],
   "source": [
    "def objective(trial):\n",
    "    params = {\n",
    "        \"objective\":\"regression\",\n",
    "        \"random_seed\":1234,\n",
    "        \"learning_rate\":0.05,\n",
    "        \"n_estimators\":1000,\n",
    "        \n",
    "        \"num_leaves\":trial.suggest_int(\"num_leaves\", 4, 64),\n",
    "        \"max_bin\":trial.suggest_int(\"max_bin\", 50, 200),\n",
    "        \"bagging_fraction\":trial.suggest_uniform(\"bagging_fraction\", 0.4, 0.9),\n",
    "        \"bagging_freq\":trial.suggest_int(\"bagging_freq\", 1, 10),\n",
    "        \"feature_fraction\":trial.suggest_uniform(\"feature_fraction\", 0.4, 0.9),\n",
    "        \"min_data_in_leaf\":trial.suggest_int(\"min_data_in_leaf\", 2, 16),\n",
    "        \"min_sum_hessian_in_leaf\":trial.suggest_int(\"min_sum_hessian_in_leaf\", 1, 10),\n",
    "    }\n",
    "    \n",
    "    lgb_train = lgb.Dataset(X_train, y_train)\n",
    "    lgb_eval = lgb.Dataset(X_valid, y_valid, reference=lgb_train)\n",
    "    \n",
    "    model_lgb = lgb.train(params,\n",
    "                          lgb_train,\n",
    "                          valid_sets=lgb_eval,\n",
    "                          num_boost_round=100,\n",
    "                          early_stopping_rounds=20,\n",
    "                          verbose_eval=10,\n",
    "                          )\n",
    "    \n",
    "    y_pred = model_lgb.predict(X_valid, num_iteration=model_lgb.best_iteration)\n",
    "    score = np.sqrt(mean_squared_error(y_valid, y_pred))\n",
    "    \n",
    "    return score"
   ]
  },
  {
   "cell_type": "code",
   "execution_count": 80,
   "metadata": {},
   "outputs": [
    {
     "name": "stderr",
     "output_type": "stream",
     "text": [
      "\u001b[32m[I 2021-06-05 17:18:34,879]\u001b[0m A new study created in memory with name: no-name-a1298398-3d9d-4060-902c-11e210d0715b\u001b[0m\n",
      "C:\\Users\\drago\\Anaconda3\\lib\\site-packages\\lightgbm\\engine.py:148: UserWarning: Found `n_estimators` in params. Will use it instead of argument\n",
      "  _log_warning(\"Found `{}` in params. Will use it instead of argument\".format(alias))\n"
     ]
    },
    {
     "name": "stdout",
     "output_type": "stream",
     "text": [
      "[LightGBM] [Warning] Auto-choosing row-wise multi-threading, the overhead of testing was 0.001474 seconds.\n",
      "You can set `force_row_wise=true` to remove the overhead.\n",
      "And if memory is not enough, you can set `force_col_wise=true`.\n",
      "[LightGBM] [Info] Total Bins 2805\n",
      "[LightGBM] [Info] Number of data points in the train set: 1156, number of used features: 78\n"
     ]
    },
    {
     "name": "stderr",
     "output_type": "stream",
     "text": [
      "C:\\Users\\drago\\Anaconda3\\lib\\site-packages\\lightgbm\\basic.py:1433: UserWarning: Overriding the parameters from Reference Dataset.\n",
      "  _log_warning('Overriding the parameters from Reference Dataset.')\n",
      "C:\\Users\\drago\\Anaconda3\\lib\\site-packages\\lightgbm\\basic.py:1245: UserWarning: categorical_column in param dict is overridden.\n",
      "  _log_warning('{} in param dict is overridden.'.format(cat_alias))\n"
     ]
    },
    {
     "name": "stdout",
     "output_type": "stream",
     "text": [
      "[LightGBM] [Info] Start training from score 12.015333\n",
      "Training until validation scores don't improve for 20 rounds\n",
      "[10]\tvalid_0's l2: 0.0659468\n",
      "[20]\tvalid_0's l2: 0.0360287\n",
      "[30]\tvalid_0's l2: 0.0239196\n",
      "[40]\tvalid_0's l2: 0.0183967\n",
      "[50]\tvalid_0's l2: 0.0161611\n",
      "[60]\tvalid_0's l2: 0.015461\n",
      "[70]\tvalid_0's l2: 0.0148438\n",
      "[80]\tvalid_0's l2: 0.0145826\n",
      "[90]\tvalid_0's l2: 0.0144628\n",
      "[100]\tvalid_0's l2: 0.0143176\n",
      "[110]\tvalid_0's l2: 0.0142316\n",
      "[120]\tvalid_0's l2: 0.0142159\n",
      "[130]\tvalid_0's l2: 0.0142722\n",
      "Early stopping, best iteration is:\n",
      "[119]\tvalid_0's l2: 0.0142133\n"
     ]
    },
    {
     "name": "stderr",
     "output_type": "stream",
     "text": [
      "\u001b[32m[I 2021-06-05 17:18:36,347]\u001b[0m Trial 0 finished with value: 0.11921948775949834 and parameters: {'num_leaves': 37, 'max_bin': 157, 'bagging_fraction': 0.7013816880358219, 'bagging_freq': 6, 'feature_fraction': 0.6118273996694523, 'min_data_in_leaf': 11, 'min_sum_hessian_in_leaf': 5}. Best is trial 0 with value: 0.11921948775949834.\u001b[0m\n",
      "C:\\Users\\drago\\Anaconda3\\lib\\site-packages\\lightgbm\\engine.py:148: UserWarning: Found `n_estimators` in params. Will use it instead of argument\n",
      "  _log_warning(\"Found `{}` in params. Will use it instead of argument\".format(alias))\n"
     ]
    },
    {
     "name": "stdout",
     "output_type": "stream",
     "text": [
      "[LightGBM] [Warning] Auto-choosing col-wise multi-threading, the overhead of testing was 0.002586 seconds.\n",
      "You can set `force_col_wise=true` to remove the overhead.\n",
      "[LightGBM] [Info] Total Bins 3097\n",
      "[LightGBM] [Info] Number of data points in the train set: 1156, number of used features: 78\n"
     ]
    },
    {
     "name": "stderr",
     "output_type": "stream",
     "text": [
      "C:\\Users\\drago\\Anaconda3\\lib\\site-packages\\lightgbm\\basic.py:1433: UserWarning: Overriding the parameters from Reference Dataset.\n",
      "  _log_warning('Overriding the parameters from Reference Dataset.')\n",
      "C:\\Users\\drago\\Anaconda3\\lib\\site-packages\\lightgbm\\basic.py:1245: UserWarning: categorical_column in param dict is overridden.\n",
      "  _log_warning('{} in param dict is overridden.'.format(cat_alias))\n"
     ]
    },
    {
     "name": "stdout",
     "output_type": "stream",
     "text": [
      "[LightGBM] [Info] Start training from score 12.015333\n",
      "[LightGBM] [Warning] No further splits with positive gain, best gain: -inf\n",
      "Training until validation scores don't improve for 20 rounds\n",
      "[LightGBM] [Warning] No further splits with positive gain, best gain: -inf\n",
      "[LightGBM] [Warning] No further splits with positive gain, best gain: -inf\n",
      "[LightGBM] [Warning] No further splits with positive gain, best gain: -inf\n",
      "[LightGBM] [Warning] No further splits with positive gain, best gain: -inf\n",
      "[LightGBM] [Warning] No further splits with positive gain, best gain: -inf\n",
      "[LightGBM] [Warning] No further splits with positive gain, best gain: -inf\n",
      "[LightGBM] [Warning] No further splits with positive gain, best gain: -inf\n",
      "[LightGBM] [Warning] No further splits with positive gain, best gain: -inf\n",
      "[LightGBM] [Warning] No further splits with positive gain, best gain: -inf\n",
      "[10]\tvalid_0's l2: 0.064469\n",
      "[LightGBM] [Warning] No further splits with positive gain, best gain: -inf\n",
      "[LightGBM] [Warning] No further splits with positive gain, best gain: -inf\n",
      "[LightGBM] [Warning] No further splits with positive gain, best gain: -inf\n",
      "[LightGBM] [Warning] No further splits with positive gain, best gain: -inf\n",
      "[LightGBM] [Warning] No further splits with positive gain, best gain: -inf\n",
      "[LightGBM] [Warning] No further splits with positive gain, best gain: -inf\n",
      "[LightGBM] [Warning] No further splits with positive gain, best gain: -inf\n",
      "[LightGBM] [Warning] No further splits with positive gain, best gain: -inf\n",
      "[LightGBM] [Warning] No further splits with positive gain, best gain: -inf\n",
      "[LightGBM] [Warning] No further splits with positive gain, best gain: -inf\n",
      "[20]\tvalid_0's l2: 0.0353079\n",
      "[LightGBM] [Warning] No further splits with positive gain, best gain: -inf\n",
      "[LightGBM] [Warning] No further splits with positive gain, best gain: -inf\n",
      "[LightGBM] [Warning] No further splits with positive gain, best gain: -inf\n",
      "[LightGBM] [Warning] No further splits with positive gain, best gain: -inf\n",
      "[LightGBM] [Warning] No further splits with positive gain, best gain: -inf\n",
      "[LightGBM] [Warning] No further splits with positive gain, best gain: -inf\n",
      "[LightGBM] [Warning] No further splits with positive gain, best gain: -inf\n",
      "[LightGBM] [Warning] No further splits with positive gain, best gain: -inf\n",
      "[LightGBM] [Warning] No further splits with positive gain, best gain: -inf\n",
      "[LightGBM] [Warning] No further splits with positive gain, best gain: -inf\n",
      "[30]\tvalid_0's l2: 0.0235852\n",
      "[LightGBM] [Warning] No further splits with positive gain, best gain: -inf\n",
      "[LightGBM] [Warning] No further splits with positive gain, best gain: -inf\n",
      "[LightGBM] [Warning] No further splits with positive gain, best gain: -inf\n",
      "[LightGBM] [Warning] No further splits with positive gain, best gain: -inf\n",
      "[LightGBM] [Warning] No further splits with positive gain, best gain: -inf\n",
      "[LightGBM] [Warning] No further splits with positive gain, best gain: -inf\n",
      "[LightGBM] [Warning] No further splits with positive gain, best gain: -inf\n",
      "[LightGBM] [Warning] No further splits with positive gain, best gain: -inf\n",
      "[LightGBM] [Warning] No further splits with positive gain, best gain: -inf\n",
      "[LightGBM] [Warning] No further splits with positive gain, best gain: -inf\n",
      "[40]\tvalid_0's l2: 0.0183391\n",
      "[LightGBM] [Warning] No further splits with positive gain, best gain: -inf\n",
      "[LightGBM] [Warning] No further splits with positive gain, best gain: -inf\n",
      "[LightGBM] [Warning] No further splits with positive gain, best gain: -inf\n",
      "[LightGBM] [Warning] No further splits with positive gain, best gain: -inf\n",
      "[LightGBM] [Warning] No further splits with positive gain, best gain: -inf\n",
      "[LightGBM] [Warning] No further splits with positive gain, best gain: -inf\n",
      "[LightGBM] [Warning] No further splits with positive gain, best gain: -inf\n",
      "[LightGBM] [Warning] No further splits with positive gain, best gain: -inf\n",
      "[LightGBM] [Warning] No further splits with positive gain, best gain: -inf\n",
      "[LightGBM] [Warning] No further splits with positive gain, best gain: -inf\n",
      "[50]\tvalid_0's l2: 0.0158484\n",
      "[LightGBM] [Warning] No further splits with positive gain, best gain: -inf\n",
      "[LightGBM] [Warning] No further splits with positive gain, best gain: -inf\n",
      "[LightGBM] [Warning] No further splits with positive gain, best gain: -inf\n",
      "[LightGBM] [Warning] No further splits with positive gain, best gain: -inf\n",
      "[LightGBM] [Warning] No further splits with positive gain, best gain: -inf\n",
      "[LightGBM] [Warning] No further splits with positive gain, best gain: -inf\n",
      "[LightGBM] [Warning] No further splits with positive gain, best gain: -inf\n",
      "[LightGBM] [Warning] No further splits with positive gain, best gain: -inf\n",
      "[LightGBM] [Warning] No further splits with positive gain, best gain: -inf\n",
      "[LightGBM] [Warning] No further splits with positive gain, best gain: -inf\n",
      "[60]\tvalid_0's l2: 0.0148819\n",
      "[LightGBM] [Warning] No further splits with positive gain, best gain: -inf\n",
      "[LightGBM] [Warning] No further splits with positive gain, best gain: -inf\n",
      "[LightGBM] [Warning] No further splits with positive gain, best gain: -inf\n",
      "[LightGBM] [Warning] No further splits with positive gain, best gain: -inf\n",
      "[LightGBM] [Warning] No further splits with positive gain, best gain: -inf\n",
      "[LightGBM] [Warning] No further splits with positive gain, best gain: -inf\n",
      "[LightGBM] [Warning] No further splits with positive gain, best gain: -inf\n",
      "[LightGBM] [Warning] No further splits with positive gain, best gain: -inf\n",
      "[LightGBM] [Warning] No further splits with positive gain, best gain: -inf\n",
      "[LightGBM] [Warning] No further splits with positive gain, best gain: -inf\n",
      "[70]\tvalid_0's l2: 0.0146264\n",
      "[LightGBM] [Warning] No further splits with positive gain, best gain: -inf\n",
      "[LightGBM] [Warning] No further splits with positive gain, best gain: -inf\n",
      "[LightGBM] [Warning] No further splits with positive gain, best gain: -inf\n",
      "[LightGBM] [Warning] No further splits with positive gain, best gain: -inf\n",
      "[LightGBM] [Warning] No further splits with positive gain, best gain: -inf\n",
      "[LightGBM] [Warning] No further splits with positive gain, best gain: -inf\n",
      "[LightGBM] [Warning] No further splits with positive gain, best gain: -inf\n",
      "[LightGBM] [Warning] No further splits with positive gain, best gain: -inf\n",
      "[LightGBM] [Warning] No further splits with positive gain, best gain: -inf\n",
      "[LightGBM] [Warning] No further splits with positive gain, best gain: -inf\n",
      "[80]\tvalid_0's l2: 0.0144416\n",
      "[LightGBM] [Warning] No further splits with positive gain, best gain: -inf\n",
      "[LightGBM] [Warning] No further splits with positive gain, best gain: -inf\n",
      "[LightGBM] [Warning] No further splits with positive gain, best gain: -inf\n",
      "[LightGBM] [Warning] No further splits with positive gain, best gain: -inf\n",
      "[LightGBM] [Warning] No further splits with positive gain, best gain: -inf\n",
      "[LightGBM] [Warning] No further splits with positive gain, best gain: -inf\n",
      "[LightGBM] [Warning] No further splits with positive gain, best gain: -inf\n",
      "[LightGBM] [Warning] No further splits with positive gain, best gain: -inf\n",
      "[LightGBM] [Warning] No further splits with positive gain, best gain: -inf\n",
      "[LightGBM] [Warning] No further splits with positive gain, best gain: -inf\n",
      "[90]\tvalid_0's l2: 0.0144495\n",
      "[LightGBM] [Warning] No further splits with positive gain, best gain: -inf\n",
      "[LightGBM] [Warning] No further splits with positive gain, best gain: -inf\n",
      "[LightGBM] [Warning] No further splits with positive gain, best gain: -inf\n",
      "[LightGBM] [Warning] No further splits with positive gain, best gain: -inf\n",
      "[LightGBM] [Warning] No further splits with positive gain, best gain: -inf\n",
      "[LightGBM] [Warning] No further splits with positive gain, best gain: -inf\n",
      "[LightGBM] [Warning] No further splits with positive gain, best gain: -inf\n",
      "[LightGBM] [Warning] No further splits with positive gain, best gain: -inf\n",
      "[100]\tvalid_0's l2: 0.0145374\n",
      "[LightGBM] [Warning] No further splits with positive gain, best gain: -inf\n",
      "[LightGBM] [Warning] No further splits with positive gain, best gain: -inf\n",
      "[LightGBM] [Warning] No further splits with positive gain, best gain: -inf\n",
      "Early stopping, best iteration is:\n",
      "[85]\tvalid_0's l2: 0.014431\n"
     ]
    },
    {
     "name": "stderr",
     "output_type": "stream",
     "text": [
      "\u001b[32m[I 2021-06-05 17:18:38,627]\u001b[0m Trial 1 finished with value: 0.12012901418633552 and parameters: {'num_leaves': 58, 'max_bin': 195, 'bagging_fraction': 0.5917207594128888, 'bagging_freq': 8, 'feature_fraction': 0.6644474598764523, 'min_data_in_leaf': 10, 'min_sum_hessian_in_leaf': 10}. Best is trial 0 with value: 0.11921948775949834.\u001b[0m\n",
      "C:\\Users\\drago\\Anaconda3\\lib\\site-packages\\lightgbm\\engine.py:148: UserWarning: Found `n_estimators` in params. Will use it instead of argument\n",
      "  _log_warning(\"Found `{}` in params. Will use it instead of argument\".format(alias))\n"
     ]
    },
    {
     "name": "stdout",
     "output_type": "stream",
     "text": [
      "[LightGBM] [Warning] Auto-choosing row-wise multi-threading, the overhead of testing was 0.001576 seconds.\n",
      "You can set `force_row_wise=true` to remove the overhead.\n",
      "And if memory is not enough, you can set `force_col_wise=true`.\n",
      "[LightGBM] [Info] Total Bins 1571\n",
      "[LightGBM] [Info] Number of data points in the train set: 1156, number of used features: 78\n"
     ]
    },
    {
     "name": "stderr",
     "output_type": "stream",
     "text": [
      "C:\\Users\\drago\\Anaconda3\\lib\\site-packages\\lightgbm\\basic.py:1433: UserWarning: Overriding the parameters from Reference Dataset.\n",
      "  _log_warning('Overriding the parameters from Reference Dataset.')\n",
      "C:\\Users\\drago\\Anaconda3\\lib\\site-packages\\lightgbm\\basic.py:1245: UserWarning: categorical_column in param dict is overridden.\n",
      "  _log_warning('{} in param dict is overridden.'.format(cat_alias))\n"
     ]
    },
    {
     "name": "stdout",
     "output_type": "stream",
     "text": [
      "[LightGBM] [Info] Start training from score 12.015333\n",
      "Training until validation scores don't improve for 20 rounds\n",
      "[10]\tvalid_0's l2: 0.0723969\n",
      "[20]\tvalid_0's l2: 0.0430363\n",
      "[30]\tvalid_0's l2: 0.0303053\n",
      "[40]\tvalid_0's l2: 0.0239242\n",
      "[50]\tvalid_0's l2: 0.0202706\n",
      "[60]\tvalid_0's l2: 0.0183297\n",
      "[70]\tvalid_0's l2: 0.0171541\n",
      "[80]\tvalid_0's l2: 0.0162883\n",
      "[90]\tvalid_0's l2: 0.0158127\n",
      "[100]\tvalid_0's l2: 0.0154521\n",
      "[110]\tvalid_0's l2: 0.0149976\n",
      "[120]\tvalid_0's l2: 0.0150278\n",
      "[130]\tvalid_0's l2: 0.0150877\n",
      "Early stopping, best iteration is:\n",
      "[113]\tvalid_0's l2: 0.0149902\n"
     ]
    },
    {
     "name": "stderr",
     "output_type": "stream",
     "text": [
      "\u001b[32m[I 2021-06-05 17:18:39,350]\u001b[0m Trial 2 finished with value: 0.12243462195761393 and parameters: {'num_leaves': 8, 'max_bin': 63, 'bagging_fraction': 0.4101091987201629, 'bagging_freq': 9, 'feature_fraction': 0.7890783754749253, 'min_data_in_leaf': 15, 'min_sum_hessian_in_leaf': 10}. Best is trial 0 with value: 0.11921948775949834.\u001b[0m\n",
      "C:\\Users\\drago\\Anaconda3\\lib\\site-packages\\lightgbm\\engine.py:148: UserWarning: Found `n_estimators` in params. Will use it instead of argument\n",
      "  _log_warning(\"Found `{}` in params. Will use it instead of argument\".format(alias))\n"
     ]
    },
    {
     "name": "stdout",
     "output_type": "stream",
     "text": [
      "[LightGBM] [Warning] Auto-choosing row-wise multi-threading, the overhead of testing was 0.001642 seconds.\n",
      "You can set `force_row_wise=true` to remove the overhead.\n",
      "And if memory is not enough, you can set `force_col_wise=true`.\n",
      "[LightGBM] [Info] Total Bins 2354\n",
      "[LightGBM] [Info] Number of data points in the train set: 1156, number of used features: 79\n"
     ]
    },
    {
     "name": "stderr",
     "output_type": "stream",
     "text": [
      "C:\\Users\\drago\\Anaconda3\\lib\\site-packages\\lightgbm\\basic.py:1433: UserWarning: Overriding the parameters from Reference Dataset.\n",
      "  _log_warning('Overriding the parameters from Reference Dataset.')\n",
      "C:\\Users\\drago\\Anaconda3\\lib\\site-packages\\lightgbm\\basic.py:1245: UserWarning: categorical_column in param dict is overridden.\n",
      "  _log_warning('{} in param dict is overridden.'.format(cat_alias))\n"
     ]
    },
    {
     "name": "stdout",
     "output_type": "stream",
     "text": [
      "[LightGBM] [Info] Start training from score 12.015333\n",
      "Training until validation scores don't improve for 20 rounds\n",
      "[10]\tvalid_0's l2: 0.0641327\n",
      "[20]\tvalid_0's l2: 0.034555\n",
      "[30]\tvalid_0's l2: 0.0232564\n",
      "[40]\tvalid_0's l2: 0.0185056\n",
      "[50]\tvalid_0's l2: 0.0165158\n",
      "[60]\tvalid_0's l2: 0.0155843\n",
      "[70]\tvalid_0's l2: 0.0151748\n",
      "[80]\tvalid_0's l2: 0.014894\n",
      "[90]\tvalid_0's l2: 0.0148207\n",
      "[100]\tvalid_0's l2: 0.0146971\n",
      "[110]\tvalid_0's l2: 0.0146044\n",
      "[120]\tvalid_0's l2: 0.0145469\n",
      "[130]\tvalid_0's l2: 0.0144888\n",
      "[140]\tvalid_0's l2: 0.0143614\n",
      "[150]\tvalid_0's l2: 0.014341\n",
      "[160]\tvalid_0's l2: 0.0143097\n",
      "[170]\tvalid_0's l2: 0.0143001\n",
      "Early stopping, best iteration is:\n",
      "[157]\tvalid_0's l2: 0.0142773\n"
     ]
    },
    {
     "name": "stderr",
     "output_type": "stream",
     "text": [
      "\u001b[32m[I 2021-06-05 17:18:40,853]\u001b[0m Trial 3 finished with value: 0.11948763685441077 and parameters: {'num_leaves': 52, 'max_bin': 119, 'bagging_fraction': 0.7902645881432278, 'bagging_freq': 2, 'feature_fraction': 0.7199605106637619, 'min_data_in_leaf': 4, 'min_sum_hessian_in_leaf': 10}. Best is trial 0 with value: 0.11921948775949834.\u001b[0m\n",
      "C:\\Users\\drago\\Anaconda3\\lib\\site-packages\\lightgbm\\engine.py:148: UserWarning: Found `n_estimators` in params. Will use it instead of argument\n",
      "  _log_warning(\"Found `{}` in params. Will use it instead of argument\".format(alias))\n"
     ]
    },
    {
     "name": "stdout",
     "output_type": "stream",
     "text": [
      "[LightGBM] [Warning] Auto-choosing row-wise multi-threading, the overhead of testing was 0.000909 seconds.\n",
      "You can set `force_row_wise=true` to remove the overhead.\n",
      "And if memory is not enough, you can set `force_col_wise=true`.\n",
      "[LightGBM] [Info] Total Bins 2276\n",
      "[LightGBM] [Info] Number of data points in the train set: 1156, number of used features: 78\n"
     ]
    },
    {
     "name": "stderr",
     "output_type": "stream",
     "text": [
      "C:\\Users\\drago\\Anaconda3\\lib\\site-packages\\lightgbm\\basic.py:1433: UserWarning: Overriding the parameters from Reference Dataset.\n",
      "  _log_warning('Overriding the parameters from Reference Dataset.')\n",
      "C:\\Users\\drago\\Anaconda3\\lib\\site-packages\\lightgbm\\basic.py:1245: UserWarning: categorical_column in param dict is overridden.\n",
      "  _log_warning('{} in param dict is overridden.'.format(cat_alias))\n"
     ]
    },
    {
     "name": "stdout",
     "output_type": "stream",
     "text": [
      "[LightGBM] [Info] Start training from score 12.015333\n",
      "Training until validation scores don't improve for 20 rounds\n",
      "[10]\tvalid_0's l2: 0.066408\n",
      "[20]\tvalid_0's l2: 0.0363539\n",
      "[30]\tvalid_0's l2: 0.0242351\n",
      "[40]\tvalid_0's l2: 0.0189323\n",
      "[50]\tvalid_0's l2: 0.0162179\n",
      "[60]\tvalid_0's l2: 0.0147991\n",
      "[70]\tvalid_0's l2: 0.0143232\n",
      "[80]\tvalid_0's l2: 0.0143152\n",
      "[90]\tvalid_0's l2: 0.0142693\n",
      "[100]\tvalid_0's l2: 0.0140259\n",
      "[110]\tvalid_0's l2: 0.0140546\n",
      "[120]\tvalid_0's l2: 0.0138189\n",
      "[130]\tvalid_0's l2: 0.0137193\n",
      "[140]\tvalid_0's l2: 0.0137243\n",
      "[150]\tvalid_0's l2: 0.0135936\n",
      "[160]\tvalid_0's l2: 0.0135242\n",
      "[170]\tvalid_0's l2: 0.0135713\n",
      "[180]\tvalid_0's l2: 0.0136351\n",
      "Early stopping, best iteration is:\n",
      "[161]\tvalid_0's l2: 0.0135055\n"
     ]
    },
    {
     "name": "stderr",
     "output_type": "stream",
     "text": [
      "\u001b[32m[I 2021-06-05 17:18:42,010]\u001b[0m Trial 4 finished with value: 0.11621335807143585 and parameters: {'num_leaves': 35, 'max_bin': 112, 'bagging_fraction': 0.5322778060523135, 'bagging_freq': 8, 'feature_fraction': 0.6280751661082743, 'min_data_in_leaf': 10, 'min_sum_hessian_in_leaf': 1}. Best is trial 4 with value: 0.11621335807143585.\u001b[0m\n",
      "C:\\Users\\drago\\Anaconda3\\lib\\site-packages\\lightgbm\\engine.py:148: UserWarning: Found `n_estimators` in params. Will use it instead of argument\n",
      "  _log_warning(\"Found `{}` in params. Will use it instead of argument\".format(alias))\n"
     ]
    },
    {
     "name": "stdout",
     "output_type": "stream",
     "text": [
      "[LightGBM] [Warning] Auto-choosing col-wise multi-threading, the overhead of testing was 0.003311 seconds.\n",
      "You can set `force_col_wise=true` to remove the overhead.\n",
      "[LightGBM] [Info] Total Bins 2626\n",
      "[LightGBM] [Info] Number of data points in the train set: 1156, number of used features: 78\n"
     ]
    },
    {
     "name": "stderr",
     "output_type": "stream",
     "text": [
      "C:\\Users\\drago\\Anaconda3\\lib\\site-packages\\lightgbm\\basic.py:1433: UserWarning: Overriding the parameters from Reference Dataset.\n",
      "  _log_warning('Overriding the parameters from Reference Dataset.')\n",
      "C:\\Users\\drago\\Anaconda3\\lib\\site-packages\\lightgbm\\basic.py:1245: UserWarning: categorical_column in param dict is overridden.\n",
      "  _log_warning('{} in param dict is overridden.'.format(cat_alias))\n"
     ]
    },
    {
     "name": "stdout",
     "output_type": "stream",
     "text": [
      "[LightGBM] [Info] Start training from score 12.015333\n",
      "Training until validation scores don't improve for 20 rounds\n",
      "[10]\tvalid_0's l2: 0.0639992\n",
      "[20]\tvalid_0's l2: 0.0357102\n",
      "[30]\tvalid_0's l2: 0.0236082\n",
      "[40]\tvalid_0's l2: 0.0186928\n",
      "[50]\tvalid_0's l2: 0.016742\n",
      "[60]\tvalid_0's l2: 0.0157799\n",
      "[70]\tvalid_0's l2: 0.0155055\n",
      "[80]\tvalid_0's l2: 0.0152684\n",
      "[90]\tvalid_0's l2: 0.0151588\n",
      "[100]\tvalid_0's l2: 0.0151961\n",
      "[110]\tvalid_0's l2: 0.0152685\n",
      "Early stopping, best iteration is:\n",
      "[94]\tvalid_0's l2: 0.0151008\n"
     ]
    },
    {
     "name": "stderr",
     "output_type": "stream",
     "text": [
      "\u001b[32m[I 2021-06-05 17:18:43,070]\u001b[0m Trial 5 finished with value: 0.12288551018586134 and parameters: {'num_leaves': 41, 'max_bin': 142, 'bagging_fraction': 0.7084669984373785, 'bagging_freq': 10, 'feature_fraction': 0.7409101495517417, 'min_data_in_leaf': 7, 'min_sum_hessian_in_leaf': 5}. Best is trial 4 with value: 0.11621335807143585.\u001b[0m\n",
      "C:\\Users\\drago\\Anaconda3\\lib\\site-packages\\lightgbm\\engine.py:148: UserWarning: Found `n_estimators` in params. Will use it instead of argument\n",
      "  _log_warning(\"Found `{}` in params. Will use it instead of argument\".format(alias))\n"
     ]
    },
    {
     "name": "stdout",
     "output_type": "stream",
     "text": [
      "[LightGBM] [Warning] Auto-choosing row-wise multi-threading, the overhead of testing was 0.001273 seconds.\n",
      "You can set `force_row_wise=true` to remove the overhead.\n",
      "And if memory is not enough, you can set `force_col_wise=true`.\n",
      "[LightGBM] [Info] Total Bins 1500\n",
      "[LightGBM] [Info] Number of data points in the train set: 1156, number of used features: 79\n"
     ]
    },
    {
     "name": "stderr",
     "output_type": "stream",
     "text": [
      "C:\\Users\\drago\\Anaconda3\\lib\\site-packages\\lightgbm\\basic.py:1433: UserWarning: Overriding the parameters from Reference Dataset.\n",
      "  _log_warning('Overriding the parameters from Reference Dataset.')\n",
      "C:\\Users\\drago\\Anaconda3\\lib\\site-packages\\lightgbm\\basic.py:1245: UserWarning: categorical_column in param dict is overridden.\n",
      "  _log_warning('{} in param dict is overridden.'.format(cat_alias))\n"
     ]
    },
    {
     "name": "stdout",
     "output_type": "stream",
     "text": [
      "[LightGBM] [Info] Start training from score 12.015333\n",
      "Training until validation scores don't improve for 20 rounds\n",
      "[10]\tvalid_0's l2: 0.0650692\n",
      "[20]\tvalid_0's l2: 0.035213\n",
      "[30]\tvalid_0's l2: 0.0235695\n",
      "[40]\tvalid_0's l2: 0.0189368\n",
      "[50]\tvalid_0's l2: 0.0171787\n",
      "[60]\tvalid_0's l2: 0.0162984\n",
      "[70]\tvalid_0's l2: 0.0160839\n",
      "[80]\tvalid_0's l2: 0.0159674\n",
      "[90]\tvalid_0's l2: 0.0157391\n",
      "[100]\tvalid_0's l2: 0.0156661\n",
      "[110]\tvalid_0's l2: 0.015579\n",
      "[120]\tvalid_0's l2: 0.0154832\n",
      "[130]\tvalid_0's l2: 0.0153392\n",
      "[140]\tvalid_0's l2: 0.0153525\n",
      "[150]\tvalid_0's l2: 0.0153259\n",
      "[160]\tvalid_0's l2: 0.0153393\n",
      "[170]\tvalid_0's l2: 0.015381\n",
      "Early stopping, best iteration is:\n",
      "[152]\tvalid_0's l2: 0.0153074\n"
     ]
    },
    {
     "name": "stderr",
     "output_type": "stream",
     "text": [
      "\u001b[32m[I 2021-06-05 17:18:44,507]\u001b[0m Trial 6 finished with value: 0.12372288602804948 and parameters: {'num_leaves': 46, 'max_bin': 59, 'bagging_fraction': 0.7333833577228339, 'bagging_freq': 7, 'feature_fraction': 0.5051912805369205, 'min_data_in_leaf': 3, 'min_sum_hessian_in_leaf': 4}. Best is trial 4 with value: 0.11621335807143585.\u001b[0m\n",
      "C:\\Users\\drago\\Anaconda3\\lib\\site-packages\\lightgbm\\engine.py:148: UserWarning: Found `n_estimators` in params. Will use it instead of argument\n",
      "  _log_warning(\"Found `{}` in params. Will use it instead of argument\".format(alias))\n"
     ]
    },
    {
     "name": "stdout",
     "output_type": "stream",
     "text": [
      "[LightGBM] [Warning] Auto-choosing col-wise multi-threading, the overhead of testing was 0.003621 seconds.\n",
      "You can set `force_col_wise=true` to remove the overhead.\n",
      "[LightGBM] [Info] Total Bins 2554\n",
      "[LightGBM] [Info] Number of data points in the train set: 1156, number of used features: 78\n"
     ]
    },
    {
     "name": "stderr",
     "output_type": "stream",
     "text": [
      "C:\\Users\\drago\\Anaconda3\\lib\\site-packages\\lightgbm\\basic.py:1433: UserWarning: Overriding the parameters from Reference Dataset.\n",
      "  _log_warning('Overriding the parameters from Reference Dataset.')\n",
      "C:\\Users\\drago\\Anaconda3\\lib\\site-packages\\lightgbm\\basic.py:1245: UserWarning: categorical_column in param dict is overridden.\n",
      "  _log_warning('{} in param dict is overridden.'.format(cat_alias))\n"
     ]
    },
    {
     "name": "stdout",
     "output_type": "stream",
     "text": [
      "[LightGBM] [Info] Start training from score 12.015333\n",
      "Training until validation scores don't improve for 20 rounds\n",
      "[10]\tvalid_0's l2: 0.0685588\n",
      "[20]\tvalid_0's l2: 0.0385705\n",
      "[30]\tvalid_0's l2: 0.0262354\n",
      "[40]\tvalid_0's l2: 0.0206248\n",
      "[50]\tvalid_0's l2: 0.017847\n",
      "[60]\tvalid_0's l2: 0.0167885\n",
      "[70]\tvalid_0's l2: 0.0160365\n",
      "[80]\tvalid_0's l2: 0.0157248\n",
      "[90]\tvalid_0's l2: 0.0156422\n",
      "[100]\tvalid_0's l2: 0.0155114\n",
      "[110]\tvalid_0's l2: 0.0154175\n",
      "[120]\tvalid_0's l2: 0.015317\n",
      "[130]\tvalid_0's l2: 0.0151995\n",
      "[140]\tvalid_0's l2: 0.0152626\n",
      "[150]\tvalid_0's l2: 0.0152446\n",
      "Early stopping, best iteration is:\n",
      "[134]\tvalid_0's l2: 0.0151922\n"
     ]
    },
    {
     "name": "stderr",
     "output_type": "stream",
     "text": [
      "\u001b[32m[I 2021-06-05 17:18:45,551]\u001b[0m Trial 7 finished with value: 0.12325661836479342 and parameters: {'num_leaves': 26, 'max_bin': 136, 'bagging_fraction': 0.6193007567311601, 'bagging_freq': 10, 'feature_fraction': 0.45102240537401406, 'min_data_in_leaf': 5, 'min_sum_hessian_in_leaf': 2}. Best is trial 4 with value: 0.11621335807143585.\u001b[0m\n",
      "C:\\Users\\drago\\Anaconda3\\lib\\site-packages\\lightgbm\\engine.py:148: UserWarning: Found `n_estimators` in params. Will use it instead of argument\n",
      "  _log_warning(\"Found `{}` in params. Will use it instead of argument\".format(alias))\n"
     ]
    },
    {
     "name": "stdout",
     "output_type": "stream",
     "text": [
      "[LightGBM] [Warning] Auto-choosing row-wise multi-threading, the overhead of testing was 0.001490 seconds.\n",
      "You can set `force_row_wise=true` to remove the overhead.\n",
      "And if memory is not enough, you can set `force_col_wise=true`.\n",
      "[LightGBM] [Info] Total Bins 1959\n",
      "[LightGBM] [Info] Number of data points in the train set: 1156, number of used features: 79\n"
     ]
    },
    {
     "name": "stderr",
     "output_type": "stream",
     "text": [
      "C:\\Users\\drago\\Anaconda3\\lib\\site-packages\\lightgbm\\basic.py:1433: UserWarning: Overriding the parameters from Reference Dataset.\n",
      "  _log_warning('Overriding the parameters from Reference Dataset.')\n",
      "C:\\Users\\drago\\Anaconda3\\lib\\site-packages\\lightgbm\\basic.py:1245: UserWarning: categorical_column in param dict is overridden.\n",
      "  _log_warning('{} in param dict is overridden.'.format(cat_alias))\n"
     ]
    },
    {
     "name": "stdout",
     "output_type": "stream",
     "text": [
      "[LightGBM] [Info] Start training from score 12.015333\n",
      "Training until validation scores don't improve for 20 rounds\n",
      "[10]\tvalid_0's l2: 0.0653917\n",
      "[20]\tvalid_0's l2: 0.0353138\n",
      "[30]\tvalid_0's l2: 0.0236292\n",
      "[40]\tvalid_0's l2: 0.0191997\n",
      "[50]\tvalid_0's l2: 0.0170269\n",
      "[60]\tvalid_0's l2: 0.0159562\n",
      "[70]\tvalid_0's l2: 0.015702\n",
      "[80]\tvalid_0's l2: 0.0155463\n",
      "[90]\tvalid_0's l2: 0.0154414\n",
      "[100]\tvalid_0's l2: 0.0153966\n",
      "[110]\tvalid_0's l2: 0.0153345\n",
      "[120]\tvalid_0's l2: 0.0152618\n",
      "[130]\tvalid_0's l2: 0.015293\n",
      "[140]\tvalid_0's l2: 0.0152435\n",
      "[150]\tvalid_0's l2: 0.0152064\n",
      "[160]\tvalid_0's l2: 0.0151995\n",
      "[170]\tvalid_0's l2: 0.0152254\n",
      "Early stopping, best iteration is:\n",
      "[159]\tvalid_0's l2: 0.0151783\n"
     ]
    },
    {
     "name": "stderr",
     "output_type": "stream",
     "text": [
      "\u001b[32m[I 2021-06-05 17:18:46,950]\u001b[0m Trial 8 finished with value: 0.123200368396042 and parameters: {'num_leaves': 43, 'max_bin': 88, 'bagging_fraction': 0.6331553864281532, 'bagging_freq': 3, 'feature_fraction': 0.4794847918227599, 'min_data_in_leaf': 3, 'min_sum_hessian_in_leaf': 7}. Best is trial 4 with value: 0.11621335807143585.\u001b[0m\n",
      "C:\\Users\\drago\\Anaconda3\\lib\\site-packages\\lightgbm\\engine.py:148: UserWarning: Found `n_estimators` in params. Will use it instead of argument\n",
      "  _log_warning(\"Found `{}` in params. Will use it instead of argument\".format(alias))\n"
     ]
    },
    {
     "name": "stdout",
     "output_type": "stream",
     "text": [
      "[LightGBM] [Warning] Auto-choosing row-wise multi-threading, the overhead of testing was 0.001689 seconds.\n",
      "You can set `force_row_wise=true` to remove the overhead.\n",
      "And if memory is not enough, you can set `force_col_wise=true`.\n",
      "[LightGBM] [Info] Total Bins 1819\n",
      "[LightGBM] [Info] Number of data points in the train set: 1156, number of used features: 78\n"
     ]
    },
    {
     "name": "stderr",
     "output_type": "stream",
     "text": [
      "C:\\Users\\drago\\Anaconda3\\lib\\site-packages\\lightgbm\\basic.py:1433: UserWarning: Overriding the parameters from Reference Dataset.\n",
      "  _log_warning('Overriding the parameters from Reference Dataset.')\n",
      "C:\\Users\\drago\\Anaconda3\\lib\\site-packages\\lightgbm\\basic.py:1245: UserWarning: categorical_column in param dict is overridden.\n",
      "  _log_warning('{} in param dict is overridden.'.format(cat_alias))\n"
     ]
    },
    {
     "name": "stdout",
     "output_type": "stream",
     "text": [
      "[LightGBM] [Info] Start training from score 12.015333\n",
      "Training until validation scores don't improve for 20 rounds\n",
      "[10]\tvalid_0's l2: 0.0720131\n",
      "[20]\tvalid_0's l2: 0.0421651\n",
      "[30]\tvalid_0's l2: 0.0286681\n",
      "[40]\tvalid_0's l2: 0.0219793\n",
      "[50]\tvalid_0's l2: 0.0183408\n",
      "[60]\tvalid_0's l2: 0.0164611\n",
      "[70]\tvalid_0's l2: 0.01556\n",
      "[80]\tvalid_0's l2: 0.015073\n",
      "[90]\tvalid_0's l2: 0.0147495\n",
      "[100]\tvalid_0's l2: 0.0145849\n",
      "[110]\tvalid_0's l2: 0.0144036\n",
      "[120]\tvalid_0's l2: 0.014341\n",
      "[130]\tvalid_0's l2: 0.0143924\n",
      "[140]\tvalid_0's l2: 0.0141699\n",
      "[150]\tvalid_0's l2: 0.014075\n",
      "[160]\tvalid_0's l2: 0.0140664\n",
      "[170]\tvalid_0's l2: 0.0140677\n",
      "[180]\tvalid_0's l2: 0.0140645\n",
      "Early stopping, best iteration is:\n",
      "[164]\tvalid_0's l2: 0.0140042\n"
     ]
    },
    {
     "name": "stderr",
     "output_type": "stream",
     "text": [
      "\u001b[32m[I 2021-06-05 17:18:47,879]\u001b[0m Trial 9 finished with value: 0.11833930321635734 and parameters: {'num_leaves': 12, 'max_bin': 79, 'bagging_fraction': 0.5843625853304821, 'bagging_freq': 9, 'feature_fraction': 0.44855063789653066, 'min_data_in_leaf': 14, 'min_sum_hessian_in_leaf': 1}. Best is trial 4 with value: 0.11621335807143585.\u001b[0m\n",
      "C:\\Users\\drago\\Anaconda3\\lib\\site-packages\\lightgbm\\engine.py:148: UserWarning: Found `n_estimators` in params. Will use it instead of argument\n",
      "  _log_warning(\"Found `{}` in params. Will use it instead of argument\".format(alias))\n"
     ]
    },
    {
     "name": "stdout",
     "output_type": "stream",
     "text": [
      "[LightGBM] [Warning] Auto-choosing col-wise multi-threading, the overhead of testing was 0.002544 seconds.\n",
      "You can set `force_col_wise=true` to remove the overhead.\n",
      "[LightGBM] [Info] Total Bins 2368\n",
      "[LightGBM] [Info] Number of data points in the train set: 1156, number of used features: 80\n"
     ]
    },
    {
     "name": "stderr",
     "output_type": "stream",
     "text": [
      "C:\\Users\\drago\\Anaconda3\\lib\\site-packages\\lightgbm\\basic.py:1433: UserWarning: Overriding the parameters from Reference Dataset.\n",
      "  _log_warning('Overriding the parameters from Reference Dataset.')\n",
      "C:\\Users\\drago\\Anaconda3\\lib\\site-packages\\lightgbm\\basic.py:1245: UserWarning: categorical_column in param dict is overridden.\n",
      "  _log_warning('{} in param dict is overridden.'.format(cat_alias))\n"
     ]
    },
    {
     "name": "stdout",
     "output_type": "stream",
     "text": [
      "[LightGBM] [Info] Start training from score 12.015333\n",
      "Training until validation scores don't improve for 20 rounds\n",
      "[10]\tvalid_0's l2: 0.0645947\n",
      "[20]\tvalid_0's l2: 0.0349\n",
      "[30]\tvalid_0's l2: 0.0239167\n",
      "[40]\tvalid_0's l2: 0.019325\n",
      "[50]\tvalid_0's l2: 0.017922\n",
      "[60]\tvalid_0's l2: 0.017351\n",
      "[70]\tvalid_0's l2: 0.0171303\n",
      "[80]\tvalid_0's l2: 0.0171538\n",
      "[90]\tvalid_0's l2: 0.0170625\n",
      "[100]\tvalid_0's l2: 0.0169556\n",
      "[110]\tvalid_0's l2: 0.0169456\n",
      "[120]\tvalid_0's l2: 0.0168885\n",
      "[130]\tvalid_0's l2: 0.0168479\n",
      "[140]\tvalid_0's l2: 0.0168025\n",
      "[150]\tvalid_0's l2: 0.0167815\n",
      "[160]\tvalid_0's l2: 0.0168289\n",
      "[170]\tvalid_0's l2: 0.0168183\n",
      "Early stopping, best iteration is:\n",
      "[150]\tvalid_0's l2: 0.0167815\n"
     ]
    },
    {
     "name": "stderr",
     "output_type": "stream",
     "text": [
      "\u001b[32m[I 2021-06-05 17:18:49,807]\u001b[0m Trial 10 finished with value: 0.1295435415929816 and parameters: {'num_leaves': 63, 'max_bin': 120, 'bagging_fraction': 0.8883805440951686, 'bagging_freq': 7, 'feature_fraction': 0.7696317896991509, 'min_data_in_leaf': 2, 'min_sum_hessian_in_leaf': 3}. Best is trial 4 with value: 0.11621335807143585.\u001b[0m\n",
      "C:\\Users\\drago\\Anaconda3\\lib\\site-packages\\lightgbm\\engine.py:148: UserWarning: Found `n_estimators` in params. Will use it instead of argument\n",
      "  _log_warning(\"Found `{}` in params. Will use it instead of argument\".format(alias))\n"
     ]
    },
    {
     "name": "stdout",
     "output_type": "stream",
     "text": [
      "[LightGBM] [Warning] Auto-choosing col-wise multi-threading, the overhead of testing was 0.004010 seconds.\n",
      "You can set `force_col_wise=true` to remove the overhead.\n",
      "[LightGBM] [Info] Total Bins 2051\n",
      "[LightGBM] [Info] Number of data points in the train set: 1156, number of used features: 80\n"
     ]
    },
    {
     "name": "stderr",
     "output_type": "stream",
     "text": [
      "C:\\Users\\drago\\Anaconda3\\lib\\site-packages\\lightgbm\\basic.py:1433: UserWarning: Overriding the parameters from Reference Dataset.\n",
      "  _log_warning('Overriding the parameters from Reference Dataset.')\n",
      "C:\\Users\\drago\\Anaconda3\\lib\\site-packages\\lightgbm\\basic.py:1245: UserWarning: categorical_column in param dict is overridden.\n",
      "  _log_warning('{} in param dict is overridden.'.format(cat_alias))\n"
     ]
    },
    {
     "name": "stdout",
     "output_type": "stream",
     "text": [
      "[LightGBM] [Info] Start training from score 12.015333\n",
      "Training until validation scores don't improve for 20 rounds\n",
      "[10]\tvalid_0's l2: 0.0723296\n",
      "[20]\tvalid_0's l2: 0.0424445\n",
      "[30]\tvalid_0's l2: 0.0284022\n",
      "[40]\tvalid_0's l2: 0.0222346\n",
      "[50]\tvalid_0's l2: 0.0189382\n",
      "[60]\tvalid_0's l2: 0.0171733\n",
      "[70]\tvalid_0's l2: 0.0163607\n",
      "[80]\tvalid_0's l2: 0.0154663\n",
      "[90]\tvalid_0's l2: 0.0151567\n",
      "[100]\tvalid_0's l2: 0.0149257\n",
      "[110]\tvalid_0's l2: 0.0147376\n",
      "[120]\tvalid_0's l2: 0.0145206\n",
      "[130]\tvalid_0's l2: 0.0145659\n",
      "[140]\tvalid_0's l2: 0.0145321\n",
      "[150]\tvalid_0's l2: 0.0144151\n",
      "[160]\tvalid_0's l2: 0.0143894\n",
      "[170]\tvalid_0's l2: 0.0144635\n",
      "[180]\tvalid_0's l2: 0.0146086\n",
      "Early stopping, best iteration is:\n",
      "[163]\tvalid_0's l2: 0.0143601\n"
     ]
    },
    {
     "name": "stderr",
     "output_type": "stream",
     "text": [
      "\u001b[32m[I 2021-06-05 17:18:50,676]\u001b[0m Trial 11 finished with value: 0.11983377452964886 and parameters: {'num_leaves': 11, 'max_bin': 94, 'bagging_fraction': 0.45936385947712205, 'bagging_freq': 4, 'feature_fraction': 0.607131497257335, 'min_data_in_leaf': 2, 'min_sum_hessian_in_leaf': 7}. Best is trial 4 with value: 0.11621335807143585.\u001b[0m\n",
      "C:\\Users\\drago\\Anaconda3\\lib\\site-packages\\lightgbm\\engine.py:148: UserWarning: Found `n_estimators` in params. Will use it instead of argument\n",
      "  _log_warning(\"Found `{}` in params. Will use it instead of argument\".format(alias))\n"
     ]
    },
    {
     "name": "stdout",
     "output_type": "stream",
     "text": [
      "[LightGBM] [Warning] Auto-choosing col-wise multi-threading, the overhead of testing was 0.002596 seconds.\n",
      "You can set `force_col_wise=true` to remove the overhead.\n",
      "[LightGBM] [Info] Total Bins 1987\n",
      "[LightGBM] [Info] Number of data points in the train set: 1156, number of used features: 78\n"
     ]
    },
    {
     "name": "stderr",
     "output_type": "stream",
     "text": [
      "C:\\Users\\drago\\Anaconda3\\lib\\site-packages\\lightgbm\\basic.py:1433: UserWarning: Overriding the parameters from Reference Dataset.\n",
      "  _log_warning('Overriding the parameters from Reference Dataset.')\n",
      "C:\\Users\\drago\\Anaconda3\\lib\\site-packages\\lightgbm\\basic.py:1245: UserWarning: categorical_column in param dict is overridden.\n",
      "  _log_warning('{} in param dict is overridden.'.format(cat_alias))\n"
     ]
    },
    {
     "name": "stdout",
     "output_type": "stream",
     "text": [
      "[LightGBM] [Info] Start training from score 12.015333\n",
      "Training until validation scores don't improve for 20 rounds\n",
      "[LightGBM] [Warning] No further splits with positive gain, best gain: -inf\n",
      "[LightGBM] [Warning] No further splits with positive gain, best gain: -inf\n",
      "[10]\tvalid_0's l2: 0.0652096\n",
      "[20]\tvalid_0's l2: 0.0355787\n",
      "[LightGBM] [Warning] No further splits with positive gain, best gain: -inf\n",
      "[30]\tvalid_0's l2: 0.0236788\n",
      "[40]\tvalid_0's l2: 0.0185916\n",
      "[LightGBM] [Warning] No further splits with positive gain, best gain: -inf\n",
      "[LightGBM] [Warning] No further splits with positive gain, best gain: -inf\n",
      "[50]\tvalid_0's l2: 0.0165607\n",
      "[LightGBM] [Warning] No further splits with positive gain, best gain: -inf\n",
      "[60]\tvalid_0's l2: 0.0154825\n",
      "[LightGBM] [Warning] No further splits with positive gain, best gain: -inf\n",
      "[LightGBM] [Warning] No further splits with positive gain, best gain: -inf\n",
      "[70]\tvalid_0's l2: 0.0149025\n",
      "[LightGBM] [Warning] No further splits with positive gain, best gain: -inf\n",
      "[80]\tvalid_0's l2: 0.0146989\n",
      "[LightGBM] [Warning] No further splits with positive gain, best gain: -inf\n",
      "[LightGBM] [Warning] No further splits with positive gain, best gain: -inf\n",
      "[90]\tvalid_0's l2: 0.014613\n",
      "[100]\tvalid_0's l2: 0.014646\n",
      "[110]\tvalid_0's l2: 0.0146479\n",
      "Early stopping, best iteration is:\n",
      "[92]\tvalid_0's l2: 0.0145591\n"
     ]
    },
    {
     "name": "stderr",
     "output_type": "stream",
     "text": [
      "\u001b[32m[I 2021-06-05 17:18:51,610]\u001b[0m Trial 12 finished with value: 0.12066129587078789 and parameters: {'num_leaves': 38, 'max_bin': 90, 'bagging_fraction': 0.6616240267333499, 'bagging_freq': 1, 'feature_fraction': 0.6879732477780897, 'min_data_in_leaf': 15, 'min_sum_hessian_in_leaf': 4}. Best is trial 4 with value: 0.11621335807143585.\u001b[0m\n",
      "C:\\Users\\drago\\Anaconda3\\lib\\site-packages\\lightgbm\\engine.py:148: UserWarning: Found `n_estimators` in params. Will use it instead of argument\n",
      "  _log_warning(\"Found `{}` in params. Will use it instead of argument\".format(alias))\n"
     ]
    },
    {
     "name": "stdout",
     "output_type": "stream",
     "text": [
      "[LightGBM] [Warning] Auto-choosing row-wise multi-threading, the overhead of testing was 0.001357 seconds.\n",
      "You can set `force_row_wise=true` to remove the overhead.\n",
      "And if memory is not enough, you can set `force_col_wise=true`.\n",
      "[LightGBM] [Info] Total Bins 1665\n",
      "[LightGBM] [Info] Number of data points in the train set: 1156, number of used features: 78\n"
     ]
    },
    {
     "name": "stderr",
     "output_type": "stream",
     "text": [
      "C:\\Users\\drago\\Anaconda3\\lib\\site-packages\\lightgbm\\basic.py:1433: UserWarning: Overriding the parameters from Reference Dataset.\n",
      "  _log_warning('Overriding the parameters from Reference Dataset.')\n",
      "C:\\Users\\drago\\Anaconda3\\lib\\site-packages\\lightgbm\\basic.py:1245: UserWarning: categorical_column in param dict is overridden.\n",
      "  _log_warning('{} in param dict is overridden.'.format(cat_alias))\n"
     ]
    },
    {
     "name": "stdout",
     "output_type": "stream",
     "text": [
      "[LightGBM] [Info] Start training from score 12.015333\n",
      "Training until validation scores don't improve for 20 rounds\n",
      "[10]\tvalid_0's l2: 0.0675109\n",
      "[20]\tvalid_0's l2: 0.0373061\n",
      "[30]\tvalid_0's l2: 0.0244711\n",
      "[40]\tvalid_0's l2: 0.0192189\n",
      "[50]\tvalid_0's l2: 0.0169365\n",
      "[60]\tvalid_0's l2: 0.015945\n",
      "[70]\tvalid_0's l2: 0.0153745\n",
      "[80]\tvalid_0's l2: 0.0150851\n",
      "[90]\tvalid_0's l2: 0.014887\n",
      "[100]\tvalid_0's l2: 0.0147742\n",
      "[110]\tvalid_0's l2: 0.0146256\n",
      "[120]\tvalid_0's l2: 0.0146666\n",
      "[130]\tvalid_0's l2: 0.0145984\n",
      "[140]\tvalid_0's l2: 0.014508\n",
      "[150]\tvalid_0's l2: 0.0144821\n",
      "[160]\tvalid_0's l2: 0.0144311\n",
      "[170]\tvalid_0's l2: 0.014398\n",
      "[180]\tvalid_0's l2: 0.0144176\n",
      "[190]\tvalid_0's l2: 0.0144799\n",
      "Early stopping, best iteration is:\n",
      "[171]\tvalid_0's l2: 0.0143881\n"
     ]
    },
    {
     "name": "stderr",
     "output_type": "stream",
     "text": [
      "\u001b[32m[I 2021-06-05 17:18:53,097]\u001b[0m Trial 13 finished with value: 0.1199504383453797 and parameters: {'num_leaves': 44, 'max_bin': 69, 'bagging_fraction': 0.7581636020592828, 'bagging_freq': 3, 'feature_fraction': 0.49159568100355844, 'min_data_in_leaf': 10, 'min_sum_hessian_in_leaf': 1}. Best is trial 4 with value: 0.11621335807143585.\u001b[0m\n",
      "C:\\Users\\drago\\Anaconda3\\lib\\site-packages\\lightgbm\\engine.py:148: UserWarning: Found `n_estimators` in params. Will use it instead of argument\n",
      "  _log_warning(\"Found `{}` in params. Will use it instead of argument\".format(alias))\n"
     ]
    },
    {
     "name": "stdout",
     "output_type": "stream",
     "text": [
      "[LightGBM] [Warning] Auto-choosing col-wise multi-threading, the overhead of testing was 0.002201 seconds.\n",
      "You can set `force_col_wise=true` to remove the overhead.\n",
      "[LightGBM] [Info] Total Bins 1344\n",
      "[LightGBM] [Info] Number of data points in the train set: 1156, number of used features: 78\n"
     ]
    },
    {
     "name": "stderr",
     "output_type": "stream",
     "text": [
      "C:\\Users\\drago\\Anaconda3\\lib\\site-packages\\lightgbm\\basic.py:1433: UserWarning: Overriding the parameters from Reference Dataset.\n",
      "  _log_warning('Overriding the parameters from Reference Dataset.')\n",
      "C:\\Users\\drago\\Anaconda3\\lib\\site-packages\\lightgbm\\basic.py:1245: UserWarning: categorical_column in param dict is overridden.\n",
      "  _log_warning('{} in param dict is overridden.'.format(cat_alias))\n"
     ]
    },
    {
     "name": "stdout",
     "output_type": "stream",
     "text": [
      "[LightGBM] [Info] Start training from score 12.015333\n",
      "[LightGBM] [Warning] No further splits with positive gain, best gain: -inf\n",
      "Training until validation scores don't improve for 20 rounds\n",
      "[LightGBM] [Warning] No further splits with positive gain, best gain: -inf\n",
      "[LightGBM] [Warning] No further splits with positive gain, best gain: -inf\n",
      "[LightGBM] [Warning] No further splits with positive gain, best gain: -inf\n",
      "[LightGBM] [Warning] No further splits with positive gain, best gain: -inf\n",
      "[LightGBM] [Warning] No further splits with positive gain, best gain: -inf\n",
      "[LightGBM] [Warning] No further splits with positive gain, best gain: -inf\n",
      "[LightGBM] [Warning] No further splits with positive gain, best gain: -inf\n",
      "[LightGBM] [Warning] No further splits with positive gain, best gain: -inf\n",
      "[LightGBM] [Warning] No further splits with positive gain, best gain: -inf\n",
      "[10]\tvalid_0's l2: 0.0661537\n",
      "[LightGBM] [Warning] No further splits with positive gain, best gain: -inf\n",
      "[LightGBM] [Warning] No further splits with positive gain, best gain: -inf\n",
      "[LightGBM] [Warning] No further splits with positive gain, best gain: -inf\n",
      "[LightGBM] [Warning] No further splits with positive gain, best gain: -inf\n",
      "[LightGBM] [Warning] No further splits with positive gain, best gain: -inf\n",
      "[LightGBM] [Warning] No further splits with positive gain, best gain: -inf\n",
      "[LightGBM] [Warning] No further splits with positive gain, best gain: -inf\n",
      "[LightGBM] [Warning] No further splits with positive gain, best gain: -inf\n",
      "[LightGBM] [Warning] No further splits with positive gain, best gain: -inf\n",
      "[LightGBM] [Warning] No further splits with positive gain, best gain: -inf\n",
      "[20]\tvalid_0's l2: 0.0357635\n",
      "[LightGBM] [Warning] No further splits with positive gain, best gain: -inf\n",
      "[LightGBM] [Warning] No further splits with positive gain, best gain: -inf\n",
      "[LightGBM] [Warning] No further splits with positive gain, best gain: -inf\n",
      "[LightGBM] [Warning] No further splits with positive gain, best gain: -inf\n",
      "[LightGBM] [Warning] No further splits with positive gain, best gain: -inf\n",
      "[LightGBM] [Warning] No further splits with positive gain, best gain: -inf\n",
      "[LightGBM] [Warning] No further splits with positive gain, best gain: -inf\n",
      "[LightGBM] [Warning] No further splits with positive gain, best gain: -inf\n",
      "[LightGBM] [Warning] No further splits with positive gain, best gain: -inf\n",
      "[LightGBM] [Warning] No further splits with positive gain, best gain: -inf\n",
      "[30]\tvalid_0's l2: 0.0235315\n",
      "[LightGBM] [Warning] No further splits with positive gain, best gain: -inf\n",
      "[LightGBM] [Warning] No further splits with positive gain, best gain: -inf\n",
      "[LightGBM] [Warning] No further splits with positive gain, best gain: -inf\n",
      "[LightGBM] [Warning] No further splits with positive gain, best gain: -inf\n",
      "[LightGBM] [Warning] No further splits with positive gain, best gain: -inf\n",
      "[LightGBM] [Warning] No further splits with positive gain, best gain: -inf\n",
      "[LightGBM] [Warning] No further splits with positive gain, best gain: -inf\n",
      "[LightGBM] [Warning] No further splits with positive gain, best gain: -inf\n",
      "[LightGBM] [Warning] No further splits with positive gain, best gain: -inf\n",
      "[LightGBM] [Warning] No further splits with positive gain, best gain: -inf\n",
      "[40]\tvalid_0's l2: 0.0184655\n",
      "[LightGBM] [Warning] No further splits with positive gain, best gain: -inf\n",
      "[LightGBM] [Warning] No further splits with positive gain, best gain: -inf\n",
      "[LightGBM] [Warning] No further splits with positive gain, best gain: -inf\n",
      "[LightGBM] [Warning] No further splits with positive gain, best gain: -inf\n",
      "[LightGBM] [Warning] No further splits with positive gain, best gain: -inf\n",
      "[LightGBM] [Warning] No further splits with positive gain, best gain: -inf\n",
      "[LightGBM] [Warning] No further splits with positive gain, best gain: -inf\n",
      "[LightGBM] [Warning] No further splits with positive gain, best gain: -inf\n",
      "[LightGBM] [Warning] No further splits with positive gain, best gain: -inf\n",
      "[LightGBM] [Warning] No further splits with positive gain, best gain: -inf\n",
      "[50]\tvalid_0's l2: 0.016163\n",
      "[LightGBM] [Warning] No further splits with positive gain, best gain: -inf\n",
      "[LightGBM] [Warning] No further splits with positive gain, best gain: -inf\n",
      "[LightGBM] [Warning] No further splits with positive gain, best gain: -inf\n",
      "[LightGBM] [Warning] No further splits with positive gain, best gain: -inf\n",
      "[LightGBM] [Warning] No further splits with positive gain, best gain: -inf\n",
      "[LightGBM] [Warning] No further splits with positive gain, best gain: -inf\n",
      "[LightGBM] [Warning] No further splits with positive gain, best gain: -inf\n",
      "[LightGBM] [Warning] No further splits with positive gain, best gain: -inf\n",
      "[LightGBM] [Warning] No further splits with positive gain, best gain: -inf\n",
      "[LightGBM] [Warning] No further splits with positive gain, best gain: -inf\n",
      "[60]\tvalid_0's l2: 0.0150688\n",
      "[LightGBM] [Warning] No further splits with positive gain, best gain: -inf\n",
      "[LightGBM] [Warning] No further splits with positive gain, best gain: -inf\n",
      "[LightGBM] [Warning] No further splits with positive gain, best gain: -inf\n",
      "[LightGBM] [Warning] No further splits with positive gain, best gain: -inf\n",
      "[LightGBM] [Warning] No further splits with positive gain, best gain: -inf\n",
      "[LightGBM] [Warning] No further splits with positive gain, best gain: -inf\n",
      "[LightGBM] [Warning] No further splits with positive gain, best gain: -inf\n",
      "[LightGBM] [Warning] No further splits with positive gain, best gain: -inf\n",
      "[LightGBM] [Warning] No further splits with positive gain, best gain: -inf\n",
      "[LightGBM] [Warning] No further splits with positive gain, best gain: -inf\n",
      "[70]\tvalid_0's l2: 0.0146976\n",
      "[LightGBM] [Warning] No further splits with positive gain, best gain: -inf\n",
      "[LightGBM] [Warning] No further splits with positive gain, best gain: -inf\n",
      "[LightGBM] [Warning] No further splits with positive gain, best gain: -inf\n",
      "[LightGBM] [Warning] No further splits with positive gain, best gain: -inf\n",
      "[LightGBM] [Warning] No further splits with positive gain, best gain: -inf\n",
      "[LightGBM] [Warning] No further splits with positive gain, best gain: -inf\n",
      "[LightGBM] [Warning] No further splits with positive gain, best gain: -inf\n",
      "[LightGBM] [Warning] No further splits with positive gain, best gain: -inf\n",
      "[LightGBM] [Warning] No further splits with positive gain, best gain: -inf\n",
      "[LightGBM] [Warning] No further splits with positive gain, best gain: -inf\n",
      "[80]\tvalid_0's l2: 0.014342\n",
      "[LightGBM] [Warning] No further splits with positive gain, best gain: -inf\n",
      "[LightGBM] [Warning] No further splits with positive gain, best gain: -inf\n",
      "[LightGBM] [Warning] No further splits with positive gain, best gain: -inf\n",
      "[LightGBM] [Warning] No further splits with positive gain, best gain: -inf\n",
      "[LightGBM] [Warning] No further splits with positive gain, best gain: -inf\n",
      "[LightGBM] [Warning] No further splits with positive gain, best gain: -inf\n",
      "[LightGBM] [Warning] No further splits with positive gain, best gain: -inf\n",
      "[LightGBM] [Warning] No further splits with positive gain, best gain: -inf\n",
      "[LightGBM] [Warning] No further splits with positive gain, best gain: -inf\n",
      "[LightGBM] [Warning] No further splits with positive gain, best gain: -inf\n",
      "[90]\tvalid_0's l2: 0.0141401\n",
      "[LightGBM] [Warning] No further splits with positive gain, best gain: -inf\n",
      "[LightGBM] [Warning] No further splits with positive gain, best gain: -inf\n",
      "[LightGBM] [Warning] No further splits with positive gain, best gain: -inf\n",
      "[LightGBM] [Warning] No further splits with positive gain, best gain: -inf\n",
      "[LightGBM] [Warning] No further splits with positive gain, best gain: -inf\n",
      "[LightGBM] [Warning] No further splits with positive gain, best gain: -inf\n",
      "[LightGBM] [Warning] No further splits with positive gain, best gain: -inf\n",
      "[LightGBM] [Warning] No further splits with positive gain, best gain: -inf\n",
      "[LightGBM] [Warning] No further splits with positive gain, best gain: -inf\n",
      "[LightGBM] [Warning] No further splits with positive gain, best gain: -inf\n",
      "[100]\tvalid_0's l2: 0.0141325\n",
      "[LightGBM] [Warning] No further splits with positive gain, best gain: -inf\n",
      "[LightGBM] [Warning] No further splits with positive gain, best gain: -inf\n",
      "[LightGBM] [Warning] No further splits with positive gain, best gain: -inf\n"
     ]
    },
    {
     "name": "stdout",
     "output_type": "stream",
     "text": [
      "[LightGBM] [Warning] No further splits with positive gain, best gain: -inf\n",
      "[LightGBM] [Warning] No further splits with positive gain, best gain: -inf\n",
      "[LightGBM] [Warning] No further splits with positive gain, best gain: -inf\n",
      "[LightGBM] [Warning] No further splits with positive gain, best gain: -inf\n",
      "[LightGBM] [Warning] No further splits with positive gain, best gain: -inf\n",
      "[LightGBM] [Warning] No further splits with positive gain, best gain: -inf\n",
      "[LightGBM] [Warning] No further splits with positive gain, best gain: -inf\n",
      "[110]\tvalid_0's l2: 0.0140446\n",
      "[LightGBM] [Warning] No further splits with positive gain, best gain: -inf\n",
      "[LightGBM] [Warning] No further splits with positive gain, best gain: -inf\n",
      "[LightGBM] [Warning] No further splits with positive gain, best gain: -inf\n",
      "[LightGBM] [Warning] No further splits with positive gain, best gain: -inf\n",
      "[LightGBM] [Warning] No further splits with positive gain, best gain: -inf\n",
      "[LightGBM] [Warning] No further splits with positive gain, best gain: -inf\n",
      "[LightGBM] [Warning] No further splits with positive gain, best gain: -inf\n",
      "[LightGBM] [Warning] No further splits with positive gain, best gain: -inf\n",
      "[LightGBM] [Warning] No further splits with positive gain, best gain: -inf\n",
      "[LightGBM] [Warning] No further splits with positive gain, best gain: -inf\n",
      "[120]\tvalid_0's l2: 0.0140154\n",
      "[LightGBM] [Warning] No further splits with positive gain, best gain: -inf\n",
      "[LightGBM] [Warning] No further splits with positive gain, best gain: -inf\n",
      "[LightGBM] [Warning] No further splits with positive gain, best gain: -inf\n",
      "[LightGBM] [Warning] No further splits with positive gain, best gain: -inf\n",
      "[LightGBM] [Warning] No further splits with positive gain, best gain: -inf\n",
      "[LightGBM] [Warning] No further splits with positive gain, best gain: -inf\n",
      "[LightGBM] [Warning] No further splits with positive gain, best gain: -inf\n",
      "[LightGBM] [Warning] No further splits with positive gain, best gain: -inf\n",
      "[LightGBM] [Warning] No further splits with positive gain, best gain: -inf\n",
      "[LightGBM] [Warning] No further splits with positive gain, best gain: -inf\n",
      "[130]\tvalid_0's l2: 0.0141523\n",
      "[LightGBM] [Warning] No further splits with positive gain, best gain: -inf\n",
      "[LightGBM] [Warning] No further splits with positive gain, best gain: -inf\n",
      "[LightGBM] [Warning] No further splits with positive gain, best gain: -inf\n",
      "[LightGBM] [Warning] No further splits with positive gain, best gain: -inf\n",
      "[LightGBM] [Warning] No further splits with positive gain, best gain: -inf\n",
      "[LightGBM] [Warning] No further splits with positive gain, best gain: -inf\n",
      "[LightGBM] [Warning] No further splits with positive gain, best gain: -inf\n",
      "[LightGBM] [Warning] No further splits with positive gain, best gain: -inf\n",
      "[LightGBM] [Warning] No further splits with positive gain, best gain: -inf\n",
      "[LightGBM] [Warning] No further splits with positive gain, best gain: -inf\n",
      "[140]\tvalid_0's l2: 0.0141645\n",
      "Early stopping, best iteration is:\n",
      "[120]\tvalid_0's l2: 0.0140154\n"
     ]
    },
    {
     "name": "stderr",
     "output_type": "stream",
     "text": [
      "\u001b[32m[I 2021-06-05 17:18:54,760]\u001b[0m Trial 14 finished with value: 0.1183866598579404 and parameters: {'num_leaves': 54, 'max_bin': 50, 'bagging_fraction': 0.7389082683981151, 'bagging_freq': 3, 'feature_fraction': 0.7675970110612975, 'min_data_in_leaf': 16, 'min_sum_hessian_in_leaf': 3}. Best is trial 4 with value: 0.11621335807143585.\u001b[0m\n",
      "C:\\Users\\drago\\Anaconda3\\lib\\site-packages\\lightgbm\\engine.py:148: UserWarning: Found `n_estimators` in params. Will use it instead of argument\n",
      "  _log_warning(\"Found `{}` in params. Will use it instead of argument\".format(alias))\n"
     ]
    },
    {
     "name": "stdout",
     "output_type": "stream",
     "text": [
      "[LightGBM] [Warning] Auto-choosing col-wise multi-threading, the overhead of testing was 0.002303 seconds.\n",
      "You can set `force_col_wise=true` to remove the overhead.\n",
      "[LightGBM] [Info] Total Bins 2590\n",
      "[LightGBM] [Info] Number of data points in the train set: 1156, number of used features: 78\n"
     ]
    },
    {
     "name": "stderr",
     "output_type": "stream",
     "text": [
      "C:\\Users\\drago\\Anaconda3\\lib\\site-packages\\lightgbm\\basic.py:1433: UserWarning: Overriding the parameters from Reference Dataset.\n",
      "  _log_warning('Overriding the parameters from Reference Dataset.')\n",
      "C:\\Users\\drago\\Anaconda3\\lib\\site-packages\\lightgbm\\basic.py:1245: UserWarning: categorical_column in param dict is overridden.\n",
      "  _log_warning('{} in param dict is overridden.'.format(cat_alias))\n"
     ]
    },
    {
     "name": "stdout",
     "output_type": "stream",
     "text": [
      "[LightGBM] [Info] Start training from score 12.015333\n",
      "Training until validation scores don't improve for 20 rounds\n",
      "[10]\tvalid_0's l2: 0.0652192\n",
      "[20]\tvalid_0's l2: 0.0356203\n",
      "[30]\tvalid_0's l2: 0.023876\n",
      "[40]\tvalid_0's l2: 0.0188538\n",
      "[50]\tvalid_0's l2: 0.0170089\n",
      "[60]\tvalid_0's l2: 0.0161279\n",
      "[70]\tvalid_0's l2: 0.0157713\n",
      "[80]\tvalid_0's l2: 0.0154205\n",
      "[90]\tvalid_0's l2: 0.0153315\n",
      "[100]\tvalid_0's l2: 0.0151689\n",
      "[110]\tvalid_0's l2: 0.0150059\n",
      "[120]\tvalid_0's l2: 0.0150484\n",
      "[130]\tvalid_0's l2: 0.0150938\n",
      "Early stopping, best iteration is:\n",
      "[110]\tvalid_0's l2: 0.0150059\n"
     ]
    },
    {
     "name": "stderr",
     "output_type": "stream",
     "text": [
      "\u001b[32m[I 2021-06-05 17:18:55,873]\u001b[0m Trial 15 finished with value: 0.12249843914982214 and parameters: {'num_leaves': 39, 'max_bin': 139, 'bagging_fraction': 0.6861259528954367, 'bagging_freq': 3, 'feature_fraction': 0.8763745057584925, 'min_data_in_leaf': 8, 'min_sum_hessian_in_leaf': 9}. Best is trial 4 with value: 0.11621335807143585.\u001b[0m\n",
      "C:\\Users\\drago\\Anaconda3\\lib\\site-packages\\lightgbm\\engine.py:148: UserWarning: Found `n_estimators` in params. Will use it instead of argument\n",
      "  _log_warning(\"Found `{}` in params. Will use it instead of argument\".format(alias))\n"
     ]
    },
    {
     "name": "stdout",
     "output_type": "stream",
     "text": [
      "[LightGBM] [Warning] Auto-choosing row-wise multi-threading, the overhead of testing was 0.000947 seconds.\n",
      "You can set `force_row_wise=true` to remove the overhead.\n",
      "And if memory is not enough, you can set `force_col_wise=true`.\n",
      "[LightGBM] [Info] Total Bins 2047\n",
      "[LightGBM] [Info] Number of data points in the train set: 1156, number of used features: 78\n"
     ]
    },
    {
     "name": "stderr",
     "output_type": "stream",
     "text": [
      "C:\\Users\\drago\\Anaconda3\\lib\\site-packages\\lightgbm\\basic.py:1433: UserWarning: Overriding the parameters from Reference Dataset.\n",
      "  _log_warning('Overriding the parameters from Reference Dataset.')\n",
      "C:\\Users\\drago\\Anaconda3\\lib\\site-packages\\lightgbm\\basic.py:1245: UserWarning: categorical_column in param dict is overridden.\n",
      "  _log_warning('{} in param dict is overridden.'.format(cat_alias))\n"
     ]
    },
    {
     "name": "stdout",
     "output_type": "stream",
     "text": [
      "[LightGBM] [Info] Start training from score 12.015333\n",
      "Training until validation scores don't improve for 20 rounds\n",
      "[10]\tvalid_0's l2: 0.0654476\n",
      "[20]\tvalid_0's l2: 0.0348945\n",
      "[30]\tvalid_0's l2: 0.0232133\n",
      "[40]\tvalid_0's l2: 0.0186158\n",
      "[50]\tvalid_0's l2: 0.0167928\n",
      "[60]\tvalid_0's l2: 0.0158671\n",
      "[70]\tvalid_0's l2: 0.0151884\n",
      "[80]\tvalid_0's l2: 0.014973\n",
      "[90]\tvalid_0's l2: 0.0148574\n",
      "[100]\tvalid_0's l2: 0.0147908\n",
      "[110]\tvalid_0's l2: 0.0147467\n",
      "[120]\tvalid_0's l2: 0.0147442\n",
      "[130]\tvalid_0's l2: 0.0147911\n",
      "[140]\tvalid_0's l2: 0.0146097\n",
      "[150]\tvalid_0's l2: 0.0146298\n",
      "[160]\tvalid_0's l2: 0.0146584\n",
      "Early stopping, best iteration is:\n",
      "[141]\tvalid_0's l2: 0.0145922\n"
     ]
    },
    {
     "name": "stderr",
     "output_type": "stream",
     "text": [
      "\u001b[32m[I 2021-06-05 17:18:57,147]\u001b[0m Trial 16 finished with value: 0.12079833209560319 and parameters: {'num_leaves': 46, 'max_bin': 94, 'bagging_fraction': 0.8068989098512387, 'bagging_freq': 4, 'feature_fraction': 0.8405515985555808, 'min_data_in_leaf': 10, 'min_sum_hessian_in_leaf': 9}. Best is trial 4 with value: 0.11621335807143585.\u001b[0m\n",
      "C:\\Users\\drago\\Anaconda3\\lib\\site-packages\\lightgbm\\engine.py:148: UserWarning: Found `n_estimators` in params. Will use it instead of argument\n",
      "  _log_warning(\"Found `{}` in params. Will use it instead of argument\".format(alias))\n"
     ]
    },
    {
     "name": "stdout",
     "output_type": "stream",
     "text": [
      "[LightGBM] [Warning] Auto-choosing col-wise multi-threading, the overhead of testing was 0.002661 seconds.\n",
      "You can set `force_col_wise=true` to remove the overhead.\n",
      "[LightGBM] [Info] Total Bins 2827\n",
      "[LightGBM] [Info] Number of data points in the train set: 1156, number of used features: 78\n"
     ]
    },
    {
     "name": "stderr",
     "output_type": "stream",
     "text": [
      "C:\\Users\\drago\\Anaconda3\\lib\\site-packages\\lightgbm\\basic.py:1433: UserWarning: Overriding the parameters from Reference Dataset.\n",
      "  _log_warning('Overriding the parameters from Reference Dataset.')\n",
      "C:\\Users\\drago\\Anaconda3\\lib\\site-packages\\lightgbm\\basic.py:1245: UserWarning: categorical_column in param dict is overridden.\n",
      "  _log_warning('{} in param dict is overridden.'.format(cat_alias))\n"
     ]
    },
    {
     "name": "stdout",
     "output_type": "stream",
     "text": [
      "[LightGBM] [Info] Start training from score 12.015333\n",
      "Training until validation scores don't improve for 20 rounds\n",
      "[10]\tvalid_0's l2: 0.0635115\n",
      "[20]\tvalid_0's l2: 0.0356727\n",
      "[30]\tvalid_0's l2: 0.0241828\n",
      "[40]\tvalid_0's l2: 0.0197761\n",
      "[50]\tvalid_0's l2: 0.017458\n",
      "[60]\tvalid_0's l2: 0.0164014\n",
      "[70]\tvalid_0's l2: 0.0161523\n",
      "[80]\tvalid_0's l2: 0.015674\n",
      "[90]\tvalid_0's l2: 0.0155865\n",
      "[100]\tvalid_0's l2: 0.0156389\n",
      "Early stopping, best iteration is:\n",
      "[85]\tvalid_0's l2: 0.0155394\n"
     ]
    },
    {
     "name": "stderr",
     "output_type": "stream",
     "text": [
      "\u001b[32m[I 2021-06-05 17:18:58,159]\u001b[0m Trial 17 finished with value: 0.12465732708852482 and parameters: {'num_leaves': 46, 'max_bin': 159, 'bagging_fraction': 0.6506621909633512, 'bagging_freq': 10, 'feature_fraction': 0.7219950996148188, 'min_data_in_leaf': 8, 'min_sum_hessian_in_leaf': 7}. Best is trial 4 with value: 0.11621335807143585.\u001b[0m\n",
      "C:\\Users\\drago\\Anaconda3\\lib\\site-packages\\lightgbm\\engine.py:148: UserWarning: Found `n_estimators` in params. Will use it instead of argument\n",
      "  _log_warning(\"Found `{}` in params. Will use it instead of argument\".format(alias))\n"
     ]
    },
    {
     "name": "stdout",
     "output_type": "stream",
     "text": [
      "[LightGBM] [Warning] Auto-choosing col-wise multi-threading, the overhead of testing was 0.003659 seconds.\n",
      "You can set `force_col_wise=true` to remove the overhead.\n",
      "[LightGBM] [Info] Total Bins 2060\n",
      "[LightGBM] [Info] Number of data points in the train set: 1156, number of used features: 78\n"
     ]
    },
    {
     "name": "stderr",
     "output_type": "stream",
     "text": [
      "C:\\Users\\drago\\Anaconda3\\lib\\site-packages\\lightgbm\\basic.py:1433: UserWarning: Overriding the parameters from Reference Dataset.\n",
      "  _log_warning('Overriding the parameters from Reference Dataset.')\n",
      "C:\\Users\\drago\\Anaconda3\\lib\\site-packages\\lightgbm\\basic.py:1245: UserWarning: categorical_column in param dict is overridden.\n",
      "  _log_warning('{} in param dict is overridden.'.format(cat_alias))\n"
     ]
    },
    {
     "name": "stdout",
     "output_type": "stream",
     "text": [
      "[LightGBM] [Info] Start training from score 12.015333\n",
      "Training until validation scores don't improve for 20 rounds\n",
      "[10]\tvalid_0's l2: 0.0772015\n",
      "[20]\tvalid_0's l2: 0.0488641\n",
      "[30]\tvalid_0's l2: 0.034581\n",
      "[40]\tvalid_0's l2: 0.0270809\n",
      "[50]\tvalid_0's l2: 0.0230393\n",
      "[60]\tvalid_0's l2: 0.020913\n",
      "[70]\tvalid_0's l2: 0.0198276\n",
      "[80]\tvalid_0's l2: 0.018913\n",
      "[90]\tvalid_0's l2: 0.0180636\n",
      "[100]\tvalid_0's l2: 0.0173222\n",
      "[110]\tvalid_0's l2: 0.0167365\n",
      "[120]\tvalid_0's l2: 0.0162763\n",
      "[130]\tvalid_0's l2: 0.016011\n",
      "[140]\tvalid_0's l2: 0.0157394\n",
      "[150]\tvalid_0's l2: 0.0154868\n",
      "[160]\tvalid_0's l2: 0.0154228\n",
      "[170]\tvalid_0's l2: 0.0153516\n",
      "[180]\tvalid_0's l2: 0.0152941\n",
      "[190]\tvalid_0's l2: 0.0150688\n",
      "[200]\tvalid_0's l2: 0.0149567\n",
      "[210]\tvalid_0's l2: 0.0148402\n",
      "[220]\tvalid_0's l2: 0.0148004\n",
      "[230]\tvalid_0's l2: 0.0146198\n",
      "[240]\tvalid_0's l2: 0.0145606\n",
      "[250]\tvalid_0's l2: 0.0145366\n",
      "[260]\tvalid_0's l2: 0.0144597\n",
      "[270]\tvalid_0's l2: 0.0144057\n",
      "[280]\tvalid_0's l2: 0.014351\n",
      "[290]\tvalid_0's l2: 0.0143398\n",
      "[300]\tvalid_0's l2: 0.0143803\n",
      "Early stopping, best iteration is:\n",
      "[282]\tvalid_0's l2: 0.0143198\n"
     ]
    },
    {
     "name": "stderr",
     "output_type": "stream",
     "text": [
      "\u001b[32m[I 2021-06-05 17:18:59,144]\u001b[0m Trial 18 finished with value: 0.11966528057480719 and parameters: {'num_leaves': 5, 'max_bin': 95, 'bagging_fraction': 0.7300867687463426, 'bagging_freq': 3, 'feature_fraction': 0.7090077144994208, 'min_data_in_leaf': 8, 'min_sum_hessian_in_leaf': 2}. Best is trial 4 with value: 0.11621335807143585.\u001b[0m\n",
      "C:\\Users\\drago\\Anaconda3\\lib\\site-packages\\lightgbm\\engine.py:148: UserWarning: Found `n_estimators` in params. Will use it instead of argument\n",
      "  _log_warning(\"Found `{}` in params. Will use it instead of argument\".format(alias))\n"
     ]
    },
    {
     "name": "stdout",
     "output_type": "stream",
     "text": [
      "[LightGBM] [Warning] Auto-choosing col-wise multi-threading, the overhead of testing was 0.003739 seconds.\n",
      "You can set `force_col_wise=true` to remove the overhead.\n",
      "[LightGBM] [Info] Total Bins 2554\n",
      "[LightGBM] [Info] Number of data points in the train set: 1156, number of used features: 78\n"
     ]
    },
    {
     "name": "stderr",
     "output_type": "stream",
     "text": [
      "C:\\Users\\drago\\Anaconda3\\lib\\site-packages\\lightgbm\\basic.py:1433: UserWarning: Overriding the parameters from Reference Dataset.\n",
      "  _log_warning('Overriding the parameters from Reference Dataset.')\n",
      "C:\\Users\\drago\\Anaconda3\\lib\\site-packages\\lightgbm\\basic.py:1245: UserWarning: categorical_column in param dict is overridden.\n",
      "  _log_warning('{} in param dict is overridden.'.format(cat_alias))\n"
     ]
    },
    {
     "name": "stdout",
     "output_type": "stream",
     "text": [
      "[LightGBM] [Info] Start training from score 12.015333\n",
      "Training until validation scores don't improve for 20 rounds\n",
      "[10]\tvalid_0's l2: 0.0666045\n",
      "[20]\tvalid_0's l2: 0.037398\n",
      "[30]\tvalid_0's l2: 0.0252309\n",
      "[40]\tvalid_0's l2: 0.0194101\n",
      "[50]\tvalid_0's l2: 0.016904\n",
      "[60]\tvalid_0's l2: 0.0160305\n",
      "[70]\tvalid_0's l2: 0.0153439\n",
      "[80]\tvalid_0's l2: 0.0148304\n",
      "[90]\tvalid_0's l2: 0.0147109\n",
      "[100]\tvalid_0's l2: 0.0145076\n",
      "[110]\tvalid_0's l2: 0.0145036\n",
      "[120]\tvalid_0's l2: 0.0144584\n",
      "[130]\tvalid_0's l2: 0.0144166\n",
      "[140]\tvalid_0's l2: 0.0145413\n",
      "[150]\tvalid_0's l2: 0.0145218\n",
      "Early stopping, best iteration is:\n",
      "[131]\tvalid_0's l2: 0.014407\n"
     ]
    },
    {
     "name": "stderr",
     "output_type": "stream",
     "text": [
      "\u001b[32m[I 2021-06-05 17:19:00,166]\u001b[0m Trial 19 finished with value: 0.12002938223871082 and parameters: {'num_leaves': 22, 'max_bin': 136, 'bagging_fraction': 0.6954363806240866, 'bagging_freq': 6, 'feature_fraction': 0.7266004099285668, 'min_data_in_leaf': 11, 'min_sum_hessian_in_leaf': 5}. Best is trial 4 with value: 0.11621335807143585.\u001b[0m\n",
      "C:\\Users\\drago\\Anaconda3\\lib\\site-packages\\lightgbm\\engine.py:148: UserWarning: Found `n_estimators` in params. Will use it instead of argument\n",
      "  _log_warning(\"Found `{}` in params. Will use it instead of argument\".format(alias))\n"
     ]
    },
    {
     "name": "stdout",
     "output_type": "stream",
     "text": [
      "[LightGBM] [Warning] Auto-choosing col-wise multi-threading, the overhead of testing was 0.003109 seconds.\n",
      "You can set `force_col_wise=true` to remove the overhead.\n",
      "[LightGBM] [Info] Total Bins 2182\n",
      "[LightGBM] [Info] Number of data points in the train set: 1156, number of used features: 78\n"
     ]
    },
    {
     "name": "stderr",
     "output_type": "stream",
     "text": [
      "C:\\Users\\drago\\Anaconda3\\lib\\site-packages\\lightgbm\\basic.py:1433: UserWarning: Overriding the parameters from Reference Dataset.\n",
      "  _log_warning('Overriding the parameters from Reference Dataset.')\n",
      "C:\\Users\\drago\\Anaconda3\\lib\\site-packages\\lightgbm\\basic.py:1245: UserWarning: categorical_column in param dict is overridden.\n",
      "  _log_warning('{} in param dict is overridden.'.format(cat_alias))\n"
     ]
    },
    {
     "name": "stdout",
     "output_type": "stream",
     "text": [
      "[LightGBM] [Info] Start training from score 12.015333\n",
      "[LightGBM] [Warning] No further splits with positive gain, best gain: -inf\n",
      "Training until validation scores don't improve for 20 rounds\n",
      "[LightGBM] [Warning] No further splits with positive gain, best gain: -inf\n",
      "[LightGBM] [Warning] No further splits with positive gain, best gain: -inf\n",
      "[LightGBM] [Warning] No further splits with positive gain, best gain: -inf\n",
      "[LightGBM] [Warning] No further splits with positive gain, best gain: -inf\n",
      "[LightGBM] [Warning] No further splits with positive gain, best gain: -inf\n",
      "[LightGBM] [Warning] No further splits with positive gain, best gain: -inf\n",
      "[LightGBM] [Warning] No further splits with positive gain, best gain: -inf\n",
      "[LightGBM] [Warning] No further splits with positive gain, best gain: -inf\n",
      "[LightGBM] [Warning] No further splits with positive gain, best gain: -inf\n",
      "[10]\tvalid_0's l2: 0.06419\n",
      "[LightGBM] [Warning] No further splits with positive gain, best gain: -inf\n",
      "[LightGBM] [Warning] No further splits with positive gain, best gain: -inf\n",
      "[LightGBM] [Warning] No further splits with positive gain, best gain: -inf\n",
      "[LightGBM] [Warning] No further splits with positive gain, best gain: -inf\n",
      "[LightGBM] [Warning] No further splits with positive gain, best gain: -inf\n",
      "[LightGBM] [Warning] No further splits with positive gain, best gain: -inf\n",
      "[LightGBM] [Warning] No further splits with positive gain, best gain: -inf\n",
      "[LightGBM] [Warning] No further splits with positive gain, best gain: -inf\n",
      "[LightGBM] [Warning] No further splits with positive gain, best gain: -inf\n",
      "[LightGBM] [Warning] No further splits with positive gain, best gain: -inf\n",
      "[20]\tvalid_0's l2: 0.0359727\n",
      "[LightGBM] [Warning] No further splits with positive gain, best gain: -inf\n",
      "[LightGBM] [Warning] No further splits with positive gain, best gain: -inf\n",
      "[LightGBM] [Warning] No further splits with positive gain, best gain: -inf\n",
      "[LightGBM] [Warning] No further splits with positive gain, best gain: -inf\n",
      "[LightGBM] [Warning] No further splits with positive gain, best gain: -inf\n",
      "[LightGBM] [Warning] No further splits with positive gain, best gain: -inf\n",
      "[LightGBM] [Warning] No further splits with positive gain, best gain: -inf\n",
      "[LightGBM] [Warning] No further splits with positive gain, best gain: -inf\n",
      "[LightGBM] [Warning] No further splits with positive gain, best gain: -inf\n",
      "[LightGBM] [Warning] No further splits with positive gain, best gain: -inf\n",
      "[30]\tvalid_0's l2: 0.0243612\n",
      "[LightGBM] [Warning] No further splits with positive gain, best gain: -inf\n",
      "[LightGBM] [Warning] No further splits with positive gain, best gain: -inf\n",
      "[LightGBM] [Warning] No further splits with positive gain, best gain: -inf\n",
      "[LightGBM] [Warning] No further splits with positive gain, best gain: -inf\n",
      "[LightGBM] [Warning] No further splits with positive gain, best gain: -inf\n",
      "[LightGBM] [Warning] No further splits with positive gain, best gain: -inf\n",
      "[LightGBM] [Warning] No further splits with positive gain, best gain: -inf\n",
      "[LightGBM] [Warning] No further splits with positive gain, best gain: -inf\n",
      "[LightGBM] [Warning] No further splits with positive gain, best gain: -inf\n",
      "[LightGBM] [Warning] No further splits with positive gain, best gain: -inf\n",
      "[40]\tvalid_0's l2: 0.0194545\n",
      "[LightGBM] [Warning] No further splits with positive gain, best gain: -inf\n",
      "[LightGBM] [Warning] No further splits with positive gain, best gain: -inf\n",
      "[LightGBM] [Warning] No further splits with positive gain, best gain: -inf\n",
      "[LightGBM] [Warning] No further splits with positive gain, best gain: -inf\n",
      "[LightGBM] [Warning] No further splits with positive gain, best gain: -inf\n",
      "[LightGBM] [Warning] No further splits with positive gain, best gain: -inf\n",
      "[LightGBM] [Warning] No further splits with positive gain, best gain: -inf\n",
      "[LightGBM] [Warning] No further splits with positive gain, best gain: -inf\n",
      "[LightGBM] [Warning] No further splits with positive gain, best gain: -inf\n",
      "[LightGBM] [Warning] No further splits with positive gain, best gain: -inf\n",
      "[50]\tvalid_0's l2: 0.0170943\n",
      "[LightGBM] [Warning] No further splits with positive gain, best gain: -inf\n",
      "[LightGBM] [Warning] No further splits with positive gain, best gain: -inf\n",
      "[LightGBM] [Warning] No further splits with positive gain, best gain: -inf\n",
      "[LightGBM] [Warning] No further splits with positive gain, best gain: -inf\n",
      "[LightGBM] [Warning] No further splits with positive gain, best gain: -inf\n",
      "[LightGBM] [Warning] No further splits with positive gain, best gain: -inf\n",
      "[LightGBM] [Warning] No further splits with positive gain, best gain: -inf\n",
      "[LightGBM] [Warning] No further splits with positive gain, best gain: -inf\n",
      "[LightGBM] [Warning] No further splits with positive gain, best gain: -inf\n",
      "[LightGBM] [Warning] No further splits with positive gain, best gain: -inf\n",
      "[60]\tvalid_0's l2: 0.0163475\n",
      "[LightGBM] [Warning] No further splits with positive gain, best gain: -inf\n",
      "[LightGBM] [Warning] No further splits with positive gain, best gain: -inf\n",
      "[LightGBM] [Warning] No further splits with positive gain, best gain: -inf\n",
      "[LightGBM] [Warning] No further splits with positive gain, best gain: -inf\n",
      "[LightGBM] [Warning] No further splits with positive gain, best gain: -inf\n",
      "[LightGBM] [Warning] No further splits with positive gain, best gain: -inf\n",
      "[LightGBM] [Warning] No further splits with positive gain, best gain: -inf\n",
      "[LightGBM] [Warning] No further splits with positive gain, best gain: -inf\n",
      "[LightGBM] [Warning] No further splits with positive gain, best gain: -inf\n",
      "[LightGBM] [Warning] No further splits with positive gain, best gain: -inf\n",
      "[70]\tvalid_0's l2: 0.015726\n",
      "[LightGBM] [Warning] No further splits with positive gain, best gain: -inf\n",
      "[LightGBM] [Warning] No further splits with positive gain, best gain: -inf\n",
      "[LightGBM] [Warning] No further splits with positive gain, best gain: -inf\n",
      "[LightGBM] [Warning] No further splits with positive gain, best gain: -inf\n",
      "[LightGBM] [Warning] No further splits with positive gain, best gain: -inf\n",
      "[LightGBM] [Warning] No further splits with positive gain, best gain: -inf\n",
      "[LightGBM] [Warning] No further splits with positive gain, best gain: -inf\n",
      "[LightGBM] [Warning] No further splits with positive gain, best gain: -inf\n",
      "[LightGBM] [Warning] No further splits with positive gain, best gain: -inf\n",
      "[LightGBM] [Warning] No further splits with positive gain, best gain: -inf\n",
      "[80]\tvalid_0's l2: 0.0156066\n",
      "[LightGBM] [Warning] No further splits with positive gain, best gain: -inf\n",
      "[LightGBM] [Warning] No further splits with positive gain, best gain: -inf\n",
      "[LightGBM] [Warning] No further splits with positive gain, best gain: -inf\n",
      "[LightGBM] [Warning] No further splits with positive gain, best gain: -inf\n",
      "[LightGBM] [Warning] No further splits with positive gain, best gain: -inf\n",
      "[LightGBM] [Warning] No further splits with positive gain, best gain: -inf\n",
      "[LightGBM] [Warning] No further splits with positive gain, best gain: -inf\n",
      "[LightGBM] [Warning] No further splits with positive gain, best gain: -inf\n",
      "[LightGBM] [Warning] No further splits with positive gain, best gain: -inf\n",
      "[LightGBM] [Warning] No further splits with positive gain, best gain: -inf\n",
      "[90]\tvalid_0's l2: 0.0155335\n",
      "[LightGBM] [Warning] No further splits with positive gain, best gain: -inf\n",
      "[LightGBM] [Warning] No further splits with positive gain, best gain: -inf\n",
      "[LightGBM] [Warning] No further splits with positive gain, best gain: -inf\n",
      "[LightGBM] [Warning] No further splits with positive gain, best gain: -inf\n",
      "[LightGBM] [Warning] No further splits with positive gain, best gain: -inf\n",
      "[LightGBM] [Warning] No further splits with positive gain, best gain: -inf\n",
      "[LightGBM] [Warning] No further splits with positive gain, best gain: -inf\n",
      "[LightGBM] [Warning] No further splits with positive gain, best gain: -inf\n",
      "[LightGBM] [Warning] No further splits with positive gain, best gain: -inf\n",
      "[LightGBM] [Warning] No further splits with positive gain, best gain: -inf\n",
      "[100]\tvalid_0's l2: 0.0155497\n",
      "[LightGBM] [Warning] No further splits with positive gain, best gain: -inf\n",
      "[LightGBM] [Warning] No further splits with positive gain, best gain: -inf\n",
      "[LightGBM] [Warning] No further splits with positive gain, best gain: -inf\n"
     ]
    },
    {
     "name": "stdout",
     "output_type": "stream",
     "text": [
      "[LightGBM] [Warning] No further splits with positive gain, best gain: -inf\n",
      "[LightGBM] [Warning] No further splits with positive gain, best gain: -inf\n",
      "[LightGBM] [Warning] No further splits with positive gain, best gain: -inf\n",
      "[LightGBM] [Warning] No further splits with positive gain, best gain: -inf\n",
      "[LightGBM] [Warning] No further splits with positive gain, best gain: -inf\n",
      "[LightGBM] [Warning] No further splits with positive gain, best gain: -inf\n",
      "[LightGBM] [Warning] No further splits with positive gain, best gain: -inf\n",
      "[110]\tvalid_0's l2: 0.0154998\n",
      "[LightGBM] [Warning] No further splits with positive gain, best gain: -inf\n",
      "[LightGBM] [Warning] No further splits with positive gain, best gain: -inf\n",
      "Early stopping, best iteration is:\n",
      "[92]\tvalid_0's l2: 0.0154819\n"
     ]
    },
    {
     "name": "stderr",
     "output_type": "stream",
     "text": [
      "\u001b[32m[I 2021-06-05 17:19:01,627]\u001b[0m Trial 20 finished with value: 0.12442620993318665 and parameters: {'num_leaves': 58, 'max_bin': 105, 'bagging_fraction': 0.6179324626328134, 'bagging_freq': 9, 'feature_fraction': 0.8030969945230428, 'min_data_in_leaf': 12, 'min_sum_hessian_in_leaf': 2}. Best is trial 4 with value: 0.11621335807143585.\u001b[0m\n",
      "C:\\Users\\drago\\Anaconda3\\lib\\site-packages\\lightgbm\\engine.py:148: UserWarning: Found `n_estimators` in params. Will use it instead of argument\n",
      "  _log_warning(\"Found `{}` in params. Will use it instead of argument\".format(alias))\n"
     ]
    },
    {
     "name": "stdout",
     "output_type": "stream",
     "text": [
      "[LightGBM] [Warning] Auto-choosing col-wise multi-threading, the overhead of testing was 0.003967 seconds.\n",
      "You can set `force_col_wise=true` to remove the overhead.\n",
      "[LightGBM] [Info] Total Bins 2807\n",
      "[LightGBM] [Info] Number of data points in the train set: 1156, number of used features: 79\n"
     ]
    },
    {
     "name": "stderr",
     "output_type": "stream",
     "text": [
      "C:\\Users\\drago\\Anaconda3\\lib\\site-packages\\lightgbm\\basic.py:1433: UserWarning: Overriding the parameters from Reference Dataset.\n",
      "  _log_warning('Overriding the parameters from Reference Dataset.')\n",
      "C:\\Users\\drago\\Anaconda3\\lib\\site-packages\\lightgbm\\basic.py:1245: UserWarning: categorical_column in param dict is overridden.\n",
      "  _log_warning('{} in param dict is overridden.'.format(cat_alias))\n"
     ]
    },
    {
     "name": "stdout",
     "output_type": "stream",
     "text": [
      "[LightGBM] [Info] Start training from score 12.015333\n",
      "Training until validation scores don't improve for 20 rounds\n",
      "[10]\tvalid_0's l2: 0.0646566\n",
      "[20]\tvalid_0's l2: 0.0348004\n",
      "[30]\tvalid_0's l2: 0.023748\n",
      "[40]\tvalid_0's l2: 0.0194866\n",
      "[50]\tvalid_0's l2: 0.0176701\n",
      "[60]\tvalid_0's l2: 0.0170057\n",
      "[70]\tvalid_0's l2: 0.0167843\n",
      "[80]\tvalid_0's l2: 0.016537\n",
      "[90]\tvalid_0's l2: 0.0164991\n",
      "[100]\tvalid_0's l2: 0.0163692\n",
      "[110]\tvalid_0's l2: 0.0162118\n",
      "[120]\tvalid_0's l2: 0.0162129\n",
      "[130]\tvalid_0's l2: 0.0162495\n",
      "Early stopping, best iteration is:\n",
      "[117]\tvalid_0's l2: 0.0161767\n"
     ]
    },
    {
     "name": "stderr",
     "output_type": "stream",
     "text": [
      "\u001b[32m[I 2021-06-05 17:19:03,263]\u001b[0m Trial 21 finished with value: 0.12718774119423695 and parameters: {'num_leaves': 60, 'max_bin': 157, 'bagging_fraction': 0.8994235032839333, 'bagging_freq': 2, 'feature_fraction': 0.8340630286841071, 'min_data_in_leaf': 4, 'min_sum_hessian_in_leaf': 7}. Best is trial 4 with value: 0.11621335807143585.\u001b[0m\n",
      "C:\\Users\\drago\\Anaconda3\\lib\\site-packages\\lightgbm\\engine.py:148: UserWarning: Found `n_estimators` in params. Will use it instead of argument\n",
      "  _log_warning(\"Found `{}` in params. Will use it instead of argument\".format(alias))\n"
     ]
    },
    {
     "name": "stdout",
     "output_type": "stream",
     "text": [
      "[LightGBM] [Warning] Auto-choosing col-wise multi-threading, the overhead of testing was 0.002812 seconds.\n",
      "You can set `force_col_wise=true` to remove the overhead.\n",
      "[LightGBM] [Info] Total Bins 3017\n",
      "[LightGBM] [Info] Number of data points in the train set: 1156, number of used features: 79\n"
     ]
    },
    {
     "name": "stderr",
     "output_type": "stream",
     "text": [
      "C:\\Users\\drago\\Anaconda3\\lib\\site-packages\\lightgbm\\basic.py:1433: UserWarning: Overriding the parameters from Reference Dataset.\n",
      "  _log_warning('Overriding the parameters from Reference Dataset.')\n",
      "C:\\Users\\drago\\Anaconda3\\lib\\site-packages\\lightgbm\\basic.py:1245: UserWarning: categorical_column in param dict is overridden.\n",
      "  _log_warning('{} in param dict is overridden.'.format(cat_alias))\n"
     ]
    },
    {
     "name": "stdout",
     "output_type": "stream",
     "text": [
      "[LightGBM] [Info] Start training from score 12.015333\n",
      "Training until validation scores don't improve for 20 rounds\n",
      "[10]\tvalid_0's l2: 0.0717053\n",
      "[20]\tvalid_0's l2: 0.0413166\n",
      "[30]\tvalid_0's l2: 0.0279717\n",
      "[40]\tvalid_0's l2: 0.0219095\n",
      "[50]\tvalid_0's l2: 0.0189611\n",
      "[60]\tvalid_0's l2: 0.0172604\n",
      "[70]\tvalid_0's l2: 0.0164715\n",
      "[80]\tvalid_0's l2: 0.0160482\n",
      "[90]\tvalid_0's l2: 0.0157468\n",
      "[100]\tvalid_0's l2: 0.0153786\n",
      "[110]\tvalid_0's l2: 0.0151728\n",
      "[120]\tvalid_0's l2: 0.0149921\n",
      "[130]\tvalid_0's l2: 0.0149268\n",
      "[140]\tvalid_0's l2: 0.0148403\n",
      "[150]\tvalid_0's l2: 0.0148404\n",
      "Early stopping, best iteration is:\n",
      "[137]\tvalid_0's l2: 0.0147653\n"
     ]
    },
    {
     "name": "stderr",
     "output_type": "stream",
     "text": [
      "\u001b[32m[I 2021-06-05 17:19:04,082]\u001b[0m Trial 22 finished with value: 0.12151261222488925 and parameters: {'num_leaves': 11, 'max_bin': 178, 'bagging_fraction': 0.8036594793625054, 'bagging_freq': 6, 'feature_fraction': 0.6035916486129999, 'min_data_in_leaf': 3, 'min_sum_hessian_in_leaf': 7}. Best is trial 4 with value: 0.11621335807143585.\u001b[0m\n",
      "C:\\Users\\drago\\Anaconda3\\lib\\site-packages\\lightgbm\\engine.py:148: UserWarning: Found `n_estimators` in params. Will use it instead of argument\n",
      "  _log_warning(\"Found `{}` in params. Will use it instead of argument\".format(alias))\n"
     ]
    },
    {
     "name": "stdout",
     "output_type": "stream",
     "text": [
      "[LightGBM] [Warning] Auto-choosing col-wise multi-threading, the overhead of testing was 0.002997 seconds.\n",
      "You can set `force_col_wise=true` to remove the overhead.\n",
      "[LightGBM] [Info] Total Bins 2831\n",
      "[LightGBM] [Info] Number of data points in the train set: 1156, number of used features: 80\n"
     ]
    },
    {
     "name": "stderr",
     "output_type": "stream",
     "text": [
      "C:\\Users\\drago\\Anaconda3\\lib\\site-packages\\lightgbm\\basic.py:1433: UserWarning: Overriding the parameters from Reference Dataset.\n",
      "  _log_warning('Overriding the parameters from Reference Dataset.')\n",
      "C:\\Users\\drago\\Anaconda3\\lib\\site-packages\\lightgbm\\basic.py:1245: UserWarning: categorical_column in param dict is overridden.\n",
      "  _log_warning('{} in param dict is overridden.'.format(cat_alias))\n"
     ]
    },
    {
     "name": "stdout",
     "output_type": "stream",
     "text": [
      "[LightGBM] [Info] Start training from score 12.015333\n",
      "Training until validation scores don't improve for 20 rounds\n",
      "[10]\tvalid_0's l2: 0.0656779\n",
      "[20]\tvalid_0's l2: 0.0362675\n",
      "[30]\tvalid_0's l2: 0.0243702\n",
      "[40]\tvalid_0's l2: 0.019556\n",
      "[50]\tvalid_0's l2: 0.0175464\n",
      "[60]\tvalid_0's l2: 0.0166221\n",
      "[70]\tvalid_0's l2: 0.016172\n",
      "[80]\tvalid_0's l2: 0.0160095\n",
      "[90]\tvalid_0's l2: 0.015721\n",
      "[100]\tvalid_0's l2: 0.0155644\n",
      "[110]\tvalid_0's l2: 0.0154965\n",
      "[120]\tvalid_0's l2: 0.0154206\n",
      "[130]\tvalid_0's l2: 0.0153846\n",
      "[140]\tvalid_0's l2: 0.0154011\n",
      "[150]\tvalid_0's l2: 0.0152218\n",
      "[160]\tvalid_0's l2: 0.0151882\n",
      "[170]\tvalid_0's l2: 0.0151679\n",
      "[180]\tvalid_0's l2: 0.0151587\n",
      "[190]\tvalid_0's l2: 0.0151501\n",
      "[200]\tvalid_0's l2: 0.0151077\n",
      "[210]\tvalid_0's l2: 0.0151401\n",
      "[220]\tvalid_0's l2: 0.0151285\n",
      "[230]\tvalid_0's l2: 0.015138\n",
      "Early stopping, best iteration is:\n",
      "[214]\tvalid_0's l2: 0.0150949\n"
     ]
    },
    {
     "name": "stderr",
     "output_type": "stream",
     "text": [
      "\u001b[32m[I 2021-06-05 17:19:05,698]\u001b[0m Trial 23 finished with value: 0.12286137283920079 and parameters: {'num_leaves': 31, 'max_bin': 159, 'bagging_fraction': 0.8331911629643146, 'bagging_freq': 10, 'feature_fraction': 0.8279016711963055, 'min_data_in_leaf': 2, 'min_sum_hessian_in_leaf': 4}. Best is trial 4 with value: 0.11621335807143585.\u001b[0m\n",
      "C:\\Users\\drago\\Anaconda3\\lib\\site-packages\\lightgbm\\engine.py:148: UserWarning: Found `n_estimators` in params. Will use it instead of argument\n",
      "  _log_warning(\"Found `{}` in params. Will use it instead of argument\".format(alias))\n"
     ]
    },
    {
     "name": "stdout",
     "output_type": "stream",
     "text": [
      "[LightGBM] [Warning] Auto-choosing row-wise multi-threading, the overhead of testing was 0.001427 seconds.\n",
      "You can set `force_row_wise=true` to remove the overhead.\n",
      "And if memory is not enough, you can set `force_col_wise=true`.\n",
      "[LightGBM] [Info] Total Bins 1761\n",
      "[LightGBM] [Info] Number of data points in the train set: 1156, number of used features: 80\n"
     ]
    },
    {
     "name": "stderr",
     "output_type": "stream",
     "text": [
      "C:\\Users\\drago\\Anaconda3\\lib\\site-packages\\lightgbm\\basic.py:1433: UserWarning: Overriding the parameters from Reference Dataset.\n",
      "  _log_warning('Overriding the parameters from Reference Dataset.')\n",
      "C:\\Users\\drago\\Anaconda3\\lib\\site-packages\\lightgbm\\basic.py:1245: UserWarning: categorical_column in param dict is overridden.\n",
      "  _log_warning('{} in param dict is overridden.'.format(cat_alias))\n"
     ]
    },
    {
     "name": "stdout",
     "output_type": "stream",
     "text": [
      "[LightGBM] [Info] Start training from score 12.015333\n",
      "Training until validation scores don't improve for 20 rounds\n",
      "[10]\tvalid_0's l2: 0.0666495\n",
      "[20]\tvalid_0's l2: 0.0366255\n",
      "[30]\tvalid_0's l2: 0.0251371\n",
      "[40]\tvalid_0's l2: 0.0201572\n",
      "[50]\tvalid_0's l2: 0.0179482\n",
      "[60]\tvalid_0's l2: 0.0167342\n",
      "[70]\tvalid_0's l2: 0.0163499\n",
      "[80]\tvalid_0's l2: 0.0159761\n",
      "[90]\tvalid_0's l2: 0.0157986\n",
      "[100]\tvalid_0's l2: 0.0158269\n",
      "[110]\tvalid_0's l2: 0.015862\n",
      "Early stopping, best iteration is:\n",
      "[91]\tvalid_0's l2: 0.0157823\n"
     ]
    },
    {
     "name": "stderr",
     "output_type": "stream",
     "text": [
      "\u001b[32m[I 2021-06-05 17:19:06,760]\u001b[0m Trial 24 finished with value: 0.12562753706931873 and parameters: {'num_leaves': 48, 'max_bin': 75, 'bagging_fraction': 0.6605183031020647, 'bagging_freq': 1, 'feature_fraction': 0.49999826244820006, 'min_data_in_leaf': 2, 'min_sum_hessian_in_leaf': 8}. Best is trial 4 with value: 0.11621335807143585.\u001b[0m\n",
      "C:\\Users\\drago\\Anaconda3\\lib\\site-packages\\lightgbm\\engine.py:148: UserWarning: Found `n_estimators` in params. Will use it instead of argument\n",
      "  _log_warning(\"Found `{}` in params. Will use it instead of argument\".format(alias))\n"
     ]
    },
    {
     "name": "stdout",
     "output_type": "stream",
     "text": [
      "[LightGBM] [Warning] Auto-choosing row-wise multi-threading, the overhead of testing was 0.001408 seconds.\n",
      "You can set `force_row_wise=true` to remove the overhead.\n",
      "And if memory is not enough, you can set `force_col_wise=true`.\n",
      "[LightGBM] [Info] Total Bins 2158\n",
      "[LightGBM] [Info] Number of data points in the train set: 1156, number of used features: 79\n"
     ]
    },
    {
     "name": "stderr",
     "output_type": "stream",
     "text": [
      "C:\\Users\\drago\\Anaconda3\\lib\\site-packages\\lightgbm\\basic.py:1433: UserWarning: Overriding the parameters from Reference Dataset.\n",
      "  _log_warning('Overriding the parameters from Reference Dataset.')\n",
      "C:\\Users\\drago\\Anaconda3\\lib\\site-packages\\lightgbm\\basic.py:1245: UserWarning: categorical_column in param dict is overridden.\n",
      "  _log_warning('{} in param dict is overridden.'.format(cat_alias))\n"
     ]
    },
    {
     "name": "stdout",
     "output_type": "stream",
     "text": [
      "[LightGBM] [Info] Start training from score 12.015333\n",
      "Training until validation scores don't improve for 20 rounds\n",
      "[10]\tvalid_0's l2: 0.0688781\n",
      "[20]\tvalid_0's l2: 0.0382244\n",
      "[30]\tvalid_0's l2: 0.0256253\n",
      "[40]\tvalid_0's l2: 0.0200546\n",
      "[50]\tvalid_0's l2: 0.0173239\n",
      "[60]\tvalid_0's l2: 0.0160902\n",
      "[70]\tvalid_0's l2: 0.0154621\n",
      "[80]\tvalid_0's l2: 0.0150493\n",
      "[90]\tvalid_0's l2: 0.0148306\n",
      "[100]\tvalid_0's l2: 0.0145364\n",
      "[110]\tvalid_0's l2: 0.0144797\n",
      "[120]\tvalid_0's l2: 0.0143889\n",
      "[130]\tvalid_0's l2: 0.0142687\n",
      "[140]\tvalid_0's l2: 0.0141614\n",
      "[150]\tvalid_0's l2: 0.0140351\n",
      "[160]\tvalid_0's l2: 0.0139486\n",
      "[170]\tvalid_0's l2: 0.0139869\n",
      "[180]\tvalid_0's l2: 0.0139826\n",
      "[190]\tvalid_0's l2: 0.014061\n",
      "Early stopping, best iteration is:\n",
      "[177]\tvalid_0's l2: 0.0139364\n"
     ]
    },
    {
     "name": "stderr",
     "output_type": "stream",
     "text": [
      "\u001b[32m[I 2021-06-05 17:19:07,845]\u001b[0m Trial 25 finished with value: 0.11805245762386342 and parameters: {'num_leaves': 17, 'max_bin': 102, 'bagging_fraction': 0.8640406467327955, 'bagging_freq': 8, 'feature_fraction': 0.41591946476565395, 'min_data_in_leaf': 4, 'min_sum_hessian_in_leaf': 7}. Best is trial 4 with value: 0.11621335807143585.\u001b[0m\n",
      "C:\\Users\\drago\\Anaconda3\\lib\\site-packages\\lightgbm\\engine.py:148: UserWarning: Found `n_estimators` in params. Will use it instead of argument\n",
      "  _log_warning(\"Found `{}` in params. Will use it instead of argument\".format(alias))\n"
     ]
    },
    {
     "name": "stdout",
     "output_type": "stream",
     "text": [
      "[LightGBM] [Warning] Auto-choosing col-wise multi-threading, the overhead of testing was 0.002634 seconds.\n",
      "You can set `force_col_wise=true` to remove the overhead.\n",
      "[LightGBM] [Info] Total Bins 1911\n",
      "[LightGBM] [Info] Number of data points in the train set: 1156, number of used features: 78\n"
     ]
    },
    {
     "name": "stderr",
     "output_type": "stream",
     "text": [
      "C:\\Users\\drago\\Anaconda3\\lib\\site-packages\\lightgbm\\basic.py:1433: UserWarning: Overriding the parameters from Reference Dataset.\n",
      "  _log_warning('Overriding the parameters from Reference Dataset.')\n",
      "C:\\Users\\drago\\Anaconda3\\lib\\site-packages\\lightgbm\\basic.py:1245: UserWarning: categorical_column in param dict is overridden.\n",
      "  _log_warning('{} in param dict is overridden.'.format(cat_alias))\n"
     ]
    },
    {
     "name": "stdout",
     "output_type": "stream",
     "text": [
      "[LightGBM] [Info] Start training from score 12.015333\n",
      "Training until validation scores don't improve for 20 rounds\n",
      "[10]\tvalid_0's l2: 0.0648772\n",
      "[20]\tvalid_0's l2: 0.0348522\n",
      "[30]\tvalid_0's l2: 0.0229095\n",
      "[40]\tvalid_0's l2: 0.0183481\n",
      "[50]\tvalid_0's l2: 0.0164278\n",
      "[60]\tvalid_0's l2: 0.0157691\n",
      "[70]\tvalid_0's l2: 0.0153027\n",
      "[80]\tvalid_0's l2: 0.0150543\n",
      "[90]\tvalid_0's l2: 0.0150916\n",
      "[100]\tvalid_0's l2: 0.0152523\n",
      "Early stopping, best iteration is:\n",
      "[85]\tvalid_0's l2: 0.0150162\n"
     ]
    },
    {
     "name": "stderr",
     "output_type": "stream",
     "text": [
      "\u001b[32m[I 2021-06-05 17:19:08,778]\u001b[0m Trial 26 finished with value: 0.1225406887451526 and parameters: {'num_leaves': 39, 'max_bin': 85, 'bagging_fraction': 0.867106998962397, 'bagging_freq': 7, 'feature_fraction': 0.6678164015124792, 'min_data_in_leaf': 10, 'min_sum_hessian_in_leaf': 8}. Best is trial 4 with value: 0.11621335807143585.\u001b[0m\n",
      "C:\\Users\\drago\\Anaconda3\\lib\\site-packages\\lightgbm\\engine.py:148: UserWarning: Found `n_estimators` in params. Will use it instead of argument\n",
      "  _log_warning(\"Found `{}` in params. Will use it instead of argument\".format(alias))\n"
     ]
    },
    {
     "name": "stdout",
     "output_type": "stream",
     "text": [
      "[LightGBM] [Warning] Auto-choosing col-wise multi-threading, the overhead of testing was 0.003640 seconds.\n",
      "You can set `force_col_wise=true` to remove the overhead.\n",
      "[LightGBM] [Info] Total Bins 2251\n",
      "[LightGBM] [Info] Number of data points in the train set: 1156, number of used features: 78\n"
     ]
    },
    {
     "name": "stderr",
     "output_type": "stream",
     "text": [
      "C:\\Users\\drago\\Anaconda3\\lib\\site-packages\\lightgbm\\basic.py:1433: UserWarning: Overriding the parameters from Reference Dataset.\n",
      "  _log_warning('Overriding the parameters from Reference Dataset.')\n",
      "C:\\Users\\drago\\Anaconda3\\lib\\site-packages\\lightgbm\\basic.py:1245: UserWarning: categorical_column in param dict is overridden.\n",
      "  _log_warning('{} in param dict is overridden.'.format(cat_alias))\n"
     ]
    },
    {
     "name": "stdout",
     "output_type": "stream",
     "text": [
      "[LightGBM] [Info] Start training from score 12.015333\n",
      "Training until validation scores don't improve for 20 rounds\n",
      "[10]\tvalid_0's l2: 0.066821\n",
      "[20]\tvalid_0's l2: 0.0369266\n",
      "[30]\tvalid_0's l2: 0.024767\n",
      "[40]\tvalid_0's l2: 0.0192622\n",
      "[50]\tvalid_0's l2: 0.0169376\n",
      "[60]\tvalid_0's l2: 0.0157414\n",
      "[70]\tvalid_0's l2: 0.0150072\n",
      "[80]\tvalid_0's l2: 0.0146723\n",
      "[90]\tvalid_0's l2: 0.0143443\n",
      "[100]\tvalid_0's l2: 0.0143655\n",
      "[110]\tvalid_0's l2: 0.0142893\n",
      "Early stopping, best iteration is:\n",
      "[95]\tvalid_0's l2: 0.0142348\n"
     ]
    },
    {
     "name": "stderr",
     "output_type": "stream",
     "text": [
      "\u001b[32m[I 2021-06-05 17:19:09,596]\u001b[0m Trial 27 finished with value: 0.11930966687202046 and parameters: {'num_leaves': 23, 'max_bin': 110, 'bagging_fraction': 0.5049218744875611, 'bagging_freq': 2, 'feature_fraction': 0.8721861949919668, 'min_data_in_leaf': 13, 'min_sum_hessian_in_leaf': 5}. Best is trial 4 with value: 0.11621335807143585.\u001b[0m\n",
      "C:\\Users\\drago\\Anaconda3\\lib\\site-packages\\lightgbm\\engine.py:148: UserWarning: Found `n_estimators` in params. Will use it instead of argument\n",
      "  _log_warning(\"Found `{}` in params. Will use it instead of argument\".format(alias))\n"
     ]
    },
    {
     "name": "stdout",
     "output_type": "stream",
     "text": [
      "[LightGBM] [Warning] Auto-choosing row-wise multi-threading, the overhead of testing was 0.001476 seconds.\n",
      "You can set `force_row_wise=true` to remove the overhead.\n",
      "And if memory is not enough, you can set `force_col_wise=true`.\n",
      "[LightGBM] [Info] Total Bins 1957\n",
      "[LightGBM] [Info] Number of data points in the train set: 1156, number of used features: 78\n"
     ]
    },
    {
     "name": "stderr",
     "output_type": "stream",
     "text": [
      "C:\\Users\\drago\\Anaconda3\\lib\\site-packages\\lightgbm\\basic.py:1433: UserWarning: Overriding the parameters from Reference Dataset.\n",
      "  _log_warning('Overriding the parameters from Reference Dataset.')\n",
      "C:\\Users\\drago\\Anaconda3\\lib\\site-packages\\lightgbm\\basic.py:1245: UserWarning: categorical_column in param dict is overridden.\n",
      "  _log_warning('{} in param dict is overridden.'.format(cat_alias))\n"
     ]
    },
    {
     "name": "stdout",
     "output_type": "stream",
     "text": [
      "[LightGBM] [Info] Start training from score 12.015333\n",
      "Training until validation scores don't improve for 20 rounds\n",
      "[10]\tvalid_0's l2: 0.0689996\n",
      "[20]\tvalid_0's l2: 0.0393946\n",
      "[30]\tvalid_0's l2: 0.026756\n",
      "[40]\tvalid_0's l2: 0.0207262\n",
      "[50]\tvalid_0's l2: 0.0181382\n",
      "[60]\tvalid_0's l2: 0.0163805\n",
      "[70]\tvalid_0's l2: 0.0155477\n",
      "[80]\tvalid_0's l2: 0.0151918\n",
      "[90]\tvalid_0's l2: 0.0149329\n",
      "[100]\tvalid_0's l2: 0.0144812\n",
      "[110]\tvalid_0's l2: 0.0143082\n",
      "[120]\tvalid_0's l2: 0.0142451\n",
      "[130]\tvalid_0's l2: 0.0142627\n",
      "Early stopping, best iteration is:\n",
      "[114]\tvalid_0's l2: 0.0141747\n"
     ]
    },
    {
     "name": "stderr",
     "output_type": "stream",
     "text": [
      "\u001b[32m[I 2021-06-05 17:19:10,427]\u001b[0m Trial 28 finished with value: 0.119057350011904 and parameters: {'num_leaves': 17, 'max_bin': 88, 'bagging_fraction': 0.42901458016193783, 'bagging_freq': 5, 'feature_fraction': 0.5558979409970513, 'min_data_in_leaf': 12, 'min_sum_hessian_in_leaf': 4}. Best is trial 4 with value: 0.11621335807143585.\u001b[0m\n",
      "C:\\Users\\drago\\Anaconda3\\lib\\site-packages\\lightgbm\\engine.py:148: UserWarning: Found `n_estimators` in params. Will use it instead of argument\n",
      "  _log_warning(\"Found `{}` in params. Will use it instead of argument\".format(alias))\n"
     ]
    },
    {
     "name": "stdout",
     "output_type": "stream",
     "text": [
      "[LightGBM] [Warning] Auto-choosing row-wise multi-threading, the overhead of testing was 0.001389 seconds.\n",
      "You can set `force_row_wise=true` to remove the overhead.\n",
      "And if memory is not enough, you can set `force_col_wise=true`.\n",
      "[LightGBM] [Info] Total Bins 1396\n",
      "[LightGBM] [Info] Number of data points in the train set: 1156, number of used features: 78\n"
     ]
    },
    {
     "name": "stderr",
     "output_type": "stream",
     "text": [
      "C:\\Users\\drago\\Anaconda3\\lib\\site-packages\\lightgbm\\basic.py:1433: UserWarning: Overriding the parameters from Reference Dataset.\n",
      "  _log_warning('Overriding the parameters from Reference Dataset.')\n",
      "C:\\Users\\drago\\Anaconda3\\lib\\site-packages\\lightgbm\\basic.py:1245: UserWarning: categorical_column in param dict is overridden.\n",
      "  _log_warning('{} in param dict is overridden.'.format(cat_alias))\n"
     ]
    },
    {
     "name": "stdout",
     "output_type": "stream",
     "text": [
      "[LightGBM] [Info] Start training from score 12.015333\n",
      "Training until validation scores don't improve for 20 rounds\n",
      "[10]\tvalid_0's l2: 0.0686203\n",
      "[20]\tvalid_0's l2: 0.0388643\n",
      "[30]\tvalid_0's l2: 0.0264241\n",
      "[40]\tvalid_0's l2: 0.0202205\n",
      "[50]\tvalid_0's l2: 0.0174781\n",
      "[60]\tvalid_0's l2: 0.015947\n",
      "[70]\tvalid_0's l2: 0.0152872\n",
      "[80]\tvalid_0's l2: 0.0148317\n",
      "[90]\tvalid_0's l2: 0.0145008\n",
      "[100]\tvalid_0's l2: 0.01441\n",
      "[110]\tvalid_0's l2: 0.014141\n",
      "[120]\tvalid_0's l2: 0.0140428\n",
      "[130]\tvalid_0's l2: 0.0139159\n",
      "[140]\tvalid_0's l2: 0.0137138\n",
      "[150]\tvalid_0's l2: 0.013781\n",
      "[160]\tvalid_0's l2: 0.0138249\n",
      "Early stopping, best iteration is:\n",
      "[141]\tvalid_0's l2: 0.013665\n"
     ]
    },
    {
     "name": "stderr",
     "output_type": "stream",
     "text": [
      "\u001b[32m[I 2021-06-05 17:19:11,228]\u001b[0m Trial 29 finished with value: 0.11689738493077198 and parameters: {'num_leaves': 14, 'max_bin': 53, 'bagging_fraction': 0.4336248157316243, 'bagging_freq': 7, 'feature_fraction': 0.6268484222780226, 'min_data_in_leaf': 10, 'min_sum_hessian_in_leaf': 9}. Best is trial 4 with value: 0.11621335807143585.\u001b[0m\n",
      "C:\\Users\\drago\\Anaconda3\\lib\\site-packages\\lightgbm\\engine.py:148: UserWarning: Found `n_estimators` in params. Will use it instead of argument\n",
      "  _log_warning(\"Found `{}` in params. Will use it instead of argument\".format(alias))\n"
     ]
    },
    {
     "name": "stdout",
     "output_type": "stream",
     "text": [
      "[LightGBM] [Warning] Auto-choosing row-wise multi-threading, the overhead of testing was 0.001371 seconds.\n",
      "You can set `force_row_wise=true` to remove the overhead.\n",
      "And if memory is not enough, you can set `force_col_wise=true`.\n",
      "[LightGBM] [Info] Total Bins 1863\n",
      "[LightGBM] [Info] Number of data points in the train set: 1156, number of used features: 78\n"
     ]
    },
    {
     "name": "stderr",
     "output_type": "stream",
     "text": [
      "C:\\Users\\drago\\Anaconda3\\lib\\site-packages\\lightgbm\\basic.py:1433: UserWarning: Overriding the parameters from Reference Dataset.\n",
      "  _log_warning('Overriding the parameters from Reference Dataset.')\n",
      "C:\\Users\\drago\\Anaconda3\\lib\\site-packages\\lightgbm\\basic.py:1245: UserWarning: categorical_column in param dict is overridden.\n",
      "  _log_warning('{} in param dict is overridden.'.format(cat_alias))\n"
     ]
    },
    {
     "name": "stdout",
     "output_type": "stream",
     "text": [
      "[LightGBM] [Info] Start training from score 12.015333\n",
      "[LightGBM] [Warning] No further splits with positive gain, best gain: -inf\n",
      "Training until validation scores don't improve for 20 rounds\n",
      "[LightGBM] [Warning] No further splits with positive gain, best gain: -inf\n",
      "[LightGBM] [Warning] No further splits with positive gain, best gain: -inf\n",
      "[LightGBM] [Warning] No further splits with positive gain, best gain: -inf\n",
      "[LightGBM] [Warning] No further splits with positive gain, best gain: -inf\n",
      "[LightGBM] [Warning] No further splits with positive gain, best gain: -inf\n",
      "[LightGBM] [Warning] No further splits with positive gain, best gain: -inf\n",
      "[LightGBM] [Warning] No further splits with positive gain, best gain: -inf\n",
      "[LightGBM] [Warning] No further splits with positive gain, best gain: -inf\n",
      "[LightGBM] [Warning] No further splits with positive gain, best gain: -inf\n",
      "[10]\tvalid_0's l2: 0.0683398\n",
      "[LightGBM] [Warning] No further splits with positive gain, best gain: -inf\n",
      "[LightGBM] [Warning] No further splits with positive gain, best gain: -inf\n",
      "[LightGBM] [Warning] No further splits with positive gain, best gain: -inf\n",
      "[LightGBM] [Warning] No further splits with positive gain, best gain: -inf\n",
      "[LightGBM] [Warning] No further splits with positive gain, best gain: -inf\n",
      "[LightGBM] [Warning] No further splits with positive gain, best gain: -inf\n",
      "[LightGBM] [Warning] No further splits with positive gain, best gain: -inf\n",
      "[LightGBM] [Warning] No further splits with positive gain, best gain: -inf\n",
      "[LightGBM] [Warning] No further splits with positive gain, best gain: -inf\n",
      "[LightGBM] [Warning] No further splits with positive gain, best gain: -inf\n",
      "[20]\tvalid_0's l2: 0.0372503\n",
      "[LightGBM] [Warning] No further splits with positive gain, best gain: -inf\n",
      "[LightGBM] [Warning] No further splits with positive gain, best gain: -inf\n",
      "[LightGBM] [Warning] No further splits with positive gain, best gain: -inf\n",
      "[LightGBM] [Warning] No further splits with positive gain, best gain: -inf\n",
      "[LightGBM] [Warning] No further splits with positive gain, best gain: -inf\n",
      "[LightGBM] [Warning] No further splits with positive gain, best gain: -inf\n",
      "[LightGBM] [Warning] No further splits with positive gain, best gain: -inf\n",
      "[LightGBM] [Warning] No further splits with positive gain, best gain: -inf\n",
      "[LightGBM] [Warning] No further splits with positive gain, best gain: -inf\n",
      "[LightGBM] [Warning] No further splits with positive gain, best gain: -inf\n",
      "[30]\tvalid_0's l2: 0.0240048\n",
      "[LightGBM] [Warning] No further splits with positive gain, best gain: -inf\n",
      "[LightGBM] [Warning] No further splits with positive gain, best gain: -inf\n",
      "[LightGBM] [Warning] No further splits with positive gain, best gain: -inf\n",
      "[LightGBM] [Warning] No further splits with positive gain, best gain: -inf\n",
      "[LightGBM] [Warning] No further splits with positive gain, best gain: -inf\n",
      "[LightGBM] [Warning] No further splits with positive gain, best gain: -inf\n",
      "[LightGBM] [Warning] No further splits with positive gain, best gain: -inf\n",
      "[LightGBM] [Warning] No further splits with positive gain, best gain: -inf\n",
      "[LightGBM] [Warning] No further splits with positive gain, best gain: -inf\n",
      "[LightGBM] [Warning] No further splits with positive gain, best gain: -inf\n",
      "[40]\tvalid_0's l2: 0.0186075\n",
      "[LightGBM] [Warning] No further splits with positive gain, best gain: -inf\n",
      "[LightGBM] [Warning] No further splits with positive gain, best gain: -inf\n",
      "[LightGBM] [Warning] No further splits with positive gain, best gain: -inf\n",
      "[LightGBM] [Warning] No further splits with positive gain, best gain: -inf\n",
      "[LightGBM] [Warning] No further splits with positive gain, best gain: -inf\n",
      "[LightGBM] [Warning] No further splits with positive gain, best gain: -inf\n",
      "[LightGBM] [Warning] No further splits with positive gain, best gain: -inf\n",
      "[LightGBM] [Warning] No further splits with positive gain, best gain: -inf\n",
      "[LightGBM] [Warning] No further splits with positive gain, best gain: -inf\n",
      "[LightGBM] [Warning] No further splits with positive gain, best gain: -inf\n",
      "[50]\tvalid_0's l2: 0.0162722\n",
      "[LightGBM] [Warning] No further splits with positive gain, best gain: -inf\n",
      "[LightGBM] [Warning] No further splits with positive gain, best gain: -inf\n",
      "[LightGBM] [Warning] No further splits with positive gain, best gain: -inf\n",
      "[LightGBM] [Warning] No further splits with positive gain, best gain: -inf\n",
      "[LightGBM] [Warning] No further splits with positive gain, best gain: -inf\n",
      "[LightGBM] [Warning] No further splits with positive gain, best gain: -inf\n",
      "[LightGBM] [Warning] No further splits with positive gain, best gain: -inf\n",
      "[LightGBM] [Warning] No further splits with positive gain, best gain: -inf\n",
      "[LightGBM] [Warning] No further splits with positive gain, best gain: -inf\n",
      "[LightGBM] [Warning] No further splits with positive gain, best gain: -inf\n",
      "[60]\tvalid_0's l2: 0.0148664\n",
      "[LightGBM] [Warning] No further splits with positive gain, best gain: -inf\n",
      "[LightGBM] [Warning] No further splits with positive gain, best gain: -inf\n",
      "[LightGBM] [Warning] No further splits with positive gain, best gain: -inf\n",
      "[LightGBM] [Warning] No further splits with positive gain, best gain: -inf\n",
      "[LightGBM] [Warning] No further splits with positive gain, best gain: -inf\n",
      "[LightGBM] [Warning] No further splits with positive gain, best gain: -inf\n",
      "[LightGBM] [Warning] No further splits with positive gain, best gain: -inf\n",
      "[LightGBM] [Warning] No further splits with positive gain, best gain: -inf\n",
      "[LightGBM] [Warning] No further splits with positive gain, best gain: -inf\n",
      "[LightGBM] [Warning] No further splits with positive gain, best gain: -inf\n",
      "[70]\tvalid_0's l2: 0.0144529\n",
      "[LightGBM] [Warning] No further splits with positive gain, best gain: -inf\n",
      "[LightGBM] [Warning] No further splits with positive gain, best gain: -inf\n",
      "[LightGBM] [Warning] No further splits with positive gain, best gain: -inf\n",
      "[LightGBM] [Warning] No further splits with positive gain, best gain: -inf\n",
      "[LightGBM] [Warning] No further splits with positive gain, best gain: -inf\n",
      "[LightGBM] [Warning] No further splits with positive gain, best gain: -inf\n",
      "[LightGBM] [Warning] No further splits with positive gain, best gain: -inf\n",
      "[LightGBM] [Warning] No further splits with positive gain, best gain: -inf\n",
      "[LightGBM] [Warning] No further splits with positive gain, best gain: -inf\n",
      "[LightGBM] [Warning] No further splits with positive gain, best gain: -inf\n",
      "[80]\tvalid_0's l2: 0.0141959\n",
      "[LightGBM] [Warning] No further splits with positive gain, best gain: -inf\n",
      "[LightGBM] [Warning] No further splits with positive gain, best gain: -inf\n",
      "[LightGBM] [Warning] No further splits with positive gain, best gain: -inf\n",
      "[LightGBM] [Warning] No further splits with positive gain, best gain: -inf\n",
      "[LightGBM] [Warning] No further splits with positive gain, best gain: -inf\n",
      "[LightGBM] [Warning] No further splits with positive gain, best gain: -inf\n",
      "[LightGBM] [Warning] No further splits with positive gain, best gain: -inf\n",
      "[LightGBM] [Warning] No further splits with positive gain, best gain: -inf\n",
      "[LightGBM] [Warning] No further splits with positive gain, best gain: -inf\n",
      "[LightGBM] [Warning] No further splits with positive gain, best gain: -inf\n",
      "[90]\tvalid_0's l2: 0.0139596\n",
      "[LightGBM] [Warning] No further splits with positive gain, best gain: -inf\n",
      "[LightGBM] [Warning] No further splits with positive gain, best gain: -inf\n",
      "[LightGBM] [Warning] No further splits with positive gain, best gain: -inf\n",
      "[LightGBM] [Warning] No further splits with positive gain, best gain: -inf\n",
      "[LightGBM] [Warning] No further splits with positive gain, best gain: -inf\n",
      "[LightGBM] [Warning] No further splits with positive gain, best gain: -inf\n",
      "[LightGBM] [Warning] No further splits with positive gain, best gain: -inf\n",
      "[LightGBM] [Warning] No further splits with positive gain, best gain: -inf\n",
      "[LightGBM] [Warning] No further splits with positive gain, best gain: -inf\n",
      "[LightGBM] [Warning] No further splits with positive gain, best gain: -inf\n",
      "[100]\tvalid_0's l2: 0.0137909\n",
      "[LightGBM] [Warning] No further splits with positive gain, best gain: -inf\n",
      "[LightGBM] [Warning] No further splits with positive gain, best gain: -inf\n",
      "[LightGBM] [Warning] No further splits with positive gain, best gain: -inf\n"
     ]
    },
    {
     "name": "stdout",
     "output_type": "stream",
     "text": [
      "[LightGBM] [Warning] No further splits with positive gain, best gain: -inf\n",
      "[LightGBM] [Warning] No further splits with positive gain, best gain: -inf\n",
      "[LightGBM] [Warning] No further splits with positive gain, best gain: -inf\n",
      "[LightGBM] [Warning] No further splits with positive gain, best gain: -inf\n",
      "[LightGBM] [Warning] No further splits with positive gain, best gain: -inf\n",
      "[LightGBM] [Warning] No further splits with positive gain, best gain: -inf\n",
      "[LightGBM] [Warning] No further splits with positive gain, best gain: -inf\n",
      "[110]\tvalid_0's l2: 0.0137427\n",
      "[LightGBM] [Warning] No further splits with positive gain, best gain: -inf\n",
      "[LightGBM] [Warning] No further splits with positive gain, best gain: -inf\n",
      "[LightGBM] [Warning] No further splits with positive gain, best gain: -inf\n",
      "[LightGBM] [Warning] No further splits with positive gain, best gain: -inf\n",
      "[LightGBM] [Warning] No further splits with positive gain, best gain: -inf\n",
      "[LightGBM] [Warning] No further splits with positive gain, best gain: -inf\n",
      "[LightGBM] [Warning] No further splits with positive gain, best gain: -inf\n",
      "[LightGBM] [Warning] No further splits with positive gain, best gain: -inf\n",
      "[LightGBM] [Warning] No further splits with positive gain, best gain: -inf\n",
      "[LightGBM] [Warning] No further splits with positive gain, best gain: -inf\n",
      "[120]\tvalid_0's l2: 0.013629\n",
      "[LightGBM] [Warning] No further splits with positive gain, best gain: -inf\n",
      "[LightGBM] [Warning] No further splits with positive gain, best gain: -inf\n",
      "[LightGBM] [Warning] No further splits with positive gain, best gain: -inf\n",
      "[LightGBM] [Warning] No further splits with positive gain, best gain: -inf\n",
      "[LightGBM] [Warning] No further splits with positive gain, best gain: -inf\n",
      "[LightGBM] [Warning] No further splits with positive gain, best gain: -inf\n",
      "[LightGBM] [Warning] No further splits with positive gain, best gain: -inf\n",
      "[LightGBM] [Warning] No further splits with positive gain, best gain: -inf\n",
      "[LightGBM] [Warning] No further splits with positive gain, best gain: -inf\n",
      "[LightGBM] [Warning] No further splits with positive gain, best gain: -inf\n",
      "[130]\tvalid_0's l2: 0.0136314\n",
      "[LightGBM] [Warning] No further splits with positive gain, best gain: -inf\n",
      "[LightGBM] [Warning] No further splits with positive gain, best gain: -inf\n",
      "[LightGBM] [Warning] No further splits with positive gain, best gain: -inf\n",
      "[LightGBM] [Warning] No further splits with positive gain, best gain: -inf\n",
      "[LightGBM] [Warning] No further splits with positive gain, best gain: -inf\n",
      "[LightGBM] [Warning] No further splits with positive gain, best gain: -inf\n",
      "[LightGBM] [Warning] No further splits with positive gain, best gain: -inf\n",
      "[LightGBM] [Warning] No further splits with positive gain, best gain: -inf\n",
      "[LightGBM] [Warning] No further splits with positive gain, best gain: -inf\n",
      "[LightGBM] [Warning] No further splits with positive gain, best gain: -inf\n",
      "[140]\tvalid_0's l2: 0.0135905\n",
      "[LightGBM] [Warning] No further splits with positive gain, best gain: -inf\n",
      "[LightGBM] [Warning] No further splits with positive gain, best gain: -inf\n",
      "[LightGBM] [Warning] No further splits with positive gain, best gain: -inf\n",
      "[LightGBM] [Warning] No further splits with positive gain, best gain: -inf\n",
      "[LightGBM] [Warning] No further splits with positive gain, best gain: -inf\n",
      "[LightGBM] [Warning] No further splits with positive gain, best gain: -inf\n",
      "[LightGBM] [Warning] No further splits with positive gain, best gain: -inf\n",
      "[LightGBM] [Warning] No further splits with positive gain, best gain: -inf\n",
      "[LightGBM] [Warning] No further splits with positive gain, best gain: -inf\n",
      "[LightGBM] [Warning] No further splits with positive gain, best gain: -inf\n",
      "[150]\tvalid_0's l2: 0.0135892\n",
      "[LightGBM] [Warning] No further splits with positive gain, best gain: -inf\n",
      "[LightGBM] [Warning] No further splits with positive gain, best gain: -inf\n",
      "[LightGBM] [Warning] No further splits with positive gain, best gain: -inf\n",
      "[LightGBM] [Warning] No further splits with positive gain, best gain: -inf\n",
      "[LightGBM] [Warning] No further splits with positive gain, best gain: -inf\n",
      "[LightGBM] [Warning] No further splits with positive gain, best gain: -inf\n",
      "[LightGBM] [Warning] No further splits with positive gain, best gain: -inf\n",
      "[LightGBM] [Warning] No further splits with positive gain, best gain: -inf\n",
      "[LightGBM] [Warning] No further splits with positive gain, best gain: -inf\n",
      "[LightGBM] [Warning] No further splits with positive gain, best gain: -inf\n",
      "[160]\tvalid_0's l2: 0.0135412\n",
      "[LightGBM] [Warning] No further splits with positive gain, best gain: -inf\n",
      "[LightGBM] [Warning] No further splits with positive gain, best gain: -inf\n",
      "[LightGBM] [Warning] No further splits with positive gain, best gain: -inf\n",
      "[LightGBM] [Warning] No further splits with positive gain, best gain: -inf\n",
      "[LightGBM] [Warning] No further splits with positive gain, best gain: -inf\n",
      "[LightGBM] [Warning] No further splits with positive gain, best gain: -inf\n",
      "[LightGBM] [Warning] No further splits with positive gain, best gain: -inf\n",
      "[LightGBM] [Warning] No further splits with positive gain, best gain: -inf\n",
      "[LightGBM] [Warning] No further splits with positive gain, best gain: -inf\n",
      "[LightGBM] [Warning] No further splits with positive gain, best gain: -inf\n",
      "[170]\tvalid_0's l2: 0.013555\n",
      "[LightGBM] [Warning] No further splits with positive gain, best gain: -inf\n",
      "[LightGBM] [Warning] No further splits with positive gain, best gain: -inf\n",
      "[LightGBM] [Warning] No further splits with positive gain, best gain: -inf\n",
      "[LightGBM] [Warning] No further splits with positive gain, best gain: -inf\n",
      "[LightGBM] [Warning] No further splits with positive gain, best gain: -inf\n",
      "[LightGBM] [Warning] No further splits with positive gain, best gain: -inf\n",
      "[LightGBM] [Warning] No further splits with positive gain, best gain: -inf\n",
      "[LightGBM] [Warning] No further splits with positive gain, best gain: -inf\n",
      "[LightGBM] [Warning] No further splits with positive gain, best gain: -inf\n",
      "[LightGBM] [Warning] No further splits with positive gain, best gain: -inf\n",
      "[180]\tvalid_0's l2: 0.0135165\n",
      "[LightGBM] [Warning] No further splits with positive gain, best gain: -inf\n",
      "[LightGBM] [Warning] No further splits with positive gain, best gain: -inf\n",
      "[LightGBM] [Warning] No further splits with positive gain, best gain: -inf\n",
      "[LightGBM] [Warning] No further splits with positive gain, best gain: -inf\n",
      "[LightGBM] [Warning] No further splits with positive gain, best gain: -inf\n",
      "[LightGBM] [Warning] No further splits with positive gain, best gain: -inf\n",
      "[LightGBM] [Warning] No further splits with positive gain, best gain: -inf\n",
      "[LightGBM] [Warning] No further splits with positive gain, best gain: -inf\n",
      "[LightGBM] [Warning] No further splits with positive gain, best gain: -inf\n",
      "[LightGBM] [Warning] No further splits with positive gain, best gain: -inf\n",
      "[190]\tvalid_0's l2: 0.0135885\n",
      "[LightGBM] [Warning] No further splits with positive gain, best gain: -inf\n",
      "[LightGBM] [Warning] No further splits with positive gain, best gain: -inf\n",
      "[LightGBM] [Warning] No further splits with positive gain, best gain: -inf\n",
      "[LightGBM] [Warning] No further splits with positive gain, best gain: -inf\n",
      "[LightGBM] [Warning] No further splits with positive gain, best gain: -inf\n",
      "[LightGBM] [Warning] No further splits with positive gain, best gain: -inf\n",
      "[LightGBM] [Warning] No further splits with positive gain, best gain: -inf\n",
      "[LightGBM] [Warning] No further splits with positive gain, best gain: -inf\n",
      "[LightGBM] [Warning] No further splits with positive gain, best gain: -inf\n",
      "[LightGBM] [Warning] No further splits with positive gain, best gain: -inf\n",
      "[200]\tvalid_0's l2: 0.0136354\n",
      "[LightGBM] [Warning] No further splits with positive gain, best gain: -inf\n",
      "Early stopping, best iteration is:\n",
      "[181]\tvalid_0's l2: 0.0135048\n"
     ]
    },
    {
     "name": "stderr",
     "output_type": "stream",
     "text": [
      "\u001b[32m[I 2021-06-05 17:19:13,777]\u001b[0m Trial 30 finished with value: 0.11621005960781597 and parameters: {'num_leaves': 64, 'max_bin': 82, 'bagging_fraction': 0.7315391015500504, 'bagging_freq': 3, 'feature_fraction': 0.41032549973286436, 'min_data_in_leaf': 13, 'min_sum_hessian_in_leaf': 4}. Best is trial 30 with value: 0.11621005960781597.\u001b[0m\n",
      "C:\\Users\\drago\\Anaconda3\\lib\\site-packages\\lightgbm\\engine.py:148: UserWarning: Found `n_estimators` in params. Will use it instead of argument\n",
      "  _log_warning(\"Found `{}` in params. Will use it instead of argument\".format(alias))\n"
     ]
    },
    {
     "name": "stdout",
     "output_type": "stream",
     "text": [
      "[LightGBM] [Warning] Auto-choosing col-wise multi-threading, the overhead of testing was 0.003307 seconds.\n",
      "You can set `force_col_wise=true` to remove the overhead.\n",
      "[LightGBM] [Info] Total Bins 2578\n",
      "[LightGBM] [Info] Number of data points in the train set: 1156, number of used features: 78\n"
     ]
    },
    {
     "name": "stderr",
     "output_type": "stream",
     "text": [
      "C:\\Users\\drago\\Anaconda3\\lib\\site-packages\\lightgbm\\basic.py:1433: UserWarning: Overriding the parameters from Reference Dataset.\n",
      "  _log_warning('Overriding the parameters from Reference Dataset.')\n",
      "C:\\Users\\drago\\Anaconda3\\lib\\site-packages\\lightgbm\\basic.py:1245: UserWarning: categorical_column in param dict is overridden.\n",
      "  _log_warning('{} in param dict is overridden.'.format(cat_alias))\n"
     ]
    },
    {
     "name": "stdout",
     "output_type": "stream",
     "text": [
      "[LightGBM] [Info] Start training from score 12.015333\n",
      "Training until validation scores don't improve for 20 rounds\n",
      "[10]\tvalid_0's l2: 0.0662191\n",
      "[20]\tvalid_0's l2: 0.0375317\n",
      "[30]\tvalid_0's l2: 0.0249813\n",
      "[40]\tvalid_0's l2: 0.0196436\n",
      "[50]\tvalid_0's l2: 0.0175243\n",
      "[60]\tvalid_0's l2: 0.016674\n",
      "[70]\tvalid_0's l2: 0.0161567\n",
      "[80]\tvalid_0's l2: 0.0160406\n",
      "[90]\tvalid_0's l2: 0.0159134\n",
      "[100]\tvalid_0's l2: 0.0157352\n",
      "[110]\tvalid_0's l2: 0.0156062\n",
      "[120]\tvalid_0's l2: 0.0154926\n",
      "[130]\tvalid_0's l2: 0.0153928\n",
      "[140]\tvalid_0's l2: 0.015358\n",
      "[150]\tvalid_0's l2: 0.0152489\n",
      "[160]\tvalid_0's l2: 0.0153489\n",
      "[170]\tvalid_0's l2: 0.0153372\n",
      "Early stopping, best iteration is:\n",
      "[154]\tvalid_0's l2: 0.0152423\n"
     ]
    },
    {
     "name": "stderr",
     "output_type": "stream",
     "text": [
      "\u001b[32m[I 2021-06-05 17:19:15,024]\u001b[0m Trial 31 finished with value: 0.12345973724558293 and parameters: {'num_leaves': 27, 'max_bin': 138, 'bagging_fraction': 0.8155242276180952, 'bagging_freq': 7, 'feature_fraction': 0.8363253277236977, 'min_data_in_leaf': 6, 'min_sum_hessian_in_leaf': 8}. Best is trial 30 with value: 0.11621005960781597.\u001b[0m\n",
      "C:\\Users\\drago\\Anaconda3\\lib\\site-packages\\lightgbm\\engine.py:148: UserWarning: Found `n_estimators` in params. Will use it instead of argument\n",
      "  _log_warning(\"Found `{}` in params. Will use it instead of argument\".format(alias))\n"
     ]
    },
    {
     "name": "stdout",
     "output_type": "stream",
     "text": [
      "[LightGBM] [Warning] Auto-choosing col-wise multi-threading, the overhead of testing was 0.003789 seconds.\n",
      "You can set `force_col_wise=true` to remove the overhead.\n",
      "[LightGBM] [Info] Total Bins 3081\n",
      "[LightGBM] [Info] Number of data points in the train set: 1156, number of used features: 78\n"
     ]
    },
    {
     "name": "stderr",
     "output_type": "stream",
     "text": [
      "C:\\Users\\drago\\Anaconda3\\lib\\site-packages\\lightgbm\\basic.py:1433: UserWarning: Overriding the parameters from Reference Dataset.\n",
      "  _log_warning('Overriding the parameters from Reference Dataset.')\n",
      "C:\\Users\\drago\\Anaconda3\\lib\\site-packages\\lightgbm\\basic.py:1245: UserWarning: categorical_column in param dict is overridden.\n",
      "  _log_warning('{} in param dict is overridden.'.format(cat_alias))\n"
     ]
    },
    {
     "name": "stdout",
     "output_type": "stream",
     "text": [
      "[LightGBM] [Info] Start training from score 12.015333\n",
      "Training until validation scores don't improve for 20 rounds\n",
      "[10]\tvalid_0's l2: 0.0687108\n",
      "[20]\tvalid_0's l2: 0.039362\n",
      "[30]\tvalid_0's l2: 0.0268704\n",
      "[40]\tvalid_0's l2: 0.0213277\n",
      "[50]\tvalid_0's l2: 0.0185501\n",
      "[60]\tvalid_0's l2: 0.0172349\n",
      "[70]\tvalid_0's l2: 0.0165869\n",
      "[80]\tvalid_0's l2: 0.0160938\n",
      "[90]\tvalid_0's l2: 0.016112\n",
      "[100]\tvalid_0's l2: 0.0158469\n",
      "[110]\tvalid_0's l2: 0.0156173\n",
      "[120]\tvalid_0's l2: 0.0155477\n",
      "[130]\tvalid_0's l2: 0.01557\n",
      "[140]\tvalid_0's l2: 0.0155486\n",
      "[150]\tvalid_0's l2: 0.0155581\n",
      "[160]\tvalid_0's l2: 0.0155437\n",
      "Early stopping, best iteration is:\n",
      "[144]\tvalid_0's l2: 0.0155004\n"
     ]
    },
    {
     "name": "stderr",
     "output_type": "stream",
     "text": [
      "\u001b[32m[I 2021-06-05 17:19:15,944]\u001b[0m Trial 32 finished with value: 0.12450060870067971 and parameters: {'num_leaves': 15, 'max_bin': 193, 'bagging_fraction': 0.7437441381939076, 'bagging_freq': 3, 'feature_fraction': 0.8736852952444621, 'min_data_in_leaf': 12, 'min_sum_hessian_in_leaf': 3}. Best is trial 30 with value: 0.11621005960781597.\u001b[0m\n",
      "C:\\Users\\drago\\Anaconda3\\lib\\site-packages\\lightgbm\\engine.py:148: UserWarning: Found `n_estimators` in params. Will use it instead of argument\n",
      "  _log_warning(\"Found `{}` in params. Will use it instead of argument\".format(alias))\n"
     ]
    },
    {
     "name": "stdout",
     "output_type": "stream",
     "text": [
      "[LightGBM] [Warning] Auto-choosing row-wise multi-threading, the overhead of testing was 0.001437 seconds.\n",
      "You can set `force_row_wise=true` to remove the overhead.\n",
      "And if memory is not enough, you can set `force_col_wise=true`.\n",
      "[LightGBM] [Info] Total Bins 2459\n",
      "[LightGBM] [Info] Number of data points in the train set: 1156, number of used features: 78\n"
     ]
    },
    {
     "name": "stderr",
     "output_type": "stream",
     "text": [
      "C:\\Users\\drago\\Anaconda3\\lib\\site-packages\\lightgbm\\basic.py:1433: UserWarning: Overriding the parameters from Reference Dataset.\n",
      "  _log_warning('Overriding the parameters from Reference Dataset.')\n",
      "C:\\Users\\drago\\Anaconda3\\lib\\site-packages\\lightgbm\\basic.py:1245: UserWarning: categorical_column in param dict is overridden.\n",
      "  _log_warning('{} in param dict is overridden.'.format(cat_alias))\n"
     ]
    },
    {
     "name": "stdout",
     "output_type": "stream",
     "text": [
      "[LightGBM] [Info] Start training from score 12.015333\n",
      "Training until validation scores don't improve for 20 rounds\n",
      "[10]\tvalid_0's l2: 0.0682726\n",
      "[20]\tvalid_0's l2: 0.0384307\n",
      "[30]\tvalid_0's l2: 0.0260289\n",
      "[40]\tvalid_0's l2: 0.0204018\n",
      "[50]\tvalid_0's l2: 0.0177781\n",
      "[60]\tvalid_0's l2: 0.0165407\n",
      "[70]\tvalid_0's l2: 0.0158151\n",
      "[80]\tvalid_0's l2: 0.0154962\n",
      "[90]\tvalid_0's l2: 0.0152292\n",
      "[100]\tvalid_0's l2: 0.0150404\n",
      "[110]\tvalid_0's l2: 0.0148178\n",
      "[120]\tvalid_0's l2: 0.0148236\n",
      "[130]\tvalid_0's l2: 0.0146665\n",
      "[140]\tvalid_0's l2: 0.0146263\n",
      "[150]\tvalid_0's l2: 0.014627\n",
      "[160]\tvalid_0's l2: 0.0146223\n",
      "[170]\tvalid_0's l2: 0.0146368\n",
      "Early stopping, best iteration is:\n",
      "[153]\tvalid_0's l2: 0.0145733\n"
     ]
    },
    {
     "name": "stderr",
     "output_type": "stream",
     "text": [
      "\u001b[32m[I 2021-06-05 17:19:16,875]\u001b[0m Trial 33 finished with value: 0.1207198568553516 and parameters: {'num_leaves': 17, 'max_bin': 128, 'bagging_fraction': 0.4128313590272658, 'bagging_freq': 3, 'feature_fraction': 0.6123427343757532, 'min_data_in_leaf': 7, 'min_sum_hessian_in_leaf': 5}. Best is trial 30 with value: 0.11621005960781597.\u001b[0m\n",
      "C:\\Users\\drago\\Anaconda3\\lib\\site-packages\\lightgbm\\engine.py:148: UserWarning: Found `n_estimators` in params. Will use it instead of argument\n",
      "  _log_warning(\"Found `{}` in params. Will use it instead of argument\".format(alias))\n"
     ]
    },
    {
     "name": "stdout",
     "output_type": "stream",
     "text": [
      "[LightGBM] [Warning] Auto-choosing row-wise multi-threading, the overhead of testing was 0.001390 seconds.\n",
      "You can set `force_row_wise=true` to remove the overhead.\n",
      "And if memory is not enough, you can set `force_col_wise=true`.\n",
      "[LightGBM] [Info] Total Bins 2580\n",
      "[LightGBM] [Info] Number of data points in the train set: 1156, number of used features: 79\n"
     ]
    },
    {
     "name": "stderr",
     "output_type": "stream",
     "text": [
      "C:\\Users\\drago\\Anaconda3\\lib\\site-packages\\lightgbm\\basic.py:1433: UserWarning: Overriding the parameters from Reference Dataset.\n",
      "  _log_warning('Overriding the parameters from Reference Dataset.')\n",
      "C:\\Users\\drago\\Anaconda3\\lib\\site-packages\\lightgbm\\basic.py:1245: UserWarning: categorical_column in param dict is overridden.\n",
      "  _log_warning('{} in param dict is overridden.'.format(cat_alias))\n"
     ]
    },
    {
     "name": "stdout",
     "output_type": "stream",
     "text": [
      "[LightGBM] [Info] Start training from score 12.015333\n",
      "Training until validation scores don't improve for 20 rounds\n",
      "[10]\tvalid_0's l2: 0.0676655\n",
      "[20]\tvalid_0's l2: 0.0383163\n",
      "[30]\tvalid_0's l2: 0.0259987\n",
      "[40]\tvalid_0's l2: 0.0205822\n",
      "[50]\tvalid_0's l2: 0.0179582\n",
      "[60]\tvalid_0's l2: 0.0165008\n",
      "[70]\tvalid_0's l2: 0.0159439\n",
      "[80]\tvalid_0's l2: 0.0154322\n",
      "[90]\tvalid_0's l2: 0.0152\n",
      "[100]\tvalid_0's l2: 0.0150601\n",
      "[110]\tvalid_0's l2: 0.0149015\n",
      "[120]\tvalid_0's l2: 0.0147122\n",
      "[130]\tvalid_0's l2: 0.0146916\n",
      "[140]\tvalid_0's l2: 0.0146432\n",
      "[150]\tvalid_0's l2: 0.0145681\n",
      "[160]\tvalid_0's l2: 0.014555\n",
      "[170]\tvalid_0's l2: 0.0145766\n",
      "[180]\tvalid_0's l2: 0.0145195\n",
      "[190]\tvalid_0's l2: 0.0145071\n",
      "[200]\tvalid_0's l2: 0.0145429\n",
      "Early stopping, best iteration is:\n",
      "[186]\tvalid_0's l2: 0.0144864\n"
     ]
    },
    {
     "name": "stderr",
     "output_type": "stream",
     "text": [
      "\u001b[32m[I 2021-06-05 17:19:17,992]\u001b[0m Trial 34 finished with value: 0.1203595765461759 and parameters: {'num_leaves': 20, 'max_bin': 138, 'bagging_fraction': 0.8319278029616157, 'bagging_freq': 2, 'feature_fraction': 0.6586895535770572, 'min_data_in_leaf': 3, 'min_sum_hessian_in_leaf': 8}. Best is trial 30 with value: 0.11621005960781597.\u001b[0m\n",
      "C:\\Users\\drago\\Anaconda3\\lib\\site-packages\\lightgbm\\engine.py:148: UserWarning: Found `n_estimators` in params. Will use it instead of argument\n",
      "  _log_warning(\"Found `{}` in params. Will use it instead of argument\".format(alias))\n"
     ]
    },
    {
     "name": "stdout",
     "output_type": "stream",
     "text": [
      "[LightGBM] [Warning] Auto-choosing col-wise multi-threading, the overhead of testing was 0.002545 seconds.\n",
      "You can set `force_col_wise=true` to remove the overhead.\n",
      "[LightGBM] [Info] Total Bins 2542\n",
      "[LightGBM] [Info] Number of data points in the train set: 1156, number of used features: 78\n"
     ]
    },
    {
     "name": "stderr",
     "output_type": "stream",
     "text": [
      "C:\\Users\\drago\\Anaconda3\\lib\\site-packages\\lightgbm\\basic.py:1433: UserWarning: Overriding the parameters from Reference Dataset.\n",
      "  _log_warning('Overriding the parameters from Reference Dataset.')\n",
      "C:\\Users\\drago\\Anaconda3\\lib\\site-packages\\lightgbm\\basic.py:1245: UserWarning: categorical_column in param dict is overridden.\n",
      "  _log_warning('{} in param dict is overridden.'.format(cat_alias))\n"
     ]
    },
    {
     "name": "stdout",
     "output_type": "stream",
     "text": [
      "[LightGBM] [Info] Start training from score 12.015333\n",
      "Training until validation scores don't improve for 20 rounds\n",
      "[10]\tvalid_0's l2: 0.068393\n",
      "[20]\tvalid_0's l2: 0.0381795\n",
      "[30]\tvalid_0's l2: 0.0252867\n",
      "[40]\tvalid_0's l2: 0.0199694\n",
      "[50]\tvalid_0's l2: 0.017562\n",
      "[60]\tvalid_0's l2: 0.0163758\n",
      "[70]\tvalid_0's l2: 0.0155249\n",
      "[80]\tvalid_0's l2: 0.0149318\n",
      "[90]\tvalid_0's l2: 0.0147414\n",
      "[100]\tvalid_0's l2: 0.0146293\n",
      "[110]\tvalid_0's l2: 0.0146798\n",
      "[120]\tvalid_0's l2: 0.0146872\n",
      "Early stopping, best iteration is:\n",
      "[105]\tvalid_0's l2: 0.0145424\n"
     ]
    },
    {
     "name": "stderr",
     "output_type": "stream",
     "text": [
      "\u001b[32m[I 2021-06-05 17:19:18,924]\u001b[0m Trial 35 finished with value: 0.12059170214927306 and parameters: {'num_leaves': 28, 'max_bin': 135, 'bagging_fraction': 0.49163991810703933, 'bagging_freq': 2, 'feature_fraction': 0.6440281403244773, 'min_data_in_leaf': 7, 'min_sum_hessian_in_leaf': 10}. Best is trial 30 with value: 0.11621005960781597.\u001b[0m\n",
      "C:\\Users\\drago\\Anaconda3\\lib\\site-packages\\lightgbm\\engine.py:148: UserWarning: Found `n_estimators` in params. Will use it instead of argument\n",
      "  _log_warning(\"Found `{}` in params. Will use it instead of argument\".format(alias))\n"
     ]
    },
    {
     "name": "stdout",
     "output_type": "stream",
     "text": [
      "[LightGBM] [Warning] Auto-choosing col-wise multi-threading, the overhead of testing was 0.003676 seconds.\n",
      "You can set `force_col_wise=true` to remove the overhead.\n",
      "[LightGBM] [Info] Total Bins 2870\n",
      "[LightGBM] [Info] Number of data points in the train set: 1156, number of used features: 78\n"
     ]
    },
    {
     "name": "stderr",
     "output_type": "stream",
     "text": [
      "C:\\Users\\drago\\Anaconda3\\lib\\site-packages\\lightgbm\\basic.py:1433: UserWarning: Overriding the parameters from Reference Dataset.\n",
      "  _log_warning('Overriding the parameters from Reference Dataset.')\n",
      "C:\\Users\\drago\\Anaconda3\\lib\\site-packages\\lightgbm\\basic.py:1245: UserWarning: categorical_column in param dict is overridden.\n",
      "  _log_warning('{} in param dict is overridden.'.format(cat_alias))\n"
     ]
    },
    {
     "name": "stdout",
     "output_type": "stream",
     "text": [
      "[LightGBM] [Info] Start training from score 12.015333\n",
      "Training until validation scores don't improve for 20 rounds\n",
      "[10]\tvalid_0's l2: 0.064695\n",
      "[20]\tvalid_0's l2: 0.0350467\n",
      "[30]\tvalid_0's l2: 0.0236307\n",
      "[40]\tvalid_0's l2: 0.0190976\n",
      "[50]\tvalid_0's l2: 0.0170016\n",
      "[60]\tvalid_0's l2: 0.0162354\n",
      "[70]\tvalid_0's l2: 0.0158601\n",
      "[80]\tvalid_0's l2: 0.0156705\n",
      "[90]\tvalid_0's l2: 0.0155466\n",
      "[100]\tvalid_0's l2: 0.0154278\n",
      "[110]\tvalid_0's l2: 0.0153874\n",
      "[120]\tvalid_0's l2: 0.0153315\n",
      "[130]\tvalid_0's l2: 0.0153339\n",
      "[140]\tvalid_0's l2: 0.0153313\n",
      "[150]\tvalid_0's l2: 0.0153087\n",
      "[160]\tvalid_0's l2: 0.0153258\n",
      "Early stopping, best iteration is:\n",
      "[145]\tvalid_0's l2: 0.015284\n"
     ]
    },
    {
     "name": "stderr",
     "output_type": "stream",
     "text": [
      "\u001b[32m[I 2021-06-05 17:19:20,408]\u001b[0m Trial 36 finished with value: 0.12362844403791992 and parameters: {'num_leaves': 50, 'max_bin': 163, 'bagging_fraction': 0.8518598698729667, 'bagging_freq': 1, 'feature_fraction': 0.6760962349612033, 'min_data_in_leaf': 10, 'min_sum_hessian_in_leaf': 10}. Best is trial 30 with value: 0.11621005960781597.\u001b[0m\n",
      "C:\\Users\\drago\\Anaconda3\\lib\\site-packages\\lightgbm\\engine.py:148: UserWarning: Found `n_estimators` in params. Will use it instead of argument\n",
      "  _log_warning(\"Found `{}` in params. Will use it instead of argument\".format(alias))\n"
     ]
    },
    {
     "name": "stdout",
     "output_type": "stream",
     "text": [
      "[LightGBM] [Warning] Auto-choosing col-wise multi-threading, the overhead of testing was 0.003287 seconds.\n",
      "You can set `force_col_wise=true` to remove the overhead.\n",
      "[LightGBM] [Info] Total Bins 1928\n",
      "[LightGBM] [Info] Number of data points in the train set: 1156, number of used features: 78\n"
     ]
    },
    {
     "name": "stderr",
     "output_type": "stream",
     "text": [
      "C:\\Users\\drago\\Anaconda3\\lib\\site-packages\\lightgbm\\basic.py:1433: UserWarning: Overriding the parameters from Reference Dataset.\n",
      "  _log_warning('Overriding the parameters from Reference Dataset.')\n",
      "C:\\Users\\drago\\Anaconda3\\lib\\site-packages\\lightgbm\\basic.py:1245: UserWarning: categorical_column in param dict is overridden.\n",
      "  _log_warning('{} in param dict is overridden.'.format(cat_alias))\n"
     ]
    },
    {
     "name": "stdout",
     "output_type": "stream",
     "text": [
      "[LightGBM] [Info] Start training from score 12.015333\n",
      "Training until validation scores don't improve for 20 rounds\n",
      "[10]\tvalid_0's l2: 0.0677306\n",
      "[20]\tvalid_0's l2: 0.0370913\n",
      "[30]\tvalid_0's l2: 0.0243411\n",
      "[40]\tvalid_0's l2: 0.0191862\n",
      "[50]\tvalid_0's l2: 0.0167617\n",
      "[60]\tvalid_0's l2: 0.0155816\n",
      "[70]\tvalid_0's l2: 0.0147963\n",
      "[80]\tvalid_0's l2: 0.0142493\n",
      "[90]\tvalid_0's l2: 0.0141046\n",
      "[100]\tvalid_0's l2: 0.01402\n",
      "[110]\tvalid_0's l2: 0.01378\n",
      "[120]\tvalid_0's l2: 0.013896\n",
      "[130]\tvalid_0's l2: 0.0137337\n",
      "[140]\tvalid_0's l2: 0.0136708\n",
      "[150]\tvalid_0's l2: 0.013656\n",
      "[160]\tvalid_0's l2: 0.0135364\n",
      "[170]\tvalid_0's l2: 0.0136163\n",
      "[180]\tvalid_0's l2: 0.013646\n",
      "Early stopping, best iteration is:\n",
      "[160]\tvalid_0's l2: 0.0135364\n"
     ]
    },
    {
     "name": "stderr",
     "output_type": "stream",
     "text": [
      "\u001b[32m[I 2021-06-05 17:19:21,445]\u001b[0m Trial 37 finished with value: 0.11634589292845095 and parameters: {'num_leaves': 21, 'max_bin': 86, 'bagging_fraction': 0.45014697113274893, 'bagging_freq': 1, 'feature_fraction': 0.8647646583960953, 'min_data_in_leaf': 12, 'min_sum_hessian_in_leaf': 8}. Best is trial 30 with value: 0.11621005960781597.\u001b[0m\n",
      "C:\\Users\\drago\\Anaconda3\\lib\\site-packages\\lightgbm\\engine.py:148: UserWarning: Found `n_estimators` in params. Will use it instead of argument\n",
      "  _log_warning(\"Found `{}` in params. Will use it instead of argument\".format(alias))\n"
     ]
    },
    {
     "name": "stdout",
     "output_type": "stream",
     "text": [
      "[LightGBM] [Warning] Auto-choosing col-wise multi-threading, the overhead of testing was 0.003688 seconds.\n",
      "You can set `force_col_wise=true` to remove the overhead.\n",
      "[LightGBM] [Info] Total Bins 2578\n",
      "[LightGBM] [Info] Number of data points in the train set: 1156, number of used features: 78\n"
     ]
    },
    {
     "name": "stderr",
     "output_type": "stream",
     "text": [
      "C:\\Users\\drago\\Anaconda3\\lib\\site-packages\\lightgbm\\basic.py:1433: UserWarning: Overriding the parameters from Reference Dataset.\n",
      "  _log_warning('Overriding the parameters from Reference Dataset.')\n",
      "C:\\Users\\drago\\Anaconda3\\lib\\site-packages\\lightgbm\\basic.py:1245: UserWarning: categorical_column in param dict is overridden.\n",
      "  _log_warning('{} in param dict is overridden.'.format(cat_alias))\n"
     ]
    },
    {
     "name": "stdout",
     "output_type": "stream",
     "text": [
      "[LightGBM] [Info] Start training from score 12.015333\n",
      "Training until validation scores don't improve for 20 rounds\n",
      "[10]\tvalid_0's l2: 0.0683957\n",
      "[20]\tvalid_0's l2: 0.0389712\n",
      "[30]\tvalid_0's l2: 0.0265129\n",
      "[40]\tvalid_0's l2: 0.0206742\n",
      "[50]\tvalid_0's l2: 0.0187495\n",
      "[60]\tvalid_0's l2: 0.0173362\n",
      "[70]\tvalid_0's l2: 0.0164796\n",
      "[80]\tvalid_0's l2: 0.0159671\n",
      "[90]\tvalid_0's l2: 0.0157594\n",
      "[100]\tvalid_0's l2: 0.0153507\n",
      "[110]\tvalid_0's l2: 0.0150858\n",
      "[120]\tvalid_0's l2: 0.014961\n",
      "[130]\tvalid_0's l2: 0.01496\n",
      "[140]\tvalid_0's l2: 0.0148748\n",
      "[150]\tvalid_0's l2: 0.014995\n",
      "[160]\tvalid_0's l2: 0.0149387\n",
      "Early stopping, best iteration is:\n",
      "[141]\tvalid_0's l2: 0.0148617\n"
     ]
    },
    {
     "name": "stderr",
     "output_type": "stream",
     "text": [
      "\u001b[32m[I 2021-06-05 17:19:22,393]\u001b[0m Trial 38 finished with value: 0.12190846996739746 and parameters: {'num_leaves': 21, 'max_bin': 138, 'bagging_fraction': 0.4319776330604906, 'bagging_freq': 5, 'feature_fraction': 0.8887475698722234, 'min_data_in_leaf': 15, 'min_sum_hessian_in_leaf': 4}. Best is trial 30 with value: 0.11621005960781597.\u001b[0m\n",
      "C:\\Users\\drago\\Anaconda3\\lib\\site-packages\\lightgbm\\engine.py:148: UserWarning: Found `n_estimators` in params. Will use it instead of argument\n",
      "  _log_warning(\"Found `{}` in params. Will use it instead of argument\".format(alias))\n"
     ]
    },
    {
     "name": "stdout",
     "output_type": "stream",
     "text": [
      "[LightGBM] [Warning] Auto-choosing row-wise multi-threading, the overhead of testing was 0.001485 seconds.\n",
      "You can set `force_row_wise=true` to remove the overhead.\n",
      "And if memory is not enough, you can set `force_col_wise=true`.\n",
      "[LightGBM] [Info] Total Bins 1896\n",
      "[LightGBM] [Info] Number of data points in the train set: 1156, number of used features: 78\n"
     ]
    },
    {
     "name": "stderr",
     "output_type": "stream",
     "text": [
      "C:\\Users\\drago\\Anaconda3\\lib\\site-packages\\lightgbm\\basic.py:1433: UserWarning: Overriding the parameters from Reference Dataset.\n",
      "  _log_warning('Overriding the parameters from Reference Dataset.')\n",
      "C:\\Users\\drago\\Anaconda3\\lib\\site-packages\\lightgbm\\basic.py:1245: UserWarning: categorical_column in param dict is overridden.\n",
      "  _log_warning('{} in param dict is overridden.'.format(cat_alias))\n"
     ]
    },
    {
     "name": "stdout",
     "output_type": "stream",
     "text": [
      "[LightGBM] [Info] Start training from score 12.015333\n",
      "Training until validation scores don't improve for 20 rounds\n",
      "[10]\tvalid_0's l2: 0.0644176\n",
      "[20]\tvalid_0's l2: 0.0351717\n",
      "[30]\tvalid_0's l2: 0.0235163\n",
      "[40]\tvalid_0's l2: 0.0193476\n",
      "[50]\tvalid_0's l2: 0.0170961\n",
      "[60]\tvalid_0's l2: 0.0161074\n",
      "[70]\tvalid_0's l2: 0.0154883\n",
      "[80]\tvalid_0's l2: 0.0152515\n",
      "[90]\tvalid_0's l2: 0.015119\n",
      "[100]\tvalid_0's l2: 0.0150402\n",
      "[110]\tvalid_0's l2: 0.0149841\n",
      "[120]\tvalid_0's l2: 0.0149376\n",
      "[130]\tvalid_0's l2: 0.0150143\n",
      "[140]\tvalid_0's l2: 0.015119\n",
      "Early stopping, best iteration is:\n",
      "[122]\tvalid_0's l2: 0.0149208\n"
     ]
    },
    {
     "name": "stderr",
     "output_type": "stream",
     "text": [
      "\u001b[32m[I 2021-06-05 17:19:23,790]\u001b[0m Trial 39 finished with value: 0.12215065383271784 and parameters: {'num_leaves': 62, 'max_bin': 84, 'bagging_fraction': 0.8746594112078407, 'bagging_freq': 10, 'feature_fraction': 0.7996012936761958, 'min_data_in_leaf': 11, 'min_sum_hessian_in_leaf': 9}. Best is trial 30 with value: 0.11621005960781597.\u001b[0m\n",
      "C:\\Users\\drago\\Anaconda3\\lib\\site-packages\\lightgbm\\engine.py:148: UserWarning: Found `n_estimators` in params. Will use it instead of argument\n",
      "  _log_warning(\"Found `{}` in params. Will use it instead of argument\".format(alias))\n"
     ]
    },
    {
     "name": "stdout",
     "output_type": "stream",
     "text": [
      "[LightGBM] [Warning] Auto-choosing col-wise multi-threading, the overhead of testing was 0.002962 seconds.\n",
      "You can set `force_col_wise=true` to remove the overhead.\n",
      "[LightGBM] [Info] Total Bins 3017\n",
      "[LightGBM] [Info] Number of data points in the train set: 1156, number of used features: 79\n"
     ]
    },
    {
     "name": "stderr",
     "output_type": "stream",
     "text": [
      "C:\\Users\\drago\\Anaconda3\\lib\\site-packages\\lightgbm\\basic.py:1433: UserWarning: Overriding the parameters from Reference Dataset.\n",
      "  _log_warning('Overriding the parameters from Reference Dataset.')\n",
      "C:\\Users\\drago\\Anaconda3\\lib\\site-packages\\lightgbm\\basic.py:1245: UserWarning: categorical_column in param dict is overridden.\n",
      "  _log_warning('{} in param dict is overridden.'.format(cat_alias))\n"
     ]
    },
    {
     "name": "stdout",
     "output_type": "stream",
     "text": [
      "[LightGBM] [Info] Start training from score 12.015333\n",
      "Training until validation scores don't improve for 20 rounds\n",
      "[10]\tvalid_0's l2: 0.067131\n",
      "[20]\tvalid_0's l2: 0.037303\n",
      "[30]\tvalid_0's l2: 0.0249732\n",
      "[40]\tvalid_0's l2: 0.0195751\n",
      "[50]\tvalid_0's l2: 0.0168822\n",
      "[60]\tvalid_0's l2: 0.0154761\n",
      "[70]\tvalid_0's l2: 0.0148505\n",
      "[80]\tvalid_0's l2: 0.0144755\n",
      "[90]\tvalid_0's l2: 0.014292\n",
      "[100]\tvalid_0's l2: 0.0141133\n",
      "[110]\tvalid_0's l2: 0.0140325\n",
      "[120]\tvalid_0's l2: 0.0138918\n",
      "[130]\tvalid_0's l2: 0.0138017\n",
      "[140]\tvalid_0's l2: 0.0137878\n",
      "[150]\tvalid_0's l2: 0.0137468\n",
      "[160]\tvalid_0's l2: 0.0137043\n",
      "[170]\tvalid_0's l2: 0.0137\n",
      "[180]\tvalid_0's l2: 0.0137556\n",
      "Early stopping, best iteration is:\n",
      "[161]\tvalid_0's l2: 0.0136945\n"
     ]
    },
    {
     "name": "stderr",
     "output_type": "stream",
     "text": [
      "\u001b[32m[I 2021-06-05 17:19:24,812]\u001b[0m Trial 40 finished with value: 0.1170233190753309 and parameters: {'num_leaves': 21, 'max_bin': 178, 'bagging_fraction': 0.7089383459587619, 'bagging_freq': 1, 'feature_fraction': 0.5736167589661099, 'min_data_in_leaf': 4, 'min_sum_hessian_in_leaf': 10}. Best is trial 30 with value: 0.11621005960781597.\u001b[0m\n",
      "C:\\Users\\drago\\Anaconda3\\lib\\site-packages\\lightgbm\\engine.py:148: UserWarning: Found `n_estimators` in params. Will use it instead of argument\n",
      "  _log_warning(\"Found `{}` in params. Will use it instead of argument\".format(alias))\n"
     ]
    },
    {
     "name": "stdout",
     "output_type": "stream",
     "text": [
      "[LightGBM] [Warning] Auto-choosing col-wise multi-threading, the overhead of testing was 0.003745 seconds.\n",
      "You can set `force_col_wise=true` to remove the overhead.\n",
      "[LightGBM] [Info] Total Bins 2424\n",
      "[LightGBM] [Info] Number of data points in the train set: 1156, number of used features: 78\n"
     ]
    },
    {
     "name": "stderr",
     "output_type": "stream",
     "text": [
      "C:\\Users\\drago\\Anaconda3\\lib\\site-packages\\lightgbm\\basic.py:1433: UserWarning: Overriding the parameters from Reference Dataset.\n",
      "  _log_warning('Overriding the parameters from Reference Dataset.')\n",
      "C:\\Users\\drago\\Anaconda3\\lib\\site-packages\\lightgbm\\basic.py:1245: UserWarning: categorical_column in param dict is overridden.\n",
      "  _log_warning('{} in param dict is overridden.'.format(cat_alias))\n"
     ]
    },
    {
     "name": "stdout",
     "output_type": "stream",
     "text": [
      "[LightGBM] [Info] Start training from score 12.015333\n",
      "Training until validation scores don't improve for 20 rounds\n",
      "[10]\tvalid_0's l2: 0.0680019\n",
      "[20]\tvalid_0's l2: 0.0374251\n",
      "[30]\tvalid_0's l2: 0.0246349\n",
      "[40]\tvalid_0's l2: 0.019427\n",
      "[50]\tvalid_0's l2: 0.0167085\n",
      "[60]\tvalid_0's l2: 0.0151676\n",
      "[70]\tvalid_0's l2: 0.014551\n",
      "[80]\tvalid_0's l2: 0.0141983\n",
      "[90]\tvalid_0's l2: 0.0139977\n",
      "[100]\tvalid_0's l2: 0.0139503\n",
      "[110]\tvalid_0's l2: 0.0138424\n",
      "[120]\tvalid_0's l2: 0.0136913\n",
      "[130]\tvalid_0's l2: 0.0136268\n",
      "[140]\tvalid_0's l2: 0.0135483\n",
      "[150]\tvalid_0's l2: 0.0134731\n",
      "[160]\tvalid_0's l2: 0.0135188\n",
      "[170]\tvalid_0's l2: 0.0135685\n",
      "Early stopping, best iteration is:\n",
      "[150]\tvalid_0's l2: 0.0134731\n"
     ]
    },
    {
     "name": "stderr",
     "output_type": "stream",
     "text": [
      "\u001b[32m[I 2021-06-05 17:19:25,976]\u001b[0m Trial 41 finished with value: 0.11607389645958345 and parameters: {'num_leaves': 33, 'max_bin': 125, 'bagging_fraction': 0.7197362581993618, 'bagging_freq': 4, 'feature_fraction': 0.4684501358427995, 'min_data_in_leaf': 14, 'min_sum_hessian_in_leaf': 2}. Best is trial 41 with value: 0.11607389645958345.\u001b[0m\n",
      "C:\\Users\\drago\\Anaconda3\\lib\\site-packages\\lightgbm\\engine.py:148: UserWarning: Found `n_estimators` in params. Will use it instead of argument\n",
      "  _log_warning(\"Found `{}` in params. Will use it instead of argument\".format(alias))\n"
     ]
    },
    {
     "name": "stdout",
     "output_type": "stream",
     "text": [
      "[LightGBM] [Warning] Auto-choosing col-wise multi-threading, the overhead of testing was 0.003706 seconds.\n",
      "You can set `force_col_wise=true` to remove the overhead.\n",
      "[LightGBM] [Info] Total Bins 1876\n",
      "[LightGBM] [Info] Number of data points in the train set: 1156, number of used features: 78\n"
     ]
    },
    {
     "name": "stderr",
     "output_type": "stream",
     "text": [
      "C:\\Users\\drago\\Anaconda3\\lib\\site-packages\\lightgbm\\basic.py:1433: UserWarning: Overriding the parameters from Reference Dataset.\n",
      "  _log_warning('Overriding the parameters from Reference Dataset.')\n",
      "C:\\Users\\drago\\Anaconda3\\lib\\site-packages\\lightgbm\\basic.py:1245: UserWarning: categorical_column in param dict is overridden.\n",
      "  _log_warning('{} in param dict is overridden.'.format(cat_alias))\n"
     ]
    },
    {
     "name": "stdout",
     "output_type": "stream",
     "text": [
      "[LightGBM] [Info] Start training from score 12.015333\n",
      "[LightGBM] [Warning] No further splits with positive gain, best gain: -inf\n",
      "Training until validation scores don't improve for 20 rounds\n",
      "[LightGBM] [Warning] No further splits with positive gain, best gain: -inf\n",
      "[LightGBM] [Warning] No further splits with positive gain, best gain: -inf\n",
      "[LightGBM] [Warning] No further splits with positive gain, best gain: -inf\n",
      "[LightGBM] [Warning] No further splits with positive gain, best gain: -inf\n",
      "[LightGBM] [Warning] No further splits with positive gain, best gain: -inf\n",
      "[LightGBM] [Warning] No further splits with positive gain, best gain: -inf\n",
      "[LightGBM] [Warning] No further splits with positive gain, best gain: -inf\n",
      "[LightGBM] [Warning] No further splits with positive gain, best gain: -inf\n",
      "[LightGBM] [Warning] No further splits with positive gain, best gain: -inf\n",
      "[10]\tvalid_0's l2: 0.0678542\n",
      "[LightGBM] [Warning] No further splits with positive gain, best gain: -inf\n",
      "[LightGBM] [Warning] No further splits with positive gain, best gain: -inf\n",
      "[LightGBM] [Warning] No further splits with positive gain, best gain: -inf\n",
      "[LightGBM] [Warning] No further splits with positive gain, best gain: -inf\n",
      "[LightGBM] [Warning] No further splits with positive gain, best gain: -inf\n",
      "[LightGBM] [Warning] No further splits with positive gain, best gain: -inf\n",
      "[LightGBM] [Warning] No further splits with positive gain, best gain: -inf\n",
      "[LightGBM] [Warning] No further splits with positive gain, best gain: -inf\n",
      "[LightGBM] [Warning] No further splits with positive gain, best gain: -inf\n",
      "[LightGBM] [Warning] No further splits with positive gain, best gain: -inf\n",
      "[20]\tvalid_0's l2: 0.0378289\n",
      "[LightGBM] [Warning] No further splits with positive gain, best gain: -inf\n",
      "[LightGBM] [Warning] No further splits with positive gain, best gain: -inf\n",
      "[LightGBM] [Warning] No further splits with positive gain, best gain: -inf\n",
      "[LightGBM] [Warning] No further splits with positive gain, best gain: -inf\n",
      "[LightGBM] [Warning] No further splits with positive gain, best gain: -inf\n",
      "[LightGBM] [Warning] No further splits with positive gain, best gain: -inf\n",
      "[LightGBM] [Warning] No further splits with positive gain, best gain: -inf\n",
      "[LightGBM] [Warning] No further splits with positive gain, best gain: -inf\n",
      "[LightGBM] [Warning] No further splits with positive gain, best gain: -inf\n",
      "[LightGBM] [Warning] No further splits with positive gain, best gain: -inf\n",
      "[30]\tvalid_0's l2: 0.0261082\n",
      "[LightGBM] [Warning] No further splits with positive gain, best gain: -inf\n",
      "[LightGBM] [Warning] No further splits with positive gain, best gain: -inf\n",
      "[LightGBM] [Warning] No further splits with positive gain, best gain: -inf\n",
      "[LightGBM] [Warning] No further splits with positive gain, best gain: -inf\n",
      "[LightGBM] [Warning] No further splits with positive gain, best gain: -inf\n",
      "[LightGBM] [Warning] No further splits with positive gain, best gain: -inf\n",
      "[LightGBM] [Warning] No further splits with positive gain, best gain: -inf\n",
      "[LightGBM] [Warning] No further splits with positive gain, best gain: -inf\n",
      "[LightGBM] [Warning] No further splits with positive gain, best gain: -inf\n",
      "[LightGBM] [Warning] No further splits with positive gain, best gain: -inf\n",
      "[40]\tvalid_0's l2: 0.0210435\n",
      "[LightGBM] [Warning] No further splits with positive gain, best gain: -inf\n",
      "[LightGBM] [Warning] No further splits with positive gain, best gain: -inf\n",
      "[LightGBM] [Warning] No further splits with positive gain, best gain: -inf\n",
      "[LightGBM] [Warning] No further splits with positive gain, best gain: -inf\n",
      "[LightGBM] [Warning] No further splits with positive gain, best gain: -inf\n",
      "[LightGBM] [Warning] No further splits with positive gain, best gain: -inf\n",
      "[LightGBM] [Warning] No further splits with positive gain, best gain: -inf\n",
      "[LightGBM] [Warning] No further splits with positive gain, best gain: -inf\n",
      "[LightGBM] [Warning] No further splits with positive gain, best gain: -inf\n",
      "[LightGBM] [Warning] No further splits with positive gain, best gain: -inf\n",
      "[50]\tvalid_0's l2: 0.0184464\n",
      "[LightGBM] [Warning] No further splits with positive gain, best gain: -inf\n",
      "[LightGBM] [Warning] No further splits with positive gain, best gain: -inf\n",
      "[LightGBM] [Warning] No further splits with positive gain, best gain: -inf\n",
      "[LightGBM] [Warning] No further splits with positive gain, best gain: -inf\n",
      "[LightGBM] [Warning] No further splits with positive gain, best gain: -inf\n",
      "[LightGBM] [Warning] No further splits with positive gain, best gain: -inf\n",
      "[LightGBM] [Warning] No further splits with positive gain, best gain: -inf\n",
      "[LightGBM] [Warning] No further splits with positive gain, best gain: -inf\n",
      "[LightGBM] [Warning] No further splits with positive gain, best gain: -inf\n",
      "[LightGBM] [Warning] No further splits with positive gain, best gain: -inf\n",
      "[60]\tvalid_0's l2: 0.0171952\n",
      "[LightGBM] [Warning] No further splits with positive gain, best gain: -inf\n",
      "[LightGBM] [Warning] No further splits with positive gain, best gain: -inf\n",
      "[LightGBM] [Warning] No further splits with positive gain, best gain: -inf\n",
      "[LightGBM] [Warning] No further splits with positive gain, best gain: -inf\n",
      "[LightGBM] [Warning] No further splits with positive gain, best gain: -inf\n",
      "[LightGBM] [Warning] No further splits with positive gain, best gain: -inf\n",
      "[LightGBM] [Warning] No further splits with positive gain, best gain: -inf\n",
      "[LightGBM] [Warning] No further splits with positive gain, best gain: -inf\n",
      "[LightGBM] [Warning] No further splits with positive gain, best gain: -inf\n",
      "[LightGBM] [Warning] No further splits with positive gain, best gain: -inf\n",
      "[70]\tvalid_0's l2: 0.0167112\n",
      "[LightGBM] [Warning] No further splits with positive gain, best gain: -inf\n",
      "[LightGBM] [Warning] No further splits with positive gain, best gain: -inf\n",
      "[LightGBM] [Warning] No further splits with positive gain, best gain: -inf\n",
      "[LightGBM] [Warning] No further splits with positive gain, best gain: -inf\n",
      "[LightGBM] [Warning] No further splits with positive gain, best gain: -inf\n",
      "[LightGBM] [Warning] No further splits with positive gain, best gain: -inf\n",
      "[LightGBM] [Warning] No further splits with positive gain, best gain: -inf\n",
      "[LightGBM] [Warning] No further splits with positive gain, best gain: -inf\n",
      "[LightGBM] [Warning] No further splits with positive gain, best gain: -inf\n",
      "[LightGBM] [Warning] No further splits with positive gain, best gain: -inf\n",
      "[80]\tvalid_0's l2: 0.0160407\n",
      "[LightGBM] [Warning] No further splits with positive gain, best gain: -inf\n",
      "[LightGBM] [Warning] No further splits with positive gain, best gain: -inf\n",
      "[LightGBM] [Warning] No further splits with positive gain, best gain: -inf\n",
      "[LightGBM] [Warning] No further splits with positive gain, best gain: -inf\n",
      "[LightGBM] [Warning] No further splits with positive gain, best gain: -inf\n",
      "[LightGBM] [Warning] No further splits with positive gain, best gain: -inf\n",
      "[LightGBM] [Warning] No further splits with positive gain, best gain: -inf\n",
      "[LightGBM] [Warning] No further splits with positive gain, best gain: -inf\n",
      "[LightGBM] [Warning] No further splits with positive gain, best gain: -inf\n",
      "[LightGBM] [Warning] No further splits with positive gain, best gain: -inf\n",
      "[90]\tvalid_0's l2: 0.0156498\n",
      "[LightGBM] [Warning] No further splits with positive gain, best gain: -inf\n",
      "[LightGBM] [Warning] No further splits with positive gain, best gain: -inf\n",
      "[LightGBM] [Warning] No further splits with positive gain, best gain: -inf\n",
      "[LightGBM] [Warning] No further splits with positive gain, best gain: -inf\n",
      "[LightGBM] [Warning] No further splits with positive gain, best gain: -inf\n",
      "[LightGBM] [Warning] No further splits with positive gain, best gain: -inf\n",
      "[LightGBM] [Warning] No further splits with positive gain, best gain: -inf\n",
      "[LightGBM] [Warning] No further splits with positive gain, best gain: -inf\n",
      "[LightGBM] [Warning] No further splits with positive gain, best gain: -inf\n",
      "[LightGBM] [Warning] No further splits with positive gain, best gain: -inf\n",
      "[100]\tvalid_0's l2: 0.0156878\n",
      "[LightGBM] [Warning] No further splits with positive gain, best gain: -inf\n",
      "[LightGBM] [Warning] No further splits with positive gain, best gain: -inf\n",
      "[LightGBM] [Warning] No further splits with positive gain, best gain: -inf\n"
     ]
    },
    {
     "name": "stdout",
     "output_type": "stream",
     "text": [
      "[LightGBM] [Warning] No further splits with positive gain, best gain: -inf\n",
      "[LightGBM] [Warning] No further splits with positive gain, best gain: -inf\n",
      "[LightGBM] [Warning] No further splits with positive gain, best gain: -inf\n",
      "[LightGBM] [Warning] No further splits with positive gain, best gain: -inf\n",
      "[LightGBM] [Warning] No further splits with positive gain, best gain: -inf\n",
      "[LightGBM] [Warning] No further splits with positive gain, best gain: -inf\n",
      "[LightGBM] [Warning] No further splits with positive gain, best gain: -inf\n",
      "[110]\tvalid_0's l2: 0.01528\n",
      "[LightGBM] [Warning] No further splits with positive gain, best gain: -inf\n",
      "[LightGBM] [Warning] No further splits with positive gain, best gain: -inf\n",
      "[LightGBM] [Warning] No further splits with positive gain, best gain: -inf\n",
      "[LightGBM] [Warning] No further splits with positive gain, best gain: -inf\n",
      "[LightGBM] [Warning] No further splits with positive gain, best gain: -inf\n",
      "[LightGBM] [Warning] No further splits with positive gain, best gain: -inf\n",
      "[LightGBM] [Warning] No further splits with positive gain, best gain: -inf\n",
      "[LightGBM] [Warning] No further splits with positive gain, best gain: -inf\n",
      "[LightGBM] [Warning] No further splits with positive gain, best gain: -inf\n",
      "[LightGBM] [Warning] No further splits with positive gain, best gain: -inf\n",
      "[120]\tvalid_0's l2: 0.0155507\n",
      "[LightGBM] [Warning] No further splits with positive gain, best gain: -inf\n",
      "[LightGBM] [Warning] No further splits with positive gain, best gain: -inf\n",
      "[LightGBM] [Warning] No further splits with positive gain, best gain: -inf\n",
      "[LightGBM] [Warning] No further splits with positive gain, best gain: -inf\n",
      "[LightGBM] [Warning] No further splits with positive gain, best gain: -inf\n",
      "[LightGBM] [Warning] No further splits with positive gain, best gain: -inf\n",
      "[LightGBM] [Warning] No further splits with positive gain, best gain: -inf\n",
      "[LightGBM] [Warning] No further splits with positive gain, best gain: -inf\n",
      "[LightGBM] [Warning] No further splits with positive gain, best gain: -inf\n",
      "[LightGBM] [Warning] No further splits with positive gain, best gain: -inf\n",
      "[130]\tvalid_0's l2: 0.0155976\n",
      "[LightGBM] [Warning] No further splits with positive gain, best gain: -inf\n",
      "Early stopping, best iteration is:\n",
      "[111]\tvalid_0's l2: 0.0152782\n"
     ]
    },
    {
     "name": "stderr",
     "output_type": "stream",
     "text": [
      "\u001b[32m[I 2021-06-05 17:19:27,297]\u001b[0m Trial 42 finished with value: 0.12360509389043547 and parameters: {'num_leaves': 35, 'max_bin': 83, 'bagging_fraction': 0.44892224224701704, 'bagging_freq': 9, 'feature_fraction': 0.8864597445115652, 'min_data_in_leaf': 16, 'min_sum_hessian_in_leaf': 10}. Best is trial 41 with value: 0.11607389645958345.\u001b[0m\n",
      "C:\\Users\\drago\\Anaconda3\\lib\\site-packages\\lightgbm\\engine.py:148: UserWarning: Found `n_estimators` in params. Will use it instead of argument\n",
      "  _log_warning(\"Found `{}` in params. Will use it instead of argument\".format(alias))\n"
     ]
    },
    {
     "name": "stdout",
     "output_type": "stream",
     "text": [
      "[LightGBM] [Warning] Auto-choosing row-wise multi-threading, the overhead of testing was 0.001048 seconds.\n",
      "You can set `force_row_wise=true` to remove the overhead.\n",
      "And if memory is not enough, you can set `force_col_wise=true`.\n",
      "[LightGBM] [Info] Total Bins 2132\n",
      "[LightGBM] [Info] Number of data points in the train set: 1156, number of used features: 79\n"
     ]
    },
    {
     "name": "stderr",
     "output_type": "stream",
     "text": [
      "C:\\Users\\drago\\Anaconda3\\lib\\site-packages\\lightgbm\\basic.py:1433: UserWarning: Overriding the parameters from Reference Dataset.\n",
      "  _log_warning('Overriding the parameters from Reference Dataset.')\n",
      "C:\\Users\\drago\\Anaconda3\\lib\\site-packages\\lightgbm\\basic.py:1245: UserWarning: categorical_column in param dict is overridden.\n",
      "  _log_warning('{} in param dict is overridden.'.format(cat_alias))\n"
     ]
    },
    {
     "name": "stdout",
     "output_type": "stream",
     "text": [
      "[LightGBM] [Info] Start training from score 12.015333\n",
      "Training until validation scores don't improve for 20 rounds\n",
      "[10]\tvalid_0's l2: 0.0664833\n",
      "[20]\tvalid_0's l2: 0.0369944\n",
      "[30]\tvalid_0's l2: 0.0252167\n",
      "[40]\tvalid_0's l2: 0.0195319\n",
      "[50]\tvalid_0's l2: 0.0176001\n",
      "[60]\tvalid_0's l2: 0.0164878\n",
      "[70]\tvalid_0's l2: 0.0160626\n",
      "[80]\tvalid_0's l2: 0.0157654\n",
      "[90]\tvalid_0's l2: 0.0154859\n",
      "[100]\tvalid_0's l2: 0.0151975\n",
      "[110]\tvalid_0's l2: 0.0150395\n",
      "[120]\tvalid_0's l2: 0.0150358\n",
      "Early stopping, best iteration is:\n",
      "[107]\tvalid_0's l2: 0.0150259\n"
     ]
    },
    {
     "name": "stderr",
     "output_type": "stream",
     "text": [
      "\u001b[32m[I 2021-06-05 17:19:28,440]\u001b[0m Trial 43 finished with value: 0.12258004859678505 and parameters: {'num_leaves': 51, 'max_bin': 100, 'bagging_fraction': 0.4405506949939984, 'bagging_freq': 5, 'feature_fraction': 0.5161170710854714, 'min_data_in_leaf': 3, 'min_sum_hessian_in_leaf': 1}. Best is trial 41 with value: 0.11607389645958345.\u001b[0m\n",
      "C:\\Users\\drago\\Anaconda3\\lib\\site-packages\\lightgbm\\engine.py:148: UserWarning: Found `n_estimators` in params. Will use it instead of argument\n",
      "  _log_warning(\"Found `{}` in params. Will use it instead of argument\".format(alias))\n"
     ]
    },
    {
     "name": "stdout",
     "output_type": "stream",
     "text": [
      "[LightGBM] [Warning] Auto-choosing row-wise multi-threading, the overhead of testing was 0.000984 seconds.\n",
      "You can set `force_row_wise=true` to remove the overhead.\n",
      "And if memory is not enough, you can set `force_col_wise=true`.\n",
      "[LightGBM] [Info] Total Bins 1364\n",
      "[LightGBM] [Info] Number of data points in the train set: 1156, number of used features: 79\n"
     ]
    },
    {
     "name": "stderr",
     "output_type": "stream",
     "text": [
      "C:\\Users\\drago\\Anaconda3\\lib\\site-packages\\lightgbm\\basic.py:1433: UserWarning: Overriding the parameters from Reference Dataset.\n",
      "  _log_warning('Overriding the parameters from Reference Dataset.')\n",
      "C:\\Users\\drago\\Anaconda3\\lib\\site-packages\\lightgbm\\basic.py:1245: UserWarning: categorical_column in param dict is overridden.\n",
      "  _log_warning('{} in param dict is overridden.'.format(cat_alias))\n"
     ]
    },
    {
     "name": "stdout",
     "output_type": "stream",
     "text": [
      "[LightGBM] [Info] Start training from score 12.015333\n",
      "Training until validation scores don't improve for 20 rounds\n",
      "[10]\tvalid_0's l2: 0.0671077\n",
      "[20]\tvalid_0's l2: 0.0359559\n",
      "[30]\tvalid_0's l2: 0.0239904\n",
      "[40]\tvalid_0's l2: 0.0189382\n",
      "[50]\tvalid_0's l2: 0.0167995\n",
      "[60]\tvalid_0's l2: 0.0154498\n",
      "[70]\tvalid_0's l2: 0.0148961\n",
      "[80]\tvalid_0's l2: 0.0147326\n",
      "[90]\tvalid_0's l2: 0.0146315\n",
      "[100]\tvalid_0's l2: 0.014387\n",
      "[110]\tvalid_0's l2: 0.014218\n",
      "[120]\tvalid_0's l2: 0.0140993\n",
      "[130]\tvalid_0's l2: 0.0140685\n",
      "[140]\tvalid_0's l2: 0.0140959\n",
      "Early stopping, best iteration is:\n",
      "[126]\tvalid_0's l2: 0.0140274\n"
     ]
    },
    {
     "name": "stderr",
     "output_type": "stream",
     "text": [
      "\u001b[32m[I 2021-06-05 17:19:29,726]\u001b[0m Trial 44 finished with value: 0.1184374572828425 and parameters: {'num_leaves': 48, 'max_bin': 51, 'bagging_fraction': 0.7852903742513881, 'bagging_freq': 2, 'feature_fraction': 0.4397610412933779, 'min_data_in_leaf': 3, 'min_sum_hessian_in_leaf': 7}. Best is trial 41 with value: 0.11607389645958345.\u001b[0m\n",
      "C:\\Users\\drago\\Anaconda3\\lib\\site-packages\\lightgbm\\engine.py:148: UserWarning: Found `n_estimators` in params. Will use it instead of argument\n",
      "  _log_warning(\"Found `{}` in params. Will use it instead of argument\".format(alias))\n"
     ]
    },
    {
     "name": "stdout",
     "output_type": "stream",
     "text": [
      "[LightGBM] [Warning] Auto-choosing row-wise multi-threading, the overhead of testing was 0.001570 seconds.\n",
      "You can set `force_row_wise=true` to remove the overhead.\n",
      "And if memory is not enough, you can set `force_col_wise=true`.\n",
      "[LightGBM] [Info] Total Bins 2289\n",
      "[LightGBM] [Info] Number of data points in the train set: 1156, number of used features: 78\n"
     ]
    },
    {
     "name": "stderr",
     "output_type": "stream",
     "text": [
      "C:\\Users\\drago\\Anaconda3\\lib\\site-packages\\lightgbm\\basic.py:1433: UserWarning: Overriding the parameters from Reference Dataset.\n",
      "  _log_warning('Overriding the parameters from Reference Dataset.')\n",
      "C:\\Users\\drago\\Anaconda3\\lib\\site-packages\\lightgbm\\basic.py:1245: UserWarning: categorical_column in param dict is overridden.\n",
      "  _log_warning('{} in param dict is overridden.'.format(cat_alias))\n"
     ]
    },
    {
     "name": "stdout",
     "output_type": "stream",
     "text": [
      "[LightGBM] [Info] Start training from score 12.015333\n",
      "Training until validation scores don't improve for 20 rounds\n",
      "[10]\tvalid_0's l2: 0.0676824\n",
      "[20]\tvalid_0's l2: 0.0391645\n",
      "[30]\tvalid_0's l2: 0.0265916\n",
      "[40]\tvalid_0's l2: 0.0210271\n",
      "[50]\tvalid_0's l2: 0.0183889\n",
      "[60]\tvalid_0's l2: 0.01707\n",
      "[70]\tvalid_0's l2: 0.0163417\n",
      "[80]\tvalid_0's l2: 0.0159728\n",
      "[90]\tvalid_0's l2: 0.0156951\n",
      "[100]\tvalid_0's l2: 0.0156128\n",
      "[110]\tvalid_0's l2: 0.0153255\n",
      "[120]\tvalid_0's l2: 0.0152131\n",
      "[130]\tvalid_0's l2: 0.0151542\n",
      "Early stopping, best iteration is:\n",
      "[117]\tvalid_0's l2: 0.0151455\n"
     ]
    },
    {
     "name": "stderr",
     "output_type": "stream",
     "text": [
      "\u001b[32m[I 2021-06-05 17:19:30,594]\u001b[0m Trial 45 finished with value: 0.12306701064230102 and parameters: {'num_leaves': 18, 'max_bin': 113, 'bagging_fraction': 0.6786843956619585, 'bagging_freq': 9, 'feature_fraction': 0.7635221313556642, 'min_data_in_leaf': 6, 'min_sum_hessian_in_leaf': 2}. Best is trial 41 with value: 0.11607389645958345.\u001b[0m\n",
      "C:\\Users\\drago\\Anaconda3\\lib\\site-packages\\lightgbm\\engine.py:148: UserWarning: Found `n_estimators` in params. Will use it instead of argument\n",
      "  _log_warning(\"Found `{}` in params. Will use it instead of argument\".format(alias))\n"
     ]
    },
    {
     "name": "stdout",
     "output_type": "stream",
     "text": [
      "[LightGBM] [Warning] Auto-choosing row-wise multi-threading, the overhead of testing was 0.001285 seconds.\n",
      "You can set `force_row_wise=true` to remove the overhead.\n",
      "And if memory is not enough, you can set `force_col_wise=true`.\n",
      "[LightGBM] [Info] Total Bins 2060\n",
      "[LightGBM] [Info] Number of data points in the train set: 1156, number of used features: 78\n"
     ]
    },
    {
     "name": "stderr",
     "output_type": "stream",
     "text": [
      "C:\\Users\\drago\\Anaconda3\\lib\\site-packages\\lightgbm\\basic.py:1433: UserWarning: Overriding the parameters from Reference Dataset.\n",
      "  _log_warning('Overriding the parameters from Reference Dataset.')\n",
      "C:\\Users\\drago\\Anaconda3\\lib\\site-packages\\lightgbm\\basic.py:1245: UserWarning: categorical_column in param dict is overridden.\n",
      "  _log_warning('{} in param dict is overridden.'.format(cat_alias))\n"
     ]
    },
    {
     "name": "stdout",
     "output_type": "stream",
     "text": [
      "[LightGBM] [Info] Start training from score 12.015333\n",
      "Training until validation scores don't improve for 20 rounds\n",
      "[10]\tvalid_0's l2: 0.0736703\n",
      "[20]\tvalid_0's l2: 0.0446699\n",
      "[30]\tvalid_0's l2: 0.0309675\n",
      "[40]\tvalid_0's l2: 0.0240148\n",
      "[50]\tvalid_0's l2: 0.0205786\n",
      "[60]\tvalid_0's l2: 0.0184582\n",
      "[70]\tvalid_0's l2: 0.0172221\n",
      "[80]\tvalid_0's l2: 0.0162455\n",
      "[90]\tvalid_0's l2: 0.0157497\n",
      "[100]\tvalid_0's l2: 0.0152315\n",
      "[110]\tvalid_0's l2: 0.0152008\n",
      "[120]\tvalid_0's l2: 0.0152169\n",
      "[130]\tvalid_0's l2: 0.0149349\n",
      "[140]\tvalid_0's l2: 0.0147038\n",
      "[150]\tvalid_0's l2: 0.0146566\n",
      "[160]\tvalid_0's l2: 0.0145811\n",
      "[170]\tvalid_0's l2: 0.0146407\n",
      "[180]\tvalid_0's l2: 0.0145551\n",
      "[190]\tvalid_0's l2: 0.0145977\n",
      "[200]\tvalid_0's l2: 0.0145908\n",
      "Early stopping, best iteration is:\n",
      "[185]\tvalid_0's l2: 0.0145195\n"
     ]
    },
    {
     "name": "stderr",
     "output_type": "stream",
     "text": [
      "\u001b[32m[I 2021-06-05 17:19:31,408]\u001b[0m Trial 46 finished with value: 0.12049687664013224 and parameters: {'num_leaves': 7, 'max_bin': 95, 'bagging_fraction': 0.5310590746198391, 'bagging_freq': 5, 'feature_fraction': 0.7416406677738403, 'min_data_in_leaf': 12, 'min_sum_hessian_in_leaf': 3}. Best is trial 41 with value: 0.11607389645958345.\u001b[0m\n",
      "C:\\Users\\drago\\Anaconda3\\lib\\site-packages\\lightgbm\\engine.py:148: UserWarning: Found `n_estimators` in params. Will use it instead of argument\n",
      "  _log_warning(\"Found `{}` in params. Will use it instead of argument\".format(alias))\n"
     ]
    },
    {
     "name": "stdout",
     "output_type": "stream",
     "text": [
      "[LightGBM] [Warning] Auto-choosing col-wise multi-threading, the overhead of testing was 0.002519 seconds.\n",
      "You can set `force_col_wise=true` to remove the overhead.\n",
      "[LightGBM] [Info] Total Bins 1789\n",
      "[LightGBM] [Info] Number of data points in the train set: 1156, number of used features: 78\n"
     ]
    },
    {
     "name": "stderr",
     "output_type": "stream",
     "text": [
      "C:\\Users\\drago\\Anaconda3\\lib\\site-packages\\lightgbm\\basic.py:1433: UserWarning: Overriding the parameters from Reference Dataset.\n",
      "  _log_warning('Overriding the parameters from Reference Dataset.')\n",
      "C:\\Users\\drago\\Anaconda3\\lib\\site-packages\\lightgbm\\basic.py:1245: UserWarning: categorical_column in param dict is overridden.\n",
      "  _log_warning('{} in param dict is overridden.'.format(cat_alias))\n"
     ]
    },
    {
     "name": "stdout",
     "output_type": "stream",
     "text": [
      "[LightGBM] [Info] Start training from score 12.015333\n",
      "Training until validation scores don't improve for 20 rounds\n",
      "[10]\tvalid_0's l2: 0.0664059\n",
      "[20]\tvalid_0's l2: 0.0364447\n",
      "[30]\tvalid_0's l2: 0.0245169\n",
      "[40]\tvalid_0's l2: 0.0195329\n",
      "[50]\tvalid_0's l2: 0.0173828\n",
      "[60]\tvalid_0's l2: 0.0164353\n",
      "[70]\tvalid_0's l2: 0.0157514\n",
      "[80]\tvalid_0's l2: 0.0153623\n",
      "[90]\tvalid_0's l2: 0.015229\n",
      "[100]\tvalid_0's l2: 0.0151322\n",
      "[110]\tvalid_0's l2: 0.0149309\n",
      "[120]\tvalid_0's l2: 0.0148238\n",
      "[130]\tvalid_0's l2: 0.0148456\n",
      "[140]\tvalid_0's l2: 0.0148433\n",
      "Early stopping, best iteration is:\n",
      "[122]\tvalid_0's l2: 0.0148158\n"
     ]
    },
    {
     "name": "stderr",
     "output_type": "stream",
     "text": [
      "\u001b[32m[I 2021-06-05 17:19:32,438]\u001b[0m Trial 47 finished with value: 0.12172000179946446 and parameters: {'num_leaves': 27, 'max_bin': 77, 'bagging_fraction': 0.7942727561532594, 'bagging_freq': 1, 'feature_fraction': 0.7484986208624937, 'min_data_in_leaf': 13, 'min_sum_hessian_in_leaf': 8}. Best is trial 41 with value: 0.11607389645958345.\u001b[0m\n",
      "C:\\Users\\drago\\Anaconda3\\lib\\site-packages\\lightgbm\\engine.py:148: UserWarning: Found `n_estimators` in params. Will use it instead of argument\n",
      "  _log_warning(\"Found `{}` in params. Will use it instead of argument\".format(alias))\n"
     ]
    },
    {
     "name": "stdout",
     "output_type": "stream",
     "text": [
      "[LightGBM] [Warning] Auto-choosing col-wise multi-threading, the overhead of testing was 0.002701 seconds.\n",
      "You can set `force_col_wise=true` to remove the overhead.\n",
      "[LightGBM] [Info] Total Bins 2198\n",
      "[LightGBM] [Info] Number of data points in the train set: 1156, number of used features: 79\n"
     ]
    },
    {
     "name": "stderr",
     "output_type": "stream",
     "text": [
      "C:\\Users\\drago\\Anaconda3\\lib\\site-packages\\lightgbm\\basic.py:1433: UserWarning: Overriding the parameters from Reference Dataset.\n",
      "  _log_warning('Overriding the parameters from Reference Dataset.')\n",
      "C:\\Users\\drago\\Anaconda3\\lib\\site-packages\\lightgbm\\basic.py:1245: UserWarning: categorical_column in param dict is overridden.\n",
      "  _log_warning('{} in param dict is overridden.'.format(cat_alias))\n"
     ]
    },
    {
     "name": "stdout",
     "output_type": "stream",
     "text": [
      "[LightGBM] [Info] Start training from score 12.015333\n",
      "Training until validation scores don't improve for 20 rounds\n",
      "[10]\tvalid_0's l2: 0.0674904\n",
      "[20]\tvalid_0's l2: 0.0378495\n",
      "[30]\tvalid_0's l2: 0.0253106\n",
      "[40]\tvalid_0's l2: 0.0199075\n",
      "[50]\tvalid_0's l2: 0.0172684\n",
      "[60]\tvalid_0's l2: 0.0158523\n",
      "[70]\tvalid_0's l2: 0.0153712\n",
      "[80]\tvalid_0's l2: 0.0151057\n",
      "[90]\tvalid_0's l2: 0.0150663\n",
      "[100]\tvalid_0's l2: 0.014961\n",
      "[110]\tvalid_0's l2: 0.0148236\n",
      "[120]\tvalid_0's l2: 0.0147344\n",
      "[130]\tvalid_0's l2: 0.0146849\n",
      "[140]\tvalid_0's l2: 0.014542\n",
      "[150]\tvalid_0's l2: 0.0146394\n",
      "[160]\tvalid_0's l2: 0.0146166\n",
      "Early stopping, best iteration is:\n",
      "[144]\tvalid_0's l2: 0.014492\n"
     ]
    },
    {
     "name": "stderr",
     "output_type": "stream",
     "text": [
      "\u001b[32m[I 2021-06-05 17:19:33,379]\u001b[0m Trial 48 finished with value: 0.12038292521465738 and parameters: {'num_leaves': 19, 'max_bin': 106, 'bagging_fraction': 0.6937998175981945, 'bagging_freq': 3, 'feature_fraction': 0.5854263996089444, 'min_data_in_leaf': 4, 'min_sum_hessian_in_leaf': 5}. Best is trial 41 with value: 0.11607389645958345.\u001b[0m\n",
      "C:\\Users\\drago\\Anaconda3\\lib\\site-packages\\lightgbm\\engine.py:148: UserWarning: Found `n_estimators` in params. Will use it instead of argument\n",
      "  _log_warning(\"Found `{}` in params. Will use it instead of argument\".format(alias))\n"
     ]
    },
    {
     "name": "stdout",
     "output_type": "stream",
     "text": [
      "[LightGBM] [Warning] Auto-choosing col-wise multi-threading, the overhead of testing was 0.003598 seconds.\n",
      "You can set `force_col_wise=true` to remove the overhead.\n",
      "[LightGBM] [Info] Total Bins 2940\n",
      "[LightGBM] [Info] Number of data points in the train set: 1156, number of used features: 78\n"
     ]
    },
    {
     "name": "stderr",
     "output_type": "stream",
     "text": [
      "C:\\Users\\drago\\Anaconda3\\lib\\site-packages\\lightgbm\\basic.py:1433: UserWarning: Overriding the parameters from Reference Dataset.\n",
      "  _log_warning('Overriding the parameters from Reference Dataset.')\n",
      "C:\\Users\\drago\\Anaconda3\\lib\\site-packages\\lightgbm\\basic.py:1245: UserWarning: categorical_column in param dict is overridden.\n",
      "  _log_warning('{} in param dict is overridden.'.format(cat_alias))\n"
     ]
    },
    {
     "name": "stdout",
     "output_type": "stream",
     "text": [
      "[LightGBM] [Info] Start training from score 12.015333\n",
      "Training until validation scores don't improve for 20 rounds\n",
      "[10]\tvalid_0's l2: 0.0762818\n",
      "[20]\tvalid_0's l2: 0.0467362\n",
      "[30]\tvalid_0's l2: 0.03249\n",
      "[40]\tvalid_0's l2: 0.0257868\n",
      "[50]\tvalid_0's l2: 0.0214988\n",
      "[60]\tvalid_0's l2: 0.0193962\n",
      "[70]\tvalid_0's l2: 0.0180176\n",
      "[80]\tvalid_0's l2: 0.0166924\n",
      "[90]\tvalid_0's l2: 0.015955\n",
      "[100]\tvalid_0's l2: 0.0155308\n",
      "[110]\tvalid_0's l2: 0.0151824\n",
      "[120]\tvalid_0's l2: 0.0147177\n",
      "[130]\tvalid_0's l2: 0.0146438\n",
      "[140]\tvalid_0's l2: 0.0145239\n",
      "[150]\tvalid_0's l2: 0.014505\n",
      "[160]\tvalid_0's l2: 0.0145101\n",
      "[170]\tvalid_0's l2: 0.0143538\n",
      "[180]\tvalid_0's l2: 0.0142652\n",
      "[190]\tvalid_0's l2: 0.0142552\n",
      "[200]\tvalid_0's l2: 0.0142293\n",
      "[210]\tvalid_0's l2: 0.0140382\n",
      "[220]\tvalid_0's l2: 0.0142292\n",
      "[230]\tvalid_0's l2: 0.0141861\n",
      "Early stopping, best iteration is:\n",
      "[210]\tvalid_0's l2: 0.0140382\n"
     ]
    },
    {
     "name": "stderr",
     "output_type": "stream",
     "text": [
      "\u001b[32m[I 2021-06-05 17:19:34,237]\u001b[0m Trial 49 finished with value: 0.11848287385526712 and parameters: {'num_leaves': 6, 'max_bin': 170, 'bagging_fraction': 0.4384782234933164, 'bagging_freq': 6, 'feature_fraction': 0.5534050497725981, 'min_data_in_leaf': 10, 'min_sum_hessian_in_leaf': 10}. Best is trial 41 with value: 0.11607389645958345.\u001b[0m\n"
     ]
    },
    {
     "data": {
      "text/plain": [
       "{'num_leaves': 33,\n",
       " 'max_bin': 125,\n",
       " 'bagging_fraction': 0.7197362581993618,\n",
       " 'bagging_freq': 4,\n",
       " 'feature_fraction': 0.4684501358427995,\n",
       " 'min_data_in_leaf': 14,\n",
       " 'min_sum_hessian_in_leaf': 2}"
      ]
     },
     "execution_count": 80,
     "metadata": {},
     "output_type": "execute_result"
    }
   ],
   "source": [
    "study = optuna.create_study(sampler=optuna.samplers.RandomSampler(seed=0))\n",
    "study.optimize(objective, n_trials=50)\n",
    "study.best_params"
   ]
  },
  {
   "cell_type": "code",
   "execution_count": 81,
   "metadata": {},
   "outputs": [],
   "source": [
    "lgbm_params = {\n",
    "    \"objective\":\"regression\",\n",
    "    \"random_seed\":1234,\n",
    "    \"learning_rate\":0.05, \n",
    "    \"n_estimators\":1000,\n",
    "    \"num_leaves\":33,\n",
    "    \"bagging_fraction\":0.7197362581993618,\n",
    "    \"bagging_freq\":4,\n",
    "    \"feature_fraction\":0.4684501358427995,    \n",
    "    \"max_bin\":125, \n",
    "    \"min_data_in_leaf\":14, \n",
    "    \"min_sum_hessian_in_leaf\":2\n",
    "}"
   ]
  },
  {
   "cell_type": "code",
   "execution_count": 82,
   "metadata": {},
   "outputs": [
    {
     "name": "stderr",
     "output_type": "stream",
     "text": [
      "C:\\Users\\drago\\Anaconda3\\lib\\site-packages\\lightgbm\\engine.py:148: UserWarning: Found `n_estimators` in params. Will use it instead of argument\n",
      "  _log_warning(\"Found `{}` in params. Will use it instead of argument\".format(alias))\n"
     ]
    },
    {
     "name": "stdout",
     "output_type": "stream",
     "text": [
      "[LightGBM] [Warning] Auto-choosing row-wise multi-threading, the overhead of testing was 0.001989 seconds.\n",
      "You can set `force_row_wise=true` to remove the overhead.\n",
      "And if memory is not enough, you can set `force_col_wise=true`.\n",
      "[LightGBM] [Info] Total Bins 2374\n",
      "[LightGBM] [Info] Number of data points in the train set: 963, number of used features: 77\n"
     ]
    },
    {
     "name": "stderr",
     "output_type": "stream",
     "text": [
      "C:\\Users\\drago\\Anaconda3\\lib\\site-packages\\lightgbm\\basic.py:1433: UserWarning: Overriding the parameters from Reference Dataset.\n",
      "  _log_warning('Overriding the parameters from Reference Dataset.')\n",
      "C:\\Users\\drago\\Anaconda3\\lib\\site-packages\\lightgbm\\basic.py:1245: UserWarning: categorical_column in param dict is overridden.\n",
      "  _log_warning('{} in param dict is overridden.'.format(cat_alias))\n"
     ]
    },
    {
     "name": "stdout",
     "output_type": "stream",
     "text": [
      "[LightGBM] [Info] Start training from score 12.010615\n",
      "Training until validation scores don't improve for 20 rounds\n",
      "[10]\tvalid_0's l2: 0.0730654\n",
      "[20]\tvalid_0's l2: 0.039388\n",
      "[30]\tvalid_0's l2: 0.0260691\n",
      "[40]\tvalid_0's l2: 0.019713\n",
      "[50]\tvalid_0's l2: 0.0167307\n",
      "[60]\tvalid_0's l2: 0.0153157\n",
      "[70]\tvalid_0's l2: 0.0145976\n",
      "[80]\tvalid_0's l2: 0.0141165\n",
      "[90]\tvalid_0's l2: 0.0139484\n",
      "[100]\tvalid_0's l2: 0.0137097\n",
      "[110]\tvalid_0's l2: 0.013655\n",
      "[120]\tvalid_0's l2: 0.0135674\n",
      "[130]\tvalid_0's l2: 0.0135293\n",
      "[140]\tvalid_0's l2: 0.0135037\n",
      "[150]\tvalid_0's l2: 0.0134944\n",
      "[160]\tvalid_0's l2: 0.013517\n",
      "Early stopping, best iteration is:\n",
      "[143]\tvalid_0's l2: 0.0134783\n",
      "0.11609626422281383\n"
     ]
    },
    {
     "name": "stderr",
     "output_type": "stream",
     "text": [
      "C:\\Users\\drago\\Anaconda3\\lib\\site-packages\\lightgbm\\engine.py:148: UserWarning: Found `n_estimators` in params. Will use it instead of argument\n",
      "  _log_warning(\"Found `{}` in params. Will use it instead of argument\".format(alias))\n"
     ]
    },
    {
     "name": "stdout",
     "output_type": "stream",
     "text": [
      "[LightGBM] [Warning] Auto-choosing row-wise multi-threading, the overhead of testing was 0.001835 seconds.\n",
      "You can set `force_row_wise=true` to remove the overhead.\n",
      "And if memory is not enough, you can set `force_col_wise=true`.\n",
      "[LightGBM] [Info] Total Bins 2370\n",
      "[LightGBM] [Info] Number of data points in the train set: 963, number of used features: 78\n"
     ]
    },
    {
     "name": "stderr",
     "output_type": "stream",
     "text": [
      "C:\\Users\\drago\\Anaconda3\\lib\\site-packages\\lightgbm\\basic.py:1433: UserWarning: Overriding the parameters from Reference Dataset.\n",
      "  _log_warning('Overriding the parameters from Reference Dataset.')\n",
      "C:\\Users\\drago\\Anaconda3\\lib\\site-packages\\lightgbm\\basic.py:1245: UserWarning: categorical_column in param dict is overridden.\n",
      "  _log_warning('{} in param dict is overridden.'.format(cat_alias))\n"
     ]
    },
    {
     "name": "stdout",
     "output_type": "stream",
     "text": [
      "[LightGBM] [Info] Start training from score 12.018820\n",
      "Training until validation scores don't improve for 20 rounds\n",
      "[10]\tvalid_0's l2: 0.0833306\n",
      "[20]\tvalid_0's l2: 0.0493842\n",
      "[30]\tvalid_0's l2: 0.0337997\n",
      "[40]\tvalid_0's l2: 0.0266571\n",
      "[50]\tvalid_0's l2: 0.0230607\n",
      "[60]\tvalid_0's l2: 0.0214028\n",
      "[70]\tvalid_0's l2: 0.0202047\n",
      "[80]\tvalid_0's l2: 0.0195021\n",
      "[90]\tvalid_0's l2: 0.0189893\n",
      "[100]\tvalid_0's l2: 0.0187437\n",
      "[110]\tvalid_0's l2: 0.0185144\n",
      "[120]\tvalid_0's l2: 0.0184643\n",
      "[130]\tvalid_0's l2: 0.0183792\n",
      "[140]\tvalid_0's l2: 0.0183163\n",
      "[150]\tvalid_0's l2: 0.01836\n",
      "[160]\tvalid_0's l2: 0.0182416\n",
      "[170]\tvalid_0's l2: 0.0181873\n",
      "[180]\tvalid_0's l2: 0.0181668\n",
      "[190]\tvalid_0's l2: 0.0182043\n",
      "[200]\tvalid_0's l2: 0.0181913\n",
      "Early stopping, best iteration is:\n",
      "[185]\tvalid_0's l2: 0.0181394\n",
      "0.13468263341875894\n"
     ]
    },
    {
     "name": "stderr",
     "output_type": "stream",
     "text": [
      "C:\\Users\\drago\\Anaconda3\\lib\\site-packages\\lightgbm\\engine.py:148: UserWarning: Found `n_estimators` in params. Will use it instead of argument\n",
      "  _log_warning(\"Found `{}` in params. Will use it instead of argument\".format(alias))\n"
     ]
    },
    {
     "name": "stdout",
     "output_type": "stream",
     "text": [
      "[LightGBM] [Warning] Auto-choosing col-wise multi-threading, the overhead of testing was 0.005218 seconds.\n",
      "You can set `force_col_wise=true` to remove the overhead.\n",
      "[LightGBM] [Info] Total Bins 2389\n",
      "[LightGBM] [Info] Number of data points in the train set: 964, number of used features: 78\n"
     ]
    },
    {
     "name": "stderr",
     "output_type": "stream",
     "text": [
      "C:\\Users\\drago\\Anaconda3\\lib\\site-packages\\lightgbm\\basic.py:1433: UserWarning: Overriding the parameters from Reference Dataset.\n",
      "  _log_warning('Overriding the parameters from Reference Dataset.')\n",
      "C:\\Users\\drago\\Anaconda3\\lib\\site-packages\\lightgbm\\basic.py:1245: UserWarning: categorical_column in param dict is overridden.\n",
      "  _log_warning('{} in param dict is overridden.'.format(cat_alias))\n"
     ]
    },
    {
     "name": "stdout",
     "output_type": "stream",
     "text": [
      "[LightGBM] [Info] Start training from score 12.021869\n",
      "Training until validation scores don't improve for 20 rounds\n",
      "[10]\tvalid_0's l2: 0.0672398\n",
      "[20]\tvalid_0's l2: 0.0368451\n",
      "[30]\tvalid_0's l2: 0.0242847\n",
      "[40]\tvalid_0's l2: 0.0184089\n",
      "[50]\tvalid_0's l2: 0.0157186\n",
      "[60]\tvalid_0's l2: 0.0144352\n",
      "[70]\tvalid_0's l2: 0.0138335\n",
      "[80]\tvalid_0's l2: 0.0135654\n",
      "[90]\tvalid_0's l2: 0.0134322\n",
      "[100]\tvalid_0's l2: 0.0133707\n",
      "[110]\tvalid_0's l2: 0.0132919\n",
      "[120]\tvalid_0's l2: 0.0131674\n",
      "[130]\tvalid_0's l2: 0.0130868\n",
      "[140]\tvalid_0's l2: 0.0130366\n",
      "[150]\tvalid_0's l2: 0.0129945\n",
      "[160]\tvalid_0's l2: 0.0130438\n",
      "Early stopping, best iteration is:\n",
      "[144]\tvalid_0's l2: 0.0129672\n",
      "0.11387357100745589\n"
     ]
    }
   ],
   "source": [
    "models = []\n",
    "rmses = []\n",
    "oof = np.zeros(len(train_X))\n",
    "\n",
    "for train_index, val_index in kf.split(train_X):\n",
    "    X_train = train_X.iloc[train_index]\n",
    "    X_valid = train_X.iloc[val_index]\n",
    "    y_train = train_Y.iloc[train_index]\n",
    "    y_valid = train_Y.iloc[val_index]\n",
    "    \n",
    "    lgb_train = lgb.Dataset(X_train, y_train)\n",
    "    lgb_eval = lgb.Dataset(X_valid, y_valid, reference=lgb_train)\n",
    "    \n",
    "    model_lgb = lgb.train(lgbm_params,\n",
    "                          lgb_train,\n",
    "                          valid_sets=lgb_eval,\n",
    "                          num_boost_round=100,\n",
    "                          early_stopping_rounds=20,\n",
    "                          verbose_eval=10,\n",
    "                          )\n",
    "    \n",
    "    y_pred = model_lgb.predict(X_valid, num_iteration=model_lgb.best_iteration)\n",
    "    tmp_rmse = np.sqrt(mean_squared_error(y_valid, y_pred))\n",
    "    print(tmp_rmse)\n",
    "    \n",
    "    models.append(model_lgb)\n",
    "    rmses.append(tmp_rmse)\n",
    "    oof[val_index] = y_pred"
   ]
  },
  {
   "cell_type": "code",
   "execution_count": 83,
   "metadata": {},
   "outputs": [
    {
     "data": {
      "text/plain": [
       "0.12155082288300956"
      ]
     },
     "execution_count": 83,
     "metadata": {},
     "output_type": "execute_result"
    }
   ],
   "source": [
    "sum(rmses)/len(rmses)"
   ]
  },
  {
   "cell_type": "code",
   "execution_count": 84,
   "metadata": {},
   "outputs": [],
   "source": [
    "test_X = test_df_le.drop([\"SalePrice\", \"Id\"], axis=1)"
   ]
  },
  {
   "cell_type": "code",
   "execution_count": 85,
   "metadata": {},
   "outputs": [],
   "source": [
    "preds = []\n",
    "for model in models:\n",
    "    pred = model.predict(test_X)\n",
    "    preds.append(pred)"
   ]
  },
  {
   "cell_type": "code",
   "execution_count": 86,
   "metadata": {},
   "outputs": [],
   "source": [
    "preds_array = np.array(preds)\n",
    "preds_mean = np.mean(preds_array, axis=0)"
   ]
  },
  {
   "cell_type": "code",
   "execution_count": 87,
   "metadata": {},
   "outputs": [],
   "source": [
    "preds_exp = np.exp(preds_mean)"
   ]
  },
  {
   "cell_type": "code",
   "execution_count": 88,
   "metadata": {},
   "outputs": [
    {
     "data": {
      "text/plain": [
       "1459"
      ]
     },
     "execution_count": 88,
     "metadata": {},
     "output_type": "execute_result"
    }
   ],
   "source": [
    "len(preds_exp)"
   ]
  },
  {
   "cell_type": "code",
   "execution_count": 89,
   "metadata": {},
   "outputs": [],
   "source": [
    "submission[\"SalePrice\"] = preds_exp"
   ]
  },
  {
   "cell_type": "code",
   "execution_count": 90,
   "metadata": {},
   "outputs": [],
   "source": [
    "submission.to_csv(\"houseprices_submit01.csv\", index=False)"
   ]
  },
  {
   "cell_type": "markdown",
   "metadata": {},
   "source": [
    "## 8. Ensemble"
   ]
  },
  {
   "cell_type": "code",
   "execution_count": 91,
   "metadata": {},
   "outputs": [],
   "source": [
    "from sklearn.ensemble import RandomForestRegressor as rf"
   ]
  },
  {
   "cell_type": "code",
   "execution_count": 92,
   "metadata": {},
   "outputs": [
    {
     "name": "stdout",
     "output_type": "stream",
     "text": [
      "LotFrontage 479\n",
      "MasVnrArea 22\n",
      "BsmtFinSF1 1\n",
      "BsmtFinSF2 1\n",
      "BsmtUnfSF 1\n",
      "TotalBsmtSF 1\n",
      "BsmtFullBath 2\n",
      "BsmtHalfBath 2\n",
      "GarageYrBlt 159\n",
      "GarageCars 1\n",
      "GarageArea 1\n",
      "TotalSF 1\n",
      "Total_Bathrooms 2\n"
     ]
    }
   ],
   "source": [
    "hasnan_cat = []\n",
    "for col in all_df.columns:\n",
    "    tmp_null_count = all_df[col].isnull().sum()\n",
    "    if (tmp_null_count > 0) & (col != \"SalePrice\"):\n",
    "        print(col, tmp_null_count)\n",
    "        hasnan_cat.append(col)"
   ]
  },
  {
   "cell_type": "code",
   "execution_count": 93,
   "metadata": {},
   "outputs": [
    {
     "data": {
      "text/html": [
       "<div>\n",
       "<style scoped>\n",
       "    .dataframe tbody tr th:only-of-type {\n",
       "        vertical-align: middle;\n",
       "    }\n",
       "\n",
       "    .dataframe tbody tr th {\n",
       "        vertical-align: top;\n",
       "    }\n",
       "\n",
       "    .dataframe thead th {\n",
       "        text-align: right;\n",
       "    }\n",
       "</style>\n",
       "<table border=\"1\" class=\"dataframe\">\n",
       "  <thead>\n",
       "    <tr style=\"text-align: right;\">\n",
       "      <th></th>\n",
       "      <th>LotFrontage</th>\n",
       "      <th>MasVnrArea</th>\n",
       "      <th>BsmtFinSF1</th>\n",
       "      <th>BsmtFinSF2</th>\n",
       "      <th>BsmtUnfSF</th>\n",
       "      <th>TotalBsmtSF</th>\n",
       "      <th>BsmtFullBath</th>\n",
       "      <th>BsmtHalfBath</th>\n",
       "      <th>GarageYrBlt</th>\n",
       "      <th>GarageCars</th>\n",
       "      <th>GarageArea</th>\n",
       "      <th>TotalSF</th>\n",
       "      <th>Total_Bathrooms</th>\n",
       "    </tr>\n",
       "  </thead>\n",
       "  <tbody>\n",
       "    <tr>\n",
       "      <td>count</td>\n",
       "      <td>2425.000000</td>\n",
       "      <td>2882.000000</td>\n",
       "      <td>2903.000000</td>\n",
       "      <td>2903.000000</td>\n",
       "      <td>2903.000000</td>\n",
       "      <td>2903.000000</td>\n",
       "      <td>2902.000000</td>\n",
       "      <td>2902.000000</td>\n",
       "      <td>2745.000000</td>\n",
       "      <td>2903.000000</td>\n",
       "      <td>2903.000000</td>\n",
       "      <td>2903.000000</td>\n",
       "      <td>2902.000000</td>\n",
       "    </tr>\n",
       "    <tr>\n",
       "      <td>mean</td>\n",
       "      <td>69.071340</td>\n",
       "      <td>101.191187</td>\n",
       "      <td>434.926628</td>\n",
       "      <td>49.016879</td>\n",
       "      <td>559.850499</td>\n",
       "      <td>1043.794006</td>\n",
       "      <td>0.426258</td>\n",
       "      <td>0.061337</td>\n",
       "      <td>1978.061202</td>\n",
       "      <td>1.763348</td>\n",
       "      <td>471.632794</td>\n",
       "      <td>2533.060971</td>\n",
       "      <td>2.431771</td>\n",
       "    </tr>\n",
       "    <tr>\n",
       "      <td>std</td>\n",
       "      <td>22.662001</td>\n",
       "      <td>177.804595</td>\n",
       "      <td>440.128728</td>\n",
       "      <td>168.444473</td>\n",
       "      <td>438.438879</td>\n",
       "      <td>420.008348</td>\n",
       "      <td>0.522410</td>\n",
       "      <td>0.245667</td>\n",
       "      <td>25.600996</td>\n",
       "      <td>0.761410</td>\n",
       "      <td>214.551791</td>\n",
       "      <td>764.699033</td>\n",
       "      <td>0.937184</td>\n",
       "    </tr>\n",
       "    <tr>\n",
       "      <td>min</td>\n",
       "      <td>21.000000</td>\n",
       "      <td>0.000000</td>\n",
       "      <td>0.000000</td>\n",
       "      <td>0.000000</td>\n",
       "      <td>0.000000</td>\n",
       "      <td>0.000000</td>\n",
       "      <td>0.000000</td>\n",
       "      <td>0.000000</td>\n",
       "      <td>1895.000000</td>\n",
       "      <td>0.000000</td>\n",
       "      <td>0.000000</td>\n",
       "      <td>334.000000</td>\n",
       "      <td>1.000000</td>\n",
       "    </tr>\n",
       "    <tr>\n",
       "      <td>25%</td>\n",
       "      <td>59.000000</td>\n",
       "      <td>0.000000</td>\n",
       "      <td>0.000000</td>\n",
       "      <td>0.000000</td>\n",
       "      <td>220.000000</td>\n",
       "      <td>791.500000</td>\n",
       "      <td>0.000000</td>\n",
       "      <td>0.000000</td>\n",
       "      <td>1960.000000</td>\n",
       "      <td>1.000000</td>\n",
       "      <td>319.500000</td>\n",
       "      <td>1998.500000</td>\n",
       "      <td>2.000000</td>\n",
       "    </tr>\n",
       "    <tr>\n",
       "      <td>50%</td>\n",
       "      <td>68.000000</td>\n",
       "      <td>0.000000</td>\n",
       "      <td>365.000000</td>\n",
       "      <td>0.000000</td>\n",
       "      <td>467.000000</td>\n",
       "      <td>988.000000</td>\n",
       "      <td>0.000000</td>\n",
       "      <td>0.000000</td>\n",
       "      <td>1979.000000</td>\n",
       "      <td>2.000000</td>\n",
       "      <td>478.000000</td>\n",
       "      <td>2444.000000</td>\n",
       "      <td>2.000000</td>\n",
       "    </tr>\n",
       "    <tr>\n",
       "      <td>75%</td>\n",
       "      <td>80.000000</td>\n",
       "      <td>164.000000</td>\n",
       "      <td>728.500000</td>\n",
       "      <td>0.000000</td>\n",
       "      <td>802.500000</td>\n",
       "      <td>1296.000000</td>\n",
       "      <td>1.000000</td>\n",
       "      <td>0.000000</td>\n",
       "      <td>2002.000000</td>\n",
       "      <td>2.000000</td>\n",
       "      <td>576.000000</td>\n",
       "      <td>2985.000000</td>\n",
       "      <td>3.000000</td>\n",
       "    </tr>\n",
       "    <tr>\n",
       "      <td>max</td>\n",
       "      <td>313.000000</td>\n",
       "      <td>1600.000000</td>\n",
       "      <td>4010.000000</td>\n",
       "      <td>1526.000000</td>\n",
       "      <td>2336.000000</td>\n",
       "      <td>5095.000000</td>\n",
       "      <td>3.000000</td>\n",
       "      <td>2.000000</td>\n",
       "      <td>2207.000000</td>\n",
       "      <td>5.000000</td>\n",
       "      <td>1488.000000</td>\n",
       "      <td>10190.000000</td>\n",
       "      <td>8.000000</td>\n",
       "    </tr>\n",
       "  </tbody>\n",
       "</table>\n",
       "</div>"
      ],
      "text/plain": [
       "       LotFrontage   MasVnrArea   BsmtFinSF1   BsmtFinSF2    BsmtUnfSF  \\\n",
       "count  2425.000000  2882.000000  2903.000000  2903.000000  2903.000000   \n",
       "mean     69.071340   101.191187   434.926628    49.016879   559.850499   \n",
       "std      22.662001   177.804595   440.128728   168.444473   438.438879   \n",
       "min      21.000000     0.000000     0.000000     0.000000     0.000000   \n",
       "25%      59.000000     0.000000     0.000000     0.000000   220.000000   \n",
       "50%      68.000000     0.000000   365.000000     0.000000   467.000000   \n",
       "75%      80.000000   164.000000   728.500000     0.000000   802.500000   \n",
       "max     313.000000  1600.000000  4010.000000  1526.000000  2336.000000   \n",
       "\n",
       "       TotalBsmtSF  BsmtFullBath  BsmtHalfBath  GarageYrBlt   GarageCars  \\\n",
       "count  2903.000000   2902.000000   2902.000000  2745.000000  2903.000000   \n",
       "mean   1043.794006      0.426258      0.061337  1978.061202     1.763348   \n",
       "std     420.008348      0.522410      0.245667    25.600996     0.761410   \n",
       "min       0.000000      0.000000      0.000000  1895.000000     0.000000   \n",
       "25%     791.500000      0.000000      0.000000  1960.000000     1.000000   \n",
       "50%     988.000000      0.000000      0.000000  1979.000000     2.000000   \n",
       "75%    1296.000000      1.000000      0.000000  2002.000000     2.000000   \n",
       "max    5095.000000      3.000000      2.000000  2207.000000     5.000000   \n",
       "\n",
       "        GarageArea       TotalSF  Total_Bathrooms  \n",
       "count  2903.000000   2903.000000      2902.000000  \n",
       "mean    471.632794   2533.060971         2.431771  \n",
       "std     214.551791    764.699033         0.937184  \n",
       "min       0.000000    334.000000         1.000000  \n",
       "25%     319.500000   1998.500000         2.000000  \n",
       "50%     478.000000   2444.000000         2.000000  \n",
       "75%     576.000000   2985.000000         3.000000  \n",
       "max    1488.000000  10190.000000         8.000000  "
      ]
     },
     "execution_count": 93,
     "metadata": {},
     "output_type": "execute_result"
    }
   ],
   "source": [
    "all_df[hasnan_cat].describe()"
   ]
  },
  {
   "cell_type": "code",
   "execution_count": 94,
   "metadata": {},
   "outputs": [
    {
     "name": "stdout",
     "output_type": "stream",
     "text": [
      "LotFrontage 479\n",
      "MasVnrArea 22\n",
      "BsmtFinSF1 1\n",
      "BsmtFinSF2 1\n",
      "BsmtUnfSF 1\n",
      "TotalBsmtSF 1\n",
      "BsmtFullBath 2\n",
      "BsmtHalfBath 2\n",
      "GarageYrBlt 159\n",
      "GarageCars 1\n",
      "GarageArea 1\n",
      "TotalSF 1\n",
      "Total_Bathrooms 2\n"
     ]
    }
   ],
   "source": [
    "for col in all_df.columns:\n",
    "    tmp_null_count = all_df[col].isnull().sum()\n",
    "    if (tmp_null_count > 0) & (col != \"SalePrice\"):\n",
    "        print(col, tmp_null_count)\n",
    "        all_df[col] = all_df[col].fillna(all_df[col].median())"
   ]
  },
  {
   "cell_type": "code",
   "execution_count": 95,
   "metadata": {},
   "outputs": [
    {
     "name": "stderr",
     "output_type": "stream",
     "text": [
      "C:\\Users\\drago\\Anaconda3\\lib\\site-packages\\ipykernel_launcher.py:3: SettingWithCopyWarning: \n",
      "A value is trying to be set on a copy of a slice from a DataFrame.\n",
      "Try using .loc[row_indexer,col_indexer] = value instead\n",
      "\n",
      "See the caveats in the documentation: http://pandas.pydata.org/pandas-docs/stable/user_guide/indexing.html#returning-a-view-versus-a-copy\n",
      "  This is separate from the ipykernel package so we can avoid doing imports until\n"
     ]
    }
   ],
   "source": [
    "train_df_le = all_df[~all_df[\"SalePrice\"].isnull()]\n",
    "test_df_le = all_df[all_df[\"SalePrice\"].isnull()]\n",
    "train_df_le[\"SalePrice_log\"] = np.log(train_df_le[\"SalePrice\"])"
   ]
  },
  {
   "cell_type": "code",
   "execution_count": 96,
   "metadata": {},
   "outputs": [],
   "source": [
    "train_X = train_df_le.drop([\"SalePrice\",\"SalePrice_log\",\"Id\"], axis=1)\n",
    "train_Y = train_df_le[\"SalePrice_log\"]"
   ]
  },
  {
   "cell_type": "code",
   "execution_count": 97,
   "metadata": {},
   "outputs": [],
   "source": [
    "folds = 3\n",
    "kf = KFold(n_splits=folds)"
   ]
  },
  {
   "cell_type": "code",
   "execution_count": 98,
   "metadata": {},
   "outputs": [
    {
     "name": "stdout",
     "output_type": "stream",
     "text": [
      "0.1378839701821788\n",
      "0.14123101445826738\n",
      "0.12916852104906001\n"
     ]
    }
   ],
   "source": [
    "models_rf = []\n",
    "rmses_rf = []\n",
    "oof_rf = np.zeros(len(train_X))\n",
    "for train_index, val_index in kf.split(train_X):\n",
    "    X_train = train_X.iloc[train_index]\n",
    "    X_valid = train_X.iloc[val_index]\n",
    "    y_train = train_Y.iloc[train_index]\n",
    "    y_valid = train_Y.iloc[val_index]\n",
    "    model_rf = rf(\n",
    "        n_estimators=50,\n",
    "        random_state=1234\n",
    "    )\n",
    "    model_rf.fit(X_train, y_train)\n",
    "    y_pred = model_rf.predict(X_valid)\n",
    "    tmp_rmse = np.sqrt(mean_squared_error(y_valid, y_pred))\n",
    "    print(tmp_rmse)\n",
    "    models_rf.append(model_rf)\n",
    "    rmses_rf.append(tmp_rmse)\n",
    "    oof_rf[val_index] = y_pred"
   ]
  },
  {
   "cell_type": "code",
   "execution_count": 99,
   "metadata": {},
   "outputs": [
    {
     "data": {
      "text/plain": [
       "0.13609450189650205"
      ]
     },
     "execution_count": 99,
     "metadata": {},
     "output_type": "execute_result"
    }
   ],
   "source": [
    "sum(rmses_rf)/len(rmses_rf)"
   ]
  },
  {
   "cell_type": "code",
   "execution_count": 100,
   "metadata": {},
   "outputs": [],
   "source": [
    "test_X = test_df_le.drop([\"SalePrice\",\"Id\"], axis=1)"
   ]
  },
  {
   "cell_type": "code",
   "execution_count": 101,
   "metadata": {},
   "outputs": [],
   "source": [
    "preds_rf = []\n",
    "for model in models_rf:\n",
    "    pred = model.predict(test_X)\n",
    "    preds_rf.append(pred)"
   ]
  },
  {
   "cell_type": "code",
   "execution_count": 102,
   "metadata": {},
   "outputs": [],
   "source": [
    "preds_array_rf = np.array(preds_rf)\n",
    "preds_mean_rf = np.mean(preds_array_rf, axis=0)\n",
    "preds_exp_rf = np.exp(preds_mean_rf)\n",
    "submission[\"SalePrice\"] = preds_exp_rf"
   ]
  },
  {
   "cell_type": "code",
   "execution_count": 103,
   "metadata": {},
   "outputs": [],
   "source": [
    "submission.to_csv(\"houseprices_submit02.csv\", index=False)"
   ]
  },
  {
   "cell_type": "code",
   "execution_count": 104,
   "metadata": {},
   "outputs": [],
   "source": [
    "import xgboost as xgb"
   ]
  },
  {
   "cell_type": "code",
   "execution_count": 105,
   "metadata": {},
   "outputs": [],
   "source": [
    "categories = train_X.columns[train_X.dtypes == \"category\"]"
   ]
  },
  {
   "cell_type": "code",
   "execution_count": 106,
   "metadata": {},
   "outputs": [],
   "source": [
    "for col in categories:\n",
    "    train_X[col] = train_X[col].astype(\"int8\")\n",
    "    test_X[col] = test_X[col].astype(\"int8\")"
   ]
  },
  {
   "cell_type": "code",
   "execution_count": 107,
   "metadata": {},
   "outputs": [],
   "source": [
    "X_train, X_valid, y_train, y_valid = train_test_split(train_X, train_Y, test_size=0.2, random_state=1234, shuffle=False, stratify=None)"
   ]
  },
  {
   "cell_type": "code",
   "execution_count": 108,
   "metadata": {},
   "outputs": [],
   "source": [
    "def objective(trial):\n",
    "    xgb_params = {\n",
    "    \"learning_rate\":0.05,\n",
    "    \"seed\":1234,        \n",
    "    \"max_depth\":trial.suggest_int(\"max_depth\",3,16),\n",
    "    \"colsample_bytree\":trial.suggest_uniform(\"colsample_bytree\",0.2,0.9),\n",
    "    \"sublsample\":trial.suggest_uniform(\"sublsample\",0.2,0.9),\n",
    "    }\n",
    "    xgb_train = xgb.DMatrix(X_train, label=y_train)\n",
    "    xgb_eval = xgb.DMatrix(X_valid, label=y_valid)\n",
    "    evals = [(xgb_train, \"train\"), (xgb_eval, \"eval\")]\n",
    "    model_xgb = xgb.train(xgb_params, xgb_train,\n",
    "    evals=evals,\n",
    "    num_boost_round=1000,\n",
    "    early_stopping_rounds=20,\n",
    "    verbose_eval=10,)\n",
    "    y_pred = model_xgb.predict(xgb_eval)\n",
    "    score = np.sqrt(mean_squared_error(y_valid, y_pred))\n",
    "    return score"
   ]
  },
  {
   "cell_type": "code",
   "execution_count": 109,
   "metadata": {},
   "outputs": [
    {
     "name": "stderr",
     "output_type": "stream",
     "text": [
      "\u001b[32m[I 2021-06-05 17:19:47,836]\u001b[0m A new study created in memory with name: no-name-00bfe9fc-d7d6-462f-932d-29974e23ce87\u001b[0m\n"
     ]
    },
    {
     "name": "stdout",
     "output_type": "stream",
     "text": [
      "[17:19:48] WARNING: ..\\src\\learner.cc:573: \n",
      "Parameters: { \"sublsample\" } might not be used.\n",
      "\n",
      "  This may not be accurate due to some parameters are only used in language bindings but\n",
      "  passed down to XGBoost core.  Or some parameters are not used but slip through this\n",
      "  verification. Please open an issue if you find above cases.\n",
      "\n",
      "\n",
      "[0]\ttrain-rmse:10.94725\teval-rmse:10.95545\n",
      "[10]\ttrain-rmse:6.56435\teval-rmse:6.57078\n",
      "[20]\ttrain-rmse:3.93949\teval-rmse:3.94339\n",
      "[30]\ttrain-rmse:2.36782\teval-rmse:2.36953\n",
      "[40]\ttrain-rmse:1.42684\teval-rmse:1.42839\n",
      "[50]\ttrain-rmse:0.86396\teval-rmse:0.86748\n",
      "[60]\ttrain-rmse:0.52753\teval-rmse:0.53705\n",
      "[70]\ttrain-rmse:0.32667\teval-rmse:0.34638\n",
      "[80]\ttrain-rmse:0.20660\teval-rmse:0.23830\n",
      "[90]\ttrain-rmse:0.13398\teval-rmse:0.18219\n",
      "[100]\ttrain-rmse:0.08994\teval-rmse:0.15481\n",
      "[110]\ttrain-rmse:0.06300\teval-rmse:0.14192\n",
      "[120]\ttrain-rmse:0.04638\teval-rmse:0.13629\n",
      "[130]\ttrain-rmse:0.03576\teval-rmse:0.13376\n",
      "[140]\ttrain-rmse:0.02860\teval-rmse:0.13260\n",
      "[150]\ttrain-rmse:0.02368\teval-rmse:0.13193\n",
      "[160]\ttrain-rmse:0.02005\teval-rmse:0.13158\n",
      "[170]\ttrain-rmse:0.01777\teval-rmse:0.13135\n",
      "[180]\ttrain-rmse:0.01582\teval-rmse:0.13113\n",
      "[190]\ttrain-rmse:0.01402\teval-rmse:0.13096\n",
      "[200]\ttrain-rmse:0.01257\teval-rmse:0.13077\n",
      "[210]\ttrain-rmse:0.01135\teval-rmse:0.13071\n",
      "[220]\ttrain-rmse:0.00992\teval-rmse:0.13064\n",
      "[230]\ttrain-rmse:0.00873\teval-rmse:0.13070\n",
      "[240]\ttrain-rmse:0.00768\teval-rmse:0.13062\n",
      "[250]\ttrain-rmse:0.00688\teval-rmse:0.13058\n",
      "[260]\ttrain-rmse:0.00616\teval-rmse:0.13054\n",
      "[270]\ttrain-rmse:0.00562\teval-rmse:0.13054\n",
      "[280]\ttrain-rmse:0.00510\teval-rmse:0.13052\n",
      "[290]\ttrain-rmse:0.00455\teval-rmse:0.13052\n",
      "[300]\ttrain-rmse:0.00412\teval-rmse:0.13053\n",
      "[310]\ttrain-rmse:0.00366\teval-rmse:0.13052\n",
      "[312]\ttrain-rmse:0.00361\teval-rmse:0.13051\n"
     ]
    },
    {
     "name": "stderr",
     "output_type": "stream",
     "text": [
      "\u001b[32m[I 2021-06-05 17:19:52,528]\u001b[0m Trial 0 finished with value: 0.13051120345824296 and parameters: {'max_depth': 10, 'colsample_bytree': 0.7006325564606937, 'sublsample': 0.6219343632501507}. Best is trial 0 with value: 0.13051120345824296.\u001b[0m\n"
     ]
    },
    {
     "name": "stdout",
     "output_type": "stream",
     "text": [
      "[17:19:52] WARNING: ..\\src\\learner.cc:573: \n",
      "Parameters: { \"sublsample\" } might not be used.\n",
      "\n",
      "  This may not be accurate due to some parameters are only used in language bindings but\n",
      "  passed down to XGBoost core.  Or some parameters are not used but slip through this\n",
      "  verification. Please open an issue if you find above cases.\n",
      "\n",
      "\n",
      "[0]\ttrain-rmse:10.94725\teval-rmse:10.95545\n",
      "[10]\ttrain-rmse:6.56442\teval-rmse:6.57058\n",
      "[20]\ttrain-rmse:3.93967\teval-rmse:3.94369\n",
      "[30]\ttrain-rmse:2.36797\teval-rmse:2.36969\n",
      "[40]\ttrain-rmse:1.42713\teval-rmse:1.42858\n",
      "[50]\ttrain-rmse:0.86425\teval-rmse:0.86662\n",
      "[60]\ttrain-rmse:0.52808\teval-rmse:0.53417\n",
      "[70]\ttrain-rmse:0.32758\teval-rmse:0.34118\n",
      "[80]\ttrain-rmse:0.20792\teval-rmse:0.23253\n",
      "[90]\ttrain-rmse:0.13612\teval-rmse:0.17439\n",
      "[100]\ttrain-rmse:0.09244\teval-rmse:0.14633\n",
      "[110]\ttrain-rmse:0.06497\teval-rmse:0.13375\n",
      "[120]\ttrain-rmse:0.04829\teval-rmse:0.12835\n",
      "[130]\ttrain-rmse:0.03804\teval-rmse:0.12590\n",
      "[140]\ttrain-rmse:0.03080\teval-rmse:0.12481\n",
      "[150]\ttrain-rmse:0.02546\teval-rmse:0.12447\n",
      "[160]\ttrain-rmse:0.02159\teval-rmse:0.12406\n",
      "[170]\ttrain-rmse:0.01855\teval-rmse:0.12375\n",
      "[180]\ttrain-rmse:0.01609\teval-rmse:0.12348\n",
      "[190]\ttrain-rmse:0.01437\teval-rmse:0.12346\n",
      "[200]\ttrain-rmse:0.01294\teval-rmse:0.12330\n",
      "[210]\ttrain-rmse:0.01177\teval-rmse:0.12320\n",
      "[220]\ttrain-rmse:0.01052\teval-rmse:0.12314\n",
      "[230]\ttrain-rmse:0.00946\teval-rmse:0.12313\n",
      "[240]\ttrain-rmse:0.00852\teval-rmse:0.12303\n",
      "[250]\ttrain-rmse:0.00760\teval-rmse:0.12305\n",
      "[260]\ttrain-rmse:0.00679\teval-rmse:0.12303\n",
      "[270]\ttrain-rmse:0.00588\teval-rmse:0.12301\n",
      "[280]\ttrain-rmse:0.00519\teval-rmse:0.12301\n",
      "[290]\ttrain-rmse:0.00473\teval-rmse:0.12298\n",
      "[300]\ttrain-rmse:0.00413\teval-rmse:0.12298\n",
      "[310]\ttrain-rmse:0.00369\teval-rmse:0.12297\n",
      "[316]\ttrain-rmse:0.00339\teval-rmse:0.12299\n"
     ]
    },
    {
     "name": "stderr",
     "output_type": "stream",
     "text": [
      "\u001b[32m[I 2021-06-05 17:19:56,609]\u001b[0m Trial 1 finished with value: 0.12298955222437652 and parameters: {'max_depth': 10, 'colsample_bytree': 0.49655835953723326, 'sublsample': 0.6521258791466593}. Best is trial 1 with value: 0.12298955222437652.\u001b[0m\n"
     ]
    },
    {
     "name": "stdout",
     "output_type": "stream",
     "text": [
      "[17:19:56] WARNING: ..\\src\\learner.cc:573: \n",
      "Parameters: { \"sublsample\" } might not be used.\n",
      "\n",
      "  This may not be accurate due to some parameters are only used in language bindings but\n",
      "  passed down to XGBoost core.  Or some parameters are not used but slip through this\n",
      "  verification. Please open an issue if you find above cases.\n",
      "\n",
      "\n",
      "[0]\ttrain-rmse:10.94725\teval-rmse:10.95545\n",
      "[10]\ttrain-rmse:6.56431\teval-rmse:6.57082\n",
      "[20]\ttrain-rmse:3.93947\teval-rmse:3.94382\n",
      "[30]\ttrain-rmse:2.36777\teval-rmse:2.36977\n",
      "[40]\ttrain-rmse:1.42675\teval-rmse:1.42814\n",
      "[50]\ttrain-rmse:0.86382\teval-rmse:0.86730\n",
      "[60]\ttrain-rmse:0.52758\teval-rmse:0.53505\n",
      "[70]\ttrain-rmse:0.32659\teval-rmse:0.34327\n",
      "[80]\ttrain-rmse:0.20651\teval-rmse:0.23354\n",
      "[90]\ttrain-rmse:0.13430\teval-rmse:0.17644\n",
      "[100]\ttrain-rmse:0.09102\teval-rmse:0.14873\n",
      "[110]\ttrain-rmse:0.06500\teval-rmse:0.13612\n",
      "[120]\ttrain-rmse:0.04869\teval-rmse:0.13030\n",
      "[130]\ttrain-rmse:0.03824\teval-rmse:0.12789\n",
      "[140]\ttrain-rmse:0.03166\teval-rmse:0.12652\n",
      "[150]\ttrain-rmse:0.02685\teval-rmse:0.12566\n",
      "[160]\ttrain-rmse:0.02310\teval-rmse:0.12534\n",
      "[170]\ttrain-rmse:0.02054\teval-rmse:0.12522\n",
      "[180]\ttrain-rmse:0.01886\teval-rmse:0.12509\n",
      "[190]\ttrain-rmse:0.01714\teval-rmse:0.12509\n",
      "[200]\ttrain-rmse:0.01595\teval-rmse:0.12494\n",
      "[210]\ttrain-rmse:0.01488\teval-rmse:0.12486\n",
      "[220]\ttrain-rmse:0.01349\teval-rmse:0.12476\n",
      "[230]\ttrain-rmse:0.01236\teval-rmse:0.12480\n",
      "[239]\ttrain-rmse:0.01142\teval-rmse:0.12481\n"
     ]
    },
    {
     "name": "stderr",
     "output_type": "stream",
     "text": [
      "\u001b[32m[I 2021-06-05 17:19:59,734]\u001b[0m Trial 2 finished with value: 0.12480645082071097 and parameters: {'max_depth': 9, 'colsample_bytree': 0.8242411005474559, 'sublsample': 0.8745639323507204}. Best is trial 1 with value: 0.12298955222437652.\u001b[0m\n"
     ]
    },
    {
     "name": "stdout",
     "output_type": "stream",
     "text": [
      "[17:19:59] WARNING: ..\\src\\learner.cc:573: \n",
      "Parameters: { \"sublsample\" } might not be used.\n",
      "\n",
      "  This may not be accurate due to some parameters are only used in language bindings but\n",
      "  passed down to XGBoost core.  Or some parameters are not used but slip through this\n",
      "  verification. Please open an issue if you find above cases.\n",
      "\n",
      "\n",
      "[0]\ttrain-rmse:10.94725\teval-rmse:10.95545\n",
      "[10]\ttrain-rmse:6.56431\teval-rmse:6.57082\n",
      "[20]\ttrain-rmse:3.93947\teval-rmse:3.94382\n",
      "[30]\ttrain-rmse:2.36777\teval-rmse:2.37024\n",
      "[40]\ttrain-rmse:1.42680\teval-rmse:1.42906\n",
      "[50]\ttrain-rmse:0.86388\teval-rmse:0.86840\n",
      "[60]\ttrain-rmse:0.52757\teval-rmse:0.53729\n",
      "[70]\ttrain-rmse:0.32676\teval-rmse:0.34504\n",
      "[80]\ttrain-rmse:0.20696\teval-rmse:0.23613\n",
      "[90]\ttrain-rmse:0.13556\teval-rmse:0.17932\n",
      "[100]\ttrain-rmse:0.09320\teval-rmse:0.15196\n",
      "[110]\ttrain-rmse:0.06827\teval-rmse:0.13967\n",
      "[120]\ttrain-rmse:0.05319\teval-rmse:0.13407\n",
      "[130]\ttrain-rmse:0.04398\teval-rmse:0.13151\n",
      "[140]\ttrain-rmse:0.03789\teval-rmse:0.13006\n",
      "[150]\ttrain-rmse:0.03392\teval-rmse:0.12910\n",
      "[160]\ttrain-rmse:0.03060\teval-rmse:0.12887\n",
      "[170]\ttrain-rmse:0.02812\teval-rmse:0.12856\n",
      "[180]\ttrain-rmse:0.02608\teval-rmse:0.12840\n",
      "[190]\ttrain-rmse:0.02409\teval-rmse:0.12796\n",
      "[200]\ttrain-rmse:0.02171\teval-rmse:0.12764\n",
      "[210]\ttrain-rmse:0.01999\teval-rmse:0.12747\n",
      "[220]\ttrain-rmse:0.01881\teval-rmse:0.12748\n",
      "[230]\ttrain-rmse:0.01774\teval-rmse:0.12736\n",
      "[240]\ttrain-rmse:0.01640\teval-rmse:0.12728\n",
      "[250]\ttrain-rmse:0.01540\teval-rmse:0.12719\n",
      "[260]\ttrain-rmse:0.01395\teval-rmse:0.12704\n",
      "[270]\ttrain-rmse:0.01307\teval-rmse:0.12701\n",
      "[280]\ttrain-rmse:0.01222\teval-rmse:0.12701\n",
      "[290]\ttrain-rmse:0.01147\teval-rmse:0.12697\n",
      "[300]\ttrain-rmse:0.01078\teval-rmse:0.12693\n",
      "[310]\ttrain-rmse:0.01013\teval-rmse:0.12692\n",
      "[320]\ttrain-rmse:0.00928\teval-rmse:0.12690\n",
      "[330]\ttrain-rmse:0.00862\teval-rmse:0.12689\n",
      "[340]\ttrain-rmse:0.00816\teval-rmse:0.12689\n",
      "[348]\ttrain-rmse:0.00772\teval-rmse:0.12689\n"
     ]
    },
    {
     "name": "stderr",
     "output_type": "stream",
     "text": [
      "\u001b[32m[I 2021-06-05 17:20:03,924]\u001b[0m Trial 3 finished with value: 0.12689277978561977 and parameters: {'max_depth': 8, 'colsample_bytree': 0.7542075266578652, 'sublsample': 0.5702264438270331}. Best is trial 1 with value: 0.12298955222437652.\u001b[0m\n"
     ]
    },
    {
     "name": "stdout",
     "output_type": "stream",
     "text": [
      "[17:20:03] WARNING: ..\\src\\learner.cc:573: \n",
      "Parameters: { \"sublsample\" } might not be used.\n",
      "\n",
      "  This may not be accurate due to some parameters are only used in language bindings but\n",
      "  passed down to XGBoost core.  Or some parameters are not used but slip through this\n",
      "  verification. Please open an issue if you find above cases.\n",
      "\n",
      "\n",
      "[0]\ttrain-rmse:10.94725\teval-rmse:10.95545\n",
      "[10]\ttrain-rmse:6.56431\teval-rmse:6.57082\n",
      "[20]\ttrain-rmse:3.93947\teval-rmse:3.94382\n",
      "[30]\ttrain-rmse:2.36777\teval-rmse:2.36977\n",
      "[40]\ttrain-rmse:1.42675\teval-rmse:1.42810\n",
      "[50]\ttrain-rmse:0.86382\teval-rmse:0.86703\n",
      "[60]\ttrain-rmse:0.52749\teval-rmse:0.53466\n",
      "[70]\ttrain-rmse:0.32657\teval-rmse:0.34208\n",
      "[80]\ttrain-rmse:0.20618\teval-rmse:0.23292\n",
      "[90]\ttrain-rmse:0.13375\teval-rmse:0.17672\n",
      "[100]\ttrain-rmse:0.08983\teval-rmse:0.15011\n",
      "[110]\ttrain-rmse:0.06291\teval-rmse:0.13728\n",
      "[120]\ttrain-rmse:0.04637\teval-rmse:0.13171\n",
      "[130]\ttrain-rmse:0.03558\teval-rmse:0.12948\n",
      "[140]\ttrain-rmse:0.02824\teval-rmse:0.12862\n",
      "[150]\ttrain-rmse:0.02292\teval-rmse:0.12803\n",
      "[160]\ttrain-rmse:0.01928\teval-rmse:0.12773\n",
      "[170]\ttrain-rmse:0.01660\teval-rmse:0.12761\n",
      "[180]\ttrain-rmse:0.01442\teval-rmse:0.12747\n",
      "[190]\ttrain-rmse:0.01305\teval-rmse:0.12738\n",
      "[200]\ttrain-rmse:0.01175\teval-rmse:0.12727\n",
      "[210]\ttrain-rmse:0.01047\teval-rmse:0.12726\n",
      "[220]\ttrain-rmse:0.00947\teval-rmse:0.12727\n",
      "[222]\ttrain-rmse:0.00931\teval-rmse:0.12728\n"
     ]
    },
    {
     "name": "stderr",
     "output_type": "stream",
     "text": [
      "\u001b[32m[I 2021-06-05 17:20:07,179]\u001b[0m Trial 4 finished with value: 0.12727850719332356 and parameters: {'max_depth': 10, 'colsample_bytree': 0.8479176468048626, 'sublsample': 0.24972524073852087}. Best is trial 1 with value: 0.12298955222437652.\u001b[0m\n"
     ]
    },
    {
     "name": "stdout",
     "output_type": "stream",
     "text": [
      "[17:20:07] WARNING: ..\\src\\learner.cc:573: \n",
      "Parameters: { \"sublsample\" } might not be used.\n",
      "\n",
      "  This may not be accurate due to some parameters are only used in language bindings but\n",
      "  passed down to XGBoost core.  Or some parameters are not used but slip through this\n",
      "  verification. Please open an issue if you find above cases.\n",
      "\n",
      "\n",
      "[0]\ttrain-rmse:10.94725\teval-rmse:10.95545\n",
      "[10]\ttrain-rmse:6.56452\teval-rmse:6.57051\n",
      "[20]\ttrain-rmse:3.93989\teval-rmse:3.94379\n",
      "[30]\ttrain-rmse:2.36835\teval-rmse:2.37091\n",
      "[40]\ttrain-rmse:1.42775\teval-rmse:1.42962\n",
      "[50]\ttrain-rmse:0.86562\teval-rmse:0.86773\n",
      "[60]\ttrain-rmse:0.53051\teval-rmse:0.53497\n",
      "[70]\ttrain-rmse:0.33259\teval-rmse:0.34105\n",
      "[80]\ttrain-rmse:0.21848\teval-rmse:0.23219\n",
      "[90]\ttrain-rmse:0.15505\teval-rmse:0.17552\n",
      "[100]\ttrain-rmse:0.12166\teval-rmse:0.14911\n",
      "[110]\ttrain-rmse:0.10427\teval-rmse:0.13599\n",
      "[120]\ttrain-rmse:0.09504\teval-rmse:0.13064\n",
      "[130]\ttrain-rmse:0.08932\teval-rmse:0.12745\n",
      "[140]\ttrain-rmse:0.08507\teval-rmse:0.12512\n",
      "[150]\ttrain-rmse:0.08208\teval-rmse:0.12396\n",
      "[160]\ttrain-rmse:0.07953\teval-rmse:0.12306\n",
      "[170]\ttrain-rmse:0.07703\teval-rmse:0.12233\n",
      "[180]\ttrain-rmse:0.07475\teval-rmse:0.12138\n",
      "[190]\ttrain-rmse:0.07289\teval-rmse:0.12109\n",
      "[200]\ttrain-rmse:0.07091\teval-rmse:0.12030\n",
      "[210]\ttrain-rmse:0.06904\teval-rmse:0.11957\n",
      "[220]\ttrain-rmse:0.06733\teval-rmse:0.11937\n",
      "[230]\ttrain-rmse:0.06580\teval-rmse:0.11945\n",
      "[233]\ttrain-rmse:0.06553\teval-rmse:0.11938\n"
     ]
    },
    {
     "name": "stderr",
     "output_type": "stream",
     "text": [
      "\u001b[32m[I 2021-06-05 17:20:08,593]\u001b[0m Trial 5 finished with value: 0.11939827893090284 and parameters: {'max_depth': 4, 'colsample_bytree': 0.214152878208228, 'sublsample': 0.7828338918835567}. Best is trial 5 with value: 0.11939827893090284.\u001b[0m\n"
     ]
    },
    {
     "name": "stdout",
     "output_type": "stream",
     "text": [
      "[17:20:08] WARNING: ..\\src\\learner.cc:573: \n",
      "Parameters: { \"sublsample\" } might not be used.\n",
      "\n",
      "  This may not be accurate due to some parameters are only used in language bindings but\n",
      "  passed down to XGBoost core.  Or some parameters are not used but slip through this\n",
      "  verification. Please open an issue if you find above cases.\n",
      "\n",
      "\n",
      "[0]\ttrain-rmse:10.94725\teval-rmse:10.95545\n",
      "[10]\ttrain-rmse:6.56431\teval-rmse:6.57082\n",
      "[20]\ttrain-rmse:3.93947\teval-rmse:3.94382\n",
      "[30]\ttrain-rmse:2.36777\teval-rmse:2.36977\n",
      "[40]\ttrain-rmse:1.42675\teval-rmse:1.42814\n",
      "[50]\ttrain-rmse:0.86382\teval-rmse:0.86684\n",
      "[60]\ttrain-rmse:0.52748\teval-rmse:0.53511\n",
      "[70]\ttrain-rmse:0.32643\teval-rmse:0.34233\n",
      "[80]\ttrain-rmse:0.20581\teval-rmse:0.23305\n",
      "[90]\ttrain-rmse:0.13251\teval-rmse:0.17666\n",
      "[100]\ttrain-rmse:0.08722\teval-rmse:0.14910\n",
      "[110]\ttrain-rmse:0.05870\teval-rmse:0.13681\n",
      "[120]\ttrain-rmse:0.04060\teval-rmse:0.13114\n",
      "[130]\ttrain-rmse:0.02886\teval-rmse:0.12883\n",
      "[140]\ttrain-rmse:0.02094\teval-rmse:0.12763\n",
      "[150]\ttrain-rmse:0.01564\teval-rmse:0.12711\n",
      "[160]\ttrain-rmse:0.01210\teval-rmse:0.12682\n",
      "[170]\ttrain-rmse:0.00938\teval-rmse:0.12665\n",
      "[180]\ttrain-rmse:0.00750\teval-rmse:0.12655\n",
      "[190]\ttrain-rmse:0.00601\teval-rmse:0.12642\n",
      "[200]\ttrain-rmse:0.00497\teval-rmse:0.12638\n",
      "[210]\ttrain-rmse:0.00412\teval-rmse:0.12630\n",
      "[220]\ttrain-rmse:0.00344\teval-rmse:0.12627\n",
      "[230]\ttrain-rmse:0.00287\teval-rmse:0.12623\n",
      "[240]\ttrain-rmse:0.00235\teval-rmse:0.12620\n",
      "[250]\ttrain-rmse:0.00186\teval-rmse:0.12618\n",
      "[260]\ttrain-rmse:0.00152\teval-rmse:0.12619\n",
      "[270]\ttrain-rmse:0.00125\teval-rmse:0.12618\n",
      "[280]\ttrain-rmse:0.00107\teval-rmse:0.12618\n",
      "[290]\ttrain-rmse:0.00089\teval-rmse:0.12618\n",
      "[295]\ttrain-rmse:0.00089\teval-rmse:0.12618\n"
     ]
    },
    {
     "name": "stderr",
     "output_type": "stream",
     "text": [
      "\u001b[32m[I 2021-06-05 17:20:14,098]\u001b[0m Trial 6 finished with value: 0.12617604477959185 and parameters: {'max_depth': 13, 'colsample_bytree': 0.8090085037727734, 'sublsample': 0.8850328395629348}. Best is trial 5 with value: 0.11939827893090284.\u001b[0m\n"
     ]
    },
    {
     "name": "stdout",
     "output_type": "stream",
     "text": [
      "[17:20:14] WARNING: ..\\src\\learner.cc:573: \n",
      "Parameters: { \"sublsample\" } might not be used.\n",
      "\n",
      "  This may not be accurate due to some parameters are only used in language bindings but\n",
      "  passed down to XGBoost core.  Or some parameters are not used but slip through this\n",
      "  verification. Please open an issue if you find above cases.\n",
      "\n",
      "\n",
      "[0]\ttrain-rmse:10.94725\teval-rmse:10.95545\n",
      "[10]\ttrain-rmse:6.56442\teval-rmse:6.57058\n",
      "[20]\ttrain-rmse:3.93967\teval-rmse:3.94369\n",
      "[30]\ttrain-rmse:2.36797\teval-rmse:2.36910\n",
      "[40]\ttrain-rmse:1.42716\teval-rmse:1.42882\n",
      "[50]\ttrain-rmse:0.86424\teval-rmse:0.86748\n",
      "[60]\ttrain-rmse:0.52785\teval-rmse:0.53422\n",
      "[70]\ttrain-rmse:0.32712\teval-rmse:0.34110\n",
      "[80]\ttrain-rmse:0.20699\teval-rmse:0.23237\n",
      "[90]\ttrain-rmse:0.13404\teval-rmse:0.17550\n",
      "[100]\ttrain-rmse:0.08875\teval-rmse:0.14713\n",
      "[110]\ttrain-rmse:0.05995\teval-rmse:0.13421\n",
      "[120]\ttrain-rmse:0.04157\teval-rmse:0.12839\n",
      "[130]\ttrain-rmse:0.02949\teval-rmse:0.12582\n",
      "[140]\ttrain-rmse:0.02134\teval-rmse:0.12479\n",
      "[150]\ttrain-rmse:0.01576\teval-rmse:0.12431\n",
      "[160]\ttrain-rmse:0.01198\teval-rmse:0.12397\n",
      "[170]\ttrain-rmse:0.00930\teval-rmse:0.12373\n",
      "[180]\ttrain-rmse:0.00731\teval-rmse:0.12362\n",
      "[190]\ttrain-rmse:0.00579\teval-rmse:0.12354\n",
      "[200]\ttrain-rmse:0.00464\teval-rmse:0.12349\n",
      "[210]\ttrain-rmse:0.00379\teval-rmse:0.12345\n",
      "[220]\ttrain-rmse:0.00303\teval-rmse:0.12341\n",
      "[230]\ttrain-rmse:0.00245\teval-rmse:0.12338\n",
      "[240]\ttrain-rmse:0.00202\teval-rmse:0.12334\n",
      "[250]\ttrain-rmse:0.00172\teval-rmse:0.12334\n",
      "[260]\ttrain-rmse:0.00143\teval-rmse:0.12334\n",
      "[270]\ttrain-rmse:0.00116\teval-rmse:0.12334\n",
      "[280]\ttrain-rmse:0.00099\teval-rmse:0.12334\n",
      "[290]\ttrain-rmse:0.00087\teval-rmse:0.12333\n",
      "[300]\ttrain-rmse:0.00086\teval-rmse:0.12333\n",
      "[307]\ttrain-rmse:0.00086\teval-rmse:0.12333\n"
     ]
    },
    {
     "name": "stderr",
     "output_type": "stream",
     "text": [
      "\u001b[32m[I 2021-06-05 17:20:18,925]\u001b[0m Trial 7 finished with value: 0.12333121828807775 and parameters: {'max_depth': 14, 'colsample_bytree': 0.5230355535770523, 'sublsample': 0.7463704234005188}. Best is trial 5 with value: 0.11939827893090284.\u001b[0m\n"
     ]
    },
    {
     "name": "stdout",
     "output_type": "stream",
     "text": [
      "[17:20:18] WARNING: ..\\src\\learner.cc:573: \n",
      "Parameters: { \"sublsample\" } might not be used.\n",
      "\n",
      "  This may not be accurate due to some parameters are only used in language bindings but\n",
      "  passed down to XGBoost core.  Or some parameters are not used but slip through this\n",
      "  verification. Please open an issue if you find above cases.\n",
      "\n",
      "\n",
      "[0]\ttrain-rmse:10.94725\teval-rmse:10.95545\n",
      "[10]\ttrain-rmse:6.56435\teval-rmse:6.57078\n",
      "[20]\ttrain-rmse:3.93949\teval-rmse:3.94339\n",
      "[30]\ttrain-rmse:2.36781\teval-rmse:2.36926\n",
      "[40]\ttrain-rmse:1.42681\teval-rmse:1.42817\n",
      "[50]\ttrain-rmse:0.86396\teval-rmse:0.86682\n",
      "[60]\ttrain-rmse:0.52803\teval-rmse:0.53353\n",
      "[70]\ttrain-rmse:0.32916\teval-rmse:0.34024\n",
      "[80]\ttrain-rmse:0.21354\teval-rmse:0.23297\n",
      "[90]\ttrain-rmse:0.14852\teval-rmse:0.17741\n",
      "[100]\ttrain-rmse:0.11374\teval-rmse:0.15112\n",
      "[110]\ttrain-rmse:0.09608\teval-rmse:0.13921\n",
      "[120]\ttrain-rmse:0.08611\teval-rmse:0.13354\n",
      "[130]\ttrain-rmse:0.08077\teval-rmse:0.13058\n",
      "[140]\ttrain-rmse:0.07690\teval-rmse:0.12902\n",
      "[150]\ttrain-rmse:0.07380\teval-rmse:0.12778\n",
      "[160]\ttrain-rmse:0.07104\teval-rmse:0.12730\n",
      "[170]\ttrain-rmse:0.06882\teval-rmse:0.12705\n",
      "[180]\ttrain-rmse:0.06653\teval-rmse:0.12664\n",
      "[190]\ttrain-rmse:0.06484\teval-rmse:0.12644\n",
      "[200]\ttrain-rmse:0.06313\teval-rmse:0.12613\n",
      "[210]\ttrain-rmse:0.06182\teval-rmse:0.12582\n",
      "[220]\ttrain-rmse:0.06055\teval-rmse:0.12568\n",
      "[230]\ttrain-rmse:0.05931\teval-rmse:0.12554\n",
      "[240]\ttrain-rmse:0.05825\teval-rmse:0.12537\n",
      "[250]\ttrain-rmse:0.05718\teval-rmse:0.12543\n",
      "[260]\ttrain-rmse:0.05634\teval-rmse:0.12536\n",
      "[270]\ttrain-rmse:0.05529\teval-rmse:0.12524\n",
      "[280]\ttrain-rmse:0.05442\teval-rmse:0.12525\n",
      "[290]\ttrain-rmse:0.05343\teval-rmse:0.12526\n",
      "[300]\ttrain-rmse:0.05254\teval-rmse:0.12510\n",
      "[310]\ttrain-rmse:0.05176\teval-rmse:0.12498\n",
      "[320]\ttrain-rmse:0.05095\teval-rmse:0.12496\n",
      "[330]\ttrain-rmse:0.05013\teval-rmse:0.12490\n",
      "[340]\ttrain-rmse:0.04906\teval-rmse:0.12475\n",
      "[350]\ttrain-rmse:0.04824\teval-rmse:0.12469\n",
      "[360]\ttrain-rmse:0.04751\teval-rmse:0.12468\n",
      "[370]\ttrain-rmse:0.04677\teval-rmse:0.12465\n",
      "[380]\ttrain-rmse:0.04610\teval-rmse:0.12446\n",
      "[390]\ttrain-rmse:0.04544\teval-rmse:0.12447\n",
      "[400]\ttrain-rmse:0.04487\teval-rmse:0.12453\n",
      "[406]\ttrain-rmse:0.04452\teval-rmse:0.12458\n"
     ]
    },
    {
     "name": "stderr",
     "output_type": "stream",
     "text": [
      "\u001b[32m[I 2021-06-05 17:20:21,903]\u001b[0m Trial 8 finished with value: 0.12462436351251312 and parameters: {'max_depth': 4, 'colsample_bytree': 0.6479447149292666, 'sublsample': 0.30034730118633246}. Best is trial 5 with value: 0.11939827893090284.\u001b[0m\n"
     ]
    },
    {
     "name": "stdout",
     "output_type": "stream",
     "text": [
      "[17:20:21] WARNING: ..\\src\\learner.cc:573: \n",
      "Parameters: { \"sublsample\" } might not be used.\n",
      "\n",
      "  This may not be accurate due to some parameters are only used in language bindings but\n",
      "  passed down to XGBoost core.  Or some parameters are not used but slip through this\n",
      "  verification. Please open an issue if you find above cases.\n",
      "\n",
      "\n",
      "[0]\ttrain-rmse:10.94725\teval-rmse:10.95545\n",
      "[10]\ttrain-rmse:6.56442\teval-rmse:6.57058\n",
      "[20]\ttrain-rmse:3.93967\teval-rmse:3.94369\n",
      "[30]\ttrain-rmse:2.36797\teval-rmse:2.36910\n",
      "[40]\ttrain-rmse:1.42719\teval-rmse:1.42882\n",
      "[50]\ttrain-rmse:0.86435\teval-rmse:0.86733\n",
      "[60]\ttrain-rmse:0.52809\teval-rmse:0.53409\n",
      "[70]\ttrain-rmse:0.32729\teval-rmse:0.34011\n",
      "[80]\ttrain-rmse:0.20713\teval-rmse:0.23259\n",
      "[90]\ttrain-rmse:0.13405\teval-rmse:0.17515\n",
      "[100]\ttrain-rmse:0.08844\teval-rmse:0.14817\n",
      "[110]\ttrain-rmse:0.05937\teval-rmse:0.13514\n",
      "[120]\ttrain-rmse:0.04058\teval-rmse:0.12908\n",
      "[130]\ttrain-rmse:0.02833\teval-rmse:0.12628\n",
      "[140]\ttrain-rmse:0.02002\teval-rmse:0.12521\n",
      "[150]\ttrain-rmse:0.01445\teval-rmse:0.12458\n",
      "[160]\ttrain-rmse:0.01066\teval-rmse:0.12436\n",
      "[170]\ttrain-rmse:0.00795\teval-rmse:0.12414\n",
      "[180]\ttrain-rmse:0.00598\teval-rmse:0.12399\n",
      "[190]\ttrain-rmse:0.00453\teval-rmse:0.12392\n",
      "[200]\ttrain-rmse:0.00350\teval-rmse:0.12386\n",
      "[210]\ttrain-rmse:0.00271\teval-rmse:0.12379\n",
      "[220]\ttrain-rmse:0.00209\teval-rmse:0.12375\n",
      "[230]\ttrain-rmse:0.00163\teval-rmse:0.12372\n",
      "[240]\ttrain-rmse:0.00132\teval-rmse:0.12370\n",
      "[250]\ttrain-rmse:0.00106\teval-rmse:0.12368\n",
      "[260]\ttrain-rmse:0.00088\teval-rmse:0.12367\n",
      "[270]\ttrain-rmse:0.00074\teval-rmse:0.12366\n",
      "[280]\ttrain-rmse:0.00067\teval-rmse:0.12366\n",
      "[290]\ttrain-rmse:0.00066\teval-rmse:0.12366\n",
      "[296]\ttrain-rmse:0.00066\teval-rmse:0.12366\n"
     ]
    },
    {
     "name": "stderr",
     "output_type": "stream",
     "text": [
      "\u001b[32m[I 2021-06-05 17:20:27,106]\u001b[0m Trial 9 finished with value: 0.12365877559449892 and parameters: {'max_depth': 16, 'colsample_bytree': 0.5652938252250501, 'sublsample': 0.4902633579933665}. Best is trial 5 with value: 0.11939827893090284.\u001b[0m\n"
     ]
    },
    {
     "name": "stdout",
     "output_type": "stream",
     "text": [
      "[17:20:27] WARNING: ..\\src\\learner.cc:573: \n",
      "Parameters: { \"sublsample\" } might not be used.\n",
      "\n",
      "  This may not be accurate due to some parameters are only used in language bindings but\n",
      "  passed down to XGBoost core.  Or some parameters are not used but slip through this\n",
      "  verification. Please open an issue if you find above cases.\n",
      "\n",
      "\n",
      "[0]\ttrain-rmse:10.94725\teval-rmse:10.95545\n",
      "[10]\ttrain-rmse:6.56431\teval-rmse:6.57082\n",
      "[20]\ttrain-rmse:3.93946\teval-rmse:3.94334\n",
      "[30]\ttrain-rmse:2.36781\teval-rmse:2.37015\n",
      "[40]\ttrain-rmse:1.42684\teval-rmse:1.42819\n",
      "[50]\ttrain-rmse:0.86383\teval-rmse:0.86721\n",
      "[60]\ttrain-rmse:0.52767\teval-rmse:0.53453\n",
      "[70]\ttrain-rmse:0.32725\teval-rmse:0.34083\n",
      "[80]\ttrain-rmse:0.20864\teval-rmse:0.23185\n",
      "[90]\ttrain-rmse:0.13962\teval-rmse:0.17597\n",
      "[100]\ttrain-rmse:0.10086\teval-rmse:0.14895\n",
      "[110]\ttrain-rmse:0.07943\teval-rmse:0.13663\n",
      "[120]\ttrain-rmse:0.06734\teval-rmse:0.13130\n",
      "[130]\ttrain-rmse:0.06069\teval-rmse:0.12854\n",
      "[140]\ttrain-rmse:0.05566\teval-rmse:0.12733\n",
      "[150]\ttrain-rmse:0.05201\teval-rmse:0.12646\n",
      "[160]\ttrain-rmse:0.04920\teval-rmse:0.12592\n",
      "[170]\ttrain-rmse:0.04656\teval-rmse:0.12576\n",
      "[180]\ttrain-rmse:0.04441\teval-rmse:0.12544\n",
      "[190]\ttrain-rmse:0.04191\teval-rmse:0.12497\n",
      "[200]\ttrain-rmse:0.04022\teval-rmse:0.12481\n",
      "[210]\ttrain-rmse:0.03843\teval-rmse:0.12452\n",
      "[220]\ttrain-rmse:0.03710\teval-rmse:0.12433\n",
      "[230]\ttrain-rmse:0.03599\teval-rmse:0.12422\n",
      "[240]\ttrain-rmse:0.03459\teval-rmse:0.12422\n",
      "[250]\ttrain-rmse:0.03343\teval-rmse:0.12423\n",
      "[254]\ttrain-rmse:0.03290\teval-rmse:0.12417\n"
     ]
    },
    {
     "name": "stderr",
     "output_type": "stream",
     "text": [
      "\u001b[32m[I 2021-06-05 17:20:29,523]\u001b[0m Trial 10 finished with value: 0.12418845173118824 and parameters: {'max_depth': 6, 'colsample_bytree': 0.7419635826039517, 'sublsample': 0.5193052325515839}. Best is trial 5 with value: 0.11939827893090284.\u001b[0m\n"
     ]
    },
    {
     "name": "stdout",
     "output_type": "stream",
     "text": [
      "[17:20:29] WARNING: ..\\src\\learner.cc:573: \n",
      "Parameters: { \"sublsample\" } might not be used.\n",
      "\n",
      "  This may not be accurate due to some parameters are only used in language bindings but\n",
      "  passed down to XGBoost core.  Or some parameters are not used but slip through this\n",
      "  verification. Please open an issue if you find above cases.\n",
      "\n",
      "\n",
      "[0]\ttrain-rmse:10.94725\teval-rmse:10.95545\n",
      "[10]\ttrain-rmse:6.56452\teval-rmse:6.57051\n",
      "[20]\ttrain-rmse:3.93989\teval-rmse:3.94379\n",
      "[30]\ttrain-rmse:2.36835\teval-rmse:2.37091\n",
      "[40]\ttrain-rmse:1.42775\teval-rmse:1.42962\n",
      "[50]\ttrain-rmse:0.86552\teval-rmse:0.86773\n",
      "[60]\ttrain-rmse:0.53001\teval-rmse:0.53506\n",
      "[70]\ttrain-rmse:0.33029\teval-rmse:0.34169\n",
      "[80]\ttrain-rmse:0.21177\teval-rmse:0.23357\n",
      "[90]\ttrain-rmse:0.14084\teval-rmse:0.17669\n",
      "[100]\ttrain-rmse:0.09787\teval-rmse:0.14924\n",
      "[110]\ttrain-rmse:0.07201\teval-rmse:0.13604\n",
      "[120]\ttrain-rmse:0.05593\teval-rmse:0.13059\n",
      "[130]\ttrain-rmse:0.04497\teval-rmse:0.12758\n",
      "[140]\ttrain-rmse:0.03700\teval-rmse:0.12602\n",
      "[150]\ttrain-rmse:0.03154\teval-rmse:0.12511\n",
      "[160]\ttrain-rmse:0.02697\teval-rmse:0.12419\n",
      "[170]\ttrain-rmse:0.02356\teval-rmse:0.12381\n",
      "[180]\ttrain-rmse:0.02047\teval-rmse:0.12358\n",
      "[190]\ttrain-rmse:0.01809\teval-rmse:0.12336\n",
      "[200]\ttrain-rmse:0.01597\teval-rmse:0.12315\n",
      "[210]\ttrain-rmse:0.01391\teval-rmse:0.12296\n",
      "[220]\ttrain-rmse:0.01220\teval-rmse:0.12285\n",
      "[230]\ttrain-rmse:0.01112\teval-rmse:0.12277\n",
      "[240]\ttrain-rmse:0.00989\teval-rmse:0.12274\n",
      "[250]\ttrain-rmse:0.00874\teval-rmse:0.12272\n",
      "[260]\ttrain-rmse:0.00758\teval-rmse:0.12266\n",
      "[270]\ttrain-rmse:0.00654\teval-rmse:0.12262\n",
      "[280]\ttrain-rmse:0.00581\teval-rmse:0.12256\n",
      "[290]\ttrain-rmse:0.00522\teval-rmse:0.12254\n",
      "[300]\ttrain-rmse:0.00461\teval-rmse:0.12254\n",
      "[310]\ttrain-rmse:0.00413\teval-rmse:0.12250\n",
      "[320]\ttrain-rmse:0.00366\teval-rmse:0.12248\n",
      "[330]\ttrain-rmse:0.00324\teval-rmse:0.12245\n",
      "[340]\ttrain-rmse:0.00290\teval-rmse:0.12243\n",
      "[350]\ttrain-rmse:0.00255\teval-rmse:0.12242\n",
      "[360]\ttrain-rmse:0.00234\teval-rmse:0.12240\n",
      "[370]\ttrain-rmse:0.00212\teval-rmse:0.12239\n",
      "[380]\ttrain-rmse:0.00191\teval-rmse:0.12239\n",
      "[390]\ttrain-rmse:0.00174\teval-rmse:0.12239\n",
      "[400]\ttrain-rmse:0.00158\teval-rmse:0.12238\n",
      "[410]\ttrain-rmse:0.00145\teval-rmse:0.12238\n",
      "[420]\ttrain-rmse:0.00127\teval-rmse:0.12238\n",
      "[423]\ttrain-rmse:0.00123\teval-rmse:0.12238\n"
     ]
    },
    {
     "name": "stderr",
     "output_type": "stream",
     "text": [
      "\u001b[32m[I 2021-06-05 17:20:34,144]\u001b[0m Trial 11 finished with value: 0.12238653903258828 and parameters: {'max_depth': 10, 'colsample_bytree': 0.2131528603054486, 'sublsample': 0.632344847953114}. Best is trial 5 with value: 0.11939827893090284.\u001b[0m\n"
     ]
    },
    {
     "name": "stdout",
     "output_type": "stream",
     "text": [
      "[17:20:34] WARNING: ..\\src\\learner.cc:573: \n",
      "Parameters: { \"sublsample\" } might not be used.\n",
      "\n",
      "  This may not be accurate due to some parameters are only used in language bindings but\n",
      "  passed down to XGBoost core.  Or some parameters are not used but slip through this\n",
      "  verification. Please open an issue if you find above cases.\n",
      "\n",
      "\n",
      "[0]\ttrain-rmse:10.94725\teval-rmse:10.95545\n",
      "[10]\ttrain-rmse:6.56435\teval-rmse:6.57077\n",
      "[20]\ttrain-rmse:3.93949\teval-rmse:3.94279\n",
      "[30]\ttrain-rmse:2.36780\teval-rmse:2.36983\n",
      "[40]\ttrain-rmse:1.42685\teval-rmse:1.42831\n",
      "[50]\ttrain-rmse:0.86392\teval-rmse:0.86784\n",
      "[60]\ttrain-rmse:0.52761\teval-rmse:0.53639\n",
      "[70]\ttrain-rmse:0.32684\teval-rmse:0.34496\n",
      "[80]\ttrain-rmse:0.20675\teval-rmse:0.23731\n",
      "[90]\ttrain-rmse:0.13412\teval-rmse:0.18038\n",
      "[100]\ttrain-rmse:0.08960\teval-rmse:0.15300\n",
      "[110]\ttrain-rmse:0.06155\teval-rmse:0.14037\n",
      "[120]\ttrain-rmse:0.04412\teval-rmse:0.13491\n",
      "[130]\ttrain-rmse:0.03281\teval-rmse:0.13216\n",
      "[140]\ttrain-rmse:0.02536\teval-rmse:0.13071\n",
      "[150]\ttrain-rmse:0.02010\teval-rmse:0.13014\n",
      "[160]\ttrain-rmse:0.01630\teval-rmse:0.12989\n",
      "[170]\ttrain-rmse:0.01380\teval-rmse:0.12974\n",
      "[180]\ttrain-rmse:0.01168\teval-rmse:0.12960\n",
      "[190]\ttrain-rmse:0.01002\teval-rmse:0.12944\n",
      "[200]\ttrain-rmse:0.00889\teval-rmse:0.12934\n",
      "[210]\ttrain-rmse:0.00778\teval-rmse:0.12931\n",
      "[220]\ttrain-rmse:0.00667\teval-rmse:0.12932\n",
      "[230]\ttrain-rmse:0.00579\teval-rmse:0.12928\n",
      "[240]\ttrain-rmse:0.00513\teval-rmse:0.12927\n",
      "[250]\ttrain-rmse:0.00450\teval-rmse:0.12923\n",
      "[260]\ttrain-rmse:0.00386\teval-rmse:0.12920\n",
      "[270]\ttrain-rmse:0.00344\teval-rmse:0.12920\n",
      "[280]\ttrain-rmse:0.00300\teval-rmse:0.12919\n",
      "[290]\ttrain-rmse:0.00261\teval-rmse:0.12918\n",
      "[300]\ttrain-rmse:0.00229\teval-rmse:0.12918\n",
      "[310]\ttrain-rmse:0.00194\teval-rmse:0.12916\n",
      "[320]\ttrain-rmse:0.00167\teval-rmse:0.12916\n",
      "[330]\ttrain-rmse:0.00147\teval-rmse:0.12918\n",
      "[339]\ttrain-rmse:0.00133\teval-rmse:0.12918\n"
     ]
    },
    {
     "name": "stderr",
     "output_type": "stream",
     "text": [
      "\u001b[32m[I 2021-06-05 17:20:39,299]\u001b[0m Trial 12 finished with value: 0.12918042274187644 and parameters: {'max_depth': 11, 'colsample_bytree': 0.6318537978123298, 'sublsample': 0.8606236549602369}. Best is trial 5 with value: 0.11939827893090284.\u001b[0m\n"
     ]
    },
    {
     "name": "stdout",
     "output_type": "stream",
     "text": [
      "[17:20:39] WARNING: ..\\src\\learner.cc:573: \n",
      "Parameters: { \"sublsample\" } might not be used.\n",
      "\n",
      "  This may not be accurate due to some parameters are only used in language bindings but\n",
      "  passed down to XGBoost core.  Or some parameters are not used but slip through this\n",
      "  verification. Please open an issue if you find above cases.\n",
      "\n",
      "\n",
      "[0]\ttrain-rmse:10.94725\teval-rmse:10.95545\n",
      "[10]\ttrain-rmse:6.56446\teval-rmse:6.57053\n",
      "[20]\ttrain-rmse:3.93967\teval-rmse:3.94367\n",
      "[30]\ttrain-rmse:2.36801\teval-rmse:2.36997\n",
      "[40]\ttrain-rmse:1.42725\teval-rmse:1.42756\n",
      "[50]\ttrain-rmse:0.86443\teval-rmse:0.86628\n",
      "[60]\ttrain-rmse:0.52839\teval-rmse:0.53384\n",
      "[70]\ttrain-rmse:0.32785\teval-rmse:0.34165\n",
      "[80]\ttrain-rmse:0.20801\teval-rmse:0.23355\n",
      "[90]\ttrain-rmse:0.13562\teval-rmse:0.17647\n",
      "[100]\ttrain-rmse:0.09098\teval-rmse:0.14828\n",
      "[110]\ttrain-rmse:0.06258\teval-rmse:0.13569\n",
      "[120]\ttrain-rmse:0.04442\teval-rmse:0.13027\n",
      "[130]\ttrain-rmse:0.03304\teval-rmse:0.12787\n",
      "[140]\ttrain-rmse:0.02506\teval-rmse:0.12648\n",
      "[150]\ttrain-rmse:0.01947\teval-rmse:0.12569\n",
      "[160]\ttrain-rmse:0.01533\teval-rmse:0.12526\n",
      "[170]\ttrain-rmse:0.01226\teval-rmse:0.12501\n",
      "[180]\ttrain-rmse:0.00972\teval-rmse:0.12489\n",
      "[190]\ttrain-rmse:0.00790\teval-rmse:0.12473\n",
      "[200]\ttrain-rmse:0.00658\teval-rmse:0.12462\n",
      "[210]\ttrain-rmse:0.00542\teval-rmse:0.12454\n",
      "[220]\ttrain-rmse:0.00458\teval-rmse:0.12445\n",
      "[230]\ttrain-rmse:0.00383\teval-rmse:0.12444\n",
      "[240]\ttrain-rmse:0.00332\teval-rmse:0.12440\n",
      "[250]\ttrain-rmse:0.00298\teval-rmse:0.12437\n",
      "[260]\ttrain-rmse:0.00254\teval-rmse:0.12437\n",
      "[270]\ttrain-rmse:0.00218\teval-rmse:0.12437\n",
      "[280]\ttrain-rmse:0.00189\teval-rmse:0.12436\n",
      "[290]\ttrain-rmse:0.00163\teval-rmse:0.12435\n",
      "[300]\ttrain-rmse:0.00144\teval-rmse:0.12434\n",
      "[310]\ttrain-rmse:0.00127\teval-rmse:0.12434\n",
      "[320]\ttrain-rmse:0.00112\teval-rmse:0.12433\n",
      "[323]\ttrain-rmse:0.00108\teval-rmse:0.12434\n"
     ]
    },
    {
     "name": "stderr",
     "output_type": "stream",
     "text": [
      "\u001b[32m[I 2021-06-05 17:20:44,273]\u001b[0m Trial 13 finished with value: 0.12433824736241406 and parameters: {'max_depth': 12, 'colsample_bytree': 0.4516555304016502, 'sublsample': 0.505922367659539}. Best is trial 5 with value: 0.11939827893090284.\u001b[0m\n"
     ]
    },
    {
     "name": "stdout",
     "output_type": "stream",
     "text": [
      "[17:20:44] WARNING: ..\\src\\learner.cc:573: \n",
      "Parameters: { \"sublsample\" } might not be used.\n",
      "\n",
      "  This may not be accurate due to some parameters are only used in language bindings but\n",
      "  passed down to XGBoost core.  Or some parameters are not used but slip through this\n",
      "  verification. Please open an issue if you find above cases.\n",
      "\n",
      "\n",
      "[0]\ttrain-rmse:10.94725\teval-rmse:10.95545\n",
      "[10]\ttrain-rmse:6.56452\teval-rmse:6.57051\n",
      "[20]\ttrain-rmse:3.93987\teval-rmse:3.94368\n",
      "[30]\ttrain-rmse:2.36834\teval-rmse:2.37070\n",
      "[40]\ttrain-rmse:1.42758\teval-rmse:1.42890\n",
      "[50]\ttrain-rmse:0.86525\teval-rmse:0.86712\n",
      "[60]\ttrain-rmse:0.52954\teval-rmse:0.53442\n",
      "[70]\ttrain-rmse:0.32954\teval-rmse:0.34216\n",
      "[80]\ttrain-rmse:0.21088\teval-rmse:0.23436\n",
      "[90]\ttrain-rmse:0.13911\teval-rmse:0.17730\n",
      "[100]\ttrain-rmse:0.09505\teval-rmse:0.14997\n",
      "[110]\ttrain-rmse:0.06727\teval-rmse:0.13681\n",
      "[120]\ttrain-rmse:0.04920\teval-rmse:0.13059\n",
      "[130]\ttrain-rmse:0.03720\teval-rmse:0.12787\n",
      "[140]\ttrain-rmse:0.02850\teval-rmse:0.12628\n",
      "[150]\ttrain-rmse:0.02266\teval-rmse:0.12542\n",
      "[160]\ttrain-rmse:0.01816\teval-rmse:0.12497\n",
      "[170]\ttrain-rmse:0.01496\teval-rmse:0.12461\n",
      "[180]\ttrain-rmse:0.01214\teval-rmse:0.12430\n",
      "[190]\ttrain-rmse:0.01013\teval-rmse:0.12412\n",
      "[200]\ttrain-rmse:0.00838\teval-rmse:0.12395\n",
      "[210]\ttrain-rmse:0.00708\teval-rmse:0.12385\n",
      "[220]\ttrain-rmse:0.00575\teval-rmse:0.12381\n",
      "[230]\ttrain-rmse:0.00493\teval-rmse:0.12377\n",
      "[240]\ttrain-rmse:0.00426\teval-rmse:0.12374\n",
      "[250]\ttrain-rmse:0.00373\teval-rmse:0.12370\n",
      "[260]\ttrain-rmse:0.00314\teval-rmse:0.12367\n",
      "[270]\ttrain-rmse:0.00264\teval-rmse:0.12367\n",
      "[280]\ttrain-rmse:0.00224\teval-rmse:0.12366\n",
      "[290]\ttrain-rmse:0.00191\teval-rmse:0.12364\n",
      "[300]\ttrain-rmse:0.00164\teval-rmse:0.12364\n",
      "[310]\ttrain-rmse:0.00142\teval-rmse:0.12363\n",
      "[320]\ttrain-rmse:0.00120\teval-rmse:0.12363\n",
      "[330]\ttrain-rmse:0.00104\teval-rmse:0.12362\n",
      "[340]\ttrain-rmse:0.00096\teval-rmse:0.12363\n",
      "[350]\ttrain-rmse:0.00092\teval-rmse:0.12363\n",
      "[355]\ttrain-rmse:0.00092\teval-rmse:0.12363\n"
     ]
    },
    {
     "name": "stderr",
     "output_type": "stream",
     "text": [
      "\u001b[32m[I 2021-06-05 17:20:48,473]\u001b[0m Trial 14 finished with value: 0.12362601341824303 and parameters: {'max_depth': 12, 'colsample_bytree': 0.2421578301404889, 'sublsample': 0.6667367008119673}. Best is trial 5 with value: 0.11939827893090284.\u001b[0m\n"
     ]
    },
    {
     "name": "stdout",
     "output_type": "stream",
     "text": [
      "[17:20:48] WARNING: ..\\src\\learner.cc:573: \n",
      "Parameters: { \"sublsample\" } might not be used.\n",
      "\n",
      "  This may not be accurate due to some parameters are only used in language bindings but\n",
      "  passed down to XGBoost core.  Or some parameters are not used but slip through this\n",
      "  verification. Please open an issue if you find above cases.\n",
      "\n",
      "\n",
      "[0]\ttrain-rmse:10.94725\teval-rmse:10.95545\n",
      "[10]\ttrain-rmse:6.56446\teval-rmse:6.57053\n",
      "[20]\ttrain-rmse:3.93971\teval-rmse:3.94408\n",
      "[30]\ttrain-rmse:2.36809\teval-rmse:2.37055\n",
      "[40]\ttrain-rmse:1.42729\teval-rmse:1.42877\n",
      "[50]\ttrain-rmse:0.86468\teval-rmse:0.86757\n",
      "[60]\ttrain-rmse:0.52868\teval-rmse:0.53423\n",
      "[70]\ttrain-rmse:0.32827\teval-rmse:0.34101\n",
      "[80]\ttrain-rmse:0.20878\teval-rmse:0.23233\n",
      "[90]\ttrain-rmse:0.13639\teval-rmse:0.17528\n",
      "[100]\ttrain-rmse:0.09181\teval-rmse:0.14847\n",
      "[110]\ttrain-rmse:0.06346\teval-rmse:0.13594\n",
      "[120]\ttrain-rmse:0.04576\teval-rmse:0.13049\n",
      "[130]\ttrain-rmse:0.03409\teval-rmse:0.12786\n",
      "[140]\ttrain-rmse:0.02587\teval-rmse:0.12618\n",
      "[150]\ttrain-rmse:0.02023\teval-rmse:0.12542\n",
      "[160]\ttrain-rmse:0.01616\teval-rmse:0.12497\n",
      "[170]\ttrain-rmse:0.01327\teval-rmse:0.12474\n",
      "[180]\ttrain-rmse:0.01059\teval-rmse:0.12449\n",
      "[190]\ttrain-rmse:0.00881\teval-rmse:0.12434\n",
      "[200]\ttrain-rmse:0.00720\teval-rmse:0.12420\n",
      "[210]\ttrain-rmse:0.00592\teval-rmse:0.12414\n",
      "[220]\ttrain-rmse:0.00483\teval-rmse:0.12411\n",
      "[230]\ttrain-rmse:0.00417\teval-rmse:0.12404\n",
      "[240]\ttrain-rmse:0.00351\teval-rmse:0.12403\n",
      "[250]\ttrain-rmse:0.00305\teval-rmse:0.12402\n",
      "[260]\ttrain-rmse:0.00253\teval-rmse:0.12399\n",
      "[270]\ttrain-rmse:0.00220\teval-rmse:0.12396\n",
      "[280]\ttrain-rmse:0.00191\teval-rmse:0.12395\n",
      "[290]\ttrain-rmse:0.00169\teval-rmse:0.12395\n",
      "[300]\ttrain-rmse:0.00148\teval-rmse:0.12395\n",
      "[301]\ttrain-rmse:0.00147\teval-rmse:0.12395\n"
     ]
    },
    {
     "name": "stderr",
     "output_type": "stream",
     "text": [
      "\u001b[32m[I 2021-06-05 17:20:52,751]\u001b[0m Trial 15 finished with value: 0.12395305769194291 and parameters: {'max_depth': 12, 'colsample_bytree': 0.3472677927516886, 'sublsample': 0.2902484083583973}. Best is trial 5 with value: 0.11939827893090284.\u001b[0m\n"
     ]
    },
    {
     "name": "stdout",
     "output_type": "stream",
     "text": [
      "[17:20:52] WARNING: ..\\src\\learner.cc:573: \n",
      "Parameters: { \"sublsample\" } might not be used.\n",
      "\n",
      "  This may not be accurate due to some parameters are only used in language bindings but\n",
      "  passed down to XGBoost core.  Or some parameters are not used but slip through this\n",
      "  verification. Please open an issue if you find above cases.\n",
      "\n",
      "\n",
      "[0]\ttrain-rmse:10.94725\teval-rmse:10.95545\n",
      "[10]\ttrain-rmse:6.56446\teval-rmse:6.57053\n",
      "[20]\ttrain-rmse:3.93967\teval-rmse:3.94367\n",
      "[30]\ttrain-rmse:2.36801\teval-rmse:2.36997\n",
      "[40]\ttrain-rmse:1.42725\teval-rmse:1.42756\n",
      "[50]\ttrain-rmse:0.86443\teval-rmse:0.86628\n",
      "[60]\ttrain-rmse:0.52839\teval-rmse:0.53384\n",
      "[70]\ttrain-rmse:0.32811\teval-rmse:0.34092\n",
      "[80]\ttrain-rmse:0.20944\teval-rmse:0.23111\n",
      "[90]\ttrain-rmse:0.13996\teval-rmse:0.17389\n",
      "[100]\ttrain-rmse:0.09971\teval-rmse:0.14631\n",
      "[110]\ttrain-rmse:0.07669\teval-rmse:0.13404\n",
      "[120]\ttrain-rmse:0.06323\teval-rmse:0.12872\n",
      "[130]\ttrain-rmse:0.05464\teval-rmse:0.12584\n",
      "[140]\ttrain-rmse:0.04879\teval-rmse:0.12438\n",
      "[150]\ttrain-rmse:0.04384\teval-rmse:0.12365\n",
      "[160]\ttrain-rmse:0.04004\teval-rmse:0.12303\n",
      "[170]\ttrain-rmse:0.03694\teval-rmse:0.12270\n",
      "[180]\ttrain-rmse:0.03428\teval-rmse:0.12215\n",
      "[190]\ttrain-rmse:0.03222\teval-rmse:0.12171\n",
      "[200]\ttrain-rmse:0.03057\teval-rmse:0.12174\n",
      "[210]\ttrain-rmse:0.02910\teval-rmse:0.12162\n",
      "[220]\ttrain-rmse:0.02743\teval-rmse:0.12149\n",
      "[230]\ttrain-rmse:0.02600\teval-rmse:0.12142\n",
      "[240]\ttrain-rmse:0.02487\teval-rmse:0.12143\n",
      "[250]\ttrain-rmse:0.02376\teval-rmse:0.12136\n",
      "[260]\ttrain-rmse:0.02260\teval-rmse:0.12117\n",
      "[270]\ttrain-rmse:0.02164\teval-rmse:0.12115\n",
      "[280]\ttrain-rmse:0.02064\teval-rmse:0.12109\n",
      "[290]\ttrain-rmse:0.01962\teval-rmse:0.12111\n",
      "[297]\ttrain-rmse:0.01893\teval-rmse:0.12111\n"
     ]
    },
    {
     "name": "stderr",
     "output_type": "stream",
     "text": [
      "\u001b[32m[I 2021-06-05 17:20:55,485]\u001b[0m Trial 16 finished with value: 0.12111064802874964 and parameters: {'max_depth': 7, 'colsample_bytree': 0.45459753965983585, 'sublsample': 0.5991377392925157}. Best is trial 5 with value: 0.11939827893090284.\u001b[0m\n"
     ]
    },
    {
     "name": "stdout",
     "output_type": "stream",
     "text": [
      "[17:20:55] WARNING: ..\\src\\learner.cc:573: \n",
      "Parameters: { \"sublsample\" } might not be used.\n",
      "\n",
      "  This may not be accurate due to some parameters are only used in language bindings but\n",
      "  passed down to XGBoost core.  Or some parameters are not used but slip through this\n",
      "  verification. Please open an issue if you find above cases.\n",
      "\n",
      "\n",
      "[0]\ttrain-rmse:10.94725\teval-rmse:10.95545\n",
      "[10]\ttrain-rmse:6.56431\teval-rmse:6.57082\n",
      "[20]\ttrain-rmse:3.93947\teval-rmse:3.94339\n",
      "[30]\ttrain-rmse:2.36778\teval-rmse:2.36966\n",
      "[40]\ttrain-rmse:1.42676\teval-rmse:1.42840\n",
      "[50]\ttrain-rmse:0.86383\teval-rmse:0.86786\n",
      "[60]\ttrain-rmse:0.52752\teval-rmse:0.53640\n",
      "[70]\ttrain-rmse:0.32651\teval-rmse:0.34468\n",
      "[80]\ttrain-rmse:0.20629\teval-rmse:0.23629\n",
      "[90]\ttrain-rmse:0.13430\teval-rmse:0.17911\n",
      "[100]\ttrain-rmse:0.09107\teval-rmse:0.15186\n",
      "[110]\ttrain-rmse:0.06500\teval-rmse:0.13908\n",
      "[120]\ttrain-rmse:0.04969\teval-rmse:0.13391\n",
      "[130]\ttrain-rmse:0.03980\teval-rmse:0.13134\n",
      "[140]\ttrain-rmse:0.03345\teval-rmse:0.13021\n",
      "[150]\ttrain-rmse:0.02855\teval-rmse:0.12949\n",
      "[160]\ttrain-rmse:0.02520\teval-rmse:0.12921\n",
      "[170]\ttrain-rmse:0.02258\teval-rmse:0.12880\n",
      "[180]\ttrain-rmse:0.02085\teval-rmse:0.12868\n",
      "[190]\ttrain-rmse:0.01949\teval-rmse:0.12870\n",
      "[200]\ttrain-rmse:0.01791\teval-rmse:0.12869\n",
      "[202]\ttrain-rmse:0.01766\teval-rmse:0.12871\n"
     ]
    },
    {
     "name": "stderr",
     "output_type": "stream",
     "text": [
      "\u001b[32m[I 2021-06-05 17:20:58,204]\u001b[0m Trial 17 finished with value: 0.1287098015612123 and parameters: {'max_depth': 9, 'colsample_bytree': 0.8918616866414584, 'sublsample': 0.2714313675236196}. Best is trial 5 with value: 0.11939827893090284.\u001b[0m\n"
     ]
    },
    {
     "name": "stdout",
     "output_type": "stream",
     "text": [
      "[17:20:58] WARNING: ..\\src\\learner.cc:573: \n",
      "Parameters: { \"sublsample\" } might not be used.\n",
      "\n",
      "  This may not be accurate due to some parameters are only used in language bindings but\n",
      "  passed down to XGBoost core.  Or some parameters are not used but slip through this\n",
      "  verification. Please open an issue if you find above cases.\n",
      "\n",
      "\n",
      "[0]\ttrain-rmse:10.94725\teval-rmse:10.95545\n",
      "[10]\ttrain-rmse:6.56452\teval-rmse:6.57051\n",
      "[20]\ttrain-rmse:3.93989\teval-rmse:3.94409\n",
      "[30]\ttrain-rmse:2.36833\teval-rmse:2.37104\n",
      "[40]\ttrain-rmse:1.42758\teval-rmse:1.42927\n",
      "[50]\ttrain-rmse:0.86491\teval-rmse:0.86773\n",
      "[60]\ttrain-rmse:0.52902\teval-rmse:0.53454\n",
      "[70]\ttrain-rmse:0.32974\teval-rmse:0.33977\n",
      "[80]\ttrain-rmse:0.21355\teval-rmse:0.23092\n",
      "[90]\ttrain-rmse:0.14724\teval-rmse:0.17273\n",
      "[100]\ttrain-rmse:0.11105\teval-rmse:0.14538\n",
      "[110]\ttrain-rmse:0.09129\teval-rmse:0.13228\n",
      "[120]\ttrain-rmse:0.08062\teval-rmse:0.12673\n",
      "[130]\ttrain-rmse:0.07416\teval-rmse:0.12410\n",
      "[140]\ttrain-rmse:0.06975\teval-rmse:0.12242\n",
      "[150]\ttrain-rmse:0.06637\teval-rmse:0.12113\n",
      "[160]\ttrain-rmse:0.06362\teval-rmse:0.12037\n",
      "[170]\ttrain-rmse:0.06096\teval-rmse:0.11994\n",
      "[180]\ttrain-rmse:0.05839\teval-rmse:0.11935\n",
      "[190]\ttrain-rmse:0.05631\teval-rmse:0.11911\n",
      "[200]\ttrain-rmse:0.05422\teval-rmse:0.11903\n",
      "[210]\ttrain-rmse:0.05222\teval-rmse:0.11927\n",
      "[220]\ttrain-rmse:0.05042\teval-rmse:0.11906\n",
      "[230]\ttrain-rmse:0.04870\teval-rmse:0.11895\n",
      "[240]\ttrain-rmse:0.04712\teval-rmse:0.11879\n",
      "[250]\ttrain-rmse:0.04581\teval-rmse:0.11859\n",
      "[260]\ttrain-rmse:0.04467\teval-rmse:0.11851\n",
      "[270]\ttrain-rmse:0.04350\teval-rmse:0.11861\n",
      "[280]\ttrain-rmse:0.04207\teval-rmse:0.11854\n",
      "[290]\ttrain-rmse:0.04107\teval-rmse:0.11851\n",
      "[300]\ttrain-rmse:0.04002\teval-rmse:0.11850\n",
      "[304]\ttrain-rmse:0.03975\teval-rmse:0.11858\n"
     ]
    },
    {
     "name": "stderr",
     "output_type": "stream",
     "text": [
      "\u001b[32m[I 2021-06-05 17:21:00,286]\u001b[0m Trial 18 finished with value: 0.11858940159767575 and parameters: {'max_depth': 5, 'colsample_bytree': 0.3129166625194974, 'sublsample': 0.6571758278257789}. Best is trial 18 with value: 0.11858940159767575.\u001b[0m\n"
     ]
    },
    {
     "name": "stdout",
     "output_type": "stream",
     "text": [
      "[17:21:00] WARNING: ..\\src\\learner.cc:573: \n",
      "Parameters: { \"sublsample\" } might not be used.\n",
      "\n",
      "  This may not be accurate due to some parameters are only used in language bindings but\n",
      "  passed down to XGBoost core.  Or some parameters are not used but slip through this\n",
      "  verification. Please open an issue if you find above cases.\n",
      "\n",
      "\n",
      "[0]\ttrain-rmse:10.94725\teval-rmse:10.95545\n",
      "[10]\ttrain-rmse:6.56442\teval-rmse:6.57058\n",
      "[20]\ttrain-rmse:3.93967\teval-rmse:3.94369\n",
      "[30]\ttrain-rmse:2.36797\teval-rmse:2.36910\n",
      "[40]\ttrain-rmse:1.42716\teval-rmse:1.42882\n",
      "[50]\ttrain-rmse:0.86424\teval-rmse:0.86748\n",
      "[60]\ttrain-rmse:0.52792\teval-rmse:0.53410\n",
      "[70]\ttrain-rmse:0.32762\teval-rmse:0.34061\n",
      "[80]\ttrain-rmse:0.20958\teval-rmse:0.23226\n",
      "[90]\ttrain-rmse:0.14131\teval-rmse:0.17431\n",
      "[100]\ttrain-rmse:0.10278\teval-rmse:0.14616\n",
      "[110]\ttrain-rmse:0.08191\teval-rmse:0.13351\n",
      "[120]\ttrain-rmse:0.07035\teval-rmse:0.12774\n",
      "[130]\ttrain-rmse:0.06345\teval-rmse:0.12487\n",
      "[140]\ttrain-rmse:0.05867\teval-rmse:0.12356\n",
      "[150]\ttrain-rmse:0.05376\teval-rmse:0.12271\n",
      "[160]\ttrain-rmse:0.05017\teval-rmse:0.12228\n",
      "[170]\ttrain-rmse:0.04690\teval-rmse:0.12220\n",
      "[180]\ttrain-rmse:0.04447\teval-rmse:0.12205\n",
      "[190]\ttrain-rmse:0.04225\teval-rmse:0.12195\n",
      "[200]\ttrain-rmse:0.04058\teval-rmse:0.12172\n",
      "[210]\ttrain-rmse:0.03902\teval-rmse:0.12158\n",
      "[220]\ttrain-rmse:0.03770\teval-rmse:0.12150\n",
      "[230]\ttrain-rmse:0.03604\teval-rmse:0.12147\n",
      "[240]\ttrain-rmse:0.03478\teval-rmse:0.12141\n",
      "[250]\ttrain-rmse:0.03345\teval-rmse:0.12126\n",
      "[260]\ttrain-rmse:0.03217\teval-rmse:0.12117\n",
      "[270]\ttrain-rmse:0.03112\teval-rmse:0.12118\n",
      "[280]\ttrain-rmse:0.03002\teval-rmse:0.12106\n",
      "[290]\ttrain-rmse:0.02894\teval-rmse:0.12113\n",
      "[300]\ttrain-rmse:0.02823\teval-rmse:0.12100\n",
      "[310]\ttrain-rmse:0.02741\teval-rmse:0.12100\n",
      "[318]\ttrain-rmse:0.02647\teval-rmse:0.12100\n"
     ]
    },
    {
     "name": "stderr",
     "output_type": "stream",
     "text": [
      "\u001b[32m[I 2021-06-05 17:21:03,098]\u001b[0m Trial 19 finished with value: 0.12099895725796334 and parameters: {'max_depth': 6, 'colsample_bytree': 0.5264175409994144, 'sublsample': 0.37109791440112194}. Best is trial 18 with value: 0.11858940159767575.\u001b[0m\n"
     ]
    },
    {
     "name": "stdout",
     "output_type": "stream",
     "text": [
      "[17:21:03] WARNING: ..\\src\\learner.cc:573: \n",
      "Parameters: { \"sublsample\" } might not be used.\n",
      "\n",
      "  This may not be accurate due to some parameters are only used in language bindings but\n",
      "  passed down to XGBoost core.  Or some parameters are not used but slip through this\n",
      "  verification. Please open an issue if you find above cases.\n",
      "\n",
      "\n",
      "[0]\ttrain-rmse:10.94725\teval-rmse:10.95545\n",
      "[10]\ttrain-rmse:6.56452\teval-rmse:6.57051\n",
      "[20]\ttrain-rmse:3.93989\teval-rmse:3.94394\n",
      "[30]\ttrain-rmse:2.36831\teval-rmse:2.37018\n",
      "[40]\ttrain-rmse:1.42761\teval-rmse:1.42883\n",
      "[50]\ttrain-rmse:0.86498\teval-rmse:0.86713\n",
      "[60]\ttrain-rmse:0.52934\teval-rmse:0.53362\n",
      "[70]\ttrain-rmse:0.33032\teval-rmse:0.33992\n",
      "[80]\ttrain-rmse:0.21433\teval-rmse:0.23149\n",
      "[90]\ttrain-rmse:0.14830\teval-rmse:0.17499\n",
      "[100]\ttrain-rmse:0.11208\teval-rmse:0.14790\n",
      "[110]\ttrain-rmse:0.09251\teval-rmse:0.13496\n",
      "[120]\ttrain-rmse:0.08199\teval-rmse:0.12993\n",
      "[130]\ttrain-rmse:0.07535\teval-rmse:0.12711\n",
      "[140]\ttrain-rmse:0.07037\teval-rmse:0.12491\n",
      "[150]\ttrain-rmse:0.06704\teval-rmse:0.12377\n",
      "[160]\ttrain-rmse:0.06405\teval-rmse:0.12268\n",
      "[170]\ttrain-rmse:0.06145\teval-rmse:0.12211\n",
      "[180]\ttrain-rmse:0.05894\teval-rmse:0.12141\n",
      "[190]\ttrain-rmse:0.05688\teval-rmse:0.12119\n",
      "[200]\ttrain-rmse:0.05470\teval-rmse:0.12064\n",
      "[210]\ttrain-rmse:0.05260\teval-rmse:0.12026\n",
      "[220]\ttrain-rmse:0.05078\teval-rmse:0.12012\n",
      "[230]\ttrain-rmse:0.04943\teval-rmse:0.12005\n",
      "[240]\ttrain-rmse:0.04792\teval-rmse:0.12012\n",
      "[250]\ttrain-rmse:0.04671\teval-rmse:0.11996\n",
      "[260]\ttrain-rmse:0.04529\teval-rmse:0.12004\n",
      "[270]\ttrain-rmse:0.04384\teval-rmse:0.11993\n",
      "[280]\ttrain-rmse:0.04294\teval-rmse:0.12002\n",
      "[288]\ttrain-rmse:0.04206\teval-rmse:0.12000\n"
     ]
    },
    {
     "name": "stderr",
     "output_type": "stream",
     "text": [
      "\u001b[32m[I 2021-06-05 17:21:04,838]\u001b[0m Trial 20 finished with value: 0.12003793945278811 and parameters: {'max_depth': 5, 'colsample_bytree': 0.2772625988150136, 'sublsample': 0.6594307126256913}. Best is trial 18 with value: 0.11858940159767575.\u001b[0m\n"
     ]
    },
    {
     "name": "stdout",
     "output_type": "stream",
     "text": [
      "[17:21:04] WARNING: ..\\src\\learner.cc:573: \n",
      "Parameters: { \"sublsample\" } might not be used.\n",
      "\n",
      "  This may not be accurate due to some parameters are only used in language bindings but\n",
      "  passed down to XGBoost core.  Or some parameters are not used but slip through this\n",
      "  verification. Please open an issue if you find above cases.\n",
      "\n",
      "\n",
      "[0]\ttrain-rmse:10.94725\teval-rmse:10.95545\n",
      "[10]\ttrain-rmse:6.56446\teval-rmse:6.57053\n",
      "[20]\ttrain-rmse:3.93975\teval-rmse:3.94390\n",
      "[30]\ttrain-rmse:2.36822\teval-rmse:2.37069\n",
      "[40]\ttrain-rmse:1.42744\teval-rmse:1.42887\n",
      "[50]\ttrain-rmse:0.86500\teval-rmse:0.86733\n",
      "[60]\ttrain-rmse:0.52949\teval-rmse:0.53457\n",
      "[70]\ttrain-rmse:0.33088\teval-rmse:0.34076\n",
      "[80]\ttrain-rmse:0.21600\teval-rmse:0.23280\n",
      "[90]\ttrain-rmse:0.15179\teval-rmse:0.17620\n",
      "[100]\ttrain-rmse:0.11770\teval-rmse:0.14909\n",
      "[110]\ttrain-rmse:0.09963\teval-rmse:0.13643\n",
      "[120]\ttrain-rmse:0.09030\teval-rmse:0.13080\n",
      "[130]\ttrain-rmse:0.08480\teval-rmse:0.12791\n",
      "[140]\ttrain-rmse:0.08066\teval-rmse:0.12582\n",
      "[150]\ttrain-rmse:0.07760\teval-rmse:0.12452\n",
      "[160]\ttrain-rmse:0.07496\teval-rmse:0.12352\n",
      "[170]\ttrain-rmse:0.07257\teval-rmse:0.12285\n",
      "[180]\ttrain-rmse:0.07054\teval-rmse:0.12207\n",
      "[190]\ttrain-rmse:0.06874\teval-rmse:0.12200\n",
      "[200]\ttrain-rmse:0.06672\teval-rmse:0.12130\n",
      "[210]\ttrain-rmse:0.06488\teval-rmse:0.12092\n",
      "[220]\ttrain-rmse:0.06325\teval-rmse:0.12063\n",
      "[230]\ttrain-rmse:0.06218\teval-rmse:0.12056\n",
      "[240]\ttrain-rmse:0.06096\teval-rmse:0.12034\n",
      "[250]\ttrain-rmse:0.05985\teval-rmse:0.12035\n",
      "[260]\ttrain-rmse:0.05880\teval-rmse:0.12017\n",
      "[270]\ttrain-rmse:0.05744\teval-rmse:0.12015\n",
      "[280]\ttrain-rmse:0.05627\teval-rmse:0.11991\n",
      "[290]\ttrain-rmse:0.05534\teval-rmse:0.11977\n",
      "[300]\ttrain-rmse:0.05449\teval-rmse:0.11964\n",
      "[310]\ttrain-rmse:0.05378\teval-rmse:0.11968\n",
      "[316]\ttrain-rmse:0.05330\teval-rmse:0.11969\n"
     ]
    },
    {
     "name": "stderr",
     "output_type": "stream",
     "text": [
      "\u001b[32m[I 2021-06-05 17:21:06,788]\u001b[0m Trial 21 finished with value: 0.11967810708980173 and parameters: {'max_depth': 4, 'colsample_bytree': 0.33760765317603747, 'sublsample': 0.45810761946267486}. Best is trial 18 with value: 0.11858940159767575.\u001b[0m\n"
     ]
    },
    {
     "name": "stdout",
     "output_type": "stream",
     "text": [
      "[17:21:06] WARNING: ..\\src\\learner.cc:573: \n",
      "Parameters: { \"sublsample\" } might not be used.\n",
      "\n",
      "  This may not be accurate due to some parameters are only used in language bindings but\n",
      "  passed down to XGBoost core.  Or some parameters are not used but slip through this\n",
      "  verification. Please open an issue if you find above cases.\n",
      "\n",
      "\n",
      "[0]\ttrain-rmse:10.94725\teval-rmse:10.95545\n",
      "[10]\ttrain-rmse:6.56452\teval-rmse:6.57051\n",
      "[20]\ttrain-rmse:3.93989\teval-rmse:3.94394\n",
      "[30]\ttrain-rmse:2.36831\teval-rmse:2.37018\n",
      "[40]\ttrain-rmse:1.42761\teval-rmse:1.42883\n",
      "[50]\ttrain-rmse:0.86509\teval-rmse:0.86723\n",
      "[60]\ttrain-rmse:0.52934\teval-rmse:0.53490\n",
      "[70]\ttrain-rmse:0.32932\teval-rmse:0.34178\n",
      "[80]\ttrain-rmse:0.21034\teval-rmse:0.23390\n",
      "[90]\ttrain-rmse:0.13824\teval-rmse:0.17824\n",
      "[100]\ttrain-rmse:0.09339\teval-rmse:0.15137\n",
      "[110]\ttrain-rmse:0.06479\teval-rmse:0.13817\n",
      "[120]\ttrain-rmse:0.04604\teval-rmse:0.13191\n",
      "[130]\ttrain-rmse:0.03349\teval-rmse:0.12909\n",
      "[140]\ttrain-rmse:0.02474\teval-rmse:0.12740\n",
      "[150]\ttrain-rmse:0.01837\teval-rmse:0.12658\n",
      "[160]\ttrain-rmse:0.01405\teval-rmse:0.12624\n",
      "[170]\ttrain-rmse:0.01096\teval-rmse:0.12604\n",
      "[180]\ttrain-rmse:0.00847\teval-rmse:0.12579\n",
      "[190]\ttrain-rmse:0.00679\teval-rmse:0.12562\n",
      "[200]\ttrain-rmse:0.00539\teval-rmse:0.12554\n",
      "[210]\ttrain-rmse:0.00429\teval-rmse:0.12542\n",
      "[220]\ttrain-rmse:0.00333\teval-rmse:0.12538\n",
      "[230]\ttrain-rmse:0.00270\teval-rmse:0.12536\n",
      "[240]\ttrain-rmse:0.00221\teval-rmse:0.12535\n",
      "[250]\ttrain-rmse:0.00182\teval-rmse:0.12534\n",
      "[260]\ttrain-rmse:0.00153\teval-rmse:0.12533\n",
      "[270]\ttrain-rmse:0.00126\teval-rmse:0.12533\n",
      "[280]\ttrain-rmse:0.00107\teval-rmse:0.12532\n",
      "[290]\ttrain-rmse:0.00093\teval-rmse:0.12532\n",
      "[300]\ttrain-rmse:0.00085\teval-rmse:0.12532\n",
      "[310]\ttrain-rmse:0.00081\teval-rmse:0.12531\n",
      "[320]\ttrain-rmse:0.00079\teval-rmse:0.12531\n",
      "[330]\ttrain-rmse:0.00077\teval-rmse:0.12531\n",
      "[340]\ttrain-rmse:0.00076\teval-rmse:0.12531\n",
      "[346]\ttrain-rmse:0.00076\teval-rmse:0.12531\n"
     ]
    },
    {
     "name": "stderr",
     "output_type": "stream",
     "text": [
      "\u001b[32m[I 2021-06-05 17:21:11,477]\u001b[0m Trial 22 finished with value: 0.1253102521863724 and parameters: {'max_depth': 14, 'colsample_bytree': 0.2679708930551429, 'sublsample': 0.7865614352491628}. Best is trial 18 with value: 0.11858940159767575.\u001b[0m\n"
     ]
    },
    {
     "name": "stdout",
     "output_type": "stream",
     "text": [
      "[17:21:11] WARNING: ..\\src\\learner.cc:573: \n",
      "Parameters: { \"sublsample\" } might not be used.\n",
      "\n",
      "  This may not be accurate due to some parameters are only used in language bindings but\n",
      "  passed down to XGBoost core.  Or some parameters are not used but slip through this\n",
      "  verification. Please open an issue if you find above cases.\n",
      "\n",
      "\n",
      "[0]\ttrain-rmse:10.94725\teval-rmse:10.95545\n",
      "[10]\ttrain-rmse:6.56431\teval-rmse:6.57082\n",
      "[20]\ttrain-rmse:3.93947\teval-rmse:3.94339\n",
      "[30]\ttrain-rmse:2.36778\teval-rmse:2.36966\n",
      "[40]\ttrain-rmse:1.42677\teval-rmse:1.42817\n",
      "[50]\ttrain-rmse:0.86389\teval-rmse:0.86743\n",
      "[60]\ttrain-rmse:0.52801\teval-rmse:0.53522\n",
      "[70]\ttrain-rmse:0.32894\teval-rmse:0.34265\n",
      "[80]\ttrain-rmse:0.21295\teval-rmse:0.23373\n",
      "[90]\ttrain-rmse:0.14769\teval-rmse:0.17752\n",
      "[100]\ttrain-rmse:0.11266\teval-rmse:0.15105\n",
      "[110]\ttrain-rmse:0.09454\teval-rmse:0.13898\n",
      "[120]\ttrain-rmse:0.08503\teval-rmse:0.13334\n",
      "[130]\ttrain-rmse:0.07962\teval-rmse:0.13084\n",
      "[140]\ttrain-rmse:0.07584\teval-rmse:0.12916\n",
      "[150]\ttrain-rmse:0.07310\teval-rmse:0.12831\n",
      "[160]\ttrain-rmse:0.07107\teval-rmse:0.12784\n",
      "[170]\ttrain-rmse:0.06924\teval-rmse:0.12739\n",
      "[180]\ttrain-rmse:0.06729\teval-rmse:0.12712\n",
      "[190]\ttrain-rmse:0.06546\teval-rmse:0.12672\n",
      "[200]\ttrain-rmse:0.06408\teval-rmse:0.12648\n",
      "[210]\ttrain-rmse:0.06260\teval-rmse:0.12624\n",
      "[220]\ttrain-rmse:0.06131\teval-rmse:0.12607\n",
      "[230]\ttrain-rmse:0.06013\teval-rmse:0.12573\n",
      "[240]\ttrain-rmse:0.05893\teval-rmse:0.12561\n",
      "[250]\ttrain-rmse:0.05807\teval-rmse:0.12550\n",
      "[260]\ttrain-rmse:0.05693\teval-rmse:0.12551\n",
      "[270]\ttrain-rmse:0.05592\teval-rmse:0.12548\n",
      "[274]\ttrain-rmse:0.05536\teval-rmse:0.12550\n"
     ]
    },
    {
     "name": "stderr",
     "output_type": "stream",
     "text": [
      "\u001b[32m[I 2021-06-05 17:21:13,677]\u001b[0m Trial 23 finished with value: 0.12552287653178798 and parameters: {'max_depth': 4, 'colsample_bytree': 0.883521625509377, 'sublsample': 0.5280558411533911}. Best is trial 18 with value: 0.11858940159767575.\u001b[0m\n"
     ]
    },
    {
     "name": "stdout",
     "output_type": "stream",
     "text": [
      "[17:21:13] WARNING: ..\\src\\learner.cc:573: \n",
      "Parameters: { \"sublsample\" } might not be used.\n",
      "\n",
      "  This may not be accurate due to some parameters are only used in language bindings but\n",
      "  passed down to XGBoost core.  Or some parameters are not used but slip through this\n",
      "  verification. Please open an issue if you find above cases.\n",
      "\n",
      "\n",
      "[0]\ttrain-rmse:10.94725\teval-rmse:10.95545\n",
      "[10]\ttrain-rmse:6.56435\teval-rmse:6.57077\n",
      "[20]\ttrain-rmse:3.93949\teval-rmse:3.94279\n",
      "[30]\ttrain-rmse:2.36780\teval-rmse:2.36983\n",
      "[40]\ttrain-rmse:1.42687\teval-rmse:1.42846\n",
      "[50]\ttrain-rmse:0.86389\teval-rmse:0.86768\n",
      "[60]\ttrain-rmse:0.52769\teval-rmse:0.53521\n",
      "[70]\ttrain-rmse:0.32675\teval-rmse:0.34353\n",
      "[80]\ttrain-rmse:0.20659\teval-rmse:0.23434\n",
      "[90]\ttrain-rmse:0.13345\teval-rmse:0.17867\n",
      "[100]\ttrain-rmse:0.08793\teval-rmse:0.15105\n",
      "[110]\ttrain-rmse:0.05889\teval-rmse:0.13853\n",
      "[120]\ttrain-rmse:0.04020\teval-rmse:0.13314\n",
      "[130]\ttrain-rmse:0.02795\teval-rmse:0.13079\n",
      "[140]\ttrain-rmse:0.01968\teval-rmse:0.12965\n",
      "[150]\ttrain-rmse:0.01406\teval-rmse:0.12907\n",
      "[160]\ttrain-rmse:0.01028\teval-rmse:0.12881\n",
      "[170]\ttrain-rmse:0.00757\teval-rmse:0.12865\n",
      "[180]\ttrain-rmse:0.00572\teval-rmse:0.12849\n",
      "[190]\ttrain-rmse:0.00440\teval-rmse:0.12840\n",
      "[200]\ttrain-rmse:0.00343\teval-rmse:0.12832\n",
      "[210]\ttrain-rmse:0.00266\teval-rmse:0.12826\n",
      "[220]\ttrain-rmse:0.00207\teval-rmse:0.12822\n",
      "[230]\ttrain-rmse:0.00166\teval-rmse:0.12816\n",
      "[240]\ttrain-rmse:0.00136\teval-rmse:0.12814\n",
      "[250]\ttrain-rmse:0.00110\teval-rmse:0.12810\n",
      "[260]\ttrain-rmse:0.00088\teval-rmse:0.12809\n",
      "[270]\ttrain-rmse:0.00073\teval-rmse:0.12809\n",
      "[280]\ttrain-rmse:0.00066\teval-rmse:0.12809\n",
      "[290]\ttrain-rmse:0.00065\teval-rmse:0.12809\n",
      "[291]\ttrain-rmse:0.00065\teval-rmse:0.12809\n"
     ]
    },
    {
     "name": "stderr",
     "output_type": "stream",
     "text": [
      "\u001b[32m[I 2021-06-05 17:21:18,944]\u001b[0m Trial 24 finished with value: 0.12809006956724062 and parameters: {'max_depth': 16, 'colsample_bytree': 0.6233918638215321, 'sublsample': 0.717484505578811}. Best is trial 18 with value: 0.11858940159767575.\u001b[0m\n"
     ]
    },
    {
     "name": "stdout",
     "output_type": "stream",
     "text": [
      "[17:21:18] WARNING: ..\\src\\learner.cc:573: \n",
      "Parameters: { \"sublsample\" } might not be used.\n",
      "\n",
      "  This may not be accurate due to some parameters are only used in language bindings but\n",
      "  passed down to XGBoost core.  Or some parameters are not used but slip through this\n",
      "  verification. Please open an issue if you find above cases.\n",
      "\n",
      "\n",
      "[0]\ttrain-rmse:10.94725\teval-rmse:10.95545\n",
      "[10]\ttrain-rmse:6.56446\teval-rmse:6.57053\n",
      "[20]\ttrain-rmse:3.93970\teval-rmse:3.94436\n",
      "[30]\ttrain-rmse:2.36806\teval-rmse:2.37018\n",
      "[40]\ttrain-rmse:1.42724\teval-rmse:1.42786\n",
      "[50]\ttrain-rmse:0.86478\teval-rmse:0.86548\n",
      "[60]\ttrain-rmse:0.52984\teval-rmse:0.53260\n",
      "[70]\ttrain-rmse:0.33266\teval-rmse:0.33943\n",
      "[80]\ttrain-rmse:0.21977\teval-rmse:0.23242\n",
      "[90]\ttrain-rmse:0.15812\teval-rmse:0.17742\n",
      "[100]\ttrain-rmse:0.12631\teval-rmse:0.15163\n",
      "[110]\ttrain-rmse:0.11016\teval-rmse:0.13945\n",
      "[120]\ttrain-rmse:0.10197\teval-rmse:0.13353\n",
      "[130]\ttrain-rmse:0.09689\teval-rmse:0.13019\n",
      "[140]\ttrain-rmse:0.09317\teval-rmse:0.12775\n",
      "[150]\ttrain-rmse:0.09028\teval-rmse:0.12569\n",
      "[160]\ttrain-rmse:0.08812\teval-rmse:0.12413\n",
      "[170]\ttrain-rmse:0.08628\teval-rmse:0.12322\n",
      "[180]\ttrain-rmse:0.08450\teval-rmse:0.12265\n",
      "[190]\ttrain-rmse:0.08296\teval-rmse:0.12188\n",
      "[200]\ttrain-rmse:0.08164\teval-rmse:0.12146\n",
      "[210]\ttrain-rmse:0.08005\teval-rmse:0.12095\n",
      "[220]\ttrain-rmse:0.07887\teval-rmse:0.12078\n",
      "[230]\ttrain-rmse:0.07769\teval-rmse:0.12048\n",
      "[240]\ttrain-rmse:0.07659\teval-rmse:0.12026\n",
      "[250]\ttrain-rmse:0.07544\teval-rmse:0.11993\n",
      "[260]\ttrain-rmse:0.07447\teval-rmse:0.11980\n",
      "[270]\ttrain-rmse:0.07351\teval-rmse:0.11967\n",
      "[280]\ttrain-rmse:0.07270\teval-rmse:0.11932\n",
      "[290]\ttrain-rmse:0.07203\teval-rmse:0.11905\n",
      "[300]\ttrain-rmse:0.07130\teval-rmse:0.11894\n",
      "[310]\ttrain-rmse:0.07051\teval-rmse:0.11882\n",
      "[320]\ttrain-rmse:0.06986\teval-rmse:0.11851\n",
      "[330]\ttrain-rmse:0.06932\teval-rmse:0.11847\n",
      "[340]\ttrain-rmse:0.06855\teval-rmse:0.11836\n",
      "[350]\ttrain-rmse:0.06794\teval-rmse:0.11840\n",
      "[360]\ttrain-rmse:0.06750\teval-rmse:0.11832\n",
      "[370]\ttrain-rmse:0.06698\teval-rmse:0.11835\n",
      "[380]\ttrain-rmse:0.06629\teval-rmse:0.11831\n",
      "[386]\ttrain-rmse:0.06597\teval-rmse:0.11829\n"
     ]
    },
    {
     "name": "stderr",
     "output_type": "stream",
     "text": [
      "\u001b[32m[I 2021-06-05 17:21:20,997]\u001b[0m Trial 25 finished with value: 0.11828797825576269 and parameters: {'max_depth': 3, 'colsample_bytree': 0.3979648738034867, 'sublsample': 0.28413759284921825}. Best is trial 25 with value: 0.11828797825576269.\u001b[0m\n"
     ]
    },
    {
     "name": "stdout",
     "output_type": "stream",
     "text": [
      "[17:21:21] WARNING: ..\\src\\learner.cc:573: \n",
      "Parameters: { \"sublsample\" } might not be used.\n",
      "\n",
      "  This may not be accurate due to some parameters are only used in language bindings but\n",
      "  passed down to XGBoost core.  Or some parameters are not used but slip through this\n",
      "  verification. Please open an issue if you find above cases.\n",
      "\n",
      "\n",
      "[0]\ttrain-rmse:10.94725\teval-rmse:10.95545\n",
      "[10]\ttrain-rmse:6.56452\teval-rmse:6.57051\n",
      "[20]\ttrain-rmse:3.93989\teval-rmse:3.94394\n",
      "[30]\ttrain-rmse:2.36831\teval-rmse:2.37018\n",
      "[40]\ttrain-rmse:1.42761\teval-rmse:1.42883\n",
      "[50]\ttrain-rmse:0.86497\teval-rmse:0.86712\n",
      "[60]\ttrain-rmse:0.52915\teval-rmse:0.53381\n",
      "[70]\ttrain-rmse:0.32931\teval-rmse:0.33990\n",
      "[80]\ttrain-rmse:0.21120\teval-rmse:0.23145\n",
      "[90]\ttrain-rmse:0.14202\teval-rmse:0.17435\n",
      "[100]\ttrain-rmse:0.10218\teval-rmse:0.14755\n",
      "[110]\ttrain-rmse:0.07948\teval-rmse:0.13443\n",
      "[120]\ttrain-rmse:0.06645\teval-rmse:0.12893\n",
      "[130]\ttrain-rmse:0.05831\teval-rmse:0.12612\n",
      "[140]\ttrain-rmse:0.05209\teval-rmse:0.12424\n",
      "[150]\ttrain-rmse:0.04754\teval-rmse:0.12308\n",
      "[160]\ttrain-rmse:0.04390\teval-rmse:0.12219\n",
      "[170]\ttrain-rmse:0.04087\teval-rmse:0.12188\n",
      "[180]\ttrain-rmse:0.03773\teval-rmse:0.12153\n",
      "[190]\ttrain-rmse:0.03554\teval-rmse:0.12144\n",
      "[200]\ttrain-rmse:0.03326\teval-rmse:0.12116\n",
      "[210]\ttrain-rmse:0.03122\teval-rmse:0.12097\n",
      "[220]\ttrain-rmse:0.02923\teval-rmse:0.12091\n",
      "[230]\ttrain-rmse:0.02764\teval-rmse:0.12094\n",
      "[240]\ttrain-rmse:0.02583\teval-rmse:0.12092\n",
      "[250]\ttrain-rmse:0.02400\teval-rmse:0.12058\n",
      "[260]\ttrain-rmse:0.02230\teval-rmse:0.12063\n",
      "[270]\ttrain-rmse:0.02106\teval-rmse:0.12063\n",
      "[272]\ttrain-rmse:0.02076\teval-rmse:0.12064\n"
     ]
    },
    {
     "name": "stderr",
     "output_type": "stream",
     "text": [
      "\u001b[32m[I 2021-06-05 17:21:23,260]\u001b[0m Trial 26 finished with value: 0.12063803546804325 and parameters: {'max_depth': 7, 'colsample_bytree': 0.28310940326797085, 'sublsample': 0.42258822557578324}. Best is trial 25 with value: 0.11828797825576269.\u001b[0m\n"
     ]
    },
    {
     "name": "stdout",
     "output_type": "stream",
     "text": [
      "[17:21:23] WARNING: ..\\src\\learner.cc:573: \n",
      "Parameters: { \"sublsample\" } might not be used.\n",
      "\n",
      "  This may not be accurate due to some parameters are only used in language bindings but\n",
      "  passed down to XGBoost core.  Or some parameters are not used but slip through this\n",
      "  verification. Please open an issue if you find above cases.\n",
      "\n",
      "\n",
      "[0]\ttrain-rmse:10.94725\teval-rmse:10.95545\n",
      "[10]\ttrain-rmse:6.56452\teval-rmse:6.57051\n",
      "[20]\ttrain-rmse:3.93987\teval-rmse:3.94368\n",
      "[30]\ttrain-rmse:2.36834\teval-rmse:2.37070\n",
      "[40]\ttrain-rmse:1.42758\teval-rmse:1.42890\n",
      "[50]\ttrain-rmse:0.86525\teval-rmse:0.86712\n",
      "[60]\ttrain-rmse:0.52961\teval-rmse:0.53435\n",
      "[70]\ttrain-rmse:0.32973\teval-rmse:0.34194\n",
      "[80]\ttrain-rmse:0.21146\teval-rmse:0.23358\n",
      "[90]\ttrain-rmse:0.14172\teval-rmse:0.17712\n",
      "[100]\ttrain-rmse:0.10082\teval-rmse:0.15002\n",
      "[110]\ttrain-rmse:0.07701\teval-rmse:0.13674\n",
      "[120]\ttrain-rmse:0.06229\teval-rmse:0.13060\n",
      "[130]\ttrain-rmse:0.05311\teval-rmse:0.12772\n",
      "[140]\ttrain-rmse:0.04616\teval-rmse:0.12552\n",
      "[150]\ttrain-rmse:0.04088\teval-rmse:0.12456\n",
      "[160]\ttrain-rmse:0.03718\teval-rmse:0.12382\n",
      "[170]\ttrain-rmse:0.03407\teval-rmse:0.12333\n",
      "[180]\ttrain-rmse:0.03086\teval-rmse:0.12302\n",
      "[190]\ttrain-rmse:0.02847\teval-rmse:0.12288\n",
      "[200]\ttrain-rmse:0.02609\teval-rmse:0.12254\n",
      "[210]\ttrain-rmse:0.02380\teval-rmse:0.12235\n",
      "[220]\ttrain-rmse:0.02188\teval-rmse:0.12226\n",
      "[230]\ttrain-rmse:0.02036\teval-rmse:0.12219\n",
      "[240]\ttrain-rmse:0.01894\teval-rmse:0.12227\n",
      "[250]\ttrain-rmse:0.01764\teval-rmse:0.12221\n",
      "[252]\ttrain-rmse:0.01740\teval-rmse:0.12221\n"
     ]
    },
    {
     "name": "stderr",
     "output_type": "stream",
     "text": [
      "\u001b[32m[I 2021-06-05 17:21:25,492]\u001b[0m Trial 27 finished with value: 0.12219977964406653 and parameters: {'max_depth': 8, 'colsample_bytree': 0.24490324744414907, 'sublsample': 0.6847304835590139}. Best is trial 25 with value: 0.11828797825576269.\u001b[0m\n"
     ]
    },
    {
     "name": "stdout",
     "output_type": "stream",
     "text": [
      "[17:21:25] WARNING: ..\\src\\learner.cc:573: \n",
      "Parameters: { \"sublsample\" } might not be used.\n",
      "\n",
      "  This may not be accurate due to some parameters are only used in language bindings but\n",
      "  passed down to XGBoost core.  Or some parameters are not used but slip through this\n",
      "  verification. Please open an issue if you find above cases.\n",
      "\n",
      "\n",
      "[0]\ttrain-rmse:10.94725\teval-rmse:10.95545\n",
      "[10]\ttrain-rmse:6.56446\teval-rmse:6.57053\n",
      "[20]\ttrain-rmse:3.93970\teval-rmse:3.94436\n",
      "[30]\ttrain-rmse:2.36806\teval-rmse:2.37018\n",
      "[40]\ttrain-rmse:1.42723\teval-rmse:1.42809\n",
      "[50]\ttrain-rmse:0.86458\teval-rmse:0.86641\n",
      "[60]\ttrain-rmse:0.52865\teval-rmse:0.53407\n",
      "[70]\ttrain-rmse:0.32812\teval-rmse:0.33974\n",
      "[80]\ttrain-rmse:0.20864\teval-rmse:0.23173\n",
      "[90]\ttrain-rmse:0.13695\teval-rmse:0.17483\n",
      "[100]\ttrain-rmse:0.09355\teval-rmse:0.14785\n",
      "[110]\ttrain-rmse:0.06673\teval-rmse:0.13554\n",
      "[120]\ttrain-rmse:0.04997\teval-rmse:0.12983\n",
      "[130]\ttrain-rmse:0.03922\teval-rmse:0.12745\n",
      "[140]\ttrain-rmse:0.03143\teval-rmse:0.12575\n",
      "[150]\ttrain-rmse:0.02601\teval-rmse:0.12488\n",
      "[160]\ttrain-rmse:0.02189\teval-rmse:0.12423\n",
      "[170]\ttrain-rmse:0.01887\teval-rmse:0.12379\n",
      "[180]\ttrain-rmse:0.01619\teval-rmse:0.12342\n",
      "[190]\ttrain-rmse:0.01401\teval-rmse:0.12323\n",
      "[200]\ttrain-rmse:0.01239\teval-rmse:0.12312\n",
      "[210]\ttrain-rmse:0.01084\teval-rmse:0.12304\n",
      "[220]\ttrain-rmse:0.00964\teval-rmse:0.12296\n",
      "[230]\ttrain-rmse:0.00858\teval-rmse:0.12290\n",
      "[240]\ttrain-rmse:0.00782\teval-rmse:0.12291\n",
      "[250]\ttrain-rmse:0.00714\teval-rmse:0.12283\n",
      "[260]\ttrain-rmse:0.00619\teval-rmse:0.12275\n",
      "[270]\ttrain-rmse:0.00554\teval-rmse:0.12273\n",
      "[280]\ttrain-rmse:0.00516\teval-rmse:0.12270\n",
      "[290]\ttrain-rmse:0.00466\teval-rmse:0.12270\n",
      "[300]\ttrain-rmse:0.00410\teval-rmse:0.12271\n",
      "[310]\ttrain-rmse:0.00357\teval-rmse:0.12268\n",
      "[320]\ttrain-rmse:0.00322\teval-rmse:0.12267\n",
      "[330]\ttrain-rmse:0.00290\teval-rmse:0.12267\n",
      "[340]\ttrain-rmse:0.00262\teval-rmse:0.12266\n",
      "[350]\ttrain-rmse:0.00241\teval-rmse:0.12265\n",
      "[360]\ttrain-rmse:0.00209\teval-rmse:0.12266\n",
      "[369]\ttrain-rmse:0.00192\teval-rmse:0.12266\n"
     ]
    },
    {
     "name": "stderr",
     "output_type": "stream",
     "text": [
      "\u001b[32m[I 2021-06-05 17:21:30,086]\u001b[0m Trial 28 finished with value: 0.12266481205828156 and parameters: {'max_depth': 10, 'colsample_bytree': 0.38577264365761177, 'sublsample': 0.5662736374266897}. Best is trial 25 with value: 0.11828797825576269.\u001b[0m\n"
     ]
    },
    {
     "name": "stdout",
     "output_type": "stream",
     "text": [
      "[17:21:30] WARNING: ..\\src\\learner.cc:573: \n",
      "Parameters: { \"sublsample\" } might not be used.\n",
      "\n",
      "  This may not be accurate due to some parameters are only used in language bindings but\n",
      "  passed down to XGBoost core.  Or some parameters are not used but slip through this\n",
      "  verification. Please open an issue if you find above cases.\n",
      "\n",
      "\n",
      "[0]\ttrain-rmse:10.94725\teval-rmse:10.95545\n",
      "[10]\ttrain-rmse:6.56435\teval-rmse:6.57077\n",
      "[20]\ttrain-rmse:3.93951\teval-rmse:3.94315\n",
      "[30]\ttrain-rmse:2.36781\teval-rmse:2.36982\n",
      "[40]\ttrain-rmse:1.42691\teval-rmse:1.42929\n",
      "[50]\ttrain-rmse:0.86394\teval-rmse:0.86714\n",
      "[60]\ttrain-rmse:0.52809\teval-rmse:0.53417\n",
      "[70]\ttrain-rmse:0.32924\teval-rmse:0.34101\n",
      "[80]\ttrain-rmse:0.21381\teval-rmse:0.23386\n",
      "[90]\ttrain-rmse:0.14895\teval-rmse:0.17749\n",
      "[100]\ttrain-rmse:0.11419\teval-rmse:0.15111\n",
      "[110]\ttrain-rmse:0.09656\teval-rmse:0.13895\n",
      "[120]\ttrain-rmse:0.08724\teval-rmse:0.13318\n",
      "[130]\ttrain-rmse:0.08174\teval-rmse:0.13023\n",
      "[140]\ttrain-rmse:0.07810\teval-rmse:0.12869\n",
      "[150]\ttrain-rmse:0.07497\teval-rmse:0.12773\n",
      "[160]\ttrain-rmse:0.07230\teval-rmse:0.12708\n",
      "[170]\ttrain-rmse:0.06984\teval-rmse:0.12662\n",
      "[180]\ttrain-rmse:0.06817\teval-rmse:0.12614\n",
      "[190]\ttrain-rmse:0.06656\teval-rmse:0.12581\n",
      "[200]\ttrain-rmse:0.06496\teval-rmse:0.12556\n",
      "[210]\ttrain-rmse:0.06359\teval-rmse:0.12554\n",
      "[220]\ttrain-rmse:0.06201\teval-rmse:0.12540\n",
      "[230]\ttrain-rmse:0.06074\teval-rmse:0.12511\n",
      "[240]\ttrain-rmse:0.05935\teval-rmse:0.12491\n",
      "[250]\ttrain-rmse:0.05816\teval-rmse:0.12471\n",
      "[260]\ttrain-rmse:0.05702\teval-rmse:0.12461\n",
      "[270]\ttrain-rmse:0.05612\teval-rmse:0.12457\n",
      "[280]\ttrain-rmse:0.05485\teval-rmse:0.12443\n",
      "[290]\ttrain-rmse:0.05409\teval-rmse:0.12430\n",
      "[300]\ttrain-rmse:0.05309\teval-rmse:0.12432\n",
      "[310]\ttrain-rmse:0.05237\teval-rmse:0.12435\n",
      "[320]\ttrain-rmse:0.05146\teval-rmse:0.12433\n",
      "[330]\ttrain-rmse:0.05050\teval-rmse:0.12432\n",
      "[340]\ttrain-rmse:0.04971\teval-rmse:0.12433\n",
      "[343]\ttrain-rmse:0.04932\teval-rmse:0.12431\n"
     ]
    },
    {
     "name": "stderr",
     "output_type": "stream",
     "text": [
      "\u001b[32m[I 2021-06-05 17:21:32,547]\u001b[0m Trial 29 finished with value: 0.12431308885473752 and parameters: {'max_depth': 4, 'colsample_bytree': 0.6031625468893255, 'sublsample': 0.8505073383033499}. Best is trial 25 with value: 0.11828797825576269.\u001b[0m\n"
     ]
    },
    {
     "name": "stdout",
     "output_type": "stream",
     "text": [
      "[17:21:32] WARNING: ..\\src\\learner.cc:573: \n",
      "Parameters: { \"sublsample\" } might not be used.\n",
      "\n",
      "  This may not be accurate due to some parameters are only used in language bindings but\n",
      "  passed down to XGBoost core.  Or some parameters are not used but slip through this\n",
      "  verification. Please open an issue if you find above cases.\n",
      "\n",
      "\n",
      "[0]\ttrain-rmse:10.94725\teval-rmse:10.95545\n",
      "[10]\ttrain-rmse:6.56435\teval-rmse:6.57078\n",
      "[20]\ttrain-rmse:3.93949\teval-rmse:3.94339\n",
      "[30]\ttrain-rmse:2.36782\teval-rmse:2.36953\n",
      "[40]\ttrain-rmse:1.42685\teval-rmse:1.42847\n",
      "[50]\ttrain-rmse:0.86400\teval-rmse:0.86722\n",
      "[60]\ttrain-rmse:0.52763\teval-rmse:0.53556\n",
      "[70]\ttrain-rmse:0.32694\teval-rmse:0.34462\n",
      "[80]\ttrain-rmse:0.20781\teval-rmse:0.23692\n",
      "[90]\ttrain-rmse:0.13766\teval-rmse:0.17993\n",
      "[100]\ttrain-rmse:0.09727\teval-rmse:0.15249\n",
      "[110]\ttrain-rmse:0.07419\teval-rmse:0.14058\n",
      "[120]\ttrain-rmse:0.06101\teval-rmse:0.13474\n",
      "[130]\ttrain-rmse:0.05315\teval-rmse:0.13220\n",
      "[140]\ttrain-rmse:0.04789\teval-rmse:0.13043\n",
      "[150]\ttrain-rmse:0.04405\teval-rmse:0.12926\n",
      "[160]\ttrain-rmse:0.04030\teval-rmse:0.12882\n",
      "[170]\ttrain-rmse:0.03735\teval-rmse:0.12867\n",
      "[180]\ttrain-rmse:0.03479\teval-rmse:0.12843\n",
      "[190]\ttrain-rmse:0.03246\teval-rmse:0.12830\n",
      "[200]\ttrain-rmse:0.03090\teval-rmse:0.12823\n",
      "[210]\ttrain-rmse:0.02903\teval-rmse:0.12823\n",
      "[220]\ttrain-rmse:0.02753\teval-rmse:0.12791\n",
      "[230]\ttrain-rmse:0.02623\teval-rmse:0.12777\n",
      "[240]\ttrain-rmse:0.02472\teval-rmse:0.12765\n",
      "[250]\ttrain-rmse:0.02342\teval-rmse:0.12762\n",
      "[260]\ttrain-rmse:0.02214\teval-rmse:0.12750\n",
      "[270]\ttrain-rmse:0.02065\teval-rmse:0.12744\n",
      "[280]\ttrain-rmse:0.01966\teval-rmse:0.12746\n",
      "[284]\ttrain-rmse:0.01934\teval-rmse:0.12745\n"
     ]
    },
    {
     "name": "stderr",
     "output_type": "stream",
     "text": [
      "\u001b[32m[I 2021-06-05 17:21:35,472]\u001b[0m Trial 30 finished with value: 0.1274475289062768 and parameters: {'max_depth': 7, 'colsample_bytree': 0.6671872659745772, 'sublsample': 0.29225850368307454}. Best is trial 25 with value: 0.11828797825576269.\u001b[0m\n"
     ]
    },
    {
     "name": "stdout",
     "output_type": "stream",
     "text": [
      "[17:21:35] WARNING: ..\\src\\learner.cc:573: \n",
      "Parameters: { \"sublsample\" } might not be used.\n",
      "\n",
      "  This may not be accurate due to some parameters are only used in language bindings but\n",
      "  passed down to XGBoost core.  Or some parameters are not used but slip through this\n",
      "  verification. Please open an issue if you find above cases.\n",
      "\n",
      "\n",
      "[0]\ttrain-rmse:10.94725\teval-rmse:10.95545\n",
      "[10]\ttrain-rmse:6.56446\teval-rmse:6.57053\n",
      "[20]\ttrain-rmse:3.93970\teval-rmse:3.94436\n",
      "[30]\ttrain-rmse:2.36806\teval-rmse:2.37018\n",
      "[40]\ttrain-rmse:1.42723\teval-rmse:1.42809\n",
      "[50]\ttrain-rmse:0.86461\teval-rmse:0.86592\n",
      "[60]\ttrain-rmse:0.52860\teval-rmse:0.53269\n",
      "[70]\ttrain-rmse:0.32796\teval-rmse:0.33877\n",
      "[80]\ttrain-rmse:0.20823\teval-rmse:0.23114\n",
      "[90]\ttrain-rmse:0.13555\teval-rmse:0.17356\n",
      "[100]\ttrain-rmse:0.09072\teval-rmse:0.14609\n",
      "[110]\ttrain-rmse:0.06208\teval-rmse:0.13345\n",
      "[120]\ttrain-rmse:0.04383\teval-rmse:0.12814\n",
      "[130]\ttrain-rmse:0.03175\teval-rmse:0.12559\n",
      "[140]\ttrain-rmse:0.02335\teval-rmse:0.12428\n",
      "[150]\ttrain-rmse:0.01765\teval-rmse:0.12360\n",
      "[160]\ttrain-rmse:0.01357\teval-rmse:0.12329\n",
      "[170]\ttrain-rmse:0.01059\teval-rmse:0.12308\n",
      "[180]\ttrain-rmse:0.00833\teval-rmse:0.12299\n",
      "[190]\ttrain-rmse:0.00669\teval-rmse:0.12287\n",
      "[200]\ttrain-rmse:0.00539\teval-rmse:0.12278\n",
      "[210]\ttrain-rmse:0.00434\teval-rmse:0.12272\n",
      "[220]\ttrain-rmse:0.00342\teval-rmse:0.12269\n",
      "[230]\ttrain-rmse:0.00284\teval-rmse:0.12269\n",
      "[240]\ttrain-rmse:0.00236\teval-rmse:0.12268\n",
      "[250]\ttrain-rmse:0.00193\teval-rmse:0.12266\n",
      "[260]\ttrain-rmse:0.00160\teval-rmse:0.12265\n",
      "[270]\ttrain-rmse:0.00134\teval-rmse:0.12265\n",
      "[280]\ttrain-rmse:0.00113\teval-rmse:0.12265\n",
      "[286]\ttrain-rmse:0.00102\teval-rmse:0.12265\n"
     ]
    },
    {
     "name": "stderr",
     "output_type": "stream",
     "text": [
      "\u001b[32m[I 2021-06-05 17:21:39,775]\u001b[0m Trial 31 finished with value: 0.12265494429107252 and parameters: {'max_depth': 13, 'colsample_bytree': 0.4025842650630408, 'sublsample': 0.3282339534049818}. Best is trial 25 with value: 0.11828797825576269.\u001b[0m\n"
     ]
    },
    {
     "name": "stdout",
     "output_type": "stream",
     "text": [
      "[17:21:39] WARNING: ..\\src\\learner.cc:573: \n",
      "Parameters: { \"sublsample\" } might not be used.\n",
      "\n",
      "  This may not be accurate due to some parameters are only used in language bindings but\n",
      "  passed down to XGBoost core.  Or some parameters are not used but slip through this\n",
      "  verification. Please open an issue if you find above cases.\n",
      "\n",
      "\n",
      "[0]\ttrain-rmse:10.94725\teval-rmse:10.95545\n",
      "[10]\ttrain-rmse:6.56452\teval-rmse:6.57051\n",
      "[20]\ttrain-rmse:3.93989\teval-rmse:3.94379\n",
      "[30]\ttrain-rmse:2.36835\teval-rmse:2.37091\n",
      "[40]\ttrain-rmse:1.42775\teval-rmse:1.42962\n",
      "[50]\ttrain-rmse:0.86552\teval-rmse:0.86773\n",
      "[60]\ttrain-rmse:0.53001\teval-rmse:0.53506\n",
      "[70]\ttrain-rmse:0.33029\teval-rmse:0.34169\n",
      "[80]\ttrain-rmse:0.21164\teval-rmse:0.23349\n",
      "[90]\ttrain-rmse:0.14023\teval-rmse:0.17688\n",
      "[100]\ttrain-rmse:0.09638\teval-rmse:0.14978\n",
      "[110]\ttrain-rmse:0.06950\teval-rmse:0.13682\n",
      "[120]\ttrain-rmse:0.05228\teval-rmse:0.13133\n",
      "[130]\ttrain-rmse:0.04068\teval-rmse:0.12830\n",
      "[140]\ttrain-rmse:0.03234\teval-rmse:0.12713\n",
      "[150]\ttrain-rmse:0.02657\teval-rmse:0.12629\n",
      "[160]\ttrain-rmse:0.02171\teval-rmse:0.12550\n",
      "[170]\ttrain-rmse:0.01815\teval-rmse:0.12507\n",
      "[180]\ttrain-rmse:0.01520\teval-rmse:0.12472\n",
      "[190]\ttrain-rmse:0.01302\teval-rmse:0.12455\n",
      "[200]\ttrain-rmse:0.01132\teval-rmse:0.12434\n",
      "[210]\ttrain-rmse:0.00978\teval-rmse:0.12421\n",
      "[220]\ttrain-rmse:0.00842\teval-rmse:0.12413\n",
      "[230]\ttrain-rmse:0.00756\teval-rmse:0.12409\n",
      "[240]\ttrain-rmse:0.00665\teval-rmse:0.12405\n",
      "[250]\ttrain-rmse:0.00590\teval-rmse:0.12402\n",
      "[260]\ttrain-rmse:0.00508\teval-rmse:0.12399\n",
      "[270]\ttrain-rmse:0.00437\teval-rmse:0.12394\n",
      "[280]\ttrain-rmse:0.00374\teval-rmse:0.12391\n",
      "[290]\ttrain-rmse:0.00336\teval-rmse:0.12390\n",
      "[300]\ttrain-rmse:0.00291\teval-rmse:0.12388\n",
      "[310]\ttrain-rmse:0.00256\teval-rmse:0.12387\n",
      "[320]\ttrain-rmse:0.00222\teval-rmse:0.12387\n",
      "[330]\ttrain-rmse:0.00191\teval-rmse:0.12386\n",
      "[340]\ttrain-rmse:0.00168\teval-rmse:0.12385\n",
      "[350]\ttrain-rmse:0.00146\teval-rmse:0.12384\n",
      "[360]\ttrain-rmse:0.00133\teval-rmse:0.12383\n",
      "[370]\ttrain-rmse:0.00117\teval-rmse:0.12383\n",
      "[380]\ttrain-rmse:0.00105\teval-rmse:0.12383\n",
      "[390]\ttrain-rmse:0.00100\teval-rmse:0.12382\n",
      "[400]\ttrain-rmse:0.00098\teval-rmse:0.12382\n",
      "[410]\ttrain-rmse:0.00098\teval-rmse:0.12382\n",
      "[420]\ttrain-rmse:0.00093\teval-rmse:0.12382\n",
      "[430]\ttrain-rmse:0.00093\teval-rmse:0.12382\n",
      "[440]\ttrain-rmse:0.00091\teval-rmse:0.12381\n",
      "[450]\ttrain-rmse:0.00091\teval-rmse:0.12381\n",
      "[459]\ttrain-rmse:0.00091\teval-rmse:0.12381\n"
     ]
    },
    {
     "name": "stderr",
     "output_type": "stream",
     "text": [
      "\u001b[32m[I 2021-06-05 17:21:44,833]\u001b[0m Trial 32 finished with value: 0.12381454232634662 and parameters: {'max_depth': 11, 'colsample_bytree': 0.2140752823312455, 'sublsample': 0.7802580204521541}. Best is trial 25 with value: 0.11828797825576269.\u001b[0m\n"
     ]
    },
    {
     "name": "stdout",
     "output_type": "stream",
     "text": [
      "[17:21:44] WARNING: ..\\src\\learner.cc:573: \n",
      "Parameters: { \"sublsample\" } might not be used.\n",
      "\n",
      "  This may not be accurate due to some parameters are only used in language bindings but\n",
      "  passed down to XGBoost core.  Or some parameters are not used but slip through this\n",
      "  verification. Please open an issue if you find above cases.\n",
      "\n",
      "\n",
      "[0]\ttrain-rmse:10.94725\teval-rmse:10.95545\n",
      "[10]\ttrain-rmse:6.56435\teval-rmse:6.57078\n",
      "[20]\ttrain-rmse:3.93949\teval-rmse:3.94339\n",
      "[30]\ttrain-rmse:2.36782\teval-rmse:2.36953\n",
      "[40]\ttrain-rmse:1.42690\teval-rmse:1.42856\n",
      "[50]\ttrain-rmse:0.86411\teval-rmse:0.86685\n",
      "[60]\ttrain-rmse:0.52893\teval-rmse:0.53451\n",
      "[70]\ttrain-rmse:0.33154\teval-rmse:0.34178\n",
      "[80]\ttrain-rmse:0.21827\teval-rmse:0.23504\n",
      "[90]\ttrain-rmse:0.15618\teval-rmse:0.18023\n",
      "[100]\ttrain-rmse:0.12400\teval-rmse:0.15447\n",
      "[110]\ttrain-rmse:0.10806\teval-rmse:0.14292\n",
      "[120]\ttrain-rmse:0.09974\teval-rmse:0.13665\n",
      "[130]\ttrain-rmse:0.09488\teval-rmse:0.13334\n",
      "[140]\ttrain-rmse:0.09174\teval-rmse:0.13134\n",
      "[150]\ttrain-rmse:0.08915\teval-rmse:0.13003\n",
      "[160]\ttrain-rmse:0.08721\teval-rmse:0.12868\n",
      "[170]\ttrain-rmse:0.08538\teval-rmse:0.12787\n",
      "[180]\ttrain-rmse:0.08373\teval-rmse:0.12729\n",
      "[190]\ttrain-rmse:0.08252\teval-rmse:0.12731\n",
      "[200]\ttrain-rmse:0.08090\teval-rmse:0.12673\n",
      "[210]\ttrain-rmse:0.07964\teval-rmse:0.12649\n",
      "[220]\ttrain-rmse:0.07831\teval-rmse:0.12613\n",
      "[230]\ttrain-rmse:0.07710\teval-rmse:0.12596\n",
      "[240]\ttrain-rmse:0.07605\teval-rmse:0.12583\n",
      "[250]\ttrain-rmse:0.07494\teval-rmse:0.12545\n",
      "[260]\ttrain-rmse:0.07410\teval-rmse:0.12544\n",
      "[270]\ttrain-rmse:0.07298\teval-rmse:0.12502\n",
      "[280]\ttrain-rmse:0.07213\teval-rmse:0.12497\n",
      "[290]\ttrain-rmse:0.07140\teval-rmse:0.12487\n",
      "[300]\ttrain-rmse:0.07044\teval-rmse:0.12485\n",
      "[310]\ttrain-rmse:0.06957\teval-rmse:0.12465\n",
      "[320]\ttrain-rmse:0.06880\teval-rmse:0.12455\n",
      "[330]\ttrain-rmse:0.06808\teval-rmse:0.12450\n",
      "[340]\ttrain-rmse:0.06721\teval-rmse:0.12451\n",
      "[350]\ttrain-rmse:0.06671\teval-rmse:0.12442\n",
      "[360]\ttrain-rmse:0.06608\teval-rmse:0.12447\n",
      "[370]\ttrain-rmse:0.06536\teval-rmse:0.12434\n",
      "[380]\ttrain-rmse:0.06454\teval-rmse:0.12421\n",
      "[390]\ttrain-rmse:0.06395\teval-rmse:0.12413\n",
      "[400]\ttrain-rmse:0.06341\teval-rmse:0.12405\n",
      "[410]\ttrain-rmse:0.06277\teval-rmse:0.12395\n",
      "[420]\ttrain-rmse:0.06211\teval-rmse:0.12395\n",
      "[430]\ttrain-rmse:0.06147\teval-rmse:0.12384\n",
      "[440]\ttrain-rmse:0.06107\teval-rmse:0.12387\n",
      "[450]\ttrain-rmse:0.06054\teval-rmse:0.12384\n",
      "[460]\ttrain-rmse:0.05994\teval-rmse:0.12390\n",
      "[466]\ttrain-rmse:0.05959\teval-rmse:0.12392\n"
     ]
    },
    {
     "name": "stderr",
     "output_type": "stream",
     "text": [
      "\u001b[32m[I 2021-06-05 17:21:47,825]\u001b[0m Trial 33 finished with value: 0.12391556015198886 and parameters: {'max_depth': 3, 'colsample_bytree': 0.674471575757361, 'sublsample': 0.3890055812345154}. Best is trial 25 with value: 0.11828797825576269.\u001b[0m\n"
     ]
    },
    {
     "name": "stdout",
     "output_type": "stream",
     "text": [
      "[17:21:47] WARNING: ..\\src\\learner.cc:573: \n",
      "Parameters: { \"sublsample\" } might not be used.\n",
      "\n",
      "  This may not be accurate due to some parameters are only used in language bindings but\n",
      "  passed down to XGBoost core.  Or some parameters are not used but slip through this\n",
      "  verification. Please open an issue if you find above cases.\n",
      "\n",
      "\n",
      "[0]\ttrain-rmse:10.94725\teval-rmse:10.95545\n",
      "[10]\ttrain-rmse:6.56431\teval-rmse:6.57082\n",
      "[20]\ttrain-rmse:3.93947\teval-rmse:3.94339\n",
      "[30]\ttrain-rmse:2.36778\teval-rmse:2.36966\n",
      "[40]\ttrain-rmse:1.42677\teval-rmse:1.42817\n",
      "[50]\ttrain-rmse:0.86384\teval-rmse:0.86745\n",
      "[60]\ttrain-rmse:0.52755\teval-rmse:0.53485\n",
      "[70]\ttrain-rmse:0.32649\teval-rmse:0.34390\n",
      "[80]\ttrain-rmse:0.20595\teval-rmse:0.23530\n",
      "[90]\ttrain-rmse:0.13269\teval-rmse:0.17887\n",
      "[100]\ttrain-rmse:0.08730\teval-rmse:0.15061\n",
      "[110]\ttrain-rmse:0.05889\teval-rmse:0.13795\n",
      "[120]\ttrain-rmse:0.04109\teval-rmse:0.13211\n",
      "[130]\ttrain-rmse:0.02938\teval-rmse:0.12942\n",
      "[140]\ttrain-rmse:0.02136\teval-rmse:0.12826\n",
      "[150]\ttrain-rmse:0.01582\teval-rmse:0.12787\n",
      "[160]\ttrain-rmse:0.01213\teval-rmse:0.12752\n",
      "[170]\ttrain-rmse:0.00958\teval-rmse:0.12729\n",
      "[180]\ttrain-rmse:0.00763\teval-rmse:0.12717\n",
      "[190]\ttrain-rmse:0.00613\teval-rmse:0.12703\n",
      "[200]\ttrain-rmse:0.00502\teval-rmse:0.12693\n",
      "[210]\ttrain-rmse:0.00418\teval-rmse:0.12685\n",
      "[220]\ttrain-rmse:0.00357\teval-rmse:0.12680\n",
      "[230]\ttrain-rmse:0.00303\teval-rmse:0.12676\n",
      "[240]\ttrain-rmse:0.00239\teval-rmse:0.12676\n",
      "[250]\ttrain-rmse:0.00192\teval-rmse:0.12676\n",
      "[256]\ttrain-rmse:0.00176\teval-rmse:0.12676\n"
     ]
    },
    {
     "name": "stderr",
     "output_type": "stream",
     "text": [
      "\u001b[32m[I 2021-06-05 17:21:52,491]\u001b[0m Trial 34 finished with value: 0.12675701168503453 and parameters: {'max_depth': 13, 'colsample_bytree': 0.8735319815822067, 'sublsample': 0.37412720046397063}. Best is trial 25 with value: 0.11828797825576269.\u001b[0m\n"
     ]
    },
    {
     "name": "stdout",
     "output_type": "stream",
     "text": [
      "[17:21:52] WARNING: ..\\src\\learner.cc:573: \n",
      "Parameters: { \"sublsample\" } might not be used.\n",
      "\n",
      "  This may not be accurate due to some parameters are only used in language bindings but\n",
      "  passed down to XGBoost core.  Or some parameters are not used but slip through this\n",
      "  verification. Please open an issue if you find above cases.\n",
      "\n",
      "\n",
      "[0]\ttrain-rmse:10.94725\teval-rmse:10.95545\n",
      "[10]\ttrain-rmse:6.56435\teval-rmse:6.57077\n",
      "[20]\ttrain-rmse:3.93951\teval-rmse:3.94315\n",
      "[30]\ttrain-rmse:2.36781\teval-rmse:2.36982\n",
      "[40]\ttrain-rmse:1.42691\teval-rmse:1.42929\n",
      "[50]\ttrain-rmse:0.86398\teval-rmse:0.86798\n",
      "[60]\ttrain-rmse:0.52788\teval-rmse:0.53590\n",
      "[70]\ttrain-rmse:0.32718\teval-rmse:0.34242\n",
      "[80]\ttrain-rmse:0.20706\teval-rmse:0.23424\n",
      "[90]\ttrain-rmse:0.13451\teval-rmse:0.17793\n",
      "[100]\ttrain-rmse:0.08995\teval-rmse:0.15004\n",
      "[110]\ttrain-rmse:0.06188\teval-rmse:0.13732\n",
      "[120]\ttrain-rmse:0.04465\teval-rmse:0.13164\n",
      "[130]\ttrain-rmse:0.03345\teval-rmse:0.12911\n",
      "[140]\ttrain-rmse:0.02585\teval-rmse:0.12782\n",
      "[150]\ttrain-rmse:0.02041\teval-rmse:0.12708\n",
      "[160]\ttrain-rmse:0.01662\teval-rmse:0.12670\n",
      "[170]\ttrain-rmse:0.01399\teval-rmse:0.12636\n",
      "[180]\ttrain-rmse:0.01205\teval-rmse:0.12616\n",
      "[190]\ttrain-rmse:0.01004\teval-rmse:0.12601\n",
      "[200]\ttrain-rmse:0.00872\teval-rmse:0.12595\n",
      "[210]\ttrain-rmse:0.00766\teval-rmse:0.12584\n",
      "[220]\ttrain-rmse:0.00671\teval-rmse:0.12582\n",
      "[230]\ttrain-rmse:0.00587\teval-rmse:0.12576\n",
      "[240]\ttrain-rmse:0.00536\teval-rmse:0.12573\n",
      "[250]\ttrain-rmse:0.00474\teval-rmse:0.12572\n",
      "[260]\ttrain-rmse:0.00431\teval-rmse:0.12571\n",
      "[270]\ttrain-rmse:0.00383\teval-rmse:0.12568\n",
      "[280]\ttrain-rmse:0.00331\teval-rmse:0.12568\n",
      "[290]\ttrain-rmse:0.00286\teval-rmse:0.12569\n",
      "[298]\ttrain-rmse:0.00260\teval-rmse:0.12568\n"
     ]
    },
    {
     "name": "stderr",
     "output_type": "stream",
     "text": [
      "\u001b[32m[I 2021-06-05 17:21:56,826]\u001b[0m Trial 35 finished with value: 0.12567977669026067 and parameters: {'max_depth': 11, 'colsample_bytree': 0.6144293518902872, 'sublsample': 0.6005763340536113}. Best is trial 25 with value: 0.11828797825576269.\u001b[0m\n"
     ]
    },
    {
     "name": "stdout",
     "output_type": "stream",
     "text": [
      "[17:21:56] WARNING: ..\\src\\learner.cc:573: \n",
      "Parameters: { \"sublsample\" } might not be used.\n",
      "\n",
      "  This may not be accurate due to some parameters are only used in language bindings but\n",
      "  passed down to XGBoost core.  Or some parameters are not used but slip through this\n",
      "  verification. Please open an issue if you find above cases.\n",
      "\n",
      "\n",
      "[0]\ttrain-rmse:10.94725\teval-rmse:10.95545\n",
      "[10]\ttrain-rmse:6.56431\teval-rmse:6.57082\n",
      "[20]\ttrain-rmse:3.93947\teval-rmse:3.94339\n",
      "[30]\ttrain-rmse:2.36778\teval-rmse:2.36966\n",
      "[40]\ttrain-rmse:1.42677\teval-rmse:1.42817\n",
      "[50]\ttrain-rmse:0.86384\teval-rmse:0.86745\n",
      "[60]\ttrain-rmse:0.52760\teval-rmse:0.53481\n",
      "[70]\ttrain-rmse:0.32733\teval-rmse:0.34249\n",
      "[80]\ttrain-rmse:0.20847\teval-rmse:0.23371\n",
      "[90]\ttrain-rmse:0.13959\teval-rmse:0.17735\n",
      "[100]\ttrain-rmse:0.10064\teval-rmse:0.15014\n",
      "[110]\ttrain-rmse:0.07942\teval-rmse:0.13797\n",
      "[120]\ttrain-rmse:0.06752\teval-rmse:0.13234\n",
      "[130]\ttrain-rmse:0.06066\teval-rmse:0.12947\n",
      "[140]\ttrain-rmse:0.05615\teval-rmse:0.12840\n",
      "[150]\ttrain-rmse:0.05277\teval-rmse:0.12772\n",
      "[160]\ttrain-rmse:0.04969\teval-rmse:0.12733\n",
      "[170]\ttrain-rmse:0.04688\teval-rmse:0.12703\n",
      "[180]\ttrain-rmse:0.04464\teval-rmse:0.12667\n",
      "[190]\ttrain-rmse:0.04197\teval-rmse:0.12675\n",
      "[200]\ttrain-rmse:0.04006\teval-rmse:0.12648\n",
      "[210]\ttrain-rmse:0.03849\teval-rmse:0.12643\n",
      "[220]\ttrain-rmse:0.03667\teval-rmse:0.12639\n",
      "[230]\ttrain-rmse:0.03508\teval-rmse:0.12621\n",
      "[240]\ttrain-rmse:0.03397\teval-rmse:0.12604\n",
      "[250]\ttrain-rmse:0.03275\teval-rmse:0.12587\n",
      "[260]\ttrain-rmse:0.03167\teval-rmse:0.12591\n",
      "[270]\ttrain-rmse:0.03056\teval-rmse:0.12572\n",
      "[280]\ttrain-rmse:0.02963\teval-rmse:0.12560\n",
      "[290]\ttrain-rmse:0.02858\teval-rmse:0.12545\n",
      "[300]\ttrain-rmse:0.02756\teval-rmse:0.12526\n",
      "[310]\ttrain-rmse:0.02658\teval-rmse:0.12517\n",
      "[320]\ttrain-rmse:0.02560\teval-rmse:0.12509\n",
      "[330]\ttrain-rmse:0.02492\teval-rmse:0.12510\n",
      "[340]\ttrain-rmse:0.02395\teval-rmse:0.12510\n",
      "[344]\ttrain-rmse:0.02372\teval-rmse:0.12513\n"
     ]
    },
    {
     "name": "stderr",
     "output_type": "stream",
     "text": [
      "\u001b[32m[I 2021-06-05 17:22:00,271]\u001b[0m Trial 36 finished with value: 0.12513018261467893 and parameters: {'max_depth': 6, 'colsample_bytree': 0.8669243080618894, 'sublsample': 0.5129877650323391}. Best is trial 25 with value: 0.11828797825576269.\u001b[0m\n"
     ]
    },
    {
     "name": "stdout",
     "output_type": "stream",
     "text": [
      "[17:22:00] WARNING: ..\\src\\learner.cc:573: \n",
      "Parameters: { \"sublsample\" } might not be used.\n",
      "\n",
      "  This may not be accurate due to some parameters are only used in language bindings but\n",
      "  passed down to XGBoost core.  Or some parameters are not used but slip through this\n",
      "  verification. Please open an issue if you find above cases.\n",
      "\n",
      "\n",
      "[0]\ttrain-rmse:10.94725\teval-rmse:10.95545\n",
      "[10]\ttrain-rmse:6.56435\teval-rmse:6.57078\n",
      "[20]\ttrain-rmse:3.93949\teval-rmse:3.94339\n",
      "[30]\ttrain-rmse:2.36782\teval-rmse:2.36953\n",
      "[40]\ttrain-rmse:1.42684\teval-rmse:1.42839\n",
      "[50]\ttrain-rmse:0.86396\teval-rmse:0.86732\n",
      "[60]\ttrain-rmse:0.52769\teval-rmse:0.53532\n",
      "[70]\ttrain-rmse:0.32678\teval-rmse:0.34292\n",
      "[80]\ttrain-rmse:0.20664\teval-rmse:0.23512\n",
      "[90]\ttrain-rmse:0.13357\teval-rmse:0.17860\n",
      "[100]\ttrain-rmse:0.08807\teval-rmse:0.15167\n",
      "[110]\ttrain-rmse:0.05916\teval-rmse:0.13912\n",
      "[120]\ttrain-rmse:0.04088\teval-rmse:0.13365\n",
      "[130]\ttrain-rmse:0.02892\teval-rmse:0.13146\n",
      "[140]\ttrain-rmse:0.02088\teval-rmse:0.13023\n",
      "[150]\ttrain-rmse:0.01544\teval-rmse:0.12955\n",
      "[160]\ttrain-rmse:0.01170\teval-rmse:0.12932\n",
      "[170]\ttrain-rmse:0.00900\teval-rmse:0.12924\n",
      "[180]\ttrain-rmse:0.00712\teval-rmse:0.12911\n",
      "[190]\ttrain-rmse:0.00568\teval-rmse:0.12904\n",
      "[200]\ttrain-rmse:0.00457\teval-rmse:0.12896\n",
      "[210]\ttrain-rmse:0.00379\teval-rmse:0.12897\n",
      "[220]\ttrain-rmse:0.00307\teval-rmse:0.12893\n",
      "[230]\ttrain-rmse:0.00254\teval-rmse:0.12890\n",
      "[240]\ttrain-rmse:0.00204\teval-rmse:0.12887\n",
      "[250]\ttrain-rmse:0.00166\teval-rmse:0.12883\n",
      "[260]\ttrain-rmse:0.00134\teval-rmse:0.12883\n",
      "[270]\ttrain-rmse:0.00110\teval-rmse:0.12883\n"
     ]
    },
    {
     "name": "stderr",
     "output_type": "stream",
     "text": [
      "\u001b[32m[I 2021-06-05 17:22:05,260]\u001b[0m Trial 37 finished with value: 0.1288343667511604 and parameters: {'max_depth': 14, 'colsample_bytree': 0.689635492722253, 'sublsample': 0.40820586559859356}. Best is trial 25 with value: 0.11828797825576269.\u001b[0m\n"
     ]
    },
    {
     "name": "stdout",
     "output_type": "stream",
     "text": [
      "[17:22:05] WARNING: ..\\src\\learner.cc:573: \n",
      "Parameters: { \"sublsample\" } might not be used.\n",
      "\n",
      "  This may not be accurate due to some parameters are only used in language bindings but\n",
      "  passed down to XGBoost core.  Or some parameters are not used but slip through this\n",
      "  verification. Please open an issue if you find above cases.\n",
      "\n",
      "\n",
      "[0]\ttrain-rmse:10.94725\teval-rmse:10.95545\n",
      "[10]\ttrain-rmse:6.56446\teval-rmse:6.57053\n",
      "[20]\ttrain-rmse:3.93967\teval-rmse:3.94367\n",
      "[30]\ttrain-rmse:2.36801\teval-rmse:2.36997\n",
      "[40]\ttrain-rmse:1.42718\teval-rmse:1.42761\n",
      "[50]\ttrain-rmse:0.86424\teval-rmse:0.86602\n",
      "[60]\ttrain-rmse:0.52813\teval-rmse:0.53258\n",
      "[70]\ttrain-rmse:0.32748\teval-rmse:0.34058\n",
      "[80]\ttrain-rmse:0.20745\teval-rmse:0.23260\n",
      "[90]\ttrain-rmse:0.13461\teval-rmse:0.17494\n",
      "[100]\ttrain-rmse:0.08942\teval-rmse:0.14664\n",
      "[110]\ttrain-rmse:0.06068\teval-rmse:0.13383\n",
      "[120]\ttrain-rmse:0.04219\teval-rmse:0.12804\n",
      "[130]\ttrain-rmse:0.03022\teval-rmse:0.12535\n",
      "[140]\ttrain-rmse:0.02191\teval-rmse:0.12403\n",
      "[150]\ttrain-rmse:0.01631\teval-rmse:0.12334\n",
      "[160]\ttrain-rmse:0.01237\teval-rmse:0.12308\n",
      "[170]\ttrain-rmse:0.00959\teval-rmse:0.12288\n",
      "[180]\ttrain-rmse:0.00742\teval-rmse:0.12271\n",
      "[190]\ttrain-rmse:0.00591\teval-rmse:0.12261\n",
      "[200]\ttrain-rmse:0.00465\teval-rmse:0.12257\n",
      "[210]\ttrain-rmse:0.00377\teval-rmse:0.12251\n",
      "[220]\ttrain-rmse:0.00293\teval-rmse:0.12247\n",
      "[230]\ttrain-rmse:0.00238\teval-rmse:0.12246\n",
      "[240]\ttrain-rmse:0.00196\teval-rmse:0.12244\n",
      "[250]\ttrain-rmse:0.00162\teval-rmse:0.12243\n",
      "[260]\ttrain-rmse:0.00131\teval-rmse:0.12242\n",
      "[270]\ttrain-rmse:0.00108\teval-rmse:0.12242\n",
      "[280]\ttrain-rmse:0.00091\teval-rmse:0.12241\n",
      "[290]\ttrain-rmse:0.00080\teval-rmse:0.12242\n",
      "[295]\ttrain-rmse:0.00079\teval-rmse:0.12242\n"
     ]
    },
    {
     "name": "stderr",
     "output_type": "stream",
     "text": [
      "\u001b[32m[I 2021-06-05 17:22:09,840]\u001b[0m Trial 38 finished with value: 0.12241627204034701 and parameters: {'max_depth': 14, 'colsample_bytree': 0.47755401859288926, 'sublsample': 0.8167722379778131}. Best is trial 25 with value: 0.11828797825576269.\u001b[0m\n"
     ]
    },
    {
     "name": "stdout",
     "output_type": "stream",
     "text": [
      "[17:22:09] WARNING: ..\\src\\learner.cc:573: \n",
      "Parameters: { \"sublsample\" } might not be used.\n",
      "\n",
      "  This may not be accurate due to some parameters are only used in language bindings but\n",
      "  passed down to XGBoost core.  Or some parameters are not used but slip through this\n",
      "  verification. Please open an issue if you find above cases.\n",
      "\n",
      "\n",
      "[0]\ttrain-rmse:10.94725\teval-rmse:10.95545\n",
      "[10]\ttrain-rmse:6.56431\teval-rmse:6.57082\n",
      "[20]\ttrain-rmse:3.93947\teval-rmse:3.94382\n",
      "[30]\ttrain-rmse:2.36777\teval-rmse:2.36977\n",
      "[40]\ttrain-rmse:1.42675\teval-rmse:1.42814\n",
      "[50]\ttrain-rmse:0.86382\teval-rmse:0.86730\n",
      "[60]\ttrain-rmse:0.52758\teval-rmse:0.53504\n",
      "[70]\ttrain-rmse:0.32650\teval-rmse:0.34299\n",
      "[80]\ttrain-rmse:0.20614\teval-rmse:0.23387\n",
      "[90]\ttrain-rmse:0.13324\teval-rmse:0.17682\n",
      "[100]\ttrain-rmse:0.08857\teval-rmse:0.14914\n",
      "[110]\ttrain-rmse:0.06101\teval-rmse:0.13620\n",
      "[120]\ttrain-rmse:0.04374\teval-rmse:0.13033\n",
      "[130]\ttrain-rmse:0.03246\teval-rmse:0.12782\n",
      "[140]\ttrain-rmse:0.02517\teval-rmse:0.12671\n",
      "[150]\ttrain-rmse:0.02026\teval-rmse:0.12608\n",
      "[160]\ttrain-rmse:0.01657\teval-rmse:0.12550\n",
      "[170]\ttrain-rmse:0.01378\teval-rmse:0.12515\n",
      "[180]\ttrain-rmse:0.01142\teval-rmse:0.12487\n",
      "[190]\ttrain-rmse:0.00984\teval-rmse:0.12466\n",
      "[200]\ttrain-rmse:0.00845\teval-rmse:0.12461\n",
      "[210]\ttrain-rmse:0.00764\teval-rmse:0.12455\n",
      "[220]\ttrain-rmse:0.00658\teval-rmse:0.12455\n",
      "[230]\ttrain-rmse:0.00583\teval-rmse:0.12449\n",
      "[240]\ttrain-rmse:0.00525\teval-rmse:0.12449\n",
      "[250]\ttrain-rmse:0.00450\teval-rmse:0.12449\n",
      "[260]\ttrain-rmse:0.00407\teval-rmse:0.12449\n",
      "[270]\ttrain-rmse:0.00357\teval-rmse:0.12448\n",
      "[280]\ttrain-rmse:0.00324\teval-rmse:0.12448\n",
      "[285]\ttrain-rmse:0.00302\teval-rmse:0.12448\n"
     ]
    },
    {
     "name": "stderr",
     "output_type": "stream",
     "text": [
      "\u001b[32m[I 2021-06-05 17:22:14,554]\u001b[0m Trial 39 finished with value: 0.1244810497143333 and parameters: {'max_depth': 11, 'colsample_bytree': 0.8172147532983969, 'sublsample': 0.6847721130544361}. Best is trial 25 with value: 0.11828797825576269.\u001b[0m\n"
     ]
    },
    {
     "name": "stdout",
     "output_type": "stream",
     "text": [
      "[17:22:14] WARNING: ..\\src\\learner.cc:573: \n",
      "Parameters: { \"sublsample\" } might not be used.\n",
      "\n",
      "  This may not be accurate due to some parameters are only used in language bindings but\n",
      "  passed down to XGBoost core.  Or some parameters are not used but slip through this\n",
      "  verification. Please open an issue if you find above cases.\n",
      "\n",
      "\n",
      "[0]\ttrain-rmse:10.94725\teval-rmse:10.95545\n",
      "[10]\ttrain-rmse:6.56442\teval-rmse:6.57058\n",
      "[20]\ttrain-rmse:3.93967\teval-rmse:3.94369\n",
      "[30]\ttrain-rmse:2.36797\teval-rmse:2.36910\n",
      "[40]\ttrain-rmse:1.42713\teval-rmse:1.42902\n",
      "[50]\ttrain-rmse:0.86423\teval-rmse:0.86782\n",
      "[60]\ttrain-rmse:0.52796\teval-rmse:0.53564\n",
      "[70]\ttrain-rmse:0.32732\teval-rmse:0.34180\n",
      "[80]\ttrain-rmse:0.20717\teval-rmse:0.23374\n",
      "[90]\ttrain-rmse:0.13421\teval-rmse:0.17638\n",
      "[100]\ttrain-rmse:0.08907\teval-rmse:0.14846\n",
      "[110]\ttrain-rmse:0.06023\teval-rmse:0.13613\n",
      "[120]\ttrain-rmse:0.04206\teval-rmse:0.12990\n",
      "[130]\ttrain-rmse:0.03019\teval-rmse:0.12741\n",
      "[140]\ttrain-rmse:0.02211\teval-rmse:0.12638\n",
      "[150]\ttrain-rmse:0.01663\teval-rmse:0.12578\n",
      "[160]\ttrain-rmse:0.01274\teval-rmse:0.12553\n",
      "[170]\ttrain-rmse:0.00990\teval-rmse:0.12535\n",
      "[180]\ttrain-rmse:0.00785\teval-rmse:0.12521\n",
      "[190]\ttrain-rmse:0.00641\teval-rmse:0.12518\n",
      "[200]\ttrain-rmse:0.00529\teval-rmse:0.12514\n",
      "[210]\ttrain-rmse:0.00432\teval-rmse:0.12507\n",
      "[220]\ttrain-rmse:0.00362\teval-rmse:0.12501\n",
      "[230]\ttrain-rmse:0.00301\teval-rmse:0.12500\n",
      "[240]\ttrain-rmse:0.00259\teval-rmse:0.12496\n",
      "[250]\ttrain-rmse:0.00224\teval-rmse:0.12493\n",
      "[260]\ttrain-rmse:0.00189\teval-rmse:0.12491\n",
      "[270]\ttrain-rmse:0.00162\teval-rmse:0.12490\n",
      "[280]\ttrain-rmse:0.00137\teval-rmse:0.12490\n",
      "[290]\ttrain-rmse:0.00118\teval-rmse:0.12491\n",
      "[300]\ttrain-rmse:0.00102\teval-rmse:0.12491\n",
      "[303]\ttrain-rmse:0.00097\teval-rmse:0.12491\n"
     ]
    },
    {
     "name": "stderr",
     "output_type": "stream",
     "text": [
      "\u001b[32m[I 2021-06-05 17:22:19,516]\u001b[0m Trial 40 finished with value: 0.1249089581923349 and parameters: {'max_depth': 13, 'colsample_bytree': 0.5509270673486916, 'sublsample': 0.8692585443062566}. Best is trial 25 with value: 0.11828797825576269.\u001b[0m\n"
     ]
    },
    {
     "name": "stdout",
     "output_type": "stream",
     "text": [
      "[17:22:19] WARNING: ..\\src\\learner.cc:573: \n",
      "Parameters: { \"sublsample\" } might not be used.\n",
      "\n",
      "  This may not be accurate due to some parameters are only used in language bindings but\n",
      "  passed down to XGBoost core.  Or some parameters are not used but slip through this\n",
      "  verification. Please open an issue if you find above cases.\n",
      "\n",
      "\n",
      "[0]\ttrain-rmse:10.94725\teval-rmse:10.95545\n",
      "[10]\ttrain-rmse:6.56442\teval-rmse:6.57058\n",
      "[20]\ttrain-rmse:3.93967\teval-rmse:3.94369\n",
      "[30]\ttrain-rmse:2.36797\teval-rmse:2.36969\n",
      "[40]\ttrain-rmse:1.42713\teval-rmse:1.42858\n",
      "[50]\ttrain-rmse:0.86425\teval-rmse:0.86662\n",
      "[60]\ttrain-rmse:0.52808\teval-rmse:0.53417\n",
      "[70]\ttrain-rmse:0.32751\teval-rmse:0.34126\n",
      "[80]\ttrain-rmse:0.20756\teval-rmse:0.23311\n",
      "[90]\ttrain-rmse:0.13502\teval-rmse:0.17621\n",
      "[100]\ttrain-rmse:0.09018\teval-rmse:0.14825\n",
      "[110]\ttrain-rmse:0.06179\teval-rmse:0.13566\n",
      "[120]\ttrain-rmse:0.04383\teval-rmse:0.13000\n",
      "[130]\ttrain-rmse:0.03236\teval-rmse:0.12763\n",
      "[140]\ttrain-rmse:0.02445\teval-rmse:0.12646\n",
      "[150]\ttrain-rmse:0.01898\teval-rmse:0.12574\n",
      "[160]\ttrain-rmse:0.01522\teval-rmse:0.12543\n",
      "[170]\ttrain-rmse:0.01245\teval-rmse:0.12524\n",
      "[180]\ttrain-rmse:0.01018\teval-rmse:0.12518\n",
      "[190]\ttrain-rmse:0.00847\teval-rmse:0.12503\n",
      "[200]\ttrain-rmse:0.00703\teval-rmse:0.12503\n",
      "[210]\ttrain-rmse:0.00579\teval-rmse:0.12498\n",
      "[220]\ttrain-rmse:0.00488\teval-rmse:0.12495\n",
      "[230]\ttrain-rmse:0.00421\teval-rmse:0.12492\n",
      "[240]\ttrain-rmse:0.00360\teval-rmse:0.12489\n",
      "[250]\ttrain-rmse:0.00301\teval-rmse:0.12488\n",
      "[260]\ttrain-rmse:0.00262\teval-rmse:0.12487\n",
      "[270]\ttrain-rmse:0.00224\teval-rmse:0.12486\n",
      "[280]\ttrain-rmse:0.00191\teval-rmse:0.12485\n",
      "[290]\ttrain-rmse:0.00164\teval-rmse:0.12484\n",
      "[300]\ttrain-rmse:0.00139\teval-rmse:0.12484\n",
      "[310]\ttrain-rmse:0.00121\teval-rmse:0.12484\n",
      "[317]\ttrain-rmse:0.00108\teval-rmse:0.12485\n"
     ]
    },
    {
     "name": "stderr",
     "output_type": "stream",
     "text": [
      "\u001b[32m[I 2021-06-05 17:22:24,143]\u001b[0m Trial 41 finished with value: 0.12484993507143817 and parameters: {'max_depth': 12, 'colsample_bytree': 0.4966985339907258, 'sublsample': 0.6244752498895471}. Best is trial 25 with value: 0.11828797825576269.\u001b[0m\n"
     ]
    },
    {
     "name": "stdout",
     "output_type": "stream",
     "text": [
      "[17:22:24] WARNING: ..\\src\\learner.cc:573: \n",
      "Parameters: { \"sublsample\" } might not be used.\n",
      "\n",
      "  This may not be accurate due to some parameters are only used in language bindings but\n",
      "  passed down to XGBoost core.  Or some parameters are not used but slip through this\n",
      "  verification. Please open an issue if you find above cases.\n",
      "\n",
      "\n",
      "[0]\ttrain-rmse:10.94725\teval-rmse:10.95545\n",
      "[10]\ttrain-rmse:6.56446\teval-rmse:6.57053\n",
      "[20]\ttrain-rmse:3.93970\teval-rmse:3.94436\n",
      "[30]\ttrain-rmse:2.36806\teval-rmse:2.37018\n",
      "[40]\ttrain-rmse:1.42724\teval-rmse:1.42805\n",
      "[50]\ttrain-rmse:0.86480\teval-rmse:0.86588\n",
      "[60]\ttrain-rmse:0.52982\teval-rmse:0.53258\n",
      "[70]\ttrain-rmse:0.33250\teval-rmse:0.33904\n",
      "[80]\ttrain-rmse:0.21947\teval-rmse:0.23169\n",
      "[90]\ttrain-rmse:0.15770\teval-rmse:0.17637\n",
      "[100]\ttrain-rmse:0.12578\teval-rmse:0.15032\n",
      "[110]\ttrain-rmse:0.10965\teval-rmse:0.13828\n",
      "[120]\ttrain-rmse:0.10135\teval-rmse:0.13252\n",
      "[130]\ttrain-rmse:0.09624\teval-rmse:0.12881\n",
      "[140]\ttrain-rmse:0.09295\teval-rmse:0.12668\n",
      "[150]\ttrain-rmse:0.09026\teval-rmse:0.12525\n",
      "[160]\ttrain-rmse:0.08804\teval-rmse:0.12391\n",
      "[170]\ttrain-rmse:0.08605\teval-rmse:0.12300\n",
      "[180]\ttrain-rmse:0.08442\teval-rmse:0.12238\n",
      "[190]\ttrain-rmse:0.08292\teval-rmse:0.12198\n",
      "[200]\ttrain-rmse:0.08136\teval-rmse:0.12155\n",
      "[210]\ttrain-rmse:0.08004\teval-rmse:0.12109\n",
      "[220]\ttrain-rmse:0.07891\teval-rmse:0.12061\n",
      "[230]\ttrain-rmse:0.07755\teval-rmse:0.12004\n",
      "[240]\ttrain-rmse:0.07665\teval-rmse:0.12003\n",
      "[250]\ttrain-rmse:0.07561\teval-rmse:0.12001\n",
      "[260]\ttrain-rmse:0.07467\teval-rmse:0.11979\n",
      "[270]\ttrain-rmse:0.07369\teval-rmse:0.11959\n",
      "[280]\ttrain-rmse:0.07283\teval-rmse:0.11951\n",
      "[290]\ttrain-rmse:0.07200\teval-rmse:0.11948\n",
      "[300]\ttrain-rmse:0.07116\teval-rmse:0.11929\n",
      "[310]\ttrain-rmse:0.07056\teval-rmse:0.11935\n",
      "[320]\ttrain-rmse:0.06992\teval-rmse:0.11927\n",
      "[330]\ttrain-rmse:0.06920\teval-rmse:0.11922\n",
      "[340]\ttrain-rmse:0.06839\teval-rmse:0.11907\n",
      "[350]\ttrain-rmse:0.06765\teval-rmse:0.11896\n",
      "[360]\ttrain-rmse:0.06707\teval-rmse:0.11902\n",
      "[370]\ttrain-rmse:0.06645\teval-rmse:0.11892\n",
      "[380]\ttrain-rmse:0.06596\teval-rmse:0.11905\n",
      "[390]\ttrain-rmse:0.06536\teval-rmse:0.11900\n",
      "[392]\ttrain-rmse:0.06532\teval-rmse:0.11902\n"
     ]
    },
    {
     "name": "stderr",
     "output_type": "stream",
     "text": [
      "\u001b[32m[I 2021-06-05 17:22:26,340]\u001b[0m Trial 42 finished with value: 0.11893399822670149 and parameters: {'max_depth': 3, 'colsample_bytree': 0.41110237167218455, 'sublsample': 0.6621214762448795}. Best is trial 25 with value: 0.11828797825576269.\u001b[0m\n"
     ]
    },
    {
     "name": "stdout",
     "output_type": "stream",
     "text": [
      "[17:22:26] WARNING: ..\\src\\learner.cc:573: \n",
      "Parameters: { \"sublsample\" } might not be used.\n",
      "\n",
      "  This may not be accurate due to some parameters are only used in language bindings but\n",
      "  passed down to XGBoost core.  Or some parameters are not used but slip through this\n",
      "  verification. Please open an issue if you find above cases.\n",
      "\n",
      "\n",
      "[0]\ttrain-rmse:10.94725\teval-rmse:10.95545\n",
      "[10]\ttrain-rmse:6.56435\teval-rmse:6.57077\n",
      "[20]\ttrain-rmse:3.93949\teval-rmse:3.94279\n",
      "[30]\ttrain-rmse:2.36780\teval-rmse:2.36983\n",
      "[40]\ttrain-rmse:1.42685\teval-rmse:1.42831\n",
      "[50]\ttrain-rmse:0.86392\teval-rmse:0.86784\n",
      "[60]\ttrain-rmse:0.52761\teval-rmse:0.53624\n",
      "[70]\ttrain-rmse:0.32708\teval-rmse:0.34479\n",
      "[80]\ttrain-rmse:0.20796\teval-rmse:0.23685\n",
      "[90]\ttrain-rmse:0.13784\teval-rmse:0.18017\n",
      "[100]\ttrain-rmse:0.09757\teval-rmse:0.15325\n",
      "[110]\ttrain-rmse:0.07444\teval-rmse:0.14081\n",
      "[120]\ttrain-rmse:0.06179\teval-rmse:0.13547\n",
      "[130]\ttrain-rmse:0.05417\teval-rmse:0.13267\n",
      "[140]\ttrain-rmse:0.04911\teval-rmse:0.13156\n",
      "[150]\ttrain-rmse:0.04496\teval-rmse:0.13066\n",
      "[160]\ttrain-rmse:0.04182\teval-rmse:0.13016\n",
      "[170]\ttrain-rmse:0.03832\teval-rmse:0.13015\n",
      "[180]\ttrain-rmse:0.03564\teval-rmse:0.12981\n",
      "[190]\ttrain-rmse:0.03274\teval-rmse:0.12945\n",
      "[200]\ttrain-rmse:0.03036\teval-rmse:0.12924\n",
      "[210]\ttrain-rmse:0.02790\teval-rmse:0.12929\n",
      "[220]\ttrain-rmse:0.02634\teval-rmse:0.12926\n",
      "[230]\ttrain-rmse:0.02505\teval-rmse:0.12916\n",
      "[240]\ttrain-rmse:0.02372\teval-rmse:0.12917\n",
      "[250]\ttrain-rmse:0.02277\teval-rmse:0.12912\n",
      "[260]\ttrain-rmse:0.02168\teval-rmse:0.12905\n",
      "[270]\ttrain-rmse:0.02055\teval-rmse:0.12899\n",
      "[280]\ttrain-rmse:0.01952\teval-rmse:0.12896\n",
      "[290]\ttrain-rmse:0.01862\teval-rmse:0.12880\n",
      "[300]\ttrain-rmse:0.01762\teval-rmse:0.12877\n",
      "[310]\ttrain-rmse:0.01669\teval-rmse:0.12862\n",
      "[320]\ttrain-rmse:0.01604\teval-rmse:0.12864\n",
      "[330]\ttrain-rmse:0.01548\teval-rmse:0.12865\n",
      "[335]\ttrain-rmse:0.01513\teval-rmse:0.12863\n"
     ]
    },
    {
     "name": "stderr",
     "output_type": "stream",
     "text": [
      "\u001b[32m[I 2021-06-05 17:22:29,735]\u001b[0m Trial 43 finished with value: 0.12862880941165356 and parameters: {'max_depth': 7, 'colsample_bytree': 0.632610800299189, 'sublsample': 0.5001380906620363}. Best is trial 25 with value: 0.11828797825576269.\u001b[0m\n"
     ]
    },
    {
     "name": "stdout",
     "output_type": "stream",
     "text": [
      "[17:22:29] WARNING: ..\\src\\learner.cc:573: \n",
      "Parameters: { \"sublsample\" } might not be used.\n",
      "\n",
      "  This may not be accurate due to some parameters are only used in language bindings but\n",
      "  passed down to XGBoost core.  Or some parameters are not used but slip through this\n",
      "  verification. Please open an issue if you find above cases.\n",
      "\n",
      "\n",
      "[0]\ttrain-rmse:10.94725\teval-rmse:10.95545\n",
      "[10]\ttrain-rmse:6.56446\teval-rmse:6.57053\n",
      "[20]\ttrain-rmse:3.93970\teval-rmse:3.94436\n",
      "[30]\ttrain-rmse:2.36806\teval-rmse:2.37018\n",
      "[40]\ttrain-rmse:1.42724\teval-rmse:1.42805\n",
      "[50]\ttrain-rmse:0.86456\teval-rmse:0.86644\n",
      "[60]\ttrain-rmse:0.52885\teval-rmse:0.53316\n",
      "[70]\ttrain-rmse:0.33012\teval-rmse:0.33914\n",
      "[80]\ttrain-rmse:0.21497\teval-rmse:0.23053\n",
      "[90]\ttrain-rmse:0.15057\teval-rmse:0.17401\n",
      "[100]\ttrain-rmse:0.11590\teval-rmse:0.14758\n",
      "[110]\ttrain-rmse:0.09766\teval-rmse:0.13470\n",
      "[120]\ttrain-rmse:0.08832\teval-rmse:0.12842\n",
      "[130]\ttrain-rmse:0.08264\teval-rmse:0.12487\n",
      "[140]\ttrain-rmse:0.07859\teval-rmse:0.12324\n",
      "[150]\ttrain-rmse:0.07545\teval-rmse:0.12235\n",
      "[160]\ttrain-rmse:0.07300\teval-rmse:0.12145\n",
      "[170]\ttrain-rmse:0.07062\teval-rmse:0.12102\n",
      "[180]\ttrain-rmse:0.06851\teval-rmse:0.12037\n",
      "[190]\ttrain-rmse:0.06674\teval-rmse:0.12012\n",
      "[200]\ttrain-rmse:0.06518\teval-rmse:0.11973\n",
      "[210]\ttrain-rmse:0.06384\teval-rmse:0.11958\n",
      "[220]\ttrain-rmse:0.06253\teval-rmse:0.11918\n",
      "[230]\ttrain-rmse:0.06121\teval-rmse:0.11889\n",
      "[240]\ttrain-rmse:0.05998\teval-rmse:0.11878\n",
      "[250]\ttrain-rmse:0.05881\teval-rmse:0.11881\n",
      "[260]\ttrain-rmse:0.05785\teval-rmse:0.11875\n",
      "[270]\ttrain-rmse:0.05675\teval-rmse:0.11885\n",
      "[272]\ttrain-rmse:0.05661\teval-rmse:0.11889\n"
     ]
    },
    {
     "name": "stderr",
     "output_type": "stream",
     "text": [
      "\u001b[32m[I 2021-06-05 17:22:31,502]\u001b[0m Trial 44 finished with value: 0.11888076176299381 and parameters: {'max_depth': 4, 'colsample_bytree': 0.40879762816922155, 'sublsample': 0.5989754374908853}. Best is trial 25 with value: 0.11828797825576269.\u001b[0m\n"
     ]
    },
    {
     "name": "stdout",
     "output_type": "stream",
     "text": [
      "[17:22:31] WARNING: ..\\src\\learner.cc:573: \n",
      "Parameters: { \"sublsample\" } might not be used.\n",
      "\n",
      "  This may not be accurate due to some parameters are only used in language bindings but\n",
      "  passed down to XGBoost core.  Or some parameters are not used but slip through this\n",
      "  verification. Please open an issue if you find above cases.\n",
      "\n",
      "\n",
      "[0]\ttrain-rmse:10.94725\teval-rmse:10.95545\n",
      "[10]\ttrain-rmse:6.56435\teval-rmse:6.57077\n",
      "[20]\ttrain-rmse:3.93951\teval-rmse:3.94315\n",
      "[30]\ttrain-rmse:2.36781\teval-rmse:2.36982\n",
      "[40]\ttrain-rmse:1.42691\teval-rmse:1.42929\n",
      "[50]\ttrain-rmse:0.86397\teval-rmse:0.86773\n",
      "[60]\ttrain-rmse:0.52777\teval-rmse:0.53479\n",
      "[70]\ttrain-rmse:0.32693\teval-rmse:0.34219\n",
      "[80]\ttrain-rmse:0.20689\teval-rmse:0.23439\n",
      "[90]\ttrain-rmse:0.13432\teval-rmse:0.17655\n",
      "[100]\ttrain-rmse:0.08985\teval-rmse:0.14861\n",
      "[110]\ttrain-rmse:0.06207\teval-rmse:0.13531\n",
      "[120]\ttrain-rmse:0.04453\teval-rmse:0.12910\n",
      "[130]\ttrain-rmse:0.03340\teval-rmse:0.12629\n",
      "[140]\ttrain-rmse:0.02585\teval-rmse:0.12505\n",
      "[150]\ttrain-rmse:0.02054\teval-rmse:0.12432\n",
      "[160]\ttrain-rmse:0.01671\teval-rmse:0.12398\n",
      "[170]\ttrain-rmse:0.01422\teval-rmse:0.12376\n",
      "[180]\ttrain-rmse:0.01212\teval-rmse:0.12348\n",
      "[190]\ttrain-rmse:0.01026\teval-rmse:0.12341\n",
      "[200]\ttrain-rmse:0.00925\teval-rmse:0.12338\n",
      "[210]\ttrain-rmse:0.00809\teval-rmse:0.12329\n",
      "[220]\ttrain-rmse:0.00696\teval-rmse:0.12320\n",
      "[230]\ttrain-rmse:0.00588\teval-rmse:0.12317\n",
      "[240]\ttrain-rmse:0.00524\teval-rmse:0.12316\n",
      "[249]\ttrain-rmse:0.00471\teval-rmse:0.12316\n"
     ]
    },
    {
     "name": "stderr",
     "output_type": "stream",
     "text": [
      "\u001b[32m[I 2021-06-05 17:22:35,769]\u001b[0m Trial 45 finished with value: 0.12316327874124598 and parameters: {'max_depth': 11, 'colsample_bytree': 0.6020276741947052, 'sublsample': 0.6572405738999936}. Best is trial 25 with value: 0.11828797825576269.\u001b[0m\n"
     ]
    },
    {
     "name": "stdout",
     "output_type": "stream",
     "text": [
      "[17:22:35] WARNING: ..\\src\\learner.cc:573: \n",
      "Parameters: { \"sublsample\" } might not be used.\n",
      "\n",
      "  This may not be accurate due to some parameters are only used in language bindings but\n",
      "  passed down to XGBoost core.  Or some parameters are not used but slip through this\n",
      "  verification. Please open an issue if you find above cases.\n",
      "\n",
      "\n",
      "[0]\ttrain-rmse:10.94725\teval-rmse:10.95545\n",
      "[10]\ttrain-rmse:6.56442\teval-rmse:6.57058\n",
      "[20]\ttrain-rmse:3.93967\teval-rmse:3.94369\n",
      "[30]\ttrain-rmse:2.36797\teval-rmse:2.36969\n",
      "[40]\ttrain-rmse:1.42713\teval-rmse:1.42858\n",
      "[50]\ttrain-rmse:0.86425\teval-rmse:0.86662\n",
      "[60]\ttrain-rmse:0.52808\teval-rmse:0.53417\n",
      "[70]\ttrain-rmse:0.32751\teval-rmse:0.34126\n",
      "[80]\ttrain-rmse:0.20756\teval-rmse:0.23311\n",
      "[90]\ttrain-rmse:0.13502\teval-rmse:0.17621\n",
      "[100]\ttrain-rmse:0.09018\teval-rmse:0.14825\n",
      "[110]\ttrain-rmse:0.06179\teval-rmse:0.13566\n",
      "[120]\ttrain-rmse:0.04383\teval-rmse:0.13000\n",
      "[130]\ttrain-rmse:0.03236\teval-rmse:0.12763\n",
      "[140]\ttrain-rmse:0.02445\teval-rmse:0.12646\n",
      "[150]\ttrain-rmse:0.01898\teval-rmse:0.12574\n",
      "[160]\ttrain-rmse:0.01522\teval-rmse:0.12543\n",
      "[170]\ttrain-rmse:0.01245\teval-rmse:0.12524\n",
      "[180]\ttrain-rmse:0.01018\teval-rmse:0.12518\n",
      "[190]\ttrain-rmse:0.00847\teval-rmse:0.12503\n",
      "[200]\ttrain-rmse:0.00703\teval-rmse:0.12503\n",
      "[210]\ttrain-rmse:0.00579\teval-rmse:0.12498\n",
      "[220]\ttrain-rmse:0.00488\teval-rmse:0.12495\n",
      "[230]\ttrain-rmse:0.00421\teval-rmse:0.12492\n",
      "[240]\ttrain-rmse:0.00360\teval-rmse:0.12489\n",
      "[250]\ttrain-rmse:0.00301\teval-rmse:0.12488\n",
      "[260]\ttrain-rmse:0.00262\teval-rmse:0.12487\n",
      "[270]\ttrain-rmse:0.00224\teval-rmse:0.12486\n",
      "[280]\ttrain-rmse:0.00191\teval-rmse:0.12485\n",
      "[290]\ttrain-rmse:0.00164\teval-rmse:0.12484\n",
      "[300]\ttrain-rmse:0.00139\teval-rmse:0.12484\n",
      "[310]\ttrain-rmse:0.00121\teval-rmse:0.12484\n",
      "[317]\ttrain-rmse:0.00108\teval-rmse:0.12485\n"
     ]
    },
    {
     "name": "stderr",
     "output_type": "stream",
     "text": [
      "\u001b[32m[I 2021-06-05 17:22:40,267]\u001b[0m Trial 46 finished with value: 0.12484993507143817 and parameters: {'max_depth': 12, 'colsample_bytree': 0.5019929048037818, 'sublsample': 0.8275826170957441}. Best is trial 25 with value: 0.11828797825576269.\u001b[0m\n"
     ]
    },
    {
     "name": "stdout",
     "output_type": "stream",
     "text": [
      "[17:22:40] WARNING: ..\\src\\learner.cc:573: \n",
      "Parameters: { \"sublsample\" } might not be used.\n",
      "\n",
      "  This may not be accurate due to some parameters are only used in language bindings but\n",
      "  passed down to XGBoost core.  Or some parameters are not used but slip through this\n",
      "  verification. Please open an issue if you find above cases.\n",
      "\n",
      "\n",
      "[0]\ttrain-rmse:10.94725\teval-rmse:10.95545\n",
      "[10]\ttrain-rmse:6.56442\teval-rmse:6.57058\n",
      "[20]\ttrain-rmse:3.93967\teval-rmse:3.94369\n",
      "[30]\ttrain-rmse:2.36797\teval-rmse:2.36969\n",
      "[40]\ttrain-rmse:1.42713\teval-rmse:1.42858\n",
      "[50]\ttrain-rmse:0.86425\teval-rmse:0.86662\n",
      "[60]\ttrain-rmse:0.52808\teval-rmse:0.53417\n",
      "[70]\ttrain-rmse:0.32765\teval-rmse:0.34074\n",
      "[80]\ttrain-rmse:0.20832\teval-rmse:0.23286\n",
      "[90]\ttrain-rmse:0.13765\teval-rmse:0.17528\n",
      "[100]\ttrain-rmse:0.09593\teval-rmse:0.14800\n",
      "[110]\ttrain-rmse:0.07132\teval-rmse:0.13569\n",
      "[120]\ttrain-rmse:0.05647\teval-rmse:0.12975\n",
      "[130]\ttrain-rmse:0.04751\teval-rmse:0.12733\n",
      "[140]\ttrain-rmse:0.04122\teval-rmse:0.12579\n",
      "[150]\ttrain-rmse:0.03655\teval-rmse:0.12481\n",
      "[160]\ttrain-rmse:0.03311\teval-rmse:0.12438\n",
      "[170]\ttrain-rmse:0.03046\teval-rmse:0.12398\n",
      "[180]\ttrain-rmse:0.02773\teval-rmse:0.12356\n",
      "[190]\ttrain-rmse:0.02592\teval-rmse:0.12344\n",
      "[200]\ttrain-rmse:0.02388\teval-rmse:0.12332\n",
      "[210]\ttrain-rmse:0.02218\teval-rmse:0.12322\n",
      "[220]\ttrain-rmse:0.02064\teval-rmse:0.12326\n",
      "[228]\ttrain-rmse:0.01959\teval-rmse:0.12320\n"
     ]
    },
    {
     "name": "stderr",
     "output_type": "stream",
     "text": [
      "\u001b[32m[I 2021-06-05 17:22:42,547]\u001b[0m Trial 47 finished with value: 0.1231963449871516 and parameters: {'max_depth': 8, 'colsample_bytree': 0.5051054476859387, 'sublsample': 0.8243463485109706}. Best is trial 25 with value: 0.11828797825576269.\u001b[0m\n"
     ]
    },
    {
     "name": "stdout",
     "output_type": "stream",
     "text": [
      "[17:22:42] WARNING: ..\\src\\learner.cc:573: \n",
      "Parameters: { \"sublsample\" } might not be used.\n",
      "\n",
      "  This may not be accurate due to some parameters are only used in language bindings but\n",
      "  passed down to XGBoost core.  Or some parameters are not used but slip through this\n",
      "  verification. Please open an issue if you find above cases.\n",
      "\n",
      "\n",
      "[0]\ttrain-rmse:10.94725\teval-rmse:10.95545\n",
      "[10]\ttrain-rmse:6.56435\teval-rmse:6.57078\n",
      "[20]\ttrain-rmse:3.93949\teval-rmse:3.94339\n",
      "[30]\ttrain-rmse:2.36782\teval-rmse:2.36953\n",
      "[40]\ttrain-rmse:1.42684\teval-rmse:1.42839\n",
      "[50]\ttrain-rmse:0.86396\teval-rmse:0.86748\n",
      "[60]\ttrain-rmse:0.52753\teval-rmse:0.53705\n",
      "[70]\ttrain-rmse:0.32662\teval-rmse:0.34682\n",
      "[80]\ttrain-rmse:0.20634\teval-rmse:0.23889\n",
      "[90]\ttrain-rmse:0.13315\teval-rmse:0.18263\n",
      "[100]\ttrain-rmse:0.08775\teval-rmse:0.15516\n",
      "[110]\ttrain-rmse:0.05894\teval-rmse:0.14259\n",
      "[120]\ttrain-rmse:0.04074\teval-rmse:0.13709\n",
      "[130]\ttrain-rmse:0.02873\teval-rmse:0.13456\n",
      "[140]\ttrain-rmse:0.02078\teval-rmse:0.13352\n",
      "[150]\ttrain-rmse:0.01518\teval-rmse:0.13285\n",
      "[160]\ttrain-rmse:0.01130\teval-rmse:0.13245\n",
      "[170]\ttrain-rmse:0.00856\teval-rmse:0.13232\n",
      "[180]\ttrain-rmse:0.00670\teval-rmse:0.13217\n",
      "[190]\ttrain-rmse:0.00533\teval-rmse:0.13214\n",
      "[200]\ttrain-rmse:0.00419\teval-rmse:0.13204\n",
      "[210]\ttrain-rmse:0.00333\teval-rmse:0.13200\n",
      "[220]\ttrain-rmse:0.00253\teval-rmse:0.13198\n",
      "[230]\ttrain-rmse:0.00203\teval-rmse:0.13193\n",
      "[240]\ttrain-rmse:0.00166\teval-rmse:0.13189\n",
      "[250]\ttrain-rmse:0.00134\teval-rmse:0.13186\n",
      "[260]\ttrain-rmse:0.00109\teval-rmse:0.13186\n",
      "[270]\ttrain-rmse:0.00089\teval-rmse:0.13185\n",
      "[280]\ttrain-rmse:0.00075\teval-rmse:0.13184\n",
      "[290]\ttrain-rmse:0.00071\teval-rmse:0.13184\n",
      "[300]\ttrain-rmse:0.00069\teval-rmse:0.13184\n",
      "[301]\ttrain-rmse:0.00069\teval-rmse:0.13184\n"
     ]
    },
    {
     "name": "stderr",
     "output_type": "stream",
     "text": [
      "\u001b[32m[I 2021-06-05 17:22:47,939]\u001b[0m Trial 48 finished with value: 0.13184373657561907 and parameters: {'max_depth': 14, 'colsample_bytree': 0.6927220084782564, 'sublsample': 0.2701588211186108}. Best is trial 25 with value: 0.11828797825576269.\u001b[0m\n"
     ]
    },
    {
     "name": "stdout",
     "output_type": "stream",
     "text": [
      "[17:22:47] WARNING: ..\\src\\learner.cc:573: \n",
      "Parameters: { \"sublsample\" } might not be used.\n",
      "\n",
      "  This may not be accurate due to some parameters are only used in language bindings but\n",
      "  passed down to XGBoost core.  Or some parameters are not used but slip through this\n",
      "  verification. Please open an issue if you find above cases.\n",
      "\n",
      "\n",
      "[0]\ttrain-rmse:10.94725\teval-rmse:10.95545\n",
      "[10]\ttrain-rmse:6.56435\teval-rmse:6.57078\n",
      "[20]\ttrain-rmse:3.93949\teval-rmse:3.94339\n",
      "[30]\ttrain-rmse:2.36782\teval-rmse:2.36953\n",
      "[40]\ttrain-rmse:1.42684\teval-rmse:1.42839\n",
      "[50]\ttrain-rmse:0.86396\teval-rmse:0.86748\n",
      "[60]\ttrain-rmse:0.52753\teval-rmse:0.53705\n",
      "[70]\ttrain-rmse:0.32662\teval-rmse:0.34682\n",
      "[80]\ttrain-rmse:0.20634\teval-rmse:0.23888\n",
      "[90]\ttrain-rmse:0.13314\teval-rmse:0.18280\n",
      "[100]\ttrain-rmse:0.08761\teval-rmse:0.15588\n",
      "[110]\ttrain-rmse:0.05870\teval-rmse:0.14356\n",
      "[120]\ttrain-rmse:0.04018\teval-rmse:0.13783\n",
      "[130]\ttrain-rmse:0.02809\teval-rmse:0.13527\n",
      "[140]\ttrain-rmse:0.01997\teval-rmse:0.13389\n",
      "[150]\ttrain-rmse:0.01459\teval-rmse:0.13319\n",
      "[160]\ttrain-rmse:0.01083\teval-rmse:0.13284\n",
      "[170]\ttrain-rmse:0.00818\teval-rmse:0.13264\n",
      "[180]\ttrain-rmse:0.00624\teval-rmse:0.13249\n",
      "[190]\ttrain-rmse:0.00485\teval-rmse:0.13236\n",
      "[200]\ttrain-rmse:0.00388\teval-rmse:0.13225\n",
      "[210]\ttrain-rmse:0.00308\teval-rmse:0.13220\n",
      "[220]\ttrain-rmse:0.00243\teval-rmse:0.13215\n",
      "[230]\ttrain-rmse:0.00200\teval-rmse:0.13210\n",
      "[240]\ttrain-rmse:0.00163\teval-rmse:0.13208\n",
      "[250]\ttrain-rmse:0.00131\teval-rmse:0.13205\n",
      "[260]\ttrain-rmse:0.00109\teval-rmse:0.13204\n",
      "[270]\ttrain-rmse:0.00088\teval-rmse:0.13203\n",
      "[280]\ttrain-rmse:0.00075\teval-rmse:0.13202\n",
      "[290]\ttrain-rmse:0.00075\teval-rmse:0.13202\n",
      "[300]\ttrain-rmse:0.00074\teval-rmse:0.13202\n",
      "[308]\ttrain-rmse:0.00074\teval-rmse:0.13202\n"
     ]
    },
    {
     "name": "stderr",
     "output_type": "stream",
     "text": [
      "\u001b[32m[I 2021-06-05 17:22:53,348]\u001b[0m Trial 49 finished with value: 0.13201765271613009 and parameters: {'max_depth': 15, 'colsample_bytree': 0.699968909684378, 'sublsample': 0.8991929045975064}. Best is trial 25 with value: 0.11828797825576269.\u001b[0m\n"
     ]
    },
    {
     "data": {
      "text/plain": [
       "{'max_depth': 3,\n",
       " 'colsample_bytree': 0.3979648738034867,\n",
       " 'sublsample': 0.28413759284921825}"
      ]
     },
     "execution_count": 109,
     "metadata": {},
     "output_type": "execute_result"
    }
   ],
   "source": [
    "study = optuna.create_study(sampler=optuna.samplers.RandomSampler(seed=0))\n",
    "study.optimize(objective, n_trials=50)\n",
    "study.best_params"
   ]
  },
  {
   "cell_type": "code",
   "execution_count": 110,
   "metadata": {},
   "outputs": [],
   "source": [
    "xgb_params = {\n",
    "\"learning_rate\":0.05,\n",
    "\"seed\":1234,\n",
    "\"max_depth\": 3,\n",
    "\"colsample_bytree\": 0.3979648738034867,\n",
    "\"sublsample\": 0.28413759284921825\n",
    "}"
   ]
  },
  {
   "cell_type": "code",
   "execution_count": 111,
   "metadata": {},
   "outputs": [
    {
     "name": "stdout",
     "output_type": "stream",
     "text": [
      "[17:22:53] WARNING: ..\\src\\learner.cc:573: \n",
      "Parameters: { \"sublsample\" } might not be used.\n",
      "\n",
      "  This may not be accurate due to some parameters are only used in language bindings but\n",
      "  passed down to XGBoost core.  Or some parameters are not used but slip through this\n",
      "  verification. Please open an issue if you find above cases.\n",
      "\n",
      "\n",
      "[0]\ttrain-rmse:10.94265\teval-rmse:10.96235\n",
      "[20]\ttrain-rmse:3.93996\teval-rmse:3.95364\n",
      "[40]\ttrain-rmse:1.42930\teval-rmse:1.43657\n",
      "[60]\ttrain-rmse:0.53202\teval-rmse:0.54022\n",
      "[80]\ttrain-rmse:0.22138\teval-rmse:0.23485\n",
      "[100]\ttrain-rmse:0.12640\teval-rmse:0.14764\n",
      "[120]\ttrain-rmse:0.10067\teval-rmse:0.12600\n",
      "[140]\ttrain-rmse:0.09199\teval-rmse:0.11989\n",
      "[160]\ttrain-rmse:0.08713\teval-rmse:0.11639\n",
      "[180]\ttrain-rmse:0.08364\teval-rmse:0.11460\n",
      "[200]\ttrain-rmse:0.08073\teval-rmse:0.11364\n",
      "[220]\ttrain-rmse:0.07820\teval-rmse:0.11256\n",
      "[240]\ttrain-rmse:0.07580\teval-rmse:0.11188\n",
      "[260]\ttrain-rmse:0.07341\teval-rmse:0.11157\n",
      "[280]\ttrain-rmse:0.07132\teval-rmse:0.11125\n",
      "[300]\ttrain-rmse:0.06946\teval-rmse:0.11111\n",
      "[320]\ttrain-rmse:0.06798\teval-rmse:0.11098\n",
      "[340]\ttrain-rmse:0.06667\teval-rmse:0.11092\n",
      "[360]\ttrain-rmse:0.06556\teval-rmse:0.11088\n",
      "[374]\ttrain-rmse:0.06469\teval-rmse:0.11084\n",
      "0.11083675450263251\n",
      "[17:22:55] WARNING: ..\\src\\learner.cc:573: \n",
      "Parameters: { \"sublsample\" } might not be used.\n",
      "\n",
      "  This may not be accurate due to some parameters are only used in language bindings but\n",
      "  passed down to XGBoost core.  Or some parameters are not used but slip through this\n",
      "  verification. Please open an issue if you find above cases.\n",
      "\n",
      "\n",
      "[0]\ttrain-rmse:10.95034\teval-rmse:10.94577\n",
      "[20]\ttrain-rmse:3.94205\teval-rmse:3.94317\n",
      "[40]\ttrain-rmse:1.42946\teval-rmse:1.43423\n",
      "[60]\ttrain-rmse:0.53158\teval-rmse:0.54029\n",
      "[80]\ttrain-rmse:0.22039\teval-rmse:0.24045\n",
      "[100]\ttrain-rmse:0.12542\teval-rmse:0.16057\n",
      "[120]\ttrain-rmse:0.09939\teval-rmse:0.14326\n",
      "[140]\ttrain-rmse:0.08990\teval-rmse:0.13885\n",
      "[160]\ttrain-rmse:0.08472\teval-rmse:0.13648\n",
      "[180]\ttrain-rmse:0.08033\teval-rmse:0.13527\n",
      "[200]\ttrain-rmse:0.07706\teval-rmse:0.13423\n",
      "[220]\ttrain-rmse:0.07425\teval-rmse:0.13386\n",
      "[240]\ttrain-rmse:0.07180\teval-rmse:0.13321\n",
      "[260]\ttrain-rmse:0.06934\teval-rmse:0.13305\n",
      "[280]\ttrain-rmse:0.06733\teval-rmse:0.13270\n",
      "[300]\ttrain-rmse:0.06548\teval-rmse:0.13218\n",
      "[320]\ttrain-rmse:0.06396\teval-rmse:0.13175\n",
      "[340]\ttrain-rmse:0.06219\teval-rmse:0.13161\n",
      "[360]\ttrain-rmse:0.06081\teval-rmse:0.13140\n",
      "[380]\ttrain-rmse:0.05948\teval-rmse:0.13106\n",
      "[400]\ttrain-rmse:0.05800\teval-rmse:0.13083\n",
      "[420]\ttrain-rmse:0.05656\teval-rmse:0.13056\n",
      "[440]\ttrain-rmse:0.05515\teval-rmse:0.13038\n",
      "[460]\ttrain-rmse:0.05398\teval-rmse:0.13009\n",
      "[480]\ttrain-rmse:0.05289\teval-rmse:0.12994\n",
      "[496]\ttrain-rmse:0.05199\teval-rmse:0.12999\n",
      "0.12991272471253243\n",
      "[17:22:58] WARNING: ..\\src\\learner.cc:573: \n",
      "Parameters: { \"sublsample\" } might not be used.\n",
      "\n",
      "  This may not be accurate due to some parameters are only used in language bindings but\n",
      "  passed down to XGBoost core.  Or some parameters are not used but slip through this\n",
      "  verification. Please open an issue if you find above cases.\n",
      "\n",
      "\n",
      "[0]\ttrain-rmse:10.95371\teval-rmse:10.93854\n",
      "[20]\ttrain-rmse:3.94378\teval-rmse:3.92918\n",
      "[40]\ttrain-rmse:1.43002\teval-rmse:1.41930\n",
      "[60]\ttrain-rmse:0.53155\teval-rmse:0.52717\n",
      "[80]\ttrain-rmse:0.22061\teval-rmse:0.22712\n",
      "[100]\ttrain-rmse:0.12628\teval-rmse:0.14524\n",
      "[120]\ttrain-rmse:0.10188\teval-rmse:0.12802\n",
      "[140]\ttrain-rmse:0.09317\teval-rmse:0.12189\n",
      "[160]\ttrain-rmse:0.08832\teval-rmse:0.11900\n",
      "[180]\ttrain-rmse:0.08459\teval-rmse:0.11731\n",
      "[200]\ttrain-rmse:0.08134\teval-rmse:0.11647\n",
      "[220]\ttrain-rmse:0.07883\teval-rmse:0.11549\n",
      "[240]\ttrain-rmse:0.07659\teval-rmse:0.11449\n",
      "[260]\ttrain-rmse:0.07434\teval-rmse:0.11393\n",
      "[280]\ttrain-rmse:0.07200\teval-rmse:0.11347\n",
      "[300]\ttrain-rmse:0.07011\teval-rmse:0.11285\n",
      "[320]\ttrain-rmse:0.06871\teval-rmse:0.11262\n",
      "[340]\ttrain-rmse:0.06690\teval-rmse:0.11227\n",
      "[360]\ttrain-rmse:0.06548\teval-rmse:0.11224\n",
      "[362]\ttrain-rmse:0.06528\teval-rmse:0.11222\n",
      "0.1122231781824161\n"
     ]
    }
   ],
   "source": [
    "models_xgb = []\n",
    "rmses_xgb = []\n",
    "oof_xgb = np.zeros(len(train_X))\n",
    "for train_index, val_index in kf.split(train_X):\n",
    "    X_train = train_X.iloc[train_index]\n",
    "    X_valid = train_X.iloc[val_index]\n",
    "    y_train = train_Y.iloc[train_index]\n",
    "    y_valid = train_Y.iloc[val_index]\n",
    "    xgb_train = xgb.DMatrix(X_train, label=y_train)\n",
    "    xgb_eval = xgb.DMatrix(X_valid, label=y_valid)\n",
    "    evals = [(xgb_train, \"train\"), (xgb_eval, \"eval\")]\n",
    "    model_xgb = xgb.train(xgb_params, xgb_train,\n",
    "    evals=evals,\n",
    "    num_boost_round=1000,\n",
    "    early_stopping_rounds=20,\n",
    "    verbose_eval=20,)\n",
    "    y_pred = model_xgb.predict(xgb_eval)\n",
    "    tmp_rmse = np.sqrt(mean_squared_error(y_valid, y_pred))\n",
    "    print(tmp_rmse)\n",
    "    models_xgb.append(model_xgb)\n",
    "    rmses_xgb.append(tmp_rmse)\n",
    "    oof_xgb[val_index] = y_pred"
   ]
  },
  {
   "cell_type": "code",
   "execution_count": 112,
   "metadata": {},
   "outputs": [
    {
     "data": {
      "text/plain": [
       "0.11765755246586035"
      ]
     },
     "execution_count": 112,
     "metadata": {},
     "output_type": "execute_result"
    }
   ],
   "source": [
    "sum(rmses_xgb)/len(rmses_xgb)"
   ]
  },
  {
   "cell_type": "code",
   "execution_count": 113,
   "metadata": {},
   "outputs": [],
   "source": [
    "xgb_test = xgb.DMatrix(test_X)"
   ]
  },
  {
   "cell_type": "code",
   "execution_count": 114,
   "metadata": {},
   "outputs": [],
   "source": [
    "preds_xgb = []\n",
    "for model in models_xgb:\n",
    "    pred = model.predict(xgb_test)\n",
    "    preds_xgb.append(pred)"
   ]
  },
  {
   "cell_type": "code",
   "execution_count": 115,
   "metadata": {},
   "outputs": [],
   "source": [
    "preds_array_xgb= np.array(preds_xgb)\n",
    "preds_mean_xgb = np.mean(preds_array_xgb, axis=0)\n",
    "preds_exp_xgb = np.exp(preds_mean_xgb)\n",
    "submission[\"SalePrice\"] = preds_exp_xgb"
   ]
  },
  {
   "cell_type": "code",
   "execution_count": 116,
   "metadata": {},
   "outputs": [],
   "source": [
    "submission.to_csv(\"houseprices_submit03.csv\",index=False)"
   ]
  },
  {
   "cell_type": "code",
   "execution_count": 117,
   "metadata": {},
   "outputs": [],
   "source": [
    "preds_ans = preds_exp_xgb * 0.5 + preds_exp * 0.5"
   ]
  },
  {
   "cell_type": "code",
   "execution_count": 118,
   "metadata": {},
   "outputs": [],
   "source": [
    "submission[\"SalePrice\"] = preds_ans"
   ]
  },
  {
   "cell_type": "code",
   "execution_count": 119,
   "metadata": {},
   "outputs": [],
   "source": [
    "submission.to_csv(\"houseprices_submit04.csv\",index=False)"
   ]
  }
 ],
 "metadata": {
  "kernelspec": {
   "display_name": "Python 3",
   "language": "python",
   "name": "python3"
  },
  "language_info": {
   "codemirror_mode": {
    "name": "ipython",
    "version": 3
   },
   "file_extension": ".py",
   "mimetype": "text/x-python",
   "name": "python",
   "nbconvert_exporter": "python",
   "pygments_lexer": "ipython3",
   "version": "3.7.4"
  }
 },
 "nbformat": 4,
 "nbformat_minor": 5
}
